{
 "cells": [
  {
   "cell_type": "markdown",
   "id": "0bf87229-6980-4ae1-9c0e-470b5a45cb8a",
   "metadata": {},
   "source": [
    "# Perform sentimental analysis on Elon Musk's tweets\n",
    "---"
   ]
  },
  {
   "cell_type": "markdown",
   "id": "72df40d1-ead0-4e19-875c-8c4c86f9df50",
   "metadata": {},
   "source": [
    "## Getting Data"
   ]
  },
  {
   "cell_type": "code",
   "execution_count": 1,
   "id": "64d3137b-c622-4bda-bfb0-b114b0037300",
   "metadata": {
    "tags": []
   },
   "outputs": [],
   "source": [
    "# importing necessary libraries\n",
    "import numpy as np\n",
    "import pandas as pd\n",
    "import matplotlib.pyplot as plt\n",
    "import seaborn as sns"
   ]
  },
  {
   "cell_type": "code",
   "execution_count": 2,
   "id": "ff513438-ed0f-4ee9-975b-d15075a77dde",
   "metadata": {
    "tags": []
   },
   "outputs": [
    {
     "data": {
      "text/html": [
       "<div>\n",
       "<style scoped>\n",
       "    .dataframe tbody tr th:only-of-type {\n",
       "        vertical-align: middle;\n",
       "    }\n",
       "\n",
       "    .dataframe tbody tr th {\n",
       "        vertical-align: top;\n",
       "    }\n",
       "\n",
       "    .dataframe thead th {\n",
       "        text-align: right;\n",
       "    }\n",
       "</style>\n",
       "<table border=\"1\" class=\"dataframe\">\n",
       "  <thead>\n",
       "    <tr style=\"text-align: right;\">\n",
       "      <th></th>\n",
       "      <th>Text</th>\n",
       "    </tr>\n",
       "  </thead>\n",
       "  <tbody>\n",
       "    <tr>\n",
       "      <th>1</th>\n",
       "      <td>@kunalb11 Im an alien</td>\n",
       "    </tr>\n",
       "    <tr>\n",
       "      <th>2</th>\n",
       "      <td>@ID_AA_Carmack Ray tracing on Cyberpunk with H...</td>\n",
       "    </tr>\n",
       "    <tr>\n",
       "      <th>3</th>\n",
       "      <td>@joerogan @Spotify Great interview!</td>\n",
       "    </tr>\n",
       "    <tr>\n",
       "      <th>4</th>\n",
       "      <td>@gtera27 Doge is underestimated</td>\n",
       "    </tr>\n",
       "    <tr>\n",
       "      <th>5</th>\n",
       "      <td>@teslacn Congratulations Tesla China for amazi...</td>\n",
       "    </tr>\n",
       "    <tr>\n",
       "      <th>...</th>\n",
       "      <td>...</td>\n",
       "    </tr>\n",
       "    <tr>\n",
       "      <th>1995</th>\n",
       "      <td>@flcnhvy True, it sounds so surreal, but the n...</td>\n",
       "    </tr>\n",
       "    <tr>\n",
       "      <th>1996</th>\n",
       "      <td>@PPathole Make sure to read ur terms &amp;amp; con...</td>\n",
       "    </tr>\n",
       "    <tr>\n",
       "      <th>1997</th>\n",
       "      <td>@TeslaGong @PPathole Samwise Gamgee</td>\n",
       "    </tr>\n",
       "    <tr>\n",
       "      <th>1998</th>\n",
       "      <td>@PPathole Altho Dumb and Dumber is &lt;U+0001F525...</td>\n",
       "    </tr>\n",
       "    <tr>\n",
       "      <th>1999</th>\n",
       "      <td>Progress update August 28</td>\n",
       "    </tr>\n",
       "  </tbody>\n",
       "</table>\n",
       "<p>1999 rows × 1 columns</p>\n",
       "</div>"
      ],
      "text/plain": [
       "                                                   Text\n",
       "1                                 @kunalb11 Im an alien\n",
       "2     @ID_AA_Carmack Ray tracing on Cyberpunk with H...\n",
       "3                   @joerogan @Spotify Great interview!\n",
       "4                       @gtera27 Doge is underestimated\n",
       "5     @teslacn Congratulations Tesla China for amazi...\n",
       "...                                                 ...\n",
       "1995  @flcnhvy True, it sounds so surreal, but the n...\n",
       "1996  @PPathole Make sure to read ur terms &amp; con...\n",
       "1997                @TeslaGong @PPathole Samwise Gamgee\n",
       "1998  @PPathole Altho Dumb and Dumber is <U+0001F525...\n",
       "1999                          Progress update August 28\n",
       "\n",
       "[1999 rows x 1 columns]"
      ]
     },
     "execution_count": 2,
     "metadata": {},
     "output_type": "execute_result"
    }
   ],
   "source": [
    "# Loading the dataframe\n",
    "tweets = pd.read_csv(\"Elon_musk.csv\", encoding_errors='ignore', index_col = 'Unnamed: 0')\n",
    "tweets"
   ]
  },
  {
   "cell_type": "markdown",
   "id": "8a20099c-35b4-49e1-8b25-dcc8bab99315",
   "metadata": {},
   "source": [
    "Nearly 2000 tweets"
   ]
  },
  {
   "cell_type": "code",
   "execution_count": 3,
   "id": "3622ed83-7d56-49dd-8e36-4149753b461b",
   "metadata": {
    "tags": []
   },
   "outputs": [
    {
     "data": {
      "text/html": [
       "<div>\n",
       "<style scoped>\n",
       "    .dataframe tbody tr th:only-of-type {\n",
       "        vertical-align: middle;\n",
       "    }\n",
       "\n",
       "    .dataframe tbody tr th {\n",
       "        vertical-align: top;\n",
       "    }\n",
       "\n",
       "    .dataframe thead th {\n",
       "        text-align: right;\n",
       "    }\n",
       "</style>\n",
       "<table border=\"1\" class=\"dataframe\">\n",
       "  <thead>\n",
       "    <tr style=\"text-align: right;\">\n",
       "      <th></th>\n",
       "      <th>tweet</th>\n",
       "    </tr>\n",
       "  </thead>\n",
       "  <tbody>\n",
       "    <tr>\n",
       "      <th>1</th>\n",
       "      <td>@kunalb11 Im an alien</td>\n",
       "    </tr>\n",
       "    <tr>\n",
       "      <th>2</th>\n",
       "      <td>@ID_AA_Carmack Ray tracing on Cyberpunk with H...</td>\n",
       "    </tr>\n",
       "    <tr>\n",
       "      <th>3</th>\n",
       "      <td>@joerogan @Spotify Great interview!</td>\n",
       "    </tr>\n",
       "    <tr>\n",
       "      <th>4</th>\n",
       "      <td>@gtera27 Doge is underestimated</td>\n",
       "    </tr>\n",
       "    <tr>\n",
       "      <th>5</th>\n",
       "      <td>@teslacn Congratulations Tesla China for amazi...</td>\n",
       "    </tr>\n",
       "    <tr>\n",
       "      <th>...</th>\n",
       "      <td>...</td>\n",
       "    </tr>\n",
       "    <tr>\n",
       "      <th>1995</th>\n",
       "      <td>@flcnhvy True, it sounds so surreal, but the n...</td>\n",
       "    </tr>\n",
       "    <tr>\n",
       "      <th>1996</th>\n",
       "      <td>@PPathole Make sure to read ur terms &amp;amp; con...</td>\n",
       "    </tr>\n",
       "    <tr>\n",
       "      <th>1997</th>\n",
       "      <td>@TeslaGong @PPathole Samwise Gamgee</td>\n",
       "    </tr>\n",
       "    <tr>\n",
       "      <th>1998</th>\n",
       "      <td>@PPathole Altho Dumb and Dumber is &lt;U+0001F525...</td>\n",
       "    </tr>\n",
       "    <tr>\n",
       "      <th>1999</th>\n",
       "      <td>Progress update August 28</td>\n",
       "    </tr>\n",
       "  </tbody>\n",
       "</table>\n",
       "<p>1999 rows × 1 columns</p>\n",
       "</div>"
      ],
      "text/plain": [
       "                                                  tweet\n",
       "1                                 @kunalb11 Im an alien\n",
       "2     @ID_AA_Carmack Ray tracing on Cyberpunk with H...\n",
       "3                   @joerogan @Spotify Great interview!\n",
       "4                       @gtera27 Doge is underestimated\n",
       "5     @teslacn Congratulations Tesla China for amazi...\n",
       "...                                                 ...\n",
       "1995  @flcnhvy True, it sounds so surreal, but the n...\n",
       "1996  @PPathole Make sure to read ur terms &amp; con...\n",
       "1997                @TeslaGong @PPathole Samwise Gamgee\n",
       "1998  @PPathole Altho Dumb and Dumber is <U+0001F525...\n",
       "1999                          Progress update August 28\n",
       "\n",
       "[1999 rows x 1 columns]"
      ]
     },
     "execution_count": 3,
     "metadata": {},
     "output_type": "execute_result"
    }
   ],
   "source": [
    "# Renaming the column\n",
    "tweets.rename(columns = {'Text':'tweet'}, inplace = True)\n",
    "tweets"
   ]
  },
  {
   "cell_type": "code",
   "execution_count": 4,
   "id": "a128809a-a7e1-4e07-89d1-d0209048f4ef",
   "metadata": {
    "tags": []
   },
   "outputs": [
    {
     "name": "stdout",
     "output_type": "stream",
     "text": [
      "1 )  @kunalb11 Im an alien\n",
      "2 )  @ID_AA_Carmack Ray tracing on Cyberpunk with HDR is next-level. Have you tried it?\n",
      "3 )  @joerogan @Spotify Great interview!\n",
      "4 )  @gtera27 Doge is underestimated\n",
      "5 )  @teslacn Congratulations Tesla China for amazing execution last year. Now on to the next for even more!!\n",
      "6 )  Happy New Year of the Ox! https://t.co/9WFKMYu2oj\n",
      "7 )  Frodo was the underdoge,\n",
      "All thought he would fail,\n",
      "Himself most of all. https://t.co/zGxJFDzzrM\n",
      "8 )  @OwenSparks_ @flcnhvy @anonyx10 Haha thanks :)\n",
      "9 )  @flcnhvy @anonyx10 Indeed! Tweets definitely do not represent real-world time allocation.\n",
      "10 )  The most entertaining outcome is the most likely\n",
      "11 )  @GiveDirectly Just sent some\n",
      "12 )  Just agree to do Clubhouse with @kanyewest\n",
      "13 )  https://t.co/3rWE9uHSTS\n",
      "14 )  @geoffkeighley @UnrealEngine Its getting real\n",
      "15 )  Bought some Dogecoin for lil X, so he can be a toddler hodler\n",
      "16 )  @JoshManMode He definitely has issues, but the sentencing seems a bit high\n",
      "17 )  @freewalletorg Thanks for fixing\n",
      "18 )  @freewalletorg Please unlock my account\n",
      "19 )  @AstroJordy <U+0001F923><U+0001F923>\n",
      "20 )  This is true power haha https://t.co/Fc9uhQSd7O\n",
      "21 )  @freewalletorg Any crypto wallet that wont give you your private keys should be avoided at all costs\n",
      "22 )  @freewalletorg Your app sucks\n",
      "23 )  RT @SpaceX: NASA has selected Falcon Heavy to launch the first two elements of the lunar Gateway together on one mission! https://t.co/3pWt\n",
      "24 )  @ajtourville Yes\n",
      "25 )  @BLKMDL3 @RationalEtienne @Adamklotz_ Once we can predict cash flow reasonably well, Starlink will IPO\n",
      "26 )  @RationalEtienne @Adamklotz_ Starlink is a staggeringly difficult technical &amp; economic endeavor. However, if we don https://t.co/9Z8Ac6skqx\n",
      "27 )  @RationalEtienne @Adamklotz_ SpaceX needs to pass through a deep chasm of negative cash flow over the next year or https://t.co/7J1c92hdjl\n",
      "28 )  @ID_AA_Carmack Lowest cost per ton of carbon sequestered, net of value of any product made. \n",
      "\n",
      "Must be scalable to g https://t.co/XMyI7qWSgw\n",
      "29 )  @Adamklotz_ Its meant to be the same price in all countries. Only difference should be taxes &amp; shipping.\n",
      "30 )  @tobyliiiiiiiiii This is intended for Earth, but there may be some ideas that apply to Mars too\n",
      "31 )  @CryptoShrikar @CoinDesk @Tesla @Dan_Z_Palmer <U+0001F923><U+0001F923>\n",
      "32 )  XPrize team will manage the $100M carbon capture prize https://t.co/fSw5IanL0r\n",
      "33 )  @SRuhle Everyone at Tesla receives stock. \n",
      "\n",
      "My comp is all stock/options, which I do not take off the table. \n",
      "\n",
      "Thats what youre missing.\n",
      "34 )  Back to work I go \n",
      "35 )  @CapybaraSurfer @MattWallace888 Does seem a bit high\n",
      "36 )  @itsALLrisky Doge appears to be inflationary, but is not meaningfully so (fixed # of coins per unit time), whereas https://t.co/4UH4rARC6T\n",
      "37 )  @MichaelGalanin @kevinmgill Wow\n",
      "38 )  @Erdayastronaut @michaelhodapp_ 1. Orbital launch tower that can stack\n",
      "2. Enough Raptors for orbit booster\n",
      "3. Improve ship &amp; booster mass\n",
      "39 )  @michaelhodapp_ Back to work tonight!\n",
      "40 )   is for ogecoin! Instructional video.\n",
      "https://t.co/UEEocOfcTb\n",
      "41 )  The people have spoken  https://t.co/x41oVMzTGo\n",
      "42 )  @Nivetha_7_42 @lexfridman So cute <U+0001F495>\n",
      "43 )  @UniverCurious Extremely misleading image, as doesnt reflect true time cost to people or rain &amp; pain\n",
      "44 )  <U+0001F3B6> Who let the Doge out <U+0001F3B6>\n",
      "45 )  Hodl the rainforests!!\n",
      "46 )  So  its finally come to this  https://t.co/Gf0Rg2QOaF\n",
      "47 )  @itsALLrisky Its the most fun crypto!\n",
      "48 )  @JoshRoomsburg @SnoopDogg @genesimmons Its simplicity is its genius\n",
      "49 )  @astro_g_dogg @SpaceX Yup\n",
      "50 )  @Jbuttermost @Dogecoinrich <U+0001F923><U+0001F923>\n"
     ]
    }
   ],
   "source": [
    "# Printing each tweet to find patterns in the data\n",
    "for i, t in tweets.head(50).itertuples():\n",
    "    print(i, \") \", t)"
   ]
  },
  {
   "cell_type": "markdown",
   "id": "e36e918d-a5cd-4459-82c8-b61110294699",
   "metadata": {},
   "source": [
    "We can see elements like mentions, links, multilines, encoding errors, unicode representation of emojis, etc that need to be handled"
   ]
  },
  {
   "cell_type": "markdown",
   "id": "db8e8a78-96f6-402b-ade3-639d9872b3ab",
   "metadata": {},
   "source": [
    "## Pre-processing Data"
   ]
  },
  {
   "cell_type": "code",
   "execution_count": 5,
   "id": "0da4d2a2-44ed-4704-922e-e408defaea2c",
   "metadata": {
    "tags": []
   },
   "outputs": [],
   "source": [
    "# Turning multi-line tweets into a single line\n",
    "tweets['tweet'] = tweets.tweet.str.replace(\"\\n\", ' ', regex= False)\n",
    "tweets['tweet'] = tweets.tweet.apply(lambda x : x.strip())"
   ]
  },
  {
   "cell_type": "code",
   "execution_count": 6,
   "id": "bcd6c4d0-5eb1-4aa8-80f6-88eb6c7f9670",
   "metadata": {
    "tags": []
   },
   "outputs": [],
   "source": [
    "# Removing all hyperlinks\n",
    "tweets['tweet'] = tweets.tweet.str.replace(r\"http\\S+\", '', regex= True)\n",
    "tweets['tweet'] = tweets.tweet.apply(lambda x : x.strip())"
   ]
  },
  {
   "cell_type": "code",
   "execution_count": 7,
   "id": "933e4f65-6979-4af6-a16d-05ab7db9adf2",
   "metadata": {
    "tags": []
   },
   "outputs": [],
   "source": [
    "# Replacing &amp; with and, &gt; with >, and &lt; with <\n",
    "tweets['tweet'] = tweets.tweet.str.replace(r\"&amp;\", 'and', regex=False)\n",
    "tweets['tweet'] = tweets.tweet.str.replace(r\"&gt;\", '>', regex=False)\n",
    "tweets['tweet'] = tweets.tweet.str.replace(r\"&lt;\", '<', regex=False)\n",
    "tweets['tweet'] = tweets.tweet.apply(lambda x : x.strip())"
   ]
  },
  {
   "cell_type": "code",
   "execution_count": 8,
   "id": "f803ca9a-21a5-4252-b574-f11d81edabe6",
   "metadata": {
    "tags": []
   },
   "outputs": [],
   "source": [
    "# Removing usernames\n",
    "tweets['tweet'] = tweets.tweet.str.replace(r\"@\\w+\", '', regex= True)\n",
    "tweets['tweet'] = tweets.tweet.apply(lambda x : x.strip())"
   ]
  },
  {
   "cell_type": "code",
   "execution_count": 9,
   "id": "a0a35fa7-aa75-4185-b482-bbe5bc3742d9",
   "metadata": {
    "tags": []
   },
   "outputs": [],
   "source": [
    "# Removing 'RT : ' which is a prefix for retweets\n",
    "tweets['tweet'] = tweets.tweet.str.replace(\"RT : \", '', regex=False)"
   ]
  },
  {
   "cell_type": "code",
   "execution_count": 10,
   "id": "4cedaf32-b700-4f5c-9b14-a72461f409ec",
   "metadata": {
    "tags": []
   },
   "outputs": [],
   "source": [
    "# Removing '#'\n",
    "tweets['tweet'] = tweets.tweet.str.replace(\"#\", '', regex=False)"
   ]
  },
  {
   "cell_type": "code",
   "execution_count": 11,
   "id": "3642d0c5-6f8b-46bf-971e-ef1f3c954e77",
   "metadata": {
    "tags": []
   },
   "outputs": [
    {
     "name": "stdout",
     "output_type": "stream",
     "text": [
      "1 )  <U+0001F923><U+0001F923>\n",
      "2 )  <U+0001F923><U+0001F923>\n",
      "3 )  So cute <U+0001F495>\n",
      "4 )  <U+0001F3B6> Who let the Doge out <U+0001F3B6>\n",
      "5 )  <U+0001F923><U+0001F923>\n",
      "6 )  <U+0001F923><U+0001F923>\n",
      "7 )  <U+0001F5A4>\n",
      "8 )  Watch Falcon 9 launch 60 Starlink satellites <U+2192>\n",
      "9 )  <U+043C><U+044B> <U+0441><U+0434><U+0435><U+043B><U+0430><U+0435><U+043C>\n",
      "10 )  Announcing the first commercial astronaut mission to orbit Earth aboard Dragon <U+2192>\n",
      "11 )  Launch Alert <U+0001F680>  and  are targeting no earlier than April 20 for the launch of the second crew rotation mis\n",
      "12 )  Read the whole article <U+0001F923><U+0001F923>\n",
      "13 )  <U+0001F440>\n",
      "14 )  <U+0001F923><U+0001F923>\n",
      "15 )  <U+0001F917>\n",
      "16 )  The esthetics of Cyberpunk are incredible btw. The interior design is<U+0001F44C>.\n",
      "17 )  <U+0001F923><U+0001F923>\n",
      "18 )  <U+0001F4AF>\n",
      "19 )  Absolutely! They rock. <U+0001F5A4>\n",
      "20 )  Hey you  Yeah you Queen  Youre gonna make it! <U+0001F495><U+0001F495>\n",
      "21 )  Mus protec <U+0001F476> yoda\n",
      "22 )  <U+041E><U+043D> <U+0431><U+044B><U+043B> <U+0432><U+0435><U+043B><U+0438><U+043A><U+043E><U+043B><U+0435><U+043F><U+0435><U+043D>\n",
      "23 )  <U+0001F923><U+0001F923>\n",
      "24 )  <U+0001F923><U+0001F923>\n",
      "25 )  <U+0001F622>\n",
      "26 )  <U+0001F609>\n",
      "27 )  <U+0001F3A9> The Greatest Gatsby <U+0001F3A9>\n",
      "28 )  Its one <U+0001F525> or 1/2 <U+0001F525> if you dont have a car with pedestrian speaker. We couldnt get everything done in\n",
      "29 )  The writing on Cobra Kai is sick<U+0001F44C>\n",
      "30 )  Change your horn sound to <U+0001F410>, <U+0001F40D><U+0001F3B7>, <U+0001F4A8> or holiday jingles with latest Tesla software update!\n",
      "31 )  Merry Christmas and happy holidays! <U+0001F381>\n",
      "32 )  Photos from yesterdays launch and landing <U+2192>\n",
      "33 )  <U+2665><U+FE0F> i love all u crazy ppl out there <U+2665><U+FE0F>\n",
      "34 )  Come for the comments,  stay for the memes<U+0001F484>\n",
      "35 )  <U+0001F923><U+0001F923>\n",
      "36 )  <U+0001F923>\n",
      "37 )  Photos from Starship SN8s flight test <U+2192>\n",
      "38 )  <U+0001F920>\n",
      "39 )  Success! At 1:40pm ET, 's upgraded Dragon cargo spacecraft autonomously docked to the .   <U+0001F409> This is the 1st\n",
      "40 )  Good morning, earthlings. <U+2600><U+FE0F> The journey continues!   Watch as the NASA  cargo resupply mission docks to the\n",
      "41 )  And no toilet paper <U+0001F923><U+0001F923>\n",
      "42 )  <U+0001F923><U+0001F923>\n",
      "43 )  . is savage <U+0001F923><U+0001F923>\n",
      "44 )  We have quiet a queue of products to build! Better do new Roadster at some point<U+0001F62C>.\n",
      "45 )  Yes <U+0001F603>\n",
      "46 )  Tesla holiday software release is <U+0001F525><U+0001F525>\n",
      "47 )  <U+0001F60F>\n",
      "48 )  Pretty close. Definitely feel <U+0001F4AF> if I take DayQuil. Frankly, this was one\n",
      "49 )  Fate <U+0001F5A4> Irony\n",
      "50 )  <U+0001F47B> <U+0001F4B5>\n",
      "51 )  <U+0001F3B6> Toss a bitcoin to ur Witcher <U+0001F3B6>\n",
      "52 )  <U+0001F609>\n",
      "53 )  <U+0001F409> Enter the Crew Dragon. At 4:48 p.m. EST (9:48 p.m. UTC), the NASA  Crew-1 astronauts give you a LIVE tour of their space\n",
      "54 )  <U+2665><U+FE0F>\n",
      "55 )  LIVE NOW: We are ready to LaunchAmerica. Are you? <U+0001F680>  Watch coverage of the NASA  Crew-1 mission. Liftoff is at 7:27pm ET:\n",
      "56 )  Watch Falcon 9 launch Crew Dragon on its first operational mission to the  with astronauts on board <U+2192>\n",
      "57 )  <U+0001F338>  has a message for boys and girls in Japan: \"Space is waiting!\"   In this  Spotlight,  astronaut So\n",
      "58 )  This week...  <U+0001F680> NASA's  Crew-1 astronauts arrive at  ahead of launch <U+0001F534> Our  rover marks 100 days\n",
      "59 )  Cold symptoms are gone for now <U+0001F600><U+0001F680><U+0001F4AB>\n",
      "60 )  <U+0001F923><U+0001F923><U+0001F44D>\n",
      "61 )  <U+2660><U+FE0F><U+2660><U+FE0F> Tesla Autopilot/AI team <U+2660><U+FE0F><U+2660><U+FE0F>\n",
      "62 )  <U+0001F1E8><U+0001F1E6> <U+0001F600>\n",
      "63 )  <U+0001F917>\n",
      "64 )  Penguin Random House <U+0001F634> should change the name to Random Penguin<U+0001F525>\n",
      "65 )  <U+0001F609>\n",
      "66 )  Tesla should make <U+0001F525> catgirl robots?\n",
      "67 )  <U+0001F923><U+0001F923>\n",
      "68 )  Come here  no, come, here <U+0001F447>\n",
      "69 )  Jack in the Box should do double duty as a sperm donor clinic  name is <U+0001F44C>\n",
      "70 )  Bettern nothin or ur <U+0001F4B0> back!\n",
      "71 )  <U+0001F4AB> <U+0001F6F0>\n",
      "72 )  Well, tbh, our capex efficiency in 2017 was trash <U+0001F62C>\n",
      "73 )  <U+0001F622>\n",
      "74 )  <U+0001F918> The Illuminaughty <U+0001F918>\n",
      "75 )  <U+0001F923><U+0001F923>\n",
      "76 )  <U+0001F44D>\n",
      "77 )  Yes, we will play sexy snake jazz <U+0001F923>\n",
      "78 )  <U+0001F4AF>\n",
      "79 )  <U+0001F4B0><U+0001F4A9><U+0001F923>\n",
      "80 )  <U+0001F923><U+0001F923>\n",
      "81 )  Turns out they mostly press the letter s and <U+0001F4A9> on the typewriter <U+0001F923>\n",
      "82 )  <U+0001F5A4> ur algo\n",
      "83 )  Fine, well do it already <U+0001F600>\n",
      "84 )  <U+0001F5A4> Fallout Radio  <U+0001F5A4>\n",
      "85 )  Doubles as an underground nuclear shelter <U+0001F600><U+0001F44D>\n",
      "86 )  Many exciting things will be unveiled on Battery Day 9/22 <U+26A1><U+FE0F>\n",
      "87 )  <U+0001F1E9><U+0001F1EA> Natrlich <U+0001F1E9><U+0001F1EA>\n",
      "88 )  <U+0001F1E9><U+0001F1EA><U+0001F5A4>Giga Berlin Mannschaft<U+0001F5A4><U+0001F1E9><U+0001F1EA> Vielen Dank fr Ihre hervorragende Arbeit an Giga Berlin!!\n",
      "89 )  <U+0001F923><U+0001F923>\n",
      "90 )  An AI with <U+0001F353> picking as its goal will result in Strawberry Fields Forever\n",
      "91 )  Just learned that my physics prof from Penn is head of Fermilab and still has some of my old homework <U+263A><U+FE0F>\n",
      "92 )  That number sure comes up a lot <U+0001F923><U+0001F923>\n",
      "93 )  Nothing <U+0001F440>\n",
      "94 )  Asimov was <U+0001F525><U+0001F525>\n",
      "95 )  Power is flowing again from the grid.  Grateful for my  Powerwall and 162 hours of uninterrupted backup power. <U+26A1><U+FE0F><U+26A1><U+FE0F><U+26A1><U+FE0F> ht\n",
      "96 )  <U+0001F923>\n",
      "97 )  <U+0001F40D><U+0001F3B7>\n",
      "98 )  True <U+0001F923><U+0001F923>\n",
      "99 )  <U+0001F446>\n",
      "100 )  Absolutely <U+0001F603> <U+0001F3DD>\n",
      "101 )  Big updates in <U+0001F1E8><U+0001F1E6>    Trans-Canada Supercharging <U+2705>   Model Y deliveries <U+2705>   Leasing for Model Y and Model 3 <U+0001F3AF>\n",
      "102 )  Aloha, welcome back from space <U+0001F4AB>\n",
      "103 )  <U+0001F610>\n",
      "104 )  <U+0001F4A8>\n",
      "105 )  My button-twiddling makes no sense at all <U+0001F923><U+0001F923>\n",
      "106 )  <U+263A><U+FE0F>\n",
      "107 )  <U+0001F923><U+0001F923>\n",
      "108 )  <U+0001F923><U+0001F923> hasty govt <U+0001F923><U+0001F923>\n",
      "109 )  Note the fabulous plaid jacket and gingham shirt combo <U+0001F923>\n",
      "110 )  <U+0001F923><U+0001F923>\n",
      "111 )  <U+0001F3AF>\n",
      "112 )  <U+0001F4AF>\n",
      "113 )  Congratulations  and  on completing first crewed Dragon flight!! <U+0001F1FA><U+0001F1F8> returned.\n",
      "114 )  Webcast of Crew Dragons return to Earth from the  with  and  <U+2192>  h\n",
      "115 )  <U+0001F9D9><U+200D><U+2642><U+FE0F>\n",
      "116 )  They're coming home! <U+0001F30E><U+0001FA82>  On Aug. 1, astronauts  and  will depart the  on 's Crew Dra\n",
      "117 )  Ramses II was <U+0001F60E>\n",
      "118 )  <U+263A><U+FE0F>\n",
      "119 )  <U+0001F5A4><U+0001F9DB><U+200D><U+2640><U+FE0F>Total Eclipse of the Heart <U+0001F9DB><U+200D><U+2640><U+FE0F><U+0001F5A4>\n",
      "120 )  <U+0001F62E>\n",
      "121 )  <U+0001F923><U+0001F923>\n",
      "122 )  Robot Heart is <U+0001F525><U+0001F525>\n",
      "123 )  <U+0001F3B6> Billy G is not my lover <U+0001F3B6>\n",
      "124 )  <U+0001F609>\n",
      "125 )  <U+0001F495> <U+0001F495>\n",
      "126 )  And to think I used to like Bernie! <U+0001F622>\n",
      "127 )  <U+0001F54A><U+0001F54A>\n",
      "128 )  <U+0001F923><U+0001F923>\n",
      "129 )  <U+0001F339>\n",
      "130 )  Planet Claire is <U+0001F525><U+0001F525>\n",
      "131 )  <U+0001F923><U+0001F923>\n",
      "132 )  <U+0001F923><U+0001F923>\n",
      "133 )  Those were the days! <U+0001F923><U+0001F923>\n",
      "134 )  I know! Congratulations to the people of Bolivia <U+0001F1E7><U+0001F1F4>!!\n",
      "135 )  <U+0001F923><U+0001F923>\n",
      "136 )  I bet no one on <U+0001F339> Twitter even *has* a guillotine! Poseurs\n",
      "137 )  <U+0001F339> Twitter sucks\n",
      "138 )  Cant say, but it involves a <U+0001F43B>\n",
      "139 )  <U+0001F525><U+0001F525>\n",
      "140 )  <U+0001F923>\n",
      "141 )  <U+0001F44D>\n",
      "142 )  <U+0001F923><U+0001F923>\n",
      "143 )  Watch Falcon 9 launch ANASIS-II <U+2192>\n",
      "144 )  VR Twitter with avatars saying the mentions <U+0001F608>\n",
      "145 )  <U+0001F923><U+0001F923>\n",
      "146 )  <U+0001F923><U+0001F923>\n",
      "147 )  <U+0001F495><U+0001F495>\n",
      "148 )  <U+0001F923><U+0001F923>\n",
      "149 )  <U+0001F914>\n",
      "150 )  <U+0001F440>\n",
      "151 )  I spoke with Korolevs family today. He was one of the very best. <U+041A><U+043E><U+0440><U+043E><U+043B><U+044C><U+043E><U+0432> / <U+041A><U+043E><U+0440><U+043E><U+043B><U+0451><U+0432>.\n",
      "152 )  <U+0001F440>\n",
      "153 )  <U+0001F440>\n",
      "154 )  Altho Dumb and Dumber is <U+0001F525><U+0001F525>\n"
     ]
    }
   ],
   "source": [
    "# Getting tweets with text representations of emojis\n",
    "i = 1\n",
    "for t in tweets[tweets.tweet.str.contains(r\"<.*>\")].tweet:\n",
    "    print(i,\") \", t)\n",
    "    i+=1"
   ]
  },
  {
   "cell_type": "code",
   "execution_count": 12,
   "id": "59d56da0-0d15-45cb-8edd-b6c261309ab6",
   "metadata": {
    "tags": []
   },
   "outputs": [
    {
     "data": {
      "text/html": [
       "<div>\n",
       "<style scoped>\n",
       "    .dataframe tbody tr th:only-of-type {\n",
       "        vertical-align: middle;\n",
       "    }\n",
       "\n",
       "    .dataframe tbody tr th {\n",
       "        vertical-align: top;\n",
       "    }\n",
       "\n",
       "    .dataframe thead th {\n",
       "        text-align: right;\n",
       "    }\n",
       "</style>\n",
       "<table border=\"1\" class=\"dataframe\">\n",
       "  <thead>\n",
       "    <tr style=\"text-align: right;\">\n",
       "      <th></th>\n",
       "      <th>emoji_str</th>\n",
       "      <th>emoji_count</th>\n",
       "    </tr>\n",
       "  </thead>\n",
       "  <tbody>\n",
       "    <tr>\n",
       "      <th>0</th>\n",
       "      <td>&lt;U+0001F923&gt;</td>\n",
       "      <td>77</td>\n",
       "    </tr>\n",
       "    <tr>\n",
       "      <th>1</th>\n",
       "      <td>&lt;U+FE0F&gt;</td>\n",
       "      <td>18</td>\n",
       "    </tr>\n",
       "    <tr>\n",
       "      <th>2</th>\n",
       "      <td>&lt;U+0001F525&gt;</td>\n",
       "      <td>16</td>\n",
       "    </tr>\n",
       "    <tr>\n",
       "      <th>3</th>\n",
       "      <td>&lt;U+0001F5A4&gt;</td>\n",
       "      <td>10</td>\n",
       "    </tr>\n",
       "    <tr>\n",
       "      <th>4</th>\n",
       "      <td>&lt;U+0001F495&gt;</td>\n",
       "      <td>7</td>\n",
       "    </tr>\n",
       "    <tr>\n",
       "      <th>...</th>\n",
       "      <td>...</td>\n",
       "      <td>...</td>\n",
       "    </tr>\n",
       "    <tr>\n",
       "      <th>87</th>\n",
       "      <td>&lt;U+0001F634&gt;</td>\n",
       "      <td>1</td>\n",
       "    </tr>\n",
       "    <tr>\n",
       "      <th>88</th>\n",
       "      <td>&lt;U+0001F447&gt;</td>\n",
       "      <td>1</td>\n",
       "    </tr>\n",
       "    <tr>\n",
       "      <th>89</th>\n",
       "      <td>&lt;U+0001F6F0&gt;</td>\n",
       "      <td>1</td>\n",
       "    </tr>\n",
       "    <tr>\n",
       "      <th>90</th>\n",
       "      <td>&lt;U+0001F353&gt;</td>\n",
       "      <td>1</td>\n",
       "    </tr>\n",
       "    <tr>\n",
       "      <th>91</th>\n",
       "      <td>&lt;U+0451&gt;</td>\n",
       "      <td>1</td>\n",
       "    </tr>\n",
       "  </tbody>\n",
       "</table>\n",
       "<p>92 rows × 2 columns</p>\n",
       "</div>"
      ],
      "text/plain": [
       "       emoji_str  emoji_count\n",
       "0   <U+0001F923>           77\n",
       "1       <U+FE0F>           18\n",
       "2   <U+0001F525>           16\n",
       "3   <U+0001F5A4>           10\n",
       "4   <U+0001F495>            7\n",
       "..           ...          ...\n",
       "87  <U+0001F634>            1\n",
       "88  <U+0001F447>            1\n",
       "89  <U+0001F6F0>            1\n",
       "90  <U+0001F353>            1\n",
       "91      <U+0451>            1\n",
       "\n",
       "[92 rows x 2 columns]"
      ]
     },
     "execution_count": 12,
     "metadata": {},
     "output_type": "execute_result"
    }
   ],
   "source": [
    "# Extracting text representations of emojis and creating a dataframe of it with count of each emoji\n",
    "emoji = tweets.tweet.str.extractall(r\"(<U\\+.*?>)\")\n",
    "emoji_count = emoji[0].value_counts().to_frame(name = 'emoji_count').reset_index(names = 'emoji_str')\n",
    "emoji_count"
   ]
  },
  {
   "cell_type": "code",
   "execution_count": 13,
   "id": "e70e5fdc-507e-4e4d-b797-0cb00fc203e7",
   "metadata": {
    "tags": []
   },
   "outputs": [
    {
     "data": {
      "text/html": [
       "<div>\n",
       "<style scoped>\n",
       "    .dataframe tbody tr th:only-of-type {\n",
       "        vertical-align: middle;\n",
       "    }\n",
       "\n",
       "    .dataframe tbody tr th {\n",
       "        vertical-align: top;\n",
       "    }\n",
       "\n",
       "    .dataframe thead th {\n",
       "        text-align: right;\n",
       "    }\n",
       "</style>\n",
       "<table border=\"1\" class=\"dataframe\">\n",
       "  <thead>\n",
       "    <tr style=\"text-align: right;\">\n",
       "      <th></th>\n",
       "      <th>emoji_str</th>\n",
       "      <th>emoji_count</th>\n",
       "      <th>code_point</th>\n",
       "    </tr>\n",
       "  </thead>\n",
       "  <tbody>\n",
       "    <tr>\n",
       "      <th>0</th>\n",
       "      <td>&lt;U+0001F923&gt;</td>\n",
       "      <td>77</td>\n",
       "      <td>0001F923</td>\n",
       "    </tr>\n",
       "    <tr>\n",
       "      <th>1</th>\n",
       "      <td>&lt;U+FE0F&gt;</td>\n",
       "      <td>18</td>\n",
       "      <td>FE0F</td>\n",
       "    </tr>\n",
       "    <tr>\n",
       "      <th>2</th>\n",
       "      <td>&lt;U+0001F525&gt;</td>\n",
       "      <td>16</td>\n",
       "      <td>0001F525</td>\n",
       "    </tr>\n",
       "    <tr>\n",
       "      <th>3</th>\n",
       "      <td>&lt;U+0001F5A4&gt;</td>\n",
       "      <td>10</td>\n",
       "      <td>0001F5A4</td>\n",
       "    </tr>\n",
       "    <tr>\n",
       "      <th>4</th>\n",
       "      <td>&lt;U+0001F495&gt;</td>\n",
       "      <td>7</td>\n",
       "      <td>0001F495</td>\n",
       "    </tr>\n",
       "    <tr>\n",
       "      <th>...</th>\n",
       "      <td>...</td>\n",
       "      <td>...</td>\n",
       "      <td>...</td>\n",
       "    </tr>\n",
       "    <tr>\n",
       "      <th>87</th>\n",
       "      <td>&lt;U+0001F634&gt;</td>\n",
       "      <td>1</td>\n",
       "      <td>0001F634</td>\n",
       "    </tr>\n",
       "    <tr>\n",
       "      <th>88</th>\n",
       "      <td>&lt;U+0001F447&gt;</td>\n",
       "      <td>1</td>\n",
       "      <td>0001F447</td>\n",
       "    </tr>\n",
       "    <tr>\n",
       "      <th>89</th>\n",
       "      <td>&lt;U+0001F6F0&gt;</td>\n",
       "      <td>1</td>\n",
       "      <td>0001F6F0</td>\n",
       "    </tr>\n",
       "    <tr>\n",
       "      <th>90</th>\n",
       "      <td>&lt;U+0001F353&gt;</td>\n",
       "      <td>1</td>\n",
       "      <td>0001F353</td>\n",
       "    </tr>\n",
       "    <tr>\n",
       "      <th>91</th>\n",
       "      <td>&lt;U+0451&gt;</td>\n",
       "      <td>1</td>\n",
       "      <td>0451</td>\n",
       "    </tr>\n",
       "  </tbody>\n",
       "</table>\n",
       "<p>92 rows × 3 columns</p>\n",
       "</div>"
      ],
      "text/plain": [
       "       emoji_str  emoji_count code_point\n",
       "0   <U+0001F923>           77   0001F923\n",
       "1       <U+FE0F>           18       FE0F\n",
       "2   <U+0001F525>           16   0001F525\n",
       "3   <U+0001F5A4>           10   0001F5A4\n",
       "4   <U+0001F495>            7   0001F495\n",
       "..           ...          ...        ...\n",
       "87  <U+0001F634>            1   0001F634\n",
       "88  <U+0001F447>            1   0001F447\n",
       "89  <U+0001F6F0>            1   0001F6F0\n",
       "90  <U+0001F353>            1   0001F353\n",
       "91      <U+0451>            1       0451\n",
       "\n",
       "[92 rows x 3 columns]"
      ]
     },
     "execution_count": 13,
     "metadata": {},
     "output_type": "execute_result"
    }
   ],
   "source": [
    "# Creating a new column with code point notation\n",
    "emoji_count[\"code_point\"] = emoji_count.emoji_str.apply(lambda x : x[3:-1])\n",
    "emoji_count"
   ]
  },
  {
   "cell_type": "markdown",
   "id": "b74f36fe-aea1-4850-aac2-35884fb20151",
   "metadata": {},
   "source": [
    "The U+ notation is called the \"Unicode code point notation\" and the \\ notation is called the \"Unicode escape sequence notation\". The escape sequence notation is generally used by programming languages. Thus, we will convert it to the required format"
   ]
  },
  {
   "cell_type": "code",
   "execution_count": 14,
   "id": "3021e85b-14d4-470f-aa2d-bb0fa7280929",
   "metadata": {
    "tags": []
   },
   "outputs": [
    {
     "data": {
      "text/html": [
       "<div>\n",
       "<style scoped>\n",
       "    .dataframe tbody tr th:only-of-type {\n",
       "        vertical-align: middle;\n",
       "    }\n",
       "\n",
       "    .dataframe tbody tr th {\n",
       "        vertical-align: top;\n",
       "    }\n",
       "\n",
       "    .dataframe thead th {\n",
       "        text-align: right;\n",
       "    }\n",
       "</style>\n",
       "<table border=\"1\" class=\"dataframe\">\n",
       "  <thead>\n",
       "    <tr style=\"text-align: right;\">\n",
       "      <th></th>\n",
       "      <th>emoji_str</th>\n",
       "      <th>emoji_count</th>\n",
       "      <th>code_point</th>\n",
       "      <th>emoji</th>\n",
       "    </tr>\n",
       "  </thead>\n",
       "  <tbody>\n",
       "    <tr>\n",
       "      <th>0</th>\n",
       "      <td>&lt;U+0001F923&gt;</td>\n",
       "      <td>77</td>\n",
       "      <td>0001F923</td>\n",
       "      <td>🤣</td>\n",
       "    </tr>\n",
       "    <tr>\n",
       "      <th>1</th>\n",
       "      <td>&lt;U+FE0F&gt;</td>\n",
       "      <td>18</td>\n",
       "      <td>FE0F</td>\n",
       "      <td>️</td>\n",
       "    </tr>\n",
       "    <tr>\n",
       "      <th>2</th>\n",
       "      <td>&lt;U+0001F525&gt;</td>\n",
       "      <td>16</td>\n",
       "      <td>0001F525</td>\n",
       "      <td>🔥</td>\n",
       "    </tr>\n",
       "    <tr>\n",
       "      <th>3</th>\n",
       "      <td>&lt;U+0001F5A4&gt;</td>\n",
       "      <td>10</td>\n",
       "      <td>0001F5A4</td>\n",
       "      <td>🖤</td>\n",
       "    </tr>\n",
       "    <tr>\n",
       "      <th>4</th>\n",
       "      <td>&lt;U+0001F495&gt;</td>\n",
       "      <td>7</td>\n",
       "      <td>0001F495</td>\n",
       "      <td>💕</td>\n",
       "    </tr>\n",
       "    <tr>\n",
       "      <th>...</th>\n",
       "      <td>...</td>\n",
       "      <td>...</td>\n",
       "      <td>...</td>\n",
       "      <td>...</td>\n",
       "    </tr>\n",
       "    <tr>\n",
       "      <th>87</th>\n",
       "      <td>&lt;U+0001F634&gt;</td>\n",
       "      <td>1</td>\n",
       "      <td>0001F634</td>\n",
       "      <td>😴</td>\n",
       "    </tr>\n",
       "    <tr>\n",
       "      <th>88</th>\n",
       "      <td>&lt;U+0001F447&gt;</td>\n",
       "      <td>1</td>\n",
       "      <td>0001F447</td>\n",
       "      <td>👇</td>\n",
       "    </tr>\n",
       "    <tr>\n",
       "      <th>89</th>\n",
       "      <td>&lt;U+0001F6F0&gt;</td>\n",
       "      <td>1</td>\n",
       "      <td>0001F6F0</td>\n",
       "      <td>🛰</td>\n",
       "    </tr>\n",
       "    <tr>\n",
       "      <th>90</th>\n",
       "      <td>&lt;U+0001F353&gt;</td>\n",
       "      <td>1</td>\n",
       "      <td>0001F353</td>\n",
       "      <td>🍓</td>\n",
       "    </tr>\n",
       "    <tr>\n",
       "      <th>91</th>\n",
       "      <td>&lt;U+0451&gt;</td>\n",
       "      <td>1</td>\n",
       "      <td>0451</td>\n",
       "      <td>ё</td>\n",
       "    </tr>\n",
       "  </tbody>\n",
       "</table>\n",
       "<p>92 rows × 4 columns</p>\n",
       "</div>"
      ],
      "text/plain": [
       "       emoji_str  emoji_count code_point emoji\n",
       "0   <U+0001F923>           77   0001F923     🤣\n",
       "1       <U+FE0F>           18       FE0F     ️\n",
       "2   <U+0001F525>           16   0001F525     🔥\n",
       "3   <U+0001F5A4>           10   0001F5A4     🖤\n",
       "4   <U+0001F495>            7   0001F495     💕\n",
       "..           ...          ...        ...   ...\n",
       "87  <U+0001F634>            1   0001F634     😴\n",
       "88  <U+0001F447>            1   0001F447     👇\n",
       "89  <U+0001F6F0>            1   0001F6F0     🛰\n",
       "90  <U+0001F353>            1   0001F353     🍓\n",
       "91      <U+0451>            1       0451     ё\n",
       "\n",
       "[92 rows x 4 columns]"
      ]
     },
     "execution_count": 14,
     "metadata": {},
     "output_type": "execute_result"
    }
   ],
   "source": [
    "# Function to convert a code point to an emoji\n",
    "def code_point_to_char(code_point):\n",
    "    return chr(int(code_point, 16))\n",
    "\n",
    "# apply the function to the column\n",
    "emoji_count['emoji'] = emoji_count.code_point.apply(code_point_to_char)\n",
    "emoji_count"
   ]
  },
  {
   "cell_type": "markdown",
   "id": "f3753896-044b-4c6c-9ba8-1a7e0d079afe",
   "metadata": {},
   "source": [
    "We can see that some emojis are not generated or blank"
   ]
  },
  {
   "cell_type": "code",
   "execution_count": 15,
   "id": "e665adbc-5c35-4f46-b46a-d4d163094ffe",
   "metadata": {
    "tags": []
   },
   "outputs": [
    {
     "name": "stdout",
     "output_type": "stream",
     "text": [
      "['0001F923' '🤣']\n",
      "['FE0F' '️']\n",
      "['0001F525' '🔥']\n",
      "['0001F5A4' '🖤']\n",
      "['0001F495' '💕']\n",
      "['2192' '→']\n",
      "['0001F3B6' '🎶']\n",
      "['043E' 'о']\n",
      "['043B' 'л']\n",
      "['0435' 'е']\n",
      "['0001F440' '👀']\n",
      "['0001F600' '😀']\n",
      "['0001F609' '😉']\n",
      "['0001F44D' '👍']\n",
      "['2660' '♠']\n",
      "['0001F4AF' '💯']\n",
      "['0001F680' '🚀']\n",
      "['26A1' '⚡']\n",
      "['0001F1E9' '🇩']\n",
      "['0001F1EA' '🇪']\n",
      "['0001F44C' '👌']\n",
      "['0432' 'в']\n",
      "['2665' '♥']\n",
      "['0001F4AB' '💫']\n",
      "['0001F339' '🌹']\n",
      "['0001F622' '😢']\n",
      "['263A' '☺']\n",
      "['200D' '\\u200d']\n",
      "['0001F62C' '😬']\n",
      "['0001F603' '😃']\n",
      "['0001F409' '🐉']\n",
      "['0001F1E8' '🇨']\n",
      "['0001F9DB' '🧛']\n",
      "['0001F4B0' '💰']\n",
      "['0001F918' '🤘']\n",
      "['0001F4A9' '💩']\n",
      "['0001F1E6' '🇦']\n",
      "['0001F4A8' '💨']\n",
      "['2640' '♀']\n",
      "['0001F54A' '🕊']\n",
      "['043C' 'м']\n",
      "['044B' 'ы']\n",
      "['0440' 'р']\n",
      "['041A' 'К']\n",
      "['0001F917' '🤗']\n",
      "['0001F3A9' '🎩']\n",
      "['043D' 'н']\n",
      "['0001F40D' '🐍']\n",
      "['0001F3B7' '🎷']\n",
      "['2705' '✅']\n",
      "['0001F3AF' '🎯']\n",
      "['0001F43B' '🐻']\n",
      "['0001F62E' '😮']\n",
      "['0001F608' '😈']\n",
      "['0001F9D9' '🧙']\n",
      "['0001F1F8' '🇸']\n",
      "['2642' '♂']\n",
      "['0001F1FA' '🇺']\n",
      "['0001F30E' '🌎']\n",
      "['0001FA82' '🪂']\n",
      "['0001F1F4' '🇴']\n",
      "['044C' 'ь']\n",
      "['0001F1E7' '🇧']\n",
      "['0001F610' '😐']\n",
      "['0001F60E' '😎']\n",
      "['0001F914' '🤔']\n",
      "['0001F338' '🌸']\n",
      "['0001F3DD' '🏝']\n",
      "['0001F381' '🎁']\n",
      "['0441' 'с']\n",
      "['0434' 'д']\n",
      "['0430' 'а']\n",
      "['0001F476' '👶']\n",
      "['041E' 'О']\n",
      "['0431' 'б']\n",
      "['0438' 'и']\n",
      "['043A' 'к']\n",
      "['043F' 'п']\n",
      "['0001F410' '🐐']\n",
      "['0001F484' '💄']\n",
      "['0001F446' '👆']\n",
      "['0001F920' '🤠']\n",
      "['2600' '☀']\n",
      "['0001F60F' '😏']\n",
      "['0001F47B' '👻']\n",
      "['0001F4B5' '💵']\n",
      "['0001F534' '🔴']\n",
      "['0001F634' '😴']\n",
      "['0001F447' '👇']\n",
      "['0001F6F0' '🛰']\n",
      "['0001F353' '🍓']\n",
      "['0451' 'ё']\n"
     ]
    }
   ],
   "source": [
    "# Printing every code point and emoji\n",
    "for i in emoji_count[['code_point', 'emoji']].values:\n",
    "    print(i)"
   ]
  },
  {
   "cell_type": "markdown",
   "id": "86c26e81-cad5-4f8c-8df7-15c800c8c542",
   "metadata": {},
   "source": [
    "- 'FE0F' is Variation Selector-16 (VS16) and does not have a symbol\n",
    "- '200D' is Zero Width Joiner (ZWJ) and does not have a symbol"
   ]
  },
  {
   "cell_type": "code",
   "execution_count": 16,
   "id": "bcf9a38f-5c41-42ce-90b3-ad2e395e7de7",
   "metadata": {
    "tags": []
   },
   "outputs": [],
   "source": [
    "# Renaming values for the above symbol-less emojis to empty string\n",
    "emoji_count.loc[emoji_count[emoji_count.code_point.isin(['FE0F', '200D'])].index, 'emoji'] = \"\""
   ]
  },
  {
   "cell_type": "code",
   "execution_count": 17,
   "id": "1294b4c4-88a0-434f-84af-24e5743839f4",
   "metadata": {
    "tags": []
   },
   "outputs": [],
   "source": [
    "# Getting a descriptor for each emoji using emoji package\n",
    "\n",
    "import emoji\n",
    "emoji_count['description'] = emoji_count.emoji.apply(lambda x: emoji.demojize(x))"
   ]
  },
  {
   "cell_type": "code",
   "execution_count": 18,
   "id": "eff7c1d8-d0fb-4a87-b626-d19d91ad4dce",
   "metadata": {
    "tags": []
   },
   "outputs": [
    {
     "name": "stdout",
     "output_type": "stream",
     "text": [
      "['0001F923' '🤣' ':rolling_on_the_floor_laughing:']\n",
      "['FE0F' '' '']\n",
      "['0001F525' '🔥' ':fire:']\n",
      "['0001F5A4' '🖤' ':black_heart:']\n",
      "['0001F495' '💕' ':two_hearts:']\n",
      "['2192' '→' '→']\n",
      "['0001F3B6' '🎶' ':musical_notes:']\n",
      "['043E' 'о' 'о']\n",
      "['043B' 'л' 'л']\n",
      "['0435' 'е' 'е']\n",
      "['0001F440' '👀' ':eyes:']\n",
      "['0001F600' '😀' ':grinning_face:']\n",
      "['0001F609' '😉' ':winking_face:']\n",
      "['0001F44D' '👍' ':thumbs_up:']\n",
      "['2660' '♠' ':spade_suit:']\n",
      "['0001F4AF' '💯' ':hundred_points:']\n",
      "['0001F680' '🚀' ':rocket:']\n",
      "['26A1' '⚡' ':high_voltage:']\n",
      "['0001F1E9' '🇩' '🇩']\n",
      "['0001F1EA' '🇪' '🇪']\n",
      "['0001F44C' '👌' ':OK_hand:']\n",
      "['0432' 'в' 'в']\n",
      "['2665' '♥' ':heart_suit:']\n",
      "['0001F4AB' '💫' ':dizzy:']\n",
      "['0001F339' '🌹' ':rose:']\n",
      "['0001F622' '😢' ':crying_face:']\n",
      "['263A' '☺' ':smiling_face:']\n",
      "['200D' '' '']\n",
      "['0001F62C' '😬' ':grimacing_face:']\n",
      "['0001F603' '😃' ':grinning_face_with_big_eyes:']\n",
      "['0001F409' '🐉' ':dragon:']\n",
      "['0001F1E8' '🇨' '🇨']\n",
      "['0001F9DB' '🧛' ':vampire:']\n",
      "['0001F4B0' '💰' ':money_bag:']\n",
      "['0001F918' '🤘' ':sign_of_the_horns:']\n",
      "['0001F4A9' '💩' ':pile_of_poo:']\n",
      "['0001F1E6' '🇦' '🇦']\n",
      "['0001F4A8' '💨' ':dashing_away:']\n",
      "['2640' '♀' ':female_sign:']\n",
      "['0001F54A' '🕊' ':dove:']\n",
      "['043C' 'м' 'м']\n",
      "['044B' 'ы' 'ы']\n",
      "['0440' 'р' 'р']\n",
      "['041A' 'К' 'К']\n",
      "['0001F917' '🤗' ':smiling_face_with_open_hands:']\n",
      "['0001F3A9' '🎩' ':top_hat:']\n",
      "['043D' 'н' 'н']\n",
      "['0001F40D' '🐍' ':snake:']\n",
      "['0001F3B7' '🎷' ':saxophone:']\n",
      "['2705' '✅' ':check_mark_button:']\n",
      "['0001F3AF' '🎯' ':bullseye:']\n",
      "['0001F43B' '🐻' ':bear:']\n",
      "['0001F62E' '😮' ':face_with_open_mouth:']\n",
      "['0001F608' '😈' ':smiling_face_with_horns:']\n",
      "['0001F9D9' '🧙' ':mage:']\n",
      "['0001F1F8' '🇸' '🇸']\n",
      "['2642' '♂' ':male_sign:']\n",
      "['0001F1FA' '🇺' '🇺']\n",
      "['0001F30E' '🌎' ':globe_showing_Americas:']\n",
      "['0001FA82' '🪂' ':parachute:']\n",
      "['0001F1F4' '🇴' '🇴']\n",
      "['044C' 'ь' 'ь']\n",
      "['0001F1E7' '🇧' '🇧']\n",
      "['0001F610' '😐' ':neutral_face:']\n",
      "['0001F60E' '😎' ':smiling_face_with_sunglasses:']\n",
      "['0001F914' '🤔' ':thinking_face:']\n",
      "['0001F338' '🌸' ':cherry_blossom:']\n",
      "['0001F3DD' '🏝' ':desert_island:']\n",
      "['0001F381' '🎁' ':wrapped_gift:']\n",
      "['0441' 'с' 'с']\n",
      "['0434' 'д' 'д']\n",
      "['0430' 'а' 'а']\n",
      "['0001F476' '👶' ':baby:']\n",
      "['041E' 'О' 'О']\n",
      "['0431' 'б' 'б']\n",
      "['0438' 'и' 'и']\n",
      "['043A' 'к' 'к']\n",
      "['043F' 'п' 'п']\n",
      "['0001F410' '🐐' ':goat:']\n",
      "['0001F484' '💄' ':lipstick:']\n",
      "['0001F446' '👆' ':backhand_index_pointing_up:']\n",
      "['0001F920' '🤠' ':cowboy_hat_face:']\n",
      "['2600' '☀' ':sun:']\n",
      "['0001F60F' '😏' ':smirking_face:']\n",
      "['0001F47B' '👻' ':ghost:']\n",
      "['0001F4B5' '💵' ':dollar_banknote:']\n",
      "['0001F534' '🔴' ':red_circle:']\n",
      "['0001F634' '😴' ':sleeping_face:']\n",
      "['0001F447' '👇' ':backhand_index_pointing_down:']\n",
      "['0001F6F0' '🛰' ':satellite:']\n",
      "['0001F353' '🍓' ':strawberry:']\n",
      "['0451' 'ё' 'ё']\n"
     ]
    }
   ],
   "source": [
    "# Printing every code point, emoji, and description\n",
    "for i in emoji_count[['code_point', 'emoji', 'description']].values:\n",
    "    print(i)"
   ]
  },
  {
   "cell_type": "markdown",
   "id": "75ef4878-64a0-49c8-8e0a-00fb1d01db28",
   "metadata": {},
   "source": [
    "We can now add emojis or their descriptions instead of the unicode characters"
   ]
  },
  {
   "cell_type": "code",
   "execution_count": 19,
   "id": "be1ffe17-711c-44c2-beb7-a80393eeb9e8",
   "metadata": {
    "tags": []
   },
   "outputs": [],
   "source": [
    "import re\n",
    "\n",
    "# Function to replace unicode for emojis with emojis\n",
    "def replace_unicode_with_emoji(txt):\n",
    "    em_lst = re.findall(r\"(<U\\+.+?>)\", txt)\n",
    "    for em in em_lst:\n",
    "        cp = em[3:-1]\n",
    "        if emoji_count[emoji_count.code_point == cp].shape[0] != 0:\n",
    "            desc = emoji_count[emoji_count.code_point == cp].emoji.values[0].strip(\":\").replace(\"_\", \" \")\n",
    "            txt = txt.replace(em, desc)\n",
    "    return txt\n",
    "\n",
    "# Function to replace unicode for emojis with their descriptions\n",
    "def replace_unicode_with_description(txt):\n",
    "    em_lst = re.findall(r\"(<U\\+.+?>)\", txt)\n",
    "    for em in em_lst:\n",
    "        cp = em[3:-1]\n",
    "        if emoji_count[emoji_count.code_point == cp].shape[0] != 0:\n",
    "            desc = emoji_count[emoji_count.code_point == cp].description.values[0].strip(\":\").replace(\"_\", \" \")\n",
    "            txt = txt.replace(em, \" \"+desc+\" \")\n",
    "    return txt"
   ]
  },
  {
   "cell_type": "code",
   "execution_count": 20,
   "id": "4d9e91af-68c9-41a6-b83b-47f6a5bc10c8",
   "metadata": {
    "tags": []
   },
   "outputs": [],
   "source": [
    "# Creating extra columns with unicode replaced with emojis and their description in tweets\n",
    "tweets['tweet_with_emojis'] = tweets.tweet.apply(replace_unicode_with_emoji)\n",
    "tweets['tweet_with_emoji_descriptions'] = tweets.tweet.apply(replace_unicode_with_description)"
   ]
  },
  {
   "cell_type": "code",
   "execution_count": 21,
   "id": "363efb0e-c231-43a6-b618-365a37068f07",
   "metadata": {
    "tags": []
   },
   "outputs": [],
   "source": [
    "# Deleting empty tweets\n",
    "tweets.drop(index = tweets[tweets.tweet == ''].index, inplace = True)"
   ]
  },
  {
   "cell_type": "code",
   "execution_count": 22,
   "id": "8764880a-2b52-4fcb-8327-fba0efc1a399",
   "metadata": {
    "tags": []
   },
   "outputs": [],
   "source": [
    "# Resetting index as we have dropped empty tweets\n",
    "tweets.reset_index(drop=True, inplace=True)"
   ]
  },
  {
   "cell_type": "code",
   "execution_count": 23,
   "id": "c246005a-1711-4976-b178-73196da11af3",
   "metadata": {
    "tags": []
   },
   "outputs": [],
   "source": [
    "# Seperating original tweets, tweets with emojis, and tweets with descriptions of emojis into separate dataframes to apply sentiment analysis on each\n",
    "tweet = tweets[['tweet']]\n",
    "tweet_with_emojis = tweets[['tweet_with_emojis']]\n",
    "tweet_with_emoji_descriptions = tweets[['tweet_with_emoji_descriptions']]"
   ]
  },
  {
   "cell_type": "markdown",
   "id": "d4544261-f822-4fbb-85a5-0600560ac960",
   "metadata": {
    "tags": []
   },
   "source": [
    "## Sentiment Analysis"
   ]
  },
  {
   "cell_type": "markdown",
   "id": "5e402f5d-1597-495e-8b3f-8075a0fcc9f7",
   "metadata": {},
   "source": [
    "### VADER"
   ]
  },
  {
   "cell_type": "markdown",
   "id": "b57d1f86-8269-429c-bc73-831281383eca",
   "metadata": {},
   "source": [
    "VADER (Valence Aware Dictionary and sEntiment Reasoner) is a rule-based sentiment analysis tool that is specifically designed to handle social media texts. It is known for its accuracy in detecting sentiment in short texts like tweets."
   ]
  },
  {
   "cell_type": "code",
   "execution_count": 24,
   "id": "73d52bf6-2591-49e3-b42e-75c34c6037b7",
   "metadata": {
    "tags": []
   },
   "outputs": [],
   "source": [
    "# importing necessary libraries\n",
    "import nltk\n",
    "from nltk.sentiment.vader import SentimentIntensityAnalyzer\n",
    "\n",
    "vader = SentimentIntensityAnalyzer()"
   ]
  },
  {
   "cell_type": "code",
   "execution_count": 25,
   "id": "7a6c7ad3-2e87-4d2f-8725-84b9a6fa7d46",
   "metadata": {
    "tags": []
   },
   "outputs": [],
   "source": [
    "# Function to return polarity scores\n",
    "def sentiment_analyzer(text):\n",
    "    return vader.polarity_scores(text)"
   ]
  },
  {
   "cell_type": "code",
   "execution_count": 26,
   "id": "66121a35-3785-4286-9097-236e47f16b8b",
   "metadata": {
    "tags": []
   },
   "outputs": [],
   "source": [
    "# Function to classify tweet based on polarity score\n",
    "def tweet_sentiment_clf(score):\n",
    "    if score == 0:\n",
    "        return 'Neutral'\n",
    "    elif score > 0:\n",
    "        return 'Positive'\n",
    "    else:\n",
    "        return 'Negative'"
   ]
  },
  {
   "cell_type": "code",
   "execution_count": 27,
   "id": "af0b871c-c887-4f44-a299-7cf1d25a4776",
   "metadata": {
    "tags": []
   },
   "outputs": [
    {
     "data": {
      "image/png": "[encoded data removed]",
      "text/plain": [
       "<Figure size 640x480 with 1 Axes>"
      ]
     },
     "metadata": {},
     "output_type": "display_data"
    }
   ],
   "source": [
    "# Creating a dataframe of polarity scores for each original tweet\n",
    "tweet_sentiment = pd.DataFrame(tweet.tweet.apply(sentiment_analyzer).values.tolist(), index = tweet.index)\n",
    "# Adding polarity scores to original tweet df\n",
    "tweet = pd.concat([tweet, tweet_sentiment], axis = 1)\n",
    "# Classifying sentiment for the tweet based on polarity scores\n",
    "tweet['sentiment'] = tweet.compound.apply(tweet_sentiment_clf)\n",
    "# Barplot of tweets by sentiment\n",
    "x = tweet.sentiment.value_counts().index.tolist()\n",
    "y = tweet.sentiment.value_counts().values.tolist()\n",
    "plt.bar(x, y)\n",
    "for i, v in enumerate(y):\n",
    "    plt.text(i, v + 10, str(v), color='black', fontweight='bold', ha='center')"
   ]
  },
  {
   "cell_type": "markdown",
   "id": "6aaa1e57-3156-4ad0-8b2b-76eb4e12e736",
   "metadata": {},
   "source": [
    "Most tweets are positive or neutral. Very few negative tweets"
   ]
  },
  {
   "cell_type": "code",
   "execution_count": 28,
   "id": "5ce376a9-86bb-4d30-a796-da8e4740c0b1",
   "metadata": {
    "tags": []
   },
   "outputs": [
    {
     "data": {
      "image/png": "[encoded data removed]",
      "text/plain": [
       "<Figure size 640x480 with 1 Axes>"
      ]
     },
     "metadata": {},
     "output_type": "display_data"
    }
   ],
   "source": [
    "# Creating a dataframe of polarity scores for each tweet with emojis\n",
    "tweet_with_emojis_sentiment = pd.DataFrame(tweet_with_emojis.tweet_with_emojis.apply(sentiment_analyzer).values.tolist(), index = tweet_with_emojis.index)\n",
    "# Adding polarity scores\n",
    "tweet_with_emojis = pd.concat([tweet_with_emojis, tweet_with_emojis_sentiment], axis = 1)\n",
    "# Classifying sentiment for the tweet based on polarity scores\n",
    "tweet_with_emojis['sentiment'] = tweet_with_emojis.compound.apply(tweet_sentiment_clf)\n",
    "# Barplot of tweets by sentiment\n",
    "x = tweet_with_emojis.sentiment.value_counts().index.tolist()\n",
    "y = tweet_with_emojis.sentiment.value_counts().values.tolist()\n",
    "plt.bar(x, y)\n",
    "for i, v in enumerate(y):\n",
    "    plt.text(i, v + 10, str(v), color='black', fontweight='bold', ha='center')"
   ]
  },
  {
   "cell_type": "code",
   "execution_count": 29,
   "id": "c71ac23d-660e-42e9-8385-4193d84e50a9",
   "metadata": {
    "tags": []
   },
   "outputs": [
    {
     "data": {
      "image/png": "[encoded data removed]",
      "text/plain": [
       "<Figure size 640x480 with 1 Axes>"
      ]
     },
     "metadata": {},
     "output_type": "display_data"
    }
   ],
   "source": [
    "# Creating a dataframe of polarity scores for each tweet with description of emojis\n",
    "tweet_with_emoji_descriptions_sentiment = pd.DataFrame(tweet_with_emoji_descriptions.tweet_with_emoji_descriptions.apply(sentiment_analyzer).values.tolist(), index = tweet_with_emoji_descriptions.index)\n",
    "# Adding polarity scores to original tweet df\n",
    "tweet_with_emoji_descriptions = pd.concat([tweet_with_emoji_descriptions, tweet_with_emoji_descriptions_sentiment], axis = 1)\n",
    "# Classifying sentiment for the tweet based on polarity scores\n",
    "tweet_with_emoji_descriptions['sentiment'] = tweet_with_emoji_descriptions.compound.apply(tweet_sentiment_clf)\n",
    "# Barplot of tweets by sentiment\n",
    "x = tweet_with_emoji_descriptions.sentiment.value_counts().index.tolist()\n",
    "y = tweet_with_emoji_descriptions.sentiment.value_counts().values.tolist()\n",
    "plt.bar(x, y)\n",
    "for i, v in enumerate(y):\n",
    "    plt.text(i, v + 10, str(v), color='black', fontweight='bold', ha='center')"
   ]
  },
  {
   "cell_type": "markdown",
   "id": "f97060bd-2c18-4342-92f5-c7de664269a1",
   "metadata": {},
   "source": [
    "Including descriptions of the emojis has lead to change in sentiment for some tweets. Tweets previously considered neutral are now classified as positive or negative based on words in the description"
   ]
  },
  {
   "cell_type": "code",
   "execution_count": 30,
   "id": "556dca5d-3920-4663-831e-132b12d1d8a5",
   "metadata": {
    "tags": []
   },
   "outputs": [
    {
     "data": {
      "text/html": [
       "<div>\n",
       "<style scoped>\n",
       "    .dataframe tbody tr th:only-of-type {\n",
       "        vertical-align: middle;\n",
       "    }\n",
       "\n",
       "    .dataframe tbody tr th {\n",
       "        vertical-align: top;\n",
       "    }\n",
       "\n",
       "    .dataframe thead th {\n",
       "        text-align: right;\n",
       "    }\n",
       "</style>\n",
       "<table border=\"1\" class=\"dataframe\">\n",
       "  <thead>\n",
       "    <tr style=\"text-align: right;\">\n",
       "      <th></th>\n",
       "      <th>tweet</th>\n",
       "      <th>neg</th>\n",
       "      <th>neu</th>\n",
       "      <th>pos</th>\n",
       "      <th>compound</th>\n",
       "      <th>sentiment</th>\n",
       "    </tr>\n",
       "  </thead>\n",
       "  <tbody>\n",
       "  </tbody>\n",
       "</table>\n",
       "</div>"
      ],
      "text/plain": [
       "Empty DataFrame\n",
       "Columns: [tweet, neg, neu, pos, compound, sentiment]\n",
       "Index: []"
      ]
     },
     "execution_count": 30,
     "metadata": {},
     "output_type": "execute_result"
    }
   ],
   "source": [
    "tweet[tweet.sentiment != tweet_with_emojis.sentiment]"
   ]
  },
  {
   "cell_type": "markdown",
   "id": "4bf6853b-27fb-4187-b2fc-1194fdc7b8e8",
   "metadata": {},
   "source": [
    "Tweets with unicode for emoji and tweets with emojis give the same sentiment."
   ]
  },
  {
   "cell_type": "code",
   "execution_count": 31,
   "id": "ea9f3e03-0def-415d-937d-b4b99c5d9283",
   "metadata": {
    "tags": []
   },
   "outputs": [
    {
     "data": {
      "text/plain": [
       "[['Neutral', '🤣🤣', 'Positive'],\n",
       " ['Neutral', '🤣🤣', 'Positive'],\n",
       " ['Neutral', '🤣🤣', 'Positive'],\n",
       " ['Neutral', '🤣🤣', 'Positive'],\n",
       " ['Neutral', 'Read the whole article 🤣🤣', 'Positive'],\n",
       " ['Neutral', '🤣🤣', 'Positive'],\n",
       " ['Neutral', '🤗', 'Positive'],\n",
       " ['Neutral',\n",
       "  'The esthetics of Cyberpunk are incredible btw. The interior design is👌.',\n",
       "  'Positive'],\n",
       " ['Neutral', '🤣🤣', 'Positive'],\n",
       " ['Neutral', '🤣🤣', 'Positive'],\n",
       " ['Neutral', '🤣🤣', 'Positive'],\n",
       " ['Neutral', '😢', 'Negative'],\n",
       " ['Neutral',\n",
       "  'Its one 🔥 or 1/2 🔥 if you dont have a car with pedestrian speaker. We couldnt get everything done in',\n",
       "  'Negative'],\n",
       " ['Neutral', 'The writing on Cobra Kai is sick👌', 'Positive'],\n",
       " ['Neutral', '🤣🤣', 'Positive'],\n",
       " ['Neutral', '🤣', 'Positive'],\n",
       " ['Negative', 'And no toilet paper 🤣🤣', 'Positive'],\n",
       " ['Neutral', '🤣🤣', 'Positive'],\n",
       " ['Negative', '. is savage 🤣🤣', 'Positive'],\n",
       " ['Positive', 'Tesla holiday software release is 🔥🔥', 'Negative'],\n",
       " ['Neutral', '👻 💵', 'Negative'],\n",
       " ['Neutral', 'Cold symptoms are gone for now 😀🚀💫', 'Positive'],\n",
       " ['Neutral', '🤣🤣👍', 'Positive'],\n",
       " ['Neutral', '🇨🇦 😀', 'Positive'],\n",
       " ['Neutral', '🤗', 'Positive'],\n",
       " ['Neutral',\n",
       "  'Penguin Random House 😴 should change the name to Random Penguin🔥',\n",
       "  'Negative'],\n",
       " ['Neutral', 'Tesla should make 🔥 catgirl robots?', 'Negative'],\n",
       " ['Neutral', '🤣🤣', 'Positive'],\n",
       " ['Neutral',\n",
       "  'Jack in the Box should do double duty as a sperm donor clinic  name is 👌',\n",
       "  'Positive'],\n",
       " ['Neutral', '💫 🛰', 'Negative'],\n",
       " ['Neutral', '😢', 'Negative'],\n",
       " ['Neutral', '🤣🤣', 'Positive'],\n",
       " ['Neutral', '💰💩🤣', 'Positive'],\n",
       " ['Neutral', '🤣🤣', 'Positive'],\n",
       " ['Neutral',\n",
       "  'Turns out they mostly press the letter s and 💩 on the typewriter 🤣',\n",
       "  'Positive'],\n",
       " ['Neutral', 'Doubles as an underground nuclear shelter 😀👍', 'Positive'],\n",
       " ['Neutral', '🤣🤣', 'Positive'],\n",
       " ['Neutral',\n",
       "  'Just learned that my physics prof from Penn is head of Fermilab and still has some of my old homework ☺',\n",
       "  'Positive'],\n",
       " ['Neutral', 'Asimov was 🔥🔥', 'Negative'],\n",
       " ['Neutral', '🤣', 'Positive'],\n",
       " ['Neutral', 'Absolutely 😃 🏝', 'Positive'],\n",
       " ['Negative', 'My button-twiddling makes no sense at all 🤣🤣', 'Positive'],\n",
       " ['Neutral', '☺', 'Positive'],\n",
       " ['Neutral', '🤣🤣', 'Positive'],\n",
       " ['Neutral', '🤣🤣 hasty govt 🤣🤣', 'Positive'],\n",
       " ['Neutral', '🤣🤣', 'Positive'],\n",
       " ['Neutral', 'Ramses II was 😎', 'Positive'],\n",
       " ['Neutral', '☺', 'Positive'],\n",
       " ['Neutral', '🤣🤣', 'Positive'],\n",
       " ['Neutral', 'Robot Heart is 🔥🔥', 'Negative'],\n",
       " ['Positive', 'And to think I used to like Bernie! 😢', 'Negative'],\n",
       " ['Neutral', '🤣🤣', 'Positive'],\n",
       " ['Neutral', 'Planet Claire is 🔥🔥', 'Negative'],\n",
       " ['Neutral', '🤣🤣', 'Positive'],\n",
       " ['Neutral', '🤣🤣', 'Positive'],\n",
       " ['Neutral', 'Those were the days! 🤣🤣', 'Positive'],\n",
       " ['Neutral', '🤣🤣', 'Positive'],\n",
       " ['Neutral', '🔥🔥', 'Negative'],\n",
       " ['Neutral', '🤣', 'Positive'],\n",
       " ['Neutral', '🤣🤣', 'Positive'],\n",
       " ['Neutral', 'VR Twitter with avatars saying the mentions 😈', 'Positive'],\n",
       " ['Neutral', '🤣🤣', 'Positive'],\n",
       " ['Neutral', '🤣🤣', 'Positive'],\n",
       " ['Neutral', '🤣🤣', 'Positive']]"
      ]
     },
     "execution_count": 31,
     "metadata": {},
     "output_type": "execute_result"
    }
   ],
   "source": [
    "# Getting index of tweets that have their sentiment changed due to existance of description of the emoji\n",
    "diff = tweet_with_emojis[tweet_with_emojis.sentiment != tweet_with_emoji_descriptions.sentiment].index\n",
    "# Showing sentiment based on tweet with emoji, the tweet, and sentiment based on description of the emoji\n",
    "df1 = tweet_with_emojis.loc[diff, ['sentiment', 'tweet_with_emojis']]\n",
    "df1.rename(index = {'sentiment':'sentiment_with_emojis', 'tweet_with_emojis': 'tweet'})\n",
    "df2 = tweet_with_emoji_descriptions.loc[diff, 'sentiment']\n",
    "df2.rename(index = {'sentiment':'sentiment_with_description'})\n",
    "pd.concat([df1, df2], axis = 1).values.tolist()"
   ]
  },
  {
   "cell_type": "markdown",
   "id": "d9f77891-5c4a-4072-bcaa-f5adfba2622b",
   "metadata": {},
   "source": [
    "Description are factored into sentiment analysis. Sometimes, this leads to misclassification as seen with the emoji for fire"
   ]
  },
  {
   "cell_type": "markdown",
   "id": "211ee9fe-979c-4087-a433-40cbca81cda1",
   "metadata": {},
   "source": [
    "### TextBlob"
   ]
  },
  {
   "cell_type": "markdown",
   "id": "3d9ee842-2523-4e17-93b3-b459e3ed0617",
   "metadata": {},
   "source": [
    "Another python library for sentiment analysis"
   ]
  },
  {
   "cell_type": "code",
   "execution_count": 32,
   "id": "79499d30-a8de-4ab6-9f4e-2ef82797e4a8",
   "metadata": {},
   "outputs": [],
   "source": [
    "from textblob import TextBlob"
   ]
  },
  {
   "cell_type": "code",
   "execution_count": 33,
   "id": "03b6fca8-138c-4e4a-95b8-9c5a7847123c",
   "metadata": {},
   "outputs": [],
   "source": [
    "# Adding polarity column to every tweet df\n",
    "tweet['polarity'] = tweet.tweet.apply(lambda x : TextBlob(x).polarity)\n",
    "tweet_with_emojis['polarity'] = tweet_with_emojis.tweet_with_emojis.apply(lambda x : TextBlob(x).polarity)\n",
    "tweet_with_emoji_descriptions['polarity'] = tweet_with_emoji_descriptions.tweet_with_emoji_descriptions.apply(lambda x : TextBlob(x).polarity)\n",
    "\n",
    "# Adding subjectivity column to every tweet df\n",
    "tweet['subjectivity'] = tweet.tweet.apply(lambda x : TextBlob(x).subjectivity)\n",
    "tweet_with_emojis['subjectivity'] = tweet_with_emojis.tweet_with_emojis.apply(lambda x : TextBlob(x).subjectivity)\n",
    "tweet_with_emoji_descriptions['subjectivity'] = tweet_with_emoji_descriptions.tweet_with_emoji_descriptions.apply(lambda x : TextBlob(x).subjectivity)"
   ]
  },
  {
   "cell_type": "code",
   "execution_count": 34,
   "id": "93ba37bd-8bbe-4262-ac0d-55371c4f9eac",
   "metadata": {
    "tags": []
   },
   "outputs": [
    {
     "data": {
      "text/plain": [
       "<Axes: xlabel='subjectivity', ylabel='polarity'>"
      ]
     },
     "execution_count": 34,
     "metadata": {},
     "output_type": "execute_result"
    },
    {
     "data": {
      "image/png": "[encoded data removed]",
      "text/plain": [
       "<Figure size 640x480 with 1 Axes>"
      ]
     },
     "metadata": {},
     "output_type": "display_data"
    }
   ],
   "source": [
    "# Scatterplot of tweets with subjectivity on x axis and polarity on y axis, with color representing sentiment classification by VADER\n",
    "sns.scatterplot(tweet, x = 'subjectivity', y = 'polarity', hue = 'sentiment', s = 10)"
   ]
  },
  {
   "cell_type": "code",
   "execution_count": 35,
   "id": "b4226635-99b4-4090-b0d3-87769da5fe36",
   "metadata": {
    "tags": []
   },
   "outputs": [
    {
     "data": {
      "text/plain": [
       "<Axes: xlabel='subjectivity', ylabel='polarity'>"
      ]
     },
     "execution_count": 35,
     "metadata": {},
     "output_type": "execute_result"
    },
    {
     "data": {
      "image/png": "[encoded data removed]",
      "text/plain": [
       "<Figure size 640x480 with 1 Axes>"
      ]
     },
     "metadata": {},
     "output_type": "display_data"
    }
   ],
   "source": [
    "# Scatterplot of tweets with subjectivity on x axis and polarity on y axis, with color representing sentiment classification by VADER\n",
    "sns.scatterplot(tweet_with_emojis, x = 'subjectivity', y = 'polarity', hue = 'sentiment', s = 10)"
   ]
  },
  {
   "cell_type": "code",
   "execution_count": 36,
   "id": "ed24bff7-e5be-4b5f-9724-6cfceaa9e032",
   "metadata": {
    "tags": []
   },
   "outputs": [
    {
     "data": {
      "text/plain": [
       "<Axes: xlabel='subjectivity', ylabel='polarity'>"
      ]
     },
     "execution_count": 36,
     "metadata": {},
     "output_type": "execute_result"
    },
    {
     "data": {
      "image/png": "[encoded data removed]",
      "text/plain": [
       "<Figure size 640x480 with 1 Axes>"
      ]
     },
     "metadata": {},
     "output_type": "display_data"
    }
   ],
   "source": [
    "# Scatterplot of tweets with subjectivity on x axis and polarity on y axis, with color representing sentiment classification by VADER\n",
    "sns.scatterplot(tweet_with_emoji_descriptions, x = 'subjectivity', y = 'polarity', hue = 'sentiment', s = 10)"
   ]
  },
  {
   "cell_type": "markdown",
   "id": "2f31ef8d-62ac-462f-a3a9-4f6a55fca2be",
   "metadata": {},
   "source": [
    "VADER performs better than TextBlob"
   ]
  },
  {
   "cell_type": "code",
   "execution_count": null,
   "id": "6949ef49-205f-4fc4-baba-d39557413a14",
   "metadata": {},
   "outputs": [],
   "source": []
  }
 ],
 "metadata": {
  "kernelspec": {
   "display_name": "Python 3 (ipykernel)",
   "language": "python",
   "name": "python3"
  },
  "language_info": {
   "codemirror_mode": {
    "name": "ipython",
    "version": 3
   },
   "file_extension": ".py",
   "mimetype": "text/x-python",
   "name": "python",
   "nbconvert_exporter": "python",
   "pygments_lexer": "ipython3",
   "version": "3.8.16"
  }
 },
 "nbformat": 4,
 "nbformat_minor": 5
}
