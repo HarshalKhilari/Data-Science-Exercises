{
 "cells": [
  {
   "cell_type": "markdown",
   "id": "81a1c9af-bd90-4b94-9ebe-80d94ab43d9f",
   "metadata": {},
   "source": [
    "# Extract reviews of any product from ecommerce website like amazon and perform Emotion Mining\n",
    "---"
   ]
  },
  {
   "cell_type": "markdown",
   "id": "9b735e4c-d222-4cdc-8376-c75ce4c012ad",
   "metadata": {},
   "source": [
    "For this assignment, we will extract reviews from the website **\"headphonezone.in\"** for In-Ear Monitors (earphones) called **\"KZ - ZST X\"**. They are an affordable introduction to the world of IEMs. Different speakers in each shell deal with higher and lower frequencies, so that you get good bass as well as treble."
   ]
  },
  {
   "cell_type": "markdown",
   "id": "e0f956a5-6ecd-4289-bb7f-f6ea22ba0697",
   "metadata": {},
   "source": [
    "The product has more than 400 reviews. It displays 7 reviews initially, and on clicking 'Read More' 7 more reviews are loaded through an AJAX call. Also, longer reviews are truncated with a 'Read more' link to display the complete review."
   ]
  },
  {
   "cell_type": "markdown",
   "id": "9adb681f-b63a-4d18-ba09-a896d6776ad2",
   "metadata": {},
   "source": [
    "To extract reviews from the product's [webpage](https://www.headphonezone.in/products/kz-zst-x?variant=33086548049983) we will use the *Selenium* library as we want to control the browser to repeatedly click the 'Read more' button until all reviews are displayed and also click 'Read more' for every truncated review.  \n",
    "Selenium automates browsers. Primarily it is for automating web applications for testing purposes, but is certainly not limited to just that. Boring web-based administration tasks can also be automated."
   ]
  },
  {
   "cell_type": "markdown",
   "id": "88da56db-14f1-4ed7-870e-8d8c967c81c4",
   "metadata": {},
   "source": [
    "Once we have the text for all reviews displayed on the webpage, we can use *Beautiful Soup 4* package to parse the page source and locate and extract the required elements.   \n",
    "Beautiful Soup is a Python library for pulling data out of HTML and XML files. It works with your favorite parser to provide idiomatic ways of navigating, searching, and modifying the parse tree. It commonly saves programmers hours or days of work."
   ]
  },
  {
   "cell_type": "markdown",
   "id": "2b06cdca-2e1b-4667-9099-6239965368fd",
   "metadata": {},
   "source": [
    "---"
   ]
  },
  {
   "cell_type": "markdown",
   "id": "5ea835e4-9f1a-4d9d-97b0-077693213f6e",
   "metadata": {
    "tags": []
   },
   "source": [
    "## Web Scraping"
   ]
  },
  {
   "cell_type": "code",
   "execution_count": 52,
   "id": "5ab3ab81-8555-4d3d-9d06-3fa65e4fc38f",
   "metadata": {
    "tags": []
   },
   "outputs": [],
   "source": [
    "# Importing necessary libraries\n",
    "from selenium import webdriver\n",
    "from selenium.webdriver.common.by import By\n",
    "from selenium.webdriver.support.wait import WebDriverWait\n",
    "from selenium.webdriver.support import expected_conditions as EC \n",
    "from selenium.webdriver.firefox.options import Options\n",
    "import time"
   ]
  },
  {
   "cell_type": "code",
   "execution_count": 62,
   "id": "c9ecaf24-4742-44b4-b38f-7b373e1194a3",
   "metadata": {
    "tags": []
   },
   "outputs": [],
   "source": [
    "# Launching Firefox browser\n",
    "driver = webdriver.Firefox()"
   ]
  },
  {
   "cell_type": "code",
   "execution_count": 63,
   "id": "f461a8e5-f312-4f16-b779-30892f9f3067",
   "metadata": {
    "tags": []
   },
   "outputs": [],
   "source": [
    "url = \"https://www.headphonezone.in/products/kz-zst-x?variant=33086548049983\"\n",
    "# Launching URL\n",
    "driver.get(url)"
   ]
  },
  {
   "cell_type": "code",
   "execution_count": 64,
   "id": "74cff4d4-cbdf-4555-bcf4-e96f893b4778",
   "metadata": {
    "tags": []
   },
   "outputs": [],
   "source": [
    "# Creating a 10 second wait\n",
    "wait = WebDriverWait(driver, 10)\n",
    "# Creating an object for the web element that contains all reviews\n",
    "review_window = driver.find_element(By.CSS_SELECTOR, \"div.jdgm-rev-widg__reviews\")\n",
    "# Getting the height for this window\n",
    "initial_height = driver.execute_script(\"return arguments[0].style.height;\", review_window)"
   ]
  },
  {
   "cell_type": "code",
   "execution_count": 65,
   "id": "3e642b60-b4bf-42a3-b9fb-44d3d936d136",
   "metadata": {
    "tags": []
   },
   "outputs": [
    {
     "name": "stdout",
     "output_type": "stream",
     "text": [
      "All reviews are loaded.\n"
     ]
    }
   ],
   "source": [
    "# Looping to click 'Read More' to load all reviews in the review window\n",
    "while True:\n",
    "    # Creating object for 'Read More' button\n",
    "    read_more = driver.find_element(By.CSS_SELECTOR, \"a.jdgm-paginate__load-more\")\n",
    "    # Using JavaScript Executor to click 'Read More'\n",
    "    driver.execute_script(\"arguments[0].click();\", read_more)\n",
    "    # Wait until the height of the review window changes (which means more reviews have loaded after clicking 'Read More')\n",
    "    wait.until_not(EC.text_to_be_present_in_element_attribute((By.CSS_SELECTOR, \"div.jdgm-rev-widg__reviews\"), \"height\", initial_height))\n",
    "    # Updating the new review window height\n",
    "    initial_height = driver.execute_script(\"return arguments[0].style.height;\", review_window)\n",
    "    # Check if the web element containing the 'Read More' button exists on the page, and exit the loop if not, as all reviews have been loaded\n",
    "    try:\n",
    "        driver.find_element(By.CSS_SELECTOR, \"div.jdgm-paginate\")\n",
    "    except:\n",
    "        print(\"All reviews are loaded.\")\n",
    "        break\n",
    "    # If 'Read More' button still exists, wait until it is visible in the Document Object Model and clickable\n",
    "    wait.until(EC.visibility_of_element_located((By.CSS_SELECTOR, \"a.jdgm-paginate__load-more\")))\n",
    "    wait.until(EC.element_to_be_clickable((By.CSS_SELECTOR, \"a.jdgm-paginate__load-more\")))"
   ]
  },
  {
   "cell_type": "code",
   "execution_count": 68,
   "id": "f885cca4-2ff0-4a4f-90a2-9a08a6040d3b",
   "metadata": {
    "tags": []
   },
   "outputs": [],
   "source": [
    "# Finding all 'Read more' links for individual reviews which were truncated\n",
    "expands = driver.find_elements(By.CSS_SELECTOR, \"div.is-truncated > p > a\")"
   ]
  },
  {
   "cell_type": "code",
   "execution_count": 69,
   "id": "157e7290-6aea-40bc-8a0d-1a0caae55d9b",
   "metadata": {
    "tags": []
   },
   "outputs": [],
   "source": [
    "# Expand each truncated review\n",
    "for expand in expands:\n",
    "    driver.execute_script(\"arguments[0].click();\", expand)"
   ]
  },
  {
   "cell_type": "code",
   "execution_count": 70,
   "id": "181f0d36-2c7c-4867-8b1d-9a1ee4ac0acb",
   "metadata": {
    "tags": []
   },
   "outputs": [],
   "source": [
    "# Import required library\n",
    "from bs4 import BeautifulSoup\n",
    "\n",
    "# Parsing HTML Source code of the webpage into soup object\n",
    "soup = BeautifulSoup(driver.page_source, 'html.parser')"
   ]
  },
  {
   "cell_type": "code",
   "execution_count": 71,
   "id": "0b72b6b5-9722-428b-9461-ba3efc0874ce",
   "metadata": {
    "tags": []
   },
   "outputs": [],
   "source": [
    "# Closing the browser as the required information has been extracted\n",
    "driver.quit()"
   ]
  },
  {
   "cell_type": "code",
   "execution_count": 72,
   "id": "76f573a4-201d-4b1a-8b3c-78a050a498b0",
   "metadata": {
    "tags": []
   },
   "outputs": [],
   "source": [
    "# Getting a list of all web elements containing reviews\n",
    "reviews = soup.find_all('div', class_= 'jdgm-rev__body')"
   ]
  },
  {
   "cell_type": "code",
   "execution_count": 73,
   "id": "9113cb9c-c6da-443c-88fe-d1e2c2e53dbd",
   "metadata": {},
   "outputs": [],
   "source": [
    "# Creating an empty list to store each review as a string\n",
    "review_list = []\n",
    "\n",
    "# Adding each review's text into review_list\n",
    "for review in reviews:\n",
    "    review_list.append(review.text)"
   ]
  },
  {
   "cell_type": "code",
   "execution_count": 74,
   "id": "c41f795b-aaf1-4f4d-914c-200ee649abf8",
   "metadata": {
    "tags": []
   },
   "outputs": [
    {
     "data": {
      "text/plain": [
       "[\"Won't take much of your time so I'll dive right in to the review. Comfort wise they are perfect. At least for my ears but I'm pretty sure it'll fit most of you out there. The earphones are made of plastic shells which look sturdy and can resist your usual wear and tear. The cable is also of the decent quality. But none of the things are the selling point of these headphones. KZ promises audio quality and delivers it! These are not your usual ear candy earphones like boat, sony, redmi, realme, etc and if you prefer that sound signature don't buy it. But if you prefer a clean audio with tight bass airy highs these are the headphones for you. The miss are also present but a bit laid back in the mix. I'd rather call them U shaped rather than V shaped. It lets you hear little details in your music you've never heard before. All in all of you want a balanced headphones these should be my pick and I've used literally every earphone under 2k price braket including rha ma390, soundmagic e10c, 1more piston, ath clr100, cx275s and many more and none of them even come close to what sound quality which these provide.Read more\",\n",
       " \"I bought kz zstx qnd wrote review that buds are not that great. To my surprise i recieved comply foam tips for free.\\nWhat kind of hospitality is this. I have bought a lot of stuff from several so called e com giants. But i never received any reply even from sellers. Now comes this great website headphone zone. Just with a review they sent me free earbuds. Its still unbelievable for me. Headphone zone. You're the best . And I'm really very very very satisfied now. Thank you Raghav. Your amazingRead more\",\n",
       " \"Don't let it's neon colours, bad English in it's instruction booklet, etc deceive you, it's a great pair of headphones, I used it with the comply tips which I bought extra, never used the silicon gel tips that came with it. \\nThe fit is good, the loop keeps the earphone from falling off. It's a snug fit. \\nI could hear a lot more song details that my JBL T210 missed.\\nI used with with my Moto G5s plus, it suits the phone perfectly as a headset with no microphone combatability issues that I faced with my Sony XB 55ap but for me the microphone is poorly placed, it's just above my chest. The microphone is not sensitive enough to take up conversation like the similarly microphone placed skullcandy headsets. The wires are thick weaved ones covered by transparent plastic cases with copperish wires inside. They do feel a bit rugged, will only know it's quality in time. \\nAlso I feel my phone is underpowered to run these headsets, coz when we plug these to a laptop. We're gonna get some serious outputs from these.Read more\",\n",
       " 'Got these recently from Headphonezone and I have only one word, fantastic!\\nThese headphones may very well be the reason as to why I would never buy a phone without a 3.5 mm jack.\\nCheers!Read more',\n",
       " \"Thanks to Headphone zone for there honest review and timely delivery.. one of the best reviewer of ep's and hp's.  The kz-zst is one of the best sounding earphones in this price range. Trust me u will not get a better option at this price.. have used more than 15 earphones across all brands but this came in as a surprise.. have extensive research I bought this ep's the Bass and trebel is good... close to balance sound..Also you will be able to hear the small details in the sound signature.which will keep you wondering and will make you go crazy... noise isolation is good..the quality of the earphones are good including the wire but it gets tangled soon.. must watch hd moves very effective while you are watching hd movies\\nBuy it you will not regret it.. \\nAmazing sound \\nDetails are good\\nBest buy for your money\\nGo ahead and order it..\\nEnjoy ur music the way you love it.. CheersRead more\",\n",
       " \"This is my first IEM and it exceeded my expectations. After going through several online reviews I decided to go for ZSTx over Shure SE215, I was not doing wrong. This is just mindblowing. \\n\\nBuild quality is good, not the best. Made of plastic, the writings on the bottom are slowly fading away after a month's usage. Cable is super flexible and it flexes like a chain, it makes it super tagly. This is the biggest con for me. Everytime I find it tangled when I take out of the case, always a take a minute or two to untagle. \\nThis IEM fits in my ears very well, it won't fall off as the cable hooks into the ears very well. \\nI don't use earphones for calls, but this one has a mic, which is useful if you have the habit of using earphones as your phone's mic. \\nSound  :  \\n            I am not an audiophile or an expert, I'm just writing what I felt like, My previous headphones were, old Sony MDR cassette walkman headsets, Earpods, Beats Studio Monster, ATH M50X  etc. I've also used Airpods and few JBL, panasonic, Xiaomi headsets. ZSTx is the latest addition to my list. This beats every other models I've ever used. The sound is incredible. I'm using a Redmi Note 7S and a high end gaming PC as my primary audio sources. I've tested this with Mac book pro as well. \\nI'm using Poweramp on the phone, with the EQ modded this sounds incredible, with the Mac this was even better without tweaking the EQ. Everything is well detailed,  instrument seperation is very good, sound stage is wide.\\n  Even though it's mentioned as a V shaped sound, I feel it's bright sounding. Trebles are sparkly and crystal clear. I could hear a lot of stuff which I weren't noticing before with my other headsets. Thanks to the BA drivers.\\nMids are clear and good,  \\nI don't recommed this for bassheads. having said that, there is enough bass and it's punchy, won't dissappoint. \\nOverall this IEM is an incredible value for money. Decent build quality, exceptional sound which is super rare at this price point. Actually it's better than many higher priced models. \\nHighly recommended.Read more\",\n",
       " \"Having used Fiio F1 earphones before, I had a positive perception of Chinese brands - you get what you pay for, and more, if you pay for the right thing.\\nSo I went for the KZ KST after reading extensively about them online. The KST sound brilliant. I've paired them with my Cowon Plenue D and some of the BBE EQ sound fantastic with these. I also own the Audio-Technica ATH-M50x and while they lean towards a warmer sound, these are more neutral and I can hear details I can't even hear with my Rs 9000 headphones. The bass isn't too good, it sounds a bit thumpy if you really push it with the EQ but that is clearly not the USP of these earphones. For the lower frequencies the M50x have a clear upper hand, but for the detail, its KST all the way.\\nAnother thing of note is that I've NEVER been comfortable with earphones in my ears before - until now! I've been through several pairs of Sennheisers, the Fiio, Sony, Creative earphones but I ALWAYS had ear ache after 20+ minutes of listening. Not so with the KST - they are very comfortable right out of the box.\\nAll in all, staggering value for money.\\nP.S. I was tempted to think funky and got the candy coloured pair, but now I think black would've been a better choice.Read more\",\n",
       " \"Can't bargain for more. You get a 2 driver iem for this low price and more could you expect. Just amazing. I love the feel and comfort they provide. You also get a real nice braided detachable cable. Perfect for everyday use. I just replaced the stock ear tips with Comply Foam tips. Bingo!  That's all you got to do.Read more\",\n",
       " 'Let’s start with the built quality, built quality is ok not very premium but for the price you can’t complain, sound is good V snapped sound signature , it is good for budget phones it worked perfectly on Samsung a50 but when I used it on apple devices iPhone and iPad it worked perfectly till 70% volume but started to fall apart and sound started to crack after 70 on apple devices.\\n    If someone is looking for a good hybrid earphones under 2k for a budget phone this won’t disappoint.Read more',\n",
       " 'yeah, buy this. its goodRead more']"
      ]
     },
     "execution_count": 74,
     "metadata": {},
     "output_type": "execute_result"
    }
   ],
   "source": [
    "# printing the first 10 reviews\n",
    "review_list[:10]"
   ]
  },
  {
   "cell_type": "markdown",
   "id": "b9cf5baf-2014-43b0-a69f-cbea5b9c27da",
   "metadata": {},
   "source": [
    "Now, we have successfully web scraped all of the reviews from the product page"
   ]
  },
  {
   "cell_type": "markdown",
   "id": "24986c34-09e4-461b-8203-ef863d610853",
   "metadata": {},
   "source": [
    "## Data Pre-processing"
   ]
  },
  {
   "cell_type": "code",
   "execution_count": 76,
   "id": "1b2d99ae-9ccd-4d80-b3c6-2b8f50943bc6",
   "metadata": {
    "tags": []
   },
   "outputs": [],
   "source": [
    "# Importing necessary libraries\n",
    "import pandas as pd\n",
    "import numpy as np\n",
    "import matplotlib.pyplot as plt\n",
    "import seaborn as sns"
   ]
  },
  {
   "cell_type": "code",
   "execution_count": 189,
   "id": "400aa115-79f1-4c8f-a1ee-34d6599d99ff",
   "metadata": {
    "tags": []
   },
   "outputs": [],
   "source": [
    "# Storing all reviews into a dataframe\n",
    "df = pd.DataFrame(review_list, columns = ['review'])"
   ]
  },
  {
   "cell_type": "markdown",
   "id": "45573b98-17a5-4135-a1b9-64c3d39a7b57",
   "metadata": {},
   "source": [
    "When we printed the first 10 reviews above, I noticed that all reviews contained 'Read more' at the end. It seems the 'Read more' was within an element in the review body and as we extracted all text from the review body, this was included too. We can remove it"
   ]
  },
  {
   "cell_type": "code",
   "execution_count": 190,
   "id": "05874a24-0638-454c-aa1c-82886b355e7e",
   "metadata": {
    "tags": []
   },
   "outputs": [],
   "source": [
    "# Removing 'Read more' at the end of each review\n",
    "df['review'] = df.review.str.replace('Read more$', '', regex = True)"
   ]
  },
  {
   "cell_type": "code",
   "execution_count": 191,
   "id": "b7508216-83e5-44f2-89fb-420d54210489",
   "metadata": {
    "tags": []
   },
   "outputs": [],
   "source": [
    "# Storing the dataframe for quick access\n",
    "df.to_csv(\"web_scrapped_reviews.csv\")"
   ]
  },
  {
   "cell_type": "code",
   "execution_count": 192,
   "id": "9753dc83-ded4-483a-a80e-2b8e2edc627f",
   "metadata": {
    "tags": []
   },
   "outputs": [],
   "source": [
    "# Replacing emojis with their descriptions\n",
    "df['review'] = df.review.apply(lambda x : emoji.replace_emoji(x, replace=lambda chars, data_dict: ' ' + chars.encode('ascii', 'namereplace').decode()[3:-1]))"
   ]
  },
  {
   "cell_type": "code",
   "execution_count": 193,
   "id": "9ca4da45-a55a-40dc-a1a1-24f3deac5cd2",
   "metadata": {
    "tags": []
   },
   "outputs": [],
   "source": [
    "# Getting character length of each review\n",
    "df['length'] = df.review.apply(lambda x : len(x))"
   ]
  },
  {
   "cell_type": "code",
   "execution_count": 194,
   "id": "05ef01be-b394-4a71-9ab1-04753d04ccdb",
   "metadata": {
    "tags": []
   },
   "outputs": [
    {
     "data": {
      "text/html": [
       "<div>\n",
       "<style scoped>\n",
       "    .dataframe tbody tr th:only-of-type {\n",
       "        vertical-align: middle;\n",
       "    }\n",
       "\n",
       "    .dataframe tbody tr th {\n",
       "        vertical-align: top;\n",
       "    }\n",
       "\n",
       "    .dataframe thead th {\n",
       "        text-align: right;\n",
       "    }\n",
       "</style>\n",
       "<table border=\"1\" class=\"dataframe\">\n",
       "  <thead>\n",
       "    <tr style=\"text-align: right;\">\n",
       "      <th></th>\n",
       "      <th>review</th>\n",
       "      <th>length</th>\n",
       "    </tr>\n",
       "  </thead>\n",
       "  <tbody>\n",
       "    <tr>\n",
       "      <th>18</th>\n",
       "      <td>Good</td>\n",
       "      <td>4</td>\n",
       "    </tr>\n",
       "    <tr>\n",
       "      <th>19</th>\n",
       "      <td>Love them!</td>\n",
       "      <td>10</td>\n",
       "    </tr>\n",
       "    <tr>\n",
       "      <th>92</th>\n",
       "      <td>KZ - ZST</td>\n",
       "      <td>8</td>\n",
       "    </tr>\n",
       "    <tr>\n",
       "      <th>97</th>\n",
       "      <td>nice</td>\n",
       "      <td>4</td>\n",
       "    </tr>\n",
       "    <tr>\n",
       "      <th>124</th>\n",
       "      <td>kz zst x</td>\n",
       "      <td>8</td>\n",
       "    </tr>\n",
       "    <tr>\n",
       "      <th>136</th>\n",
       "      <td>Must try</td>\n",
       "      <td>8</td>\n",
       "    </tr>\n",
       "    <tr>\n",
       "      <th>139</th>\n",
       "      <td>okok</td>\n",
       "      <td>4</td>\n",
       "    </tr>\n",
       "    <tr>\n",
       "      <th>162</th>\n",
       "      <td>Excellent</td>\n",
       "      <td>9</td>\n",
       "    </tr>\n",
       "    <tr>\n",
       "      <th>179</th>\n",
       "      <td>Good</td>\n",
       "      <td>4</td>\n",
       "    </tr>\n",
       "    <tr>\n",
       "      <th>188</th>\n",
       "      <td>best</td>\n",
       "      <td>4</td>\n",
       "    </tr>\n",
       "    <tr>\n",
       "      <th>192</th>\n",
       "      <td>good sound</td>\n",
       "      <td>10</td>\n",
       "    </tr>\n",
       "    <tr>\n",
       "      <th>208</th>\n",
       "      <td>Its very good</td>\n",
       "      <td>13</td>\n",
       "    </tr>\n",
       "    <tr>\n",
       "      <th>210</th>\n",
       "      <td>Good product</td>\n",
       "      <td>12</td>\n",
       "    </tr>\n",
       "    <tr>\n",
       "      <th>222</th>\n",
       "      <td>Nice</td>\n",
       "      <td>4</td>\n",
       "    </tr>\n",
       "    <tr>\n",
       "      <th>237</th>\n",
       "      <td>Very Noice</td>\n",
       "      <td>10</td>\n",
       "    </tr>\n",
       "    <tr>\n",
       "      <th>253</th>\n",
       "      <td>best color</td>\n",
       "      <td>10</td>\n",
       "    </tr>\n",
       "    <tr>\n",
       "      <th>289</th>\n",
       "      <td>KZ - ZST X</td>\n",
       "      <td>10</td>\n",
       "    </tr>\n",
       "    <tr>\n",
       "      <th>291</th>\n",
       "      <td>KZ - ZST X</td>\n",
       "      <td>10</td>\n",
       "    </tr>\n",
       "    <tr>\n",
       "      <th>294</th>\n",
       "      <td>KZ - ZST X</td>\n",
       "      <td>10</td>\n",
       "    </tr>\n",
       "    <tr>\n",
       "      <th>295</th>\n",
       "      <td>KZ - ZST X</td>\n",
       "      <td>10</td>\n",
       "    </tr>\n",
       "    <tr>\n",
       "      <th>297</th>\n",
       "      <td>KZ - ZST X</td>\n",
       "      <td>10</td>\n",
       "    </tr>\n",
       "    <tr>\n",
       "      <th>302</th>\n",
       "      <td>KZ - ZST X</td>\n",
       "      <td>10</td>\n",
       "    </tr>\n",
       "    <tr>\n",
       "      <th>303</th>\n",
       "      <td>Awesome</td>\n",
       "      <td>7</td>\n",
       "    </tr>\n",
       "    <tr>\n",
       "      <th>306</th>\n",
       "      <td>KZ - ZST X</td>\n",
       "      <td>10</td>\n",
       "    </tr>\n",
       "    <tr>\n",
       "      <th>307</th>\n",
       "      <td>KZ - ZST X</td>\n",
       "      <td>10</td>\n",
       "    </tr>\n",
       "    <tr>\n",
       "      <th>311</th>\n",
       "      <td>It's awesome</td>\n",
       "      <td>12</td>\n",
       "    </tr>\n",
       "    <tr>\n",
       "      <th>317</th>\n",
       "      <td>KZ - ZST X</td>\n",
       "      <td>10</td>\n",
       "    </tr>\n",
       "    <tr>\n",
       "      <th>322</th>\n",
       "      <td>KZ - ZST X</td>\n",
       "      <td>10</td>\n",
       "    </tr>\n",
       "    <tr>\n",
       "      <th>326</th>\n",
       "      <td>KZ - ZST X</td>\n",
       "      <td>10</td>\n",
       "    </tr>\n",
       "    <tr>\n",
       "      <th>327</th>\n",
       "      <td>KZ - ZST X</td>\n",
       "      <td>10</td>\n",
       "    </tr>\n",
       "    <tr>\n",
       "      <th>331</th>\n",
       "      <td>KZ - ZST X</td>\n",
       "      <td>10</td>\n",
       "    </tr>\n",
       "    <tr>\n",
       "      <th>332</th>\n",
       "      <td>KZ - ZST X</td>\n",
       "      <td>10</td>\n",
       "    </tr>\n",
       "    <tr>\n",
       "      <th>333</th>\n",
       "      <td>KZ - ZST X</td>\n",
       "      <td>10</td>\n",
       "    </tr>\n",
       "    <tr>\n",
       "      <th>340</th>\n",
       "      <td>KZ - ZST X</td>\n",
       "      <td>10</td>\n",
       "    </tr>\n",
       "    <tr>\n",
       "      <th>345</th>\n",
       "      <td>KZ - ZST X</td>\n",
       "      <td>10</td>\n",
       "    </tr>\n",
       "    <tr>\n",
       "      <th>348</th>\n",
       "      <td>KZ - ZST X</td>\n",
       "      <td>10</td>\n",
       "    </tr>\n",
       "    <tr>\n",
       "      <th>353</th>\n",
       "      <td>KZ - ZST X</td>\n",
       "      <td>10</td>\n",
       "    </tr>\n",
       "    <tr>\n",
       "      <th>354</th>\n",
       "      <td>KZ - ZST X</td>\n",
       "      <td>10</td>\n",
       "    </tr>\n",
       "    <tr>\n",
       "      <th>360</th>\n",
       "      <td>KZ - ZST X</td>\n",
       "      <td>10</td>\n",
       "    </tr>\n",
       "    <tr>\n",
       "      <th>361</th>\n",
       "      <td>KZ - ZST X</td>\n",
       "      <td>10</td>\n",
       "    </tr>\n",
       "    <tr>\n",
       "      <th>367</th>\n",
       "      <td>Good</td>\n",
       "      <td>4</td>\n",
       "    </tr>\n",
       "    <tr>\n",
       "      <th>374</th>\n",
       "      <td>Nice</td>\n",
       "      <td>4</td>\n",
       "    </tr>\n",
       "    <tr>\n",
       "      <th>380</th>\n",
       "      <td>KZ - ZST X</td>\n",
       "      <td>10</td>\n",
       "    </tr>\n",
       "    <tr>\n",
       "      <th>382</th>\n",
       "      <td>KZ - ZST X</td>\n",
       "      <td>10</td>\n",
       "    </tr>\n",
       "    <tr>\n",
       "      <th>385</th>\n",
       "      <td>KZ - ZST</td>\n",
       "      <td>8</td>\n",
       "    </tr>\n",
       "    <tr>\n",
       "      <th>386</th>\n",
       "      <td>Good One.</td>\n",
       "      <td>9</td>\n",
       "    </tr>\n",
       "    <tr>\n",
       "      <th>391</th>\n",
       "      <td>KZ - ZST</td>\n",
       "      <td>8</td>\n",
       "    </tr>\n",
       "    <tr>\n",
       "      <th>394</th>\n",
       "      <td>KZ - ZST</td>\n",
       "      <td>8</td>\n",
       "    </tr>\n",
       "    <tr>\n",
       "      <th>406</th>\n",
       "      <td>Good enough</td>\n",
       "      <td>11</td>\n",
       "    </tr>\n",
       "    <tr>\n",
       "      <th>410</th>\n",
       "      <td>Worst service</td>\n",
       "      <td>13</td>\n",
       "    </tr>\n",
       "    <tr>\n",
       "      <th>411</th>\n",
       "      <td>KZ - ZST</td>\n",
       "      <td>8</td>\n",
       "    </tr>\n",
       "    <tr>\n",
       "      <th>415</th>\n",
       "      <td>KZ - ZST</td>\n",
       "      <td>8</td>\n",
       "    </tr>\n",
       "    <tr>\n",
       "      <th>416</th>\n",
       "      <td>Amazing</td>\n",
       "      <td>7</td>\n",
       "    </tr>\n",
       "    <tr>\n",
       "      <th>423</th>\n",
       "      <td>KZ - ZST</td>\n",
       "      <td>8</td>\n",
       "    </tr>\n",
       "    <tr>\n",
       "      <th>424</th>\n",
       "      <td>KZ - ZST</td>\n",
       "      <td>8</td>\n",
       "    </tr>\n",
       "  </tbody>\n",
       "</table>\n",
       "</div>"
      ],
      "text/plain": [
       "            review  length\n",
       "18            Good       4\n",
       "19      Love them!      10\n",
       "92        KZ - ZST       8\n",
       "97            nice       4\n",
       "124       kz zst x       8\n",
       "136       Must try       8\n",
       "139           okok       4\n",
       "162      Excellent       9\n",
       "179           Good       4\n",
       "188           best       4\n",
       "192     good sound      10\n",
       "208  Its very good      13\n",
       "210   Good product      12\n",
       "222           Nice       4\n",
       "237     Very Noice      10\n",
       "253     best color      10\n",
       "289     KZ - ZST X      10\n",
       "291     KZ - ZST X      10\n",
       "294     KZ - ZST X      10\n",
       "295     KZ - ZST X      10\n",
       "297     KZ - ZST X      10\n",
       "302     KZ - ZST X      10\n",
       "303        Awesome       7\n",
       "306     KZ - ZST X      10\n",
       "307     KZ - ZST X      10\n",
       "311   It's awesome      12\n",
       "317     KZ - ZST X      10\n",
       "322     KZ - ZST X      10\n",
       "326     KZ - ZST X      10\n",
       "327     KZ - ZST X      10\n",
       "331     KZ - ZST X      10\n",
       "332     KZ - ZST X      10\n",
       "333     KZ - ZST X      10\n",
       "340     KZ - ZST X      10\n",
       "345     KZ - ZST X      10\n",
       "348     KZ - ZST X      10\n",
       "353     KZ - ZST X      10\n",
       "354     KZ - ZST X      10\n",
       "360     KZ - ZST X      10\n",
       "361     KZ - ZST X      10\n",
       "367           Good       4\n",
       "374           Nice       4\n",
       "380     KZ - ZST X      10\n",
       "382     KZ - ZST X      10\n",
       "385       KZ - ZST       8\n",
       "386      Good One.       9\n",
       "391       KZ - ZST       8\n",
       "394       KZ - ZST       8\n",
       "406    Good enough      11\n",
       "410  Worst service      13\n",
       "411       KZ - ZST       8\n",
       "415       KZ - ZST       8\n",
       "416        Amazing       7\n",
       "423       KZ - ZST       8\n",
       "424       KZ - ZST       8"
      ]
     },
     "execution_count": 194,
     "metadata": {},
     "output_type": "execute_result"
    }
   ],
   "source": [
    "df[df.length < 15]"
   ]
  },
  {
   "cell_type": "markdown",
   "id": "7269c91b-da19-4565-8fab-3916ae997cfe",
   "metadata": {},
   "source": [
    "We can see some reviews only contain 'KZ - ZST' and 'KZ - ZST X'. We can remove them."
   ]
  },
  {
   "cell_type": "code",
   "execution_count": 195,
   "id": "1c0b63f2-ea4f-475c-94c2-0805de87a173",
   "metadata": {
    "tags": []
   },
   "outputs": [],
   "source": [
    "# Dropping reviews only containing product name\n",
    "df.drop(index = df[(df.length < 15) & (df.review.str.contains(\"ZST\", case=False))].index, inplace = True)"
   ]
  },
  {
   "cell_type": "code",
   "execution_count": 196,
   "id": "b7add98e-38a0-4aaa-b847-8a3cf9bae467",
   "metadata": {
    "tags": []
   },
   "outputs": [],
   "source": [
    "# Resetting index\n",
    "df.reset_index(drop = True, inplace = True)"
   ]
  },
  {
   "cell_type": "code",
   "execution_count": 197,
   "id": "c7362dae-a952-4546-a7a2-bdfabfc3ae3a",
   "metadata": {
    "tags": []
   },
   "outputs": [
    {
     "data": {
      "text/html": [
       "<div>\n",
       "<style scoped>\n",
       "    .dataframe tbody tr th:only-of-type {\n",
       "        vertical-align: middle;\n",
       "    }\n",
       "\n",
       "    .dataframe tbody tr th {\n",
       "        vertical-align: top;\n",
       "    }\n",
       "\n",
       "    .dataframe thead th {\n",
       "        text-align: right;\n",
       "    }\n",
       "</style>\n",
       "<table border=\"1\" class=\"dataframe\">\n",
       "  <thead>\n",
       "    <tr style=\"text-align: right;\">\n",
       "      <th></th>\n",
       "      <th>review</th>\n",
       "      <th>length</th>\n",
       "    </tr>\n",
       "  </thead>\n",
       "  <tbody>\n",
       "    <tr>\n",
       "      <th>18</th>\n",
       "      <td>Good</td>\n",
       "      <td>4</td>\n",
       "    </tr>\n",
       "    <tr>\n",
       "      <th>19</th>\n",
       "      <td>Love them!</td>\n",
       "      <td>10</td>\n",
       "    </tr>\n",
       "    <tr>\n",
       "      <th>96</th>\n",
       "      <td>nice</td>\n",
       "      <td>4</td>\n",
       "    </tr>\n",
       "    <tr>\n",
       "      <th>134</th>\n",
       "      <td>Must try</td>\n",
       "      <td>8</td>\n",
       "    </tr>\n",
       "    <tr>\n",
       "      <th>137</th>\n",
       "      <td>okok</td>\n",
       "      <td>4</td>\n",
       "    </tr>\n",
       "    <tr>\n",
       "      <th>160</th>\n",
       "      <td>Excellent</td>\n",
       "      <td>9</td>\n",
       "    </tr>\n",
       "    <tr>\n",
       "      <th>177</th>\n",
       "      <td>Good</td>\n",
       "      <td>4</td>\n",
       "    </tr>\n",
       "    <tr>\n",
       "      <th>186</th>\n",
       "      <td>best</td>\n",
       "      <td>4</td>\n",
       "    </tr>\n",
       "    <tr>\n",
       "      <th>190</th>\n",
       "      <td>good sound</td>\n",
       "      <td>10</td>\n",
       "    </tr>\n",
       "    <tr>\n",
       "      <th>194</th>\n",
       "      <td>I'm very  excited</td>\n",
       "      <td>17</td>\n",
       "    </tr>\n",
       "    <tr>\n",
       "      <th>206</th>\n",
       "      <td>Its very good</td>\n",
       "      <td>13</td>\n",
       "    </tr>\n",
       "    <tr>\n",
       "      <th>208</th>\n",
       "      <td>Good product</td>\n",
       "      <td>12</td>\n",
       "    </tr>\n",
       "    <tr>\n",
       "      <th>220</th>\n",
       "      <td>Nice</td>\n",
       "      <td>4</td>\n",
       "    </tr>\n",
       "    <tr>\n",
       "      <th>227</th>\n",
       "      <td>Beautiful, one word</td>\n",
       "      <td>19</td>\n",
       "    </tr>\n",
       "    <tr>\n",
       "      <th>233</th>\n",
       "      <td>Fantastic product</td>\n",
       "      <td>17</td>\n",
       "    </tr>\n",
       "    <tr>\n",
       "      <th>235</th>\n",
       "      <td>Very Noice</td>\n",
       "      <td>10</td>\n",
       "    </tr>\n",
       "    <tr>\n",
       "      <th>251</th>\n",
       "      <td>best color</td>\n",
       "      <td>10</td>\n",
       "    </tr>\n",
       "    <tr>\n",
       "      <th>252</th>\n",
       "      <td>beautiiful sound</td>\n",
       "      <td>16</td>\n",
       "    </tr>\n",
       "    <tr>\n",
       "      <th>268</th>\n",
       "      <td>value for money</td>\n",
       "      <td>15</td>\n",
       "    </tr>\n",
       "    <tr>\n",
       "      <th>274</th>\n",
       "      <td>Best bang for buck</td>\n",
       "      <td>18</td>\n",
       "    </tr>\n",
       "    <tr>\n",
       "      <th>286</th>\n",
       "      <td>Nothing's above it.</td>\n",
       "      <td>19</td>\n",
       "    </tr>\n",
       "    <tr>\n",
       "      <th>288</th>\n",
       "      <td>These are lit FIRE</td>\n",
       "      <td>18</td>\n",
       "    </tr>\n",
       "    <tr>\n",
       "      <th>295</th>\n",
       "      <td>Awesome</td>\n",
       "      <td>7</td>\n",
       "    </tr>\n",
       "    <tr>\n",
       "      <th>301</th>\n",
       "      <td>It's awesome</td>\n",
       "      <td>12</td>\n",
       "    </tr>\n",
       "    <tr>\n",
       "      <th>343</th>\n",
       "      <td>Good</td>\n",
       "      <td>4</td>\n",
       "    </tr>\n",
       "    <tr>\n",
       "      <th>350</th>\n",
       "      <td>Nice</td>\n",
       "      <td>4</td>\n",
       "    </tr>\n",
       "    <tr>\n",
       "      <th>359</th>\n",
       "      <td>Good One.</td>\n",
       "      <td>9</td>\n",
       "    </tr>\n",
       "    <tr>\n",
       "      <th>360</th>\n",
       "      <td>Best budget IEM</td>\n",
       "      <td>15</td>\n",
       "    </tr>\n",
       "    <tr>\n",
       "      <th>377</th>\n",
       "      <td>Good enough</td>\n",
       "      <td>11</td>\n",
       "    </tr>\n",
       "    <tr>\n",
       "      <th>381</th>\n",
       "      <td>Worst service</td>\n",
       "      <td>13</td>\n",
       "    </tr>\n",
       "    <tr>\n",
       "      <th>385</th>\n",
       "      <td>Amazing</td>\n",
       "      <td>7</td>\n",
       "    </tr>\n",
       "  </tbody>\n",
       "</table>\n",
       "</div>"
      ],
      "text/plain": [
       "                  review  length\n",
       "18                  Good       4\n",
       "19            Love them!      10\n",
       "96                  nice       4\n",
       "134             Must try       8\n",
       "137                 okok       4\n",
       "160            Excellent       9\n",
       "177                 Good       4\n",
       "186                 best       4\n",
       "190           good sound      10\n",
       "194    I'm very  excited      17\n",
       "206        Its very good      13\n",
       "208         Good product      12\n",
       "220                 Nice       4\n",
       "227  Beautiful, one word      19\n",
       "233    Fantastic product      17\n",
       "235           Very Noice      10\n",
       "251           best color      10\n",
       "252     beautiiful sound      16\n",
       "268      value for money      15\n",
       "274   Best bang for buck      18\n",
       "286  Nothing's above it.      19\n",
       "288   These are lit FIRE      18\n",
       "295              Awesome       7\n",
       "301         It's awesome      12\n",
       "343                 Good       4\n",
       "350                 Nice       4\n",
       "359            Good One.       9\n",
       "360      Best budget IEM      15\n",
       "377          Good enough      11\n",
       "381        Worst service      13\n",
       "385              Amazing       7"
      ]
     },
     "execution_count": 197,
     "metadata": {},
     "output_type": "execute_result"
    }
   ],
   "source": [
    "df[df.length < 20]"
   ]
  },
  {
   "cell_type": "markdown",
   "id": "18cc2b3f-b4d2-4c22-a872-e7cceb9f3ca0",
   "metadata": {
    "tags": []
   },
   "source": [
    "## Sentiment Analysis"
   ]
  },
  {
   "cell_type": "markdown",
   "id": "a3719308-1cfc-447e-baaf-8f7037d652db",
   "metadata": {},
   "source": [
    "### VADER"
   ]
  },
  {
   "cell_type": "markdown",
   "id": "19c36251-58f6-43b8-8e9a-92349d64db4b",
   "metadata": {},
   "source": [
    "VADER (Valence Aware Dictionary and sEntiment Reasoner) is a rule-based sentiment analysis tool that is specifically designed to handle social media texts. It is known for its accuracy in detecting sentiment in short texts like tweets."
   ]
  },
  {
   "cell_type": "code",
   "execution_count": 118,
   "id": "23026d70-a3b8-44dc-8dd7-74545fc306a1",
   "metadata": {
    "tags": []
   },
   "outputs": [],
   "source": [
    "# importing necessary libraries\n",
    "import nltk\n",
    "from nltk.sentiment.vader import SentimentIntensityAnalyzer\n",
    "\n",
    "vader = SentimentIntensityAnalyzer()"
   ]
  },
  {
   "cell_type": "code",
   "execution_count": 119,
   "id": "22a68505-aada-4f18-9828-25f159de5146",
   "metadata": {
    "tags": []
   },
   "outputs": [],
   "source": [
    "# Function to return polarity scores\n",
    "def sentiment_analyzer(text):\n",
    "    return vader.polarity_scores(text)"
   ]
  },
  {
   "cell_type": "code",
   "execution_count": 130,
   "id": "daa8d874-6183-45ce-83d9-f13429dbf1ce",
   "metadata": {
    "tags": []
   },
   "outputs": [],
   "source": [
    "# Function to classify review based on polarity score\n",
    "def sentiment_clf(score):\n",
    "    if score == 0:\n",
    "        return 'Neutral'\n",
    "    elif score > 0:\n",
    "        return 'Positive'\n",
    "    else:\n",
    "        return 'Negative'"
   ]
  },
  {
   "cell_type": "code",
   "execution_count": 198,
   "id": "a8caded4-52b5-42d5-8572-7ceb707a9181",
   "metadata": {
    "tags": []
   },
   "outputs": [],
   "source": [
    "# Creating a dataframe of polarity scores for each review\n",
    "polarity_df = pd.DataFrame(df.review.apply(sentiment_analyzer).values.tolist(), index = df.index)\n",
    "# Adding polarity scores to original df\n",
    "df = pd.concat([df, polarity_df], axis = 1)"
   ]
  },
  {
   "cell_type": "code",
   "execution_count": 199,
   "id": "624ebf40-4240-41f0-9b4e-800a497c50bf",
   "metadata": {
    "tags": []
   },
   "outputs": [],
   "source": [
    "# Classifying sentiment for the tweet based on polarity scores\n",
    "df['sentiment'] = df.compound.apply(sentiment_clf)"
   ]
  },
  {
   "cell_type": "code",
   "execution_count": 200,
   "id": "7bc25e86-2667-4ea3-a901-5ea610756ad8",
   "metadata": {
    "tags": []
   },
   "outputs": [
    {
     "data": {
      "image/png": "[encoded data removed]",
      "text/plain": [
       "<Figure size 640x480 with 1 Axes>"
      ]
     },
     "metadata": {},
     "output_type": "display_data"
    }
   ],
   "source": [
    "# Barplot of reviews by sentiment\n",
    "x = df.sentiment.value_counts().index.tolist()\n",
    "y = df.sentiment.value_counts().values.tolist()\n",
    "plt.bar(x, y)\n",
    "for i, v in enumerate(y):\n",
    "    plt.text(i, v + 2, str(v), color='black', fontweight='bold', ha='center')"
   ]
  },
  {
   "cell_type": "code",
   "execution_count": 201,
   "id": "b1a0dd7c-12ed-41eb-8e4e-ddff49cdefe8",
   "metadata": {
    "tags": []
   },
   "outputs": [
    {
     "data": {
      "text/plain": [
       "Positive    85.894207\n",
       "Negative     9.823678\n",
       "Neutral      4.282116\n",
       "Name: sentiment, dtype: float64"
      ]
     },
     "execution_count": 201,
     "metadata": {},
     "output_type": "execute_result"
    }
   ],
   "source": [
    "# Getting value counts in the form of percentage\n",
    "df.sentiment.value_counts(normalize=True) * 100"
   ]
  },
  {
   "cell_type": "markdown",
   "id": "e7952791-3d84-4cb9-be58-040553ec250b",
   "metadata": {},
   "source": [
    "Nearly 85% reviews are positive. 9% are neutral. Only 4% are negative"
   ]
  },
  {
   "cell_type": "code",
   "execution_count": 202,
   "id": "98a9e127-eb17-44f5-b4d0-2260263f8d01",
   "metadata": {
    "tags": []
   },
   "outputs": [
    {
     "name": "stdout",
     "output_type": "stream",
     "text": [
      "0 ) I'm not received any item from Blue dart courier. How can u generate this mail \n",
      "\n",
      "\n",
      "1 ) I wan to exchange my product \n",
      "\n",
      "\n",
      "2 ) IDk.. WRITING THIS REVIEW TO CHECK IF I GET MY 100 POINTS ON WRITING REVIEW , BUT LOOKING FORWARD TO BUY KZ DQ6 VERY SOON... \n",
      "\n",
      "\n",
      "3 ) If you are an audiophile with less than 2k budget close your eyes and go for this. \n",
      "\n",
      "\n",
      "4 ) Must try \n",
      "\n",
      "\n",
      "5 ) okok \n",
      "\n",
      "\n",
      "6 ) Cables are not silver plated as the pictures are sowing.i got copper cables. \n",
      "\n",
      "\n",
      "7 ) Very Noice \n",
      "\n",
      "\n",
      "8 ) beautiiful sound \n",
      "\n",
      "\n",
      "9 ) design is superbly done....sound quality is of another level. \n",
      "\n",
      "\n",
      "10 ) Nothing's above it. \n",
      "\n",
      "\n",
      "11 ) I didn't really found much difference between kz and boat rockerz 400. they are wireless and 500 lesser in price \n",
      "\n",
      "\n",
      "12 ) I have returned my order due to deliver issues and soon i will reorder them on my new address \n",
      "\n",
      "\n",
      "13 ) Iam not received the product yet \n",
      "\n",
      "\n",
      "14 ) Cheapest and a must have essential for beginners audiophile. \n",
      "\n",
      "\n",
      "15 ) By looking the price u it looks cheap and didnt even think the sound will go great....but its not m,i give a 5star in the sound, build in quality - i dont have to judge base on the price its balance...\n",
      "overalll   dont judge by the price this inear is beast... \n",
      "\n",
      "\n",
      "16 ) Just get a memory foam eartips. You're sorted. \n",
      "\n",
      "\n"
     ]
    }
   ],
   "source": [
    "no = 0\n",
    "for i in df[df.sentiment == 'Neutral'].review:\n",
    "    print(no, \")\", i, \"\\n\\n\")\n",
    "    no += 1"
   ]
  },
  {
   "cell_type": "markdown",
   "id": "b8a48a2a-2c79-44c4-8f66-c1fbba6d28aa",
   "metadata": {},
   "source": [
    "### TextBlob"
   ]
  },
  {
   "cell_type": "markdown",
   "id": "000bf448-69f7-4962-8bbd-fd1eb8d95050",
   "metadata": {},
   "source": [
    "Another python library for sentiment analysis"
   ]
  },
  {
   "cell_type": "code",
   "execution_count": 142,
   "id": "c37c66eb-11d6-4f45-9bac-d94c5f976a95",
   "metadata": {},
   "outputs": [],
   "source": [
    "from textblob import TextBlob"
   ]
  },
  {
   "cell_type": "code",
   "execution_count": 203,
   "id": "4d7e4193-7e22-4f72-8fc0-670408991bb4",
   "metadata": {},
   "outputs": [],
   "source": [
    "# Adding polarity and subjectivity columns to df\n",
    "df['polarity'] = df.review.apply(lambda x : TextBlob(x).polarity)\n",
    "df['subjectivity'] = df.review.apply(lambda x : TextBlob(x).subjectivity)"
   ]
  },
  {
   "cell_type": "code",
   "execution_count": 204,
   "id": "cabc420f-0f59-41ef-b781-9bee5b159dcb",
   "metadata": {
    "tags": []
   },
   "outputs": [
    {
     "data": {
      "text/plain": [
       "<Axes: xlabel='subjectivity', ylabel='polarity'>"
      ]
     },
     "execution_count": 204,
     "metadata": {},
     "output_type": "execute_result"
    },
    {
     "data": {
      "image/png": "[encoded data removed]",
      "text/plain": [
       "<Figure size 640x480 with 1 Axes>"
      ]
     },
     "metadata": {},
     "output_type": "display_data"
    }
   ],
   "source": [
    "# Scatterplot of reviews with subjectivity on x axis and polarity on y axis, with color representing sentiment classification by VADER\n",
    "sns.scatterplot(df, x = 'subjectivity', y = 'polarity', hue = 'sentiment', s = 25)"
   ]
  },
  {
   "cell_type": "code",
   "execution_count": 219,
   "id": "94a63e78-8df0-4eb6-b9f5-b458a6223882",
   "metadata": {},
   "outputs": [
    {
     "name": "stdout",
     "output_type": "stream",
     "text": [
      "1 )   The looks is good. Delivery was awesome. But the sound hurts my ears. Not happy with the earphone. \n",
      "\n",
      "\n",
      "2 )   You wont find a better sounding earphones at this price point period. \n",
      "\n",
      "\n",
      "3 )   These iems sound excellent but there eartips aren't at all comfortable \n",
      "\n",
      "\n",
      "4 )   Overall product is good as hell but i have some problem to fit the cable to earphone \n",
      "\n",
      "\n",
      "5 )   can't explain how amazing these things are..sound quality is \"out of this world\" \n",
      "\n",
      "\n"
     ]
    }
   ],
   "source": [
    "# Reviews with positive sentiment according to TextBlob but not according to VADER\n",
    "no = 1\n",
    "for i in df[(df.sentiment == 'Negative') & (df.polarity > 0.25)].review:\n",
    "    print(no,')  ',i, '\\n\\n')\n",
    "    no += 1   "
   ]
  },
  {
   "cell_type": "code",
   "execution_count": 223,
   "id": "837596ad-01b2-47b9-8058-766fdbc4f234",
   "metadata": {
    "tags": []
   },
   "outputs": [
    {
     "name": "stdout",
     "output_type": "stream",
     "text": [
      "1 )   I bought this earphones for playing fps game. And i am not able to play. The directions hearing are awkward. Please make a return. I got the product 2 days back. I am a genuine customer of headphone zone. I have Bought an earphone before also. So please make a return \n",
      "\n",
      "\n",
      "2 )   Am not an so called audiophile. Previously I've used budget Sony, Sennheiser, Piston fit earphones. While surfing the headphonezone website got to know about the IEMs. Ordered this as per my budget. It's a completely different ball game. The small details in the instrument seperation.......I haven't noticed with my previous earphones. The base is adequate. Overall a great buy. Thanks Headphonezone. \n",
      "\n",
      "\n",
      "3 )   the base is really well defined but lacks the fullerness and warmer tone in the high notes and mid vocals.\n",
      "    I use AKG flat sound signature headphones and maybe I am used to those but I can always feel a major difference between the twos for the mids and highs.\n",
      "    But for the price point , cant say much , Definetly worth if you are on a tight budget and like a well defined bassline instead of thumpy and overpowering base of the majority of the devices in market. \n",
      "\n",
      "\n",
      "4 )   I came to this after my skull candy grind wireless headphones from 2016 finally died. (well they are still alive but the ear cushions tore last year and not from a place i can stich back. the replacement ones are too expensive) \n",
      "A few cons for these IEMs you should know:\n",
      "First of all, these are made for sound quality over comfort, so it just will not work (as in it would hurt) if you want to use it for calls or YouTube videos over long hours.\n",
      "\n",
      "...  \n",
      "\n",
      "\n",
      "5 )   You guys are doing really a great job, in past i was literally crying to have IEMs like these which i got from you because of some stupid silly brands like boat, KZ ZST-X these IEMs are really great in 1600rs bass, vocal and all other things is really out standing GRINNING FACE WITH STAR EYES.\n",
      "    (I wish to work with you guys) \n",
      "\n",
      "\n",
      "6 )   This IEM is for those who want to begin experiencing the immersive audio quality combined with bass. \n",
      "\n",
      "\n"
     ]
    }
   ],
   "source": [
    "# Reviews with positive sentiment according to VADER but not according to TextBlob\n",
    "no = 1\n",
    "for i in df[(df.sentiment == 'Positive') & (df.polarity < 0)].review:\n",
    "    print(no,')  ',i, '\\n\\n')\n",
    "    no += 1  "
   ]
  },
  {
   "cell_type": "markdown",
   "id": "c911150b-a99c-4771-bbe9-1a5dfc13f32d",
   "metadata": {},
   "source": [
    "We can see that both methods misclassify some, while correctly classifying others, but overall majority of the reviews are correctly classified"
   ]
  },
  {
   "cell_type": "code",
   "execution_count": 240,
   "id": "0787eb42-d94f-4789-bef2-84d3669f7558",
   "metadata": {
    "tags": []
   },
   "outputs": [],
   "source": [
    "blob = TextBlob('''You guys are doing really a great job, in past i was literally crying to have IEMs like these which i got from you because of some stupid silly brands like boat, KZ ZST-X these IEMs are really great in 1600rs bass, vocal and all other things is really out standing GRINNING FACE WITH STAR EYES.\n",
    "    (I wish to work with you guys) ''')"
   ]
  },
  {
   "cell_type": "code",
   "execution_count": 246,
   "id": "b56cc323-97f5-4125-ab45-15afbe901481",
   "metadata": {
    "tags": []
   },
   "outputs": [
    {
     "data": {
      "text/plain": [
       "{'neg': 0.083, 'neu': 0.649, 'pos': 0.268, 'compound': 0.9271}"
      ]
     },
     "execution_count": 246,
     "metadata": {},
     "output_type": "execute_result"
    }
   ],
   "source": [
    "# Example text\n",
    "text = '''You guys are doing really a great job, in past i was literally crying to have IEMs like these which i got from you because of some stupid silly brands like boat, KZ ZST-X these IEMs are really great in 1600rs bass, vocal and all other things is really out standing GRINNING FACE WITH STAR EYES.\n",
    "    (I wish to work with you guys) '''\n",
    "\n",
    "# Create a SentimentIntensityAnalyzer object\n",
    "analyzer = SentimentIntensityAnalyzer()\n",
    "\n",
    "# Get the emotion probabilities\n",
    "scores = analyzer.polarity_scores(text)\n",
    "\n",
    "scores\n",
    "# Classify the emotion\n",
    "# emotion = max(scores, key=scores.get)\n"
   ]
  },
  {
   "cell_type": "code",
   "execution_count": null,
   "id": "16de0cc0-22b1-41a1-af70-97377f5813e6",
   "metadata": {},
   "outputs": [],
   "source": []
  }
 ],
 "metadata": {
  "kernelspec": {
   "display_name": "Python 3 (ipykernel)",
   "language": "python",
   "name": "python3"
  },
  "language_info": {
   "codemirror_mode": {
    "name": "ipython",
    "version": 3
   },
   "file_extension": ".py",
   "mimetype": "text/x-python",
   "name": "python",
   "nbconvert_exporter": "python",
   "pygments_lexer": "ipython3",
   "version": "3.8.16"
  }
 },
 "nbformat": 4,
 "nbformat_minor": 5
}
