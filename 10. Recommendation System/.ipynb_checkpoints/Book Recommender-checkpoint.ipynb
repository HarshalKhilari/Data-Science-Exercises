{
 "cells": [
  {
   "cell_type": "markdown",
   "id": "7369ccbf-0bfd-4141-8e40-077abfa6d5cd",
   "metadata": {},
   "source": [
    "# Build a recommender system by using cosine simillarties score\n",
    "---"
   ]
  },
  {
   "cell_type": "markdown",
   "id": "74d594a5-553a-4dbd-bae7-cc38c31ee9c8",
   "metadata": {},
   "source": [
    "There are two types of filtering in a Recommender system:\n",
    "1. CONTENT-BASED FILTERING : Content-based recommender systems recommend items similar to the ones the user has liked before. The system analyzes the characteristics of the items that the user has already rated positively, such as genre, author, or director, and recommends items with similar attributes. This type of recommender system works well for recommending products that have well-defined and easily measurable attributes.\n",
    "2. COLLABORATIVE FILTERING : Collaborative filtering recommender systems recommend items based on the user's behavior and preferences, as well as the behavior and preferences of other users with similar tastes. This system works by analyzing the user's past behavior, such as the items they have rated or purchased, and recommending items that have been highly rated by other users with similar preferences. Collaborative filtering can be further divided into two categories: \n",
    "    - USER-BASED : User-based filtering recommends items based on the preferences of users with similar interests. \n",
    "    - ITEM-BASED : item-based filtering recommends items based on similarities between items."
   ]
  },
  {
   "cell_type": "markdown",
   "id": "e1982ac4-a83e-4e69-8e2d-0d53fc0478d4",
   "metadata": {},
   "source": [
    "## Exploratory Data Analysis"
   ]
  },
  {
   "cell_type": "code",
   "execution_count": 1,
   "id": "03c3e495-6d3e-4ad0-b463-783e4d14e2ef",
   "metadata": {
    "tags": []
   },
   "outputs": [],
   "source": [
    "# Importing necessary libraries\n",
    "import numpy as np\n",
    "import pandas as pd\n",
    "import matplotlib.pyplot as plt\n",
    "import seaborn as sns"
   ]
  },
  {
   "cell_type": "code",
   "execution_count": 2,
   "id": "bb725f1c-2f0d-4981-87cd-230478b2831f",
   "metadata": {
    "tags": []
   },
   "outputs": [],
   "source": [
    "# Setting style for plots\n",
    "plt.style.use('seaborn-v0_8')"
   ]
  },
  {
   "cell_type": "code",
   "execution_count": 3,
   "id": "030d0a23-ba3b-4486-bad8-12c11a99fc28",
   "metadata": {
    "tags": []
   },
   "outputs": [],
   "source": [
    "# Loading the dataset while ignoring encoding errors and using 'Unnamed: 0' as the index\n",
    "books = pd.read_csv('book.csv', encoding_errors='ignore', index_col = 'Unnamed: 0')"
   ]
  },
  {
   "cell_type": "code",
   "execution_count": 4,
   "id": "95a78906-69ea-4a5b-9039-c33e99f603d7",
   "metadata": {
    "tags": []
   },
   "outputs": [
    {
     "data": {
      "text/plain": [
       "(10000, 3)"
      ]
     },
     "execution_count": 4,
     "metadata": {},
     "output_type": "execute_result"
    }
   ],
   "source": [
    "# Getting the shape of the dataset\n",
    "books.shape"
   ]
  },
  {
   "cell_type": "markdown",
   "id": "f31af8b6-dd63-4a4c-9802-e91db69f3d70",
   "metadata": {},
   "source": [
    "There are 10 thousand entries"
   ]
  },
  {
   "cell_type": "code",
   "execution_count": 5,
   "id": "92a5afbe-c6d9-4060-aa20-81f6b4ea62be",
   "metadata": {
    "tags": []
   },
   "outputs": [
    {
     "name": "stdout",
     "output_type": "stream",
     "text": [
      "<class 'pandas.core.frame.DataFrame'>\n",
      "Int64Index: 10000 entries, 1 to 10000\n",
      "Data columns (total 3 columns):\n",
      " #   Column       Non-Null Count  Dtype \n",
      "---  ------       --------------  ----- \n",
      " 0   User.ID      10000 non-null  int64 \n",
      " 1   Book.Title   10000 non-null  object\n",
      " 2   Book.Rating  10000 non-null  int64 \n",
      "dtypes: int64(2), object(1)\n",
      "memory usage: 312.5+ KB\n"
     ]
    }
   ],
   "source": [
    "# Getting details of the columns\n",
    "books.info()"
   ]
  },
  {
   "cell_type": "markdown",
   "id": "bfa977fc-db70-45bd-b360-c80a3a550dc9",
   "metadata": {},
   "source": [
    "The 3 features are :\n",
    "1. User ID\n",
    "2. Title of the book\n",
    "3. Rating for the book  \n",
    "\n",
    "There are no na values in any of them"
   ]
  },
  {
   "cell_type": "code",
   "execution_count": 6,
   "id": "26f34a3e-5b37-4226-9a2e-8dc61be663c3",
   "metadata": {
    "tags": []
   },
   "outputs": [],
   "source": [
    "# Renaming the columns\n",
    "books.columns = ['user_id', 'book_title', 'book_rating']"
   ]
  },
  {
   "cell_type": "code",
   "execution_count": 7,
   "id": "44925b2a-9942-471f-b5c0-b535256262e9",
   "metadata": {
    "tags": []
   },
   "outputs": [
    {
     "data": {
      "text/plain": [
       "user_id        2182\n",
       "book_title     9659\n",
       "book_rating      10\n",
       "dtype: int64"
      ]
     },
     "execution_count": 7,
     "metadata": {},
     "output_type": "execute_result"
    }
   ],
   "source": [
    "# Getting unique values for each column\n",
    "books.nunique()"
   ]
  },
  {
   "cell_type": "markdown",
   "id": "439dd943-4439-4059-8d2b-0bba058b8474",
   "metadata": {},
   "source": [
    "There are 2182 total users, 9659 books, and 10 rating levels"
   ]
  },
  {
   "cell_type": "code",
   "execution_count": 8,
   "id": "8c0b9a57-05aa-4a42-b623-d86389952373",
   "metadata": {
    "tags": []
   },
   "outputs": [
    {
     "data": {
      "text/html": [
       "<div>\n",
       "<style scoped>\n",
       "    .dataframe tbody tr th:only-of-type {\n",
       "        vertical-align: middle;\n",
       "    }\n",
       "\n",
       "    .dataframe tbody tr th {\n",
       "        vertical-align: top;\n",
       "    }\n",
       "\n",
       "    .dataframe thead th {\n",
       "        text-align: right;\n",
       "    }\n",
       "</style>\n",
       "<table border=\"1\" class=\"dataframe\">\n",
       "  <thead>\n",
       "    <tr style=\"text-align: right;\">\n",
       "      <th></th>\n",
       "      <th>user_id</th>\n",
       "      <th>book_title</th>\n",
       "      <th>book_rating</th>\n",
       "    </tr>\n",
       "  </thead>\n",
       "  <tbody>\n",
       "    <tr>\n",
       "      <th>5052</th>\n",
       "      <td>2152</td>\n",
       "      <td>Le nouveau soleil de Teur</td>\n",
       "      <td>7</td>\n",
       "    </tr>\n",
       "    <tr>\n",
       "      <th>7440</th>\n",
       "      <td>3757</td>\n",
       "      <td>The Magician's Tale</td>\n",
       "      <td>7</td>\n",
       "    </tr>\n",
       "  </tbody>\n",
       "</table>\n",
       "</div>"
      ],
      "text/plain": [
       "      user_id                 book_title  book_rating\n",
       "5052     2152  Le nouveau soleil de Teur            7\n",
       "7440     3757        The Magician's Tale            7"
      ]
     },
     "execution_count": 8,
     "metadata": {},
     "output_type": "execute_result"
    }
   ],
   "source": [
    "# Checking for duplicated rows\n",
    "books[books.duplicated()]"
   ]
  },
  {
   "cell_type": "code",
   "execution_count": 9,
   "id": "bb8ce0a6-b8ce-4ff7-8337-b3f45e560495",
   "metadata": {
    "tags": []
   },
   "outputs": [],
   "source": [
    "# Dropping duplicated rows\n",
    "books.drop(index = books[books.duplicated()].index, inplace = True)"
   ]
  },
  {
   "cell_type": "code",
   "execution_count": 10,
   "id": "917e8aa5-3cb0-4fdb-a5b5-cf24af775af6",
   "metadata": {
    "tags": []
   },
   "outputs": [],
   "source": [
    "# Resetting index after we've removed some rows\n",
    "books.reset_index(drop = True, inplace = True)"
   ]
  },
  {
   "cell_type": "code",
   "execution_count": 11,
   "id": "9637d432-1b4b-413e-a834-376ec4d59af3",
   "metadata": {
    "tags": []
   },
   "outputs": [
    {
     "data": {
      "text/plain": [
       "2182"
      ]
     },
     "execution_count": 11,
     "metadata": {},
     "output_type": "execute_result"
    }
   ],
   "source": [
    "books.user_id.nunique()"
   ]
  },
  {
   "cell_type": "markdown",
   "id": "f055b6b5-c775-441a-8b76-86b7d0dd4a61",
   "metadata": {},
   "source": [
    "There are 2182 users"
   ]
  },
  {
   "cell_type": "code",
   "execution_count": 12,
   "id": "c6dfdde0-3a6e-4b42-9d5c-e92d89e4153c",
   "metadata": {
    "tags": []
   },
   "outputs": [
    {
     "data": {
      "text/html": [
       "<div>\n",
       "<style scoped>\n",
       "    .dataframe tbody tr th:only-of-type {\n",
       "        vertical-align: middle;\n",
       "    }\n",
       "\n",
       "    .dataframe tbody tr th {\n",
       "        vertical-align: top;\n",
       "    }\n",
       "\n",
       "    .dataframe thead th {\n",
       "        text-align: right;\n",
       "    }\n",
       "</style>\n",
       "<table border=\"1\" class=\"dataframe\">\n",
       "  <thead>\n",
       "    <tr style=\"text-align: right;\">\n",
       "      <th></th>\n",
       "      <th>user_id</th>\n",
       "      <th>n_books_rated</th>\n",
       "    </tr>\n",
       "  </thead>\n",
       "  <tbody>\n",
       "    <tr>\n",
       "      <th>0</th>\n",
       "      <td>3757</td>\n",
       "      <td>522</td>\n",
       "    </tr>\n",
       "    <tr>\n",
       "      <th>1</th>\n",
       "      <td>162052</td>\n",
       "      <td>214</td>\n",
       "    </tr>\n",
       "    <tr>\n",
       "      <th>2</th>\n",
       "      <td>2276</td>\n",
       "      <td>212</td>\n",
       "    </tr>\n",
       "    <tr>\n",
       "      <th>3</th>\n",
       "      <td>4017</td>\n",
       "      <td>156</td>\n",
       "    </tr>\n",
       "    <tr>\n",
       "      <th>4</th>\n",
       "      <td>277427</td>\n",
       "      <td>150</td>\n",
       "    </tr>\n",
       "    <tr>\n",
       "      <th>...</th>\n",
       "      <td>...</td>\n",
       "      <td>...</td>\n",
       "    </tr>\n",
       "    <tr>\n",
       "      <th>2177</th>\n",
       "      <td>969</td>\n",
       "      <td>1</td>\n",
       "    </tr>\n",
       "    <tr>\n",
       "      <th>2178</th>\n",
       "      <td>967</td>\n",
       "      <td>1</td>\n",
       "    </tr>\n",
       "    <tr>\n",
       "      <th>2179</th>\n",
       "      <td>965</td>\n",
       "      <td>1</td>\n",
       "    </tr>\n",
       "    <tr>\n",
       "      <th>2180</th>\n",
       "      <td>951</td>\n",
       "      <td>1</td>\n",
       "    </tr>\n",
       "    <tr>\n",
       "      <th>2181</th>\n",
       "      <td>162129</td>\n",
       "      <td>1</td>\n",
       "    </tr>\n",
       "  </tbody>\n",
       "</table>\n",
       "<p>2182 rows × 2 columns</p>\n",
       "</div>"
      ],
      "text/plain": [
       "      user_id  n_books_rated\n",
       "0        3757            522\n",
       "1      162052            214\n",
       "2        2276            212\n",
       "3        4017            156\n",
       "4      277427            150\n",
       "...       ...            ...\n",
       "2177      969              1\n",
       "2178      967              1\n",
       "2179      965              1\n",
       "2180      951              1\n",
       "2181   162129              1\n",
       "\n",
       "[2182 rows x 2 columns]"
      ]
     },
     "execution_count": 12,
     "metadata": {},
     "output_type": "execute_result"
    }
   ],
   "source": [
    "# Getting the number of books a user has rated\n",
    "user_value_counts = books.user_id.value_counts().to_frame(name = 'n_books_rated').reset_index(names = 'user_id')\n",
    "user_value_counts"
   ]
  },
  {
   "cell_type": "code",
   "execution_count": 13,
   "id": "e8c14957-ce3d-4440-b570-b5aab949b518",
   "metadata": {
    "tags": []
   },
   "outputs": [
    {
     "data": {
      "text/html": [
       "<div>\n",
       "<style scoped>\n",
       "    .dataframe tbody tr th:only-of-type {\n",
       "        vertical-align: middle;\n",
       "    }\n",
       "\n",
       "    .dataframe tbody tr th {\n",
       "        vertical-align: top;\n",
       "    }\n",
       "\n",
       "    .dataframe thead th {\n",
       "        text-align: right;\n",
       "    }\n",
       "</style>\n",
       "<table border=\"1\" class=\"dataframe\">\n",
       "  <thead>\n",
       "    <tr style=\"text-align: right;\">\n",
       "      <th></th>\n",
       "      <th>user_id</th>\n",
       "      <th>n_books_rated</th>\n",
       "    </tr>\n",
       "  </thead>\n",
       "  <tbody>\n",
       "    <tr>\n",
       "      <th>0</th>\n",
       "      <td>3757</td>\n",
       "      <td>522</td>\n",
       "    </tr>\n",
       "    <tr>\n",
       "      <th>1</th>\n",
       "      <td>162052</td>\n",
       "      <td>214</td>\n",
       "    </tr>\n",
       "    <tr>\n",
       "      <th>2</th>\n",
       "      <td>2276</td>\n",
       "      <td>212</td>\n",
       "    </tr>\n",
       "    <tr>\n",
       "      <th>3</th>\n",
       "      <td>4017</td>\n",
       "      <td>156</td>\n",
       "    </tr>\n",
       "    <tr>\n",
       "      <th>4</th>\n",
       "      <td>277427</td>\n",
       "      <td>150</td>\n",
       "    </tr>\n",
       "    <tr>\n",
       "      <th>...</th>\n",
       "      <td>...</td>\n",
       "      <td>...</td>\n",
       "    </tr>\n",
       "    <tr>\n",
       "      <th>854</th>\n",
       "      <td>4035</td>\n",
       "      <td>2</td>\n",
       "    </tr>\n",
       "    <tr>\n",
       "      <th>855</th>\n",
       "      <td>433</td>\n",
       "      <td>2</td>\n",
       "    </tr>\n",
       "    <tr>\n",
       "      <th>856</th>\n",
       "      <td>3197</td>\n",
       "      <td>2</td>\n",
       "    </tr>\n",
       "    <tr>\n",
       "      <th>857</th>\n",
       "      <td>1759</td>\n",
       "      <td>2</td>\n",
       "    </tr>\n",
       "    <tr>\n",
       "      <th>858</th>\n",
       "      <td>277962</td>\n",
       "      <td>2</td>\n",
       "    </tr>\n",
       "  </tbody>\n",
       "</table>\n",
       "<p>859 rows × 2 columns</p>\n",
       "</div>"
      ],
      "text/plain": [
       "     user_id  n_books_rated\n",
       "0       3757            522\n",
       "1     162052            214\n",
       "2       2276            212\n",
       "3       4017            156\n",
       "4     277427            150\n",
       "..       ...            ...\n",
       "854     4035              2\n",
       "855      433              2\n",
       "856     3197              2\n",
       "857     1759              2\n",
       "858   277962              2\n",
       "\n",
       "[859 rows x 2 columns]"
      ]
     },
     "execution_count": 13,
     "metadata": {},
     "output_type": "execute_result"
    }
   ],
   "source": [
    "# Getting a dataframe of entries where users have rated more than 1 book\n",
    "user_value_counts[user_value_counts.n_books_rated != 1]"
   ]
  },
  {
   "cell_type": "markdown",
   "id": "a4069289-8bbc-47b4-bf69-bfa417c15497",
   "metadata": {},
   "source": [
    "Out of 2182, only 859 users have rated multiple books. 1323 users have rated a single book. It will be difficult to recommend books for them, unless we use content based filtering, but we only have the book title here."
   ]
  },
  {
   "cell_type": "code",
   "execution_count": 14,
   "id": "d5a797ea-3a1d-4c15-a15b-b85e0b5b7de4",
   "metadata": {
    "tags": []
   },
   "outputs": [
    {
     "data": {
      "text/html": [
       "<div>\n",
       "<style scoped>\n",
       "    .dataframe tbody tr th:only-of-type {\n",
       "        vertical-align: middle;\n",
       "    }\n",
       "\n",
       "    .dataframe tbody tr th {\n",
       "        vertical-align: top;\n",
       "    }\n",
       "\n",
       "    .dataframe thead th {\n",
       "        text-align: right;\n",
       "    }\n",
       "</style>\n",
       "<table border=\"1\" class=\"dataframe\">\n",
       "  <thead>\n",
       "    <tr style=\"text-align: right;\">\n",
       "      <th></th>\n",
       "      <th>n_books_rated</th>\n",
       "      <th>n_users</th>\n",
       "    </tr>\n",
       "  </thead>\n",
       "  <tbody>\n",
       "    <tr>\n",
       "      <th>0</th>\n",
       "      <td>1</td>\n",
       "      <td>1323</td>\n",
       "    </tr>\n",
       "    <tr>\n",
       "      <th>1</th>\n",
       "      <td>2</td>\n",
       "      <td>247</td>\n",
       "    </tr>\n",
       "    <tr>\n",
       "      <th>2</th>\n",
       "      <td>3</td>\n",
       "      <td>143</td>\n",
       "    </tr>\n",
       "    <tr>\n",
       "      <th>3</th>\n",
       "      <td>4</td>\n",
       "      <td>89</td>\n",
       "    </tr>\n",
       "    <tr>\n",
       "      <th>4</th>\n",
       "      <td>5</td>\n",
       "      <td>66</td>\n",
       "    </tr>\n",
       "    <tr>\n",
       "      <th>...</th>\n",
       "      <td>...</td>\n",
       "      <td>...</td>\n",
       "    </tr>\n",
       "    <tr>\n",
       "      <th>63</th>\n",
       "      <td>43</td>\n",
       "      <td>1</td>\n",
       "    </tr>\n",
       "    <tr>\n",
       "      <th>64</th>\n",
       "      <td>38</td>\n",
       "      <td>1</td>\n",
       "    </tr>\n",
       "    <tr>\n",
       "      <th>65</th>\n",
       "      <td>37</td>\n",
       "      <td>1</td>\n",
       "    </tr>\n",
       "    <tr>\n",
       "      <th>66</th>\n",
       "      <td>214</td>\n",
       "      <td>1</td>\n",
       "    </tr>\n",
       "    <tr>\n",
       "      <th>67</th>\n",
       "      <td>34</td>\n",
       "      <td>1</td>\n",
       "    </tr>\n",
       "  </tbody>\n",
       "</table>\n",
       "<p>68 rows × 2 columns</p>\n",
       "</div>"
      ],
      "text/plain": [
       "    n_books_rated  n_users\n",
       "0               1     1323\n",
       "1               2      247\n",
       "2               3      143\n",
       "3               4       89\n",
       "4               5       66\n",
       "..            ...      ...\n",
       "63             43        1\n",
       "64             38        1\n",
       "65             37        1\n",
       "66            214        1\n",
       "67             34        1\n",
       "\n",
       "[68 rows x 2 columns]"
      ]
     },
     "execution_count": 14,
     "metadata": {},
     "output_type": "execute_result"
    }
   ],
   "source": [
    "# Getting the number of users who have rated a specific number of books\n",
    "rating_rate = user_value_counts.n_books_rated.value_counts().to_frame(name = 'n_users').reset_index(names = 'n_books_rated')\n",
    "rating_rate"
   ]
  },
  {
   "cell_type": "code",
   "execution_count": 15,
   "id": "13c93691-1af6-4518-8d61-25478ae058ef",
   "metadata": {
    "tags": []
   },
   "outputs": [
    {
     "data": {
      "text/plain": [
       "Text(0.5, 1.0, 'Book Rating Rate')"
      ]
     },
     "execution_count": 15,
     "metadata": {},
     "output_type": "execute_result"
    },
    {
     "data": {
      "image/png": "[encoded data removed]",
      "text/plain": [
       "<Figure size 1600x1600 with 1 Axes>"
      ]
     },
     "metadata": {},
     "output_type": "display_data"
    }
   ],
   "source": [
    "# Barplot of the number of users who have rated a specific number of books\n",
    "plt.figure(figsize = (16,16))\n",
    "sns.barplot(rating_rate, x = 'n_users', y = 'n_books_rated', orient = 'h', errorbar = None)\n",
    "plt.xlabel(\"No. of Users\")\n",
    "plt.ylabel(\"No. of books rated\")\n",
    "plt.title(\"Book Rating Rate\")"
   ]
  },
  {
   "cell_type": "markdown",
   "id": "8ce61811-b8e0-4f9c-8c54-ecb15a8140be",
   "metadata": {},
   "source": [
    "We can see that most users have rated a very few books. This presents a problem for us as it will be difficult to apply Collabarative Filtering as the history of user preference for most users is very small"
   ]
  },
  {
   "cell_type": "code",
   "execution_count": 16,
   "id": "664ed3ab-e7a2-45e6-863e-f210389b565f",
   "metadata": {
    "tags": []
   },
   "outputs": [
    {
     "data": {
      "text/plain": [
       "Text(0.5, 1.0, 'Frequency of Each Rating')"
      ]
     },
     "execution_count": 16,
     "metadata": {},
     "output_type": "execute_result"
    },
    {
     "data": {
      "image/png": "[encoded data removed]",
      "text/plain": [
       "<Figure size 800x550 with 1 Axes>"
      ]
     },
     "metadata": {},
     "output_type": "display_data"
    }
   ],
   "source": [
    "# Countplot for frequency of each rating\n",
    "sns.countplot(books, x = 'book_rating')\n",
    "plt.xlabel(\"Rating\")\n",
    "plt.title(\"Frequency of Each Rating\")"
   ]
  },
  {
   "cell_type": "markdown",
   "id": "f54b6306-cbd2-43a2-bf34-47e0b3206392",
   "metadata": {},
   "source": [
    "The frequency for each rating seems to be rising exponentially, except for 5, 7, and 8 which seem to out do the pattern. This could be due to the user's tendency to give a rating of 5 of they don't feel strongly about the book, or 7 or 8 if they like the book but don't want to overstate its quality."
   ]
  },
  {
   "cell_type": "markdown",
   "id": "da19f580-6d05-412e-9efd-5adc72b641f5",
   "metadata": {},
   "source": [
    "## Content Based Filtering"
   ]
  },
  {
   "cell_type": "markdown",
   "id": "3d6f0100-4df6-4788-a003-15ca449e6e8e",
   "metadata": {},
   "source": [
    "For content based filtering, ideally we should have different parameters for the items to b filtered. In this case, we would require book title, author, number of pages, series, etc parameters that factor into a reader's likeability of the book. However, here we only have the book_title. Hence, it will be difficult to provide good recommendations"
   ]
  },
  {
   "cell_type": "code",
   "execution_count": 17,
   "id": "1898773d-e517-41b0-bb33-9ee12d2f7758",
   "metadata": {
    "tags": []
   },
   "outputs": [],
   "source": [
    "# Making a copy of books dataframe\n",
    "df = books.copy()"
   ]
  },
  {
   "cell_type": "code",
   "execution_count": 18,
   "id": "0ba91c0d-cce6-4de0-99ab-59b9c92a959f",
   "metadata": {
    "tags": []
   },
   "outputs": [
    {
     "data": {
      "text/plain": [
       "Fahrenheit 451                                              5\n",
       "Stardust                                                    4\n",
       "The Amber Spyglass (His Dark Materials, Book 3)             4\n",
       "Ender's Game (Ender Wiggins Saga (Paperback))               4\n",
       "The Subtle Knife (His Dark Materials, Book 2)               4\n",
       "                                                           ..\n",
       "Murder on St. Mark's Place (Gaslight Mysteries)             1\n",
       "State of Grace                                              1\n",
       "Valsalva's Maneuver: Mots Justes and Indispensable Terms    1\n",
       "I love you, I hate you                                      1\n",
       "Kids Say the Darndest Things                                1\n",
       "Name: book_title, Length: 9659, dtype: int64"
      ]
     },
     "execution_count": 18,
     "metadata": {},
     "output_type": "execute_result"
    }
   ],
   "source": [
    "# Checking value count for a book\n",
    "df.book_title.value_counts()"
   ]
  },
  {
   "cell_type": "markdown",
   "id": "a279e825-343c-4f80-bf53-efb508804c18",
   "metadata": {},
   "source": [
    "We can see that the title column contains the name of the series the book belongs too as well. But the data is not clean. We will have to clean it"
   ]
  },
  {
   "cell_type": "markdown",
   "id": "cb0f69bf-e63c-4ea2-98ec-be2d5dbad941",
   "metadata": {},
   "source": [
    "Let's convert all characters to lowercase, so we don't have to worry about case-sensitivity : "
   ]
  },
  {
   "cell_type": "code",
   "execution_count": 19,
   "id": "22cdd2ec-0ff8-4aa9-95e6-21b4d17e31d5",
   "metadata": {
    "tags": []
   },
   "outputs": [],
   "source": [
    "df['book_title'] = df.book_title.apply(lambda x : x.lower().strip())"
   ]
  },
  {
   "cell_type": "code",
   "execution_count": 20,
   "id": "1c06520a-bcd6-4f82-8ce8-306d8334c84d",
   "metadata": {
    "tags": []
   },
   "outputs": [],
   "source": [
    "# Creating an extra column with the length of the title\n",
    "df['title_length'] = df.book_title.apply(lambda x: len(x))"
   ]
  },
  {
   "cell_type": "code",
   "execution_count": 21,
   "id": "77d3ba4c-e9b9-421f-91c7-2703c7ca9650",
   "metadata": {
    "tags": []
   },
   "outputs": [
    {
     "name": "stdout",
     "output_type": "stream",
     "text": [
      "the american country inn and bed &amp; breakfast cookbook, volume i : more than 1,700 crowd-pleasing recipes from 500 american inns (american country inn &amp; bed &amp; breakfast cookbook (hardcover))\n",
      "frankenstein: complete, authoritative text with biographical, historical, and cultural contexts, critical history, and essays from contemporary critic ... tive (case studies in contemporary criticism)\n",
      "away for the weekend (r): southeast -- revised and updated edition : great getaways for every season in alabama, georgia, north carolina, south carolina and tennessee (away for the weekend series)\n",
      "the world's shortest stories of love and death: passion, betrayal, suspicion, revenge, all this and more in a new collection of amazing short stories-each one just 55 words long\n",
      "don't sweat the small stuff with your family : simple ways to keep daily responsibilities and household chaos from taking over your life (don't sweat the small stuff series)\n",
      "don't sweat the small stuff at work : simple ways to minimize stress and conflict while bringing out the best in yourself and others (don't sweat the small stuff series)\n",
      "just plain folks: original tales of living, loving, longing, and learning, as told by a perfectly ordinary, quite commonly sensible, and absolutely awe-inspiring colore\n",
      "cybill disobedience: how i survived beauty pageants, elvis, sex, bruce willis, lies, marriage, motherhood, hollywood, and the irrepressible urge to say what i think\n",
      "the complete plays: the ruffain on the stair, entertaining mr. sloan, the good and faithful servant, loot, the erpingham camp, funeral games, what the butler saw\n",
      "the museum of hoaxes: a collection of pranks, stunts, deceptions, and other wonderful stories contrived for the public from the middle ages to the new millennium\n",
      "the know-it-all's guide to life: how to climb mount everest, cure hiccups, live to 100, and dozens of other practical, unusual, or just plain fantastical things\n",
      "the world's shortest stories: murder, love, horror, suspense, all this and much more in the most amazing short stories ever written, each one just 55 words long\n",
      "don't sweat the small stuff and it's all small stuff : simple ways to keep the little things from taking over your life (don't sweat the small stuff series)\n",
      "almost vegetarian : a primer for cooks who are eating vegetarian most of the time, chicken &amp; fishsome of the time, &amp; altogether well all of the time\n",
      "how the irish saved civilization: the untold story of ireland's heroic role from the fall of rome to the rise of medieval europe (hinges of history, vol 1)\n",
      "live and learn and pass it on: people ages 5 to 95 share what they've discovered about life, love, and other good stuff (live &amp; learn &amp; pass it on)\n",
      "unbelievably good deals that you absoultely can't get unless you're a parent (unbelievably good deals that you absolutely can't get unless you're a parent)\n",
      "hollywood irish: in their own words : illustrated interviews with gabriel byrne, liam neeson, pierce brosnan, stephen rea, aidan quinn and patrick bergin\n",
      "the buying of the president 2004 : who's really bankrolling bush and his democratic challengers--and what they expect in return (buying of the president)\n",
      "the best in tent camping: smoky mountains : a guide for campers who hate rvs, concrete slabs, and loud portable stereos (best in tent camping colorado)\n",
      "big little book of irish wit &amp; wisdom: six volumes in one : irish blessings, irish toasts, irish proverbs, irish riddles, irish laws, irish wisdom\n",
      "the 36-hour day: a family guide to caring for persons with alzheimer disease, related dementing illnesses, and memory loss in later life (large print)\n",
      "timeless/four breathtaking tales of hearts that reach across time-for love: a midsummer day's dream/lovers of the golden drum/out of time/echoes of l\n",
      "the western mysteries: an encyclopedic guide to the sacred languages &amp; magickal systems of the world : the key of it all, book ii (key of it all)\n",
      "how the irish saved civilization: the untold story of ireland's heroic role from the fall of rome to the rise of medieval europe (hinges of history)\n",
      "the international dictionary of desserts, pastries, and confections: a comprehensive guide with more than 800 definitions and 86 classic recipes for\n",
      "scott 1998 standard postage stamp catalogue: united states and affiliated territories, united nations, countries of the world, a-b (154th ed. vol 1)\n",
      "the magic pudding: being the adventures of bunyip bluegum and his friends bill barnacle &amp; sam sawnoff (new york review children's collection)\n",
      "die externe rechnungslegung der kreditinstitute und finanzdienstleistungsinstitute (vahlens handbücher der wirtschafts- und sozialwissenschaften)\n",
      "christianity, social tolerance, and homosexuality: gay people in western europe from the beginning of the christian era to the fourteenth century\n",
      "taking charge of your fertility: the definitive guide to natural birth control, pregnancy achievement, and reproductive health (revised edition)\n",
      "a treasury of royal scandals: the shocking true stories of history's wickedest, weirdest, most wanton kings, queens, tsars, popes, and emperors\n",
      "5 novels : alan mendelsohn, the boy from mars; slaves of spiegel; the last guru; young adult novel; the snarkout boys and the avocado of death\n",
      "the stanislavski system: the professional training of an actor : digested from the teachings of konstantin s. stanislavski (penguin handbooks)\n",
      "the quotable scientist words of wisdom from charles darwin,  albert einstein, richard feynman, galileo, marie curie, rene descartes, and more\n",
      "the bear's whelp: the autobiography of robert dudley, duke of northumberland, earl of warwick and earl of leicester in the holy roman empire\n",
      "chicken soup for the kid's soul : 101 stories of courage, hope and laughter (chicken soup for the soul (paperback health communications))\n",
      "chicken soup for the sister's soul : 101 inspirational stories about sisters and their changing relationships (chicken soup for the soul)\n",
      "serving as senders: how to care for your missionaries while they are preparing to go, while they are on the field, when they return home\n",
      "homeschooling: the teen years : your complete guide to successfully homeschooling the 13- to 18-year old (prima home learning library)\n",
      "handbook for todays' catholic: beliefs, practices, prayers : a redemptorist pastoral publication (a redemptorist pastoral publication)\n",
      "parsley, sage, rosemary, and crime: a pennsylvania dutch mystery with recipes (pennsylvania dutch mysteries with recipes (paperback))\n",
      "the pinball effect: how renaissance water gardens made the carburetor possible-and other journeys through knowledge (pinball effect)\n",
      "all together in one place: a novel of kinship, courage, and faith (kirkpatrick, jane. kinship and courage historical series, bk. 1.)\n",
      "ordinary people, extraordinary wealth: the 8 secrets of how 5000 ordinary americans became successful investors-and how you can too\n",
      "smart medicine for a healthier child: a practical a-to-z reference to natural and conventional treatments for infants and children\n",
      "maine coon cats: everything about purchase, care, nutrition, reproduction, diseases, and behavior (a complete pet owner's manual)\n",
      "a chakra &amp; kundalini workbook: psycho-spiritual techniques for health, rejuvenation, psychic powers and spiritual realization\n",
      "chicken soup for the christian family soul : stories to open the heart and rekindle the spirit (chicken soup for the soul series)\n",
      "making room for making art: a thoughtful and practical guide to bringing the pleasure of artistic expression back into your life\n"
     ]
    }
   ],
   "source": [
    "# printing the top 50 longest title to check for patterns\n",
    "for i in df.sort_values('title_length', ascending=False).book_title.head(50):\n",
    "    print(i)"
   ]
  },
  {
   "cell_type": "markdown",
   "id": "44ccd45b-273d-41e5-a3e3-333683eb63a5",
   "metadata": {},
   "source": [
    "We can see that the title contain muliple special charaters. Not all titles contain text in parenthesis. Sometimes, text within parenthesis contain another set of text within parenthesis. The contents of parenthesis mostly contain the series name or publishing house name, or edition information. When series name is present, it is followed by the book number"
   ]
  },
  {
   "cell_type": "code",
   "execution_count": 22,
   "id": "4b555ced-0474-45cb-af3d-a2217b1f2974",
   "metadata": {
    "tags": []
   },
   "outputs": [
    {
     "name": "stdout",
     "output_type": "stream",
     "text": [
      "mary-kate &amp; ashley switching goals (mary-kate and ashley starring in)\n",
      "angels &amp; demons\n",
      "the james dean affair: a neil gulliver &amp; stevie marriner novel\n",
      "angels &amp; demons\n",
      "angels &amp; insects : two novellas\n",
      "the complete book of incense, oils &amp; brews (llewellyn's practical magick)\n",
      "the western mysteries: an encyclopedic guide to the sacred languages &amp; magickal systems of the world : the key of it all, book ii (key of it all)\n",
      "sheldon &amp; mrs. levine: an excruciating correspondence\n",
      "skin: talking about sex, class &amp; literature\n",
      "half moon street (charlotte &amp; thomas pitt novels (paperback))\n",
      "wall street's picks for 2000: an insider's guide to the year's best stocks &amp; mutual funds (wall street's picks)\n",
      "the amazing adventures of kavalier &amp; clay\n",
      "notions and potions: a safe, practical guide to creating magic &amp; miracles\n",
      "jack &amp; jill (alex cross novels)\n",
      "so that others may live: caroline hebard &amp; her search-and-rescue dogs\n",
      "in love &amp; trouble: stories of black women\n",
      "museum of science book of answers &amp; questions\n",
      "sex &amp; the city\n",
      "name &amp; address withheld (red dress ink (paperback))\n",
      "bears in the night (bright &amp; early books)\n",
      "starting your marriage right &lt;i>what you need to know in the early years to make it last a lifetime&lt;/i>\n",
      "the florabama ladies' auxiliary &amp; sewing circle\n",
      "mason &amp; dixon\n",
      "the magic pudding: being the adventures of bunyip bluegum and his friends bill barnacle &amp; sam sawnoff (new york review children's collection)\n",
      "the complete hot &amp; spicy cookbook\n",
      "big little book of irish wit &amp; wisdom: six volumes in one : irish blessings, irish toasts, irish proverbs, irish riddles, irish laws, irish wisdom\n",
      "the wire in the blood (a dr. tony hill &amp; carol jordan mystery)\n",
      "the complete idiot's guide to knitting &amp; crocheting\n",
      "brave new world &amp; brave new world revisited\n",
      "napalm &amp; silly putty\n",
      "eats, shoots &amp; leaves: the zero tolerance approach to punctuation\n",
      "sit &amp; solve - lateral thinking puzzles\n",
      "the little book of big ideas: inspiration, encouragement &amp; tips to stimulate creativity and improve your life\n",
      "single &amp; single\n",
      "jupiter's bones: a novel (peter decker &amp; rina lazarus novels (hardcover))\n",
      "reviving the tribe: regenerating gay men's sexuality and culture in the ongoing epidemic (haworth gay &amp; lesbian studies)\n",
      "cruel &amp; unusual (kay scarpetta mysteries (paperback))\n",
      "moon music (peter decker &amp; rina lazarus novels (paperback))\n",
      "brunswick gardens (charlotte &amp; thomas pitt novels (paperback))\n",
      "juno &amp; juliet: a novel\n",
      "how to lose friends &amp; alienate people\n",
      "kane &amp; abel\n",
      "elvis, jesus &amp; coca-cola (kinky friedman novels (paperback))\n",
      "what color is your parachute? a practical manual for job-hunters &amp; career-changers\n",
      "algebra &amp; trigonometry super review\n",
      "heart of darkness &amp; the secret sharer (bantam classics)\n",
      "the golden mean: in which the extraordinary correspondence of griffin &amp; sabine concludes\n",
      "bed &amp; breakfast\n",
      "midnight champagne : a novel (mysteries &amp; horror)\n",
      "el buscador de sueños (narrativa / huerga &amp; fierro editores)\n",
      "ben &amp; jerry's homemade ice cream &amp; dessert book\n",
      "bachelor brothers' bed &amp; breakfast pillow book\n",
      "between husbands &amp; friends\n",
      "the creative writing coursebook: forty authors share advice and exercises for fiction &amp; poetry\n",
      "bachelor brothers' bed &amp; breakfast\n",
      "last puzzle &amp; testament (puzzle lady mysteries (paperback))\n",
      "the amazing adventures of kavalier &amp; clay: a novel\n",
      "hypnosis for beginners: reach new levels of awareness &amp; achievement (llewellyn's beginners series)\n",
      "jason, madison &amp\n",
      "repairing pc drives &amp\n",
      "other stories;merril;1985;mcclelland &amp\n",
      "your isadora: the love story of isadora duncan &amp; gordon craig\n",
      "a rain of death: a morris and sullivan mystery (morris &amp; sullivan mystery)\n",
      "gardens from the sand: a story about looking for answers &amp; finding miracles\n",
      "red moon: understanding and using the gifts of the menstrual cycle (women's health &amp; parenting)\n",
      "prayers for the dead: a peter decker/rina lazarus novel (peter decker &amp; rina lazarus novels (hardcover))\n",
      "the calvin &amp; hobbes lazy sunday book\n",
      "assata: an autobiography (lawrence hill &amp; co.)\n",
      "hot &amp; bothered (women who dare) (harlequin superromance, no 701)\n",
      "the adventures of thomas (thomas the tank engine &amp; friends)\n",
      "sun, moon, &amp; earth\n",
      "the good marriage : how &amp; why love lasts\n",
      "bad language (penguin language &amp; linguistics)\n",
      "dr. pitcairn's complete guide to natural health for dogs &amp; cats\n",
      "mayo clinic complete book of pregnancy &amp; baby's first year\n",
      "the yucatan: a guide to the land of maya mysteries plus sacred sites at belize, tikal &amp; copan (tetra)\n",
      "sword and sorceress #01 (sword &amp; the sorceress)\n",
      "sword and sorceress #02 (sword &amp; the sorceress)\n",
      "justice (peter decker &amp; rina lazarus novels (paperback))\n",
      "islands of intrigue (nancy drew hardy boy supermystery 27) (nancy drew &amp; hardy boys super mysteries (paperback))\n",
      "the littlest christmas tree: a tale of growing &amp; becoming\n",
      "great day hikes in &amp; around napa valley, 2d ed.\n",
      "where two seas met (cheney &amp; shiloh: the inheritance, 1)\n",
      "the strange case of dr. jekyll and mr. hyde and other stories (barnes &amp; noble classics)\n",
      "almost vegetarian : a primer for cooks who are eating vegetarian most of the time, chicken &amp; fishsome of the time, &amp; altogether well all of the time\n",
      "inventing the abbotts and other stories (harper &amp; row, 1987)\n",
      "poets on the peaks: gary snyder, philip whalen &amp; jack kerouac in the cascades\n",
      "serpent's tooth : a peter decker/rina lazarus novel (peter decker &amp; rina lazarus novels (paperback))\n",
      "how to make raffia hats, bags &amp; baskets\n",
      "the anxiety &amp; phobia workbook\n",
      "coffee &amp; kung fu\n",
      "convenience food facts: help for planning quick, healthy, and convenient meals (wellness &amp; nutrition library)\n",
      "violet &amp; claire\n",
      "the classic of tea: origins &amp; rituals\n",
      "the medical book of remedies: 50 ways to lower your fat &amp; cholesterol\n",
      "low fat &amp; light four ingredient cookbook (vol. iii)\n",
      "melt &amp; mold soap crafting\n",
      "earth, water &amp; air (snoopy's world)\n",
      "the american country inn and bed &amp; breakfast cookbook, volume i : more than 1,700 crowd-pleasing recipes from 500 american inns (american country inn &amp; bed &amp; breakfast cookbook (hardcover))\n",
      "live and learn and pass it on: people ages 5 to 95 share what they've discovered about life, love, and other good stuff (live &amp; learn &amp; pass it on)\n",
      "summer at the lake (mysteries &amp; horror)\n",
      "let's go 2003: britain &amp; ireland\n",
      "the sense and sensibility: screenplay &amp; diaries : bringing jane austen's novel to film\n",
      "eva luna (plaza &amp; janés/literaria)\n",
      "cuentos de eva luna (plaza &amp; janés/literaria)\n",
      "sister (mysteries &amp; horror)\n",
      "serpent's tooth: a peter decker/rina lazarus novel (peter decker &amp; rina lazarus novels (hardcover))\n",
      "quick find a ring  (three weddings &amp; a hurricane) (harlequin american romance, no 695)\n",
      "rebels &amp; devils : the psychology of liberation\n",
      "world without end (moontide &amp; magic rise)\n",
      "a chakra &amp; kundalini workbook: psycho-spiritual techniques for health, rejuvenation, psychic powers and spiritual realization\n",
      "sacred and profane (peter decker &amp; rina lazarus novels (paperback))\n",
      "bachelor brothers' bed &amp; breakfast\n",
      "na wahine: hawaiin proverbs &amp; inspirational quotes celebrating women in hawaii\n",
      "writers &amp; company\n",
      "gb witty women: wise, wicked, &amp; wonderful words\n",
      "sabine's notebook: in which the extraordinary correspondence of griffin &amp; sabine continues\n",
      "gump &amp; co.\n",
      "christmas talk story (book &amp; cd)\n",
      "you read to me &amp; i'll read to you: stories to share from the 20th century\n",
      "stone soup for the world: life-changing stories of kindness &amp; courageous acts of service\n",
      "the church mice &amp; the moon (church mice &amp; the moon)\n",
      "the mermaids singing (a dr. tony hill &amp; carol jordan mystery)\n",
      "jupiter's bones : a peter decker/rina lazarus novel (peter decker &amp; rina lazarus novels (paperback))\n",
      "shenandoah christmas (you, me &amp; the kids) (harlequin superromance, no. 1024)\n",
      "sacajawea (lewis &amp; clark expedition)\n",
      "the stand: the complete &amp; uncut edition\n",
      "short &amp; tall tales: moose county legends collected by james mackintosh qwilleran\n",
      "toot &amp; puddle\n",
      "sticks &amp; scones\n",
      "the gryphon: in which the extraordinary correspondence of griffin &amp; sabine is rediscovered\n",
      "bachelor brothers' bed &amp; breakfast pillow book : they're back!\n",
      "foods of the southwest indian nations: traditional &amp; contemporary native american recipes\n",
      "lonely planet catalunya &amp; the costa brava (catalunya and the costa brava, 1st ed)\n",
      "beans &amp; rice (company's coming)\n",
      "they went broke?! : bankruptcies and money disaster of the rich &amp; famous\n",
      "griffin &amp; sabine: an extraordinary correspondence\n",
      "breakfast in bed cookbook: the best b&amp;b recipes from northern california to british columbia\n"
     ]
    }
   ],
   "source": [
    "# Finding encoding errors\n",
    "for i in df[df.book_title.str.contains(r\"&\")].book_title:\n",
    "    print(i)"
   ]
  },
  {
   "cell_type": "code",
   "execution_count": 23,
   "id": "a685a1b2-4d69-475d-853d-31365b903208",
   "metadata": {
    "tags": []
   },
   "outputs": [],
   "source": [
    "# Removing encoding errors\n",
    "df['book_title'] = df.book_title.str.replace(\"&amp;\", 'and')\n",
    "df['book_title'] = df.book_title.str.replace(\"&lt;i>\", ': ')\n",
    "df['book_title'] = df.book_title.str.replace(\"&lt;/i>\", '')\n",
    "df['book_title'] = df.book_title.str.replace(\" &amp\", '')"
   ]
  },
  {
   "cell_type": "code",
   "execution_count": 24,
   "id": "c7cb5fdf-88d4-465f-87e5-96204cf63f55",
   "metadata": {
    "tags": []
   },
   "outputs": [
    {
     "name": "stdout",
     "output_type": "stream",
     "text": [
      "chicken soup for the woman's soul (chicken soup for the soul series (paper))\n",
      "the pet shop mystery (boxcar children special (paper), no 7)\n",
      "chicken soup for the mother's soul (chicken soup for the soul series (paper))\n",
      "chicken soup for the parent's soul : 101 stories of loving, learning and parenting (chicken soup for the soul (paper))\n",
      "captain underpants and the attack of the talking toilets: another epic novel (captain underpants (paper))\n",
      "happy birthday, josefina!: a springtime story (american girls collection (paper))\n",
      "josefina's surprise: a christmas story (american girls collection (paper))\n",
      "meet addy: an american girl (american girls collection (paper))\n",
      "meet josefina, an american girl (american girls collection (paper))\n",
      "the case of the caretaker's cat (g k hall large print book series (paper))\n",
      "samantha's surprise: a christmas story (american girls collection (paper))\n",
      "changes for samantha: a winter story (american girls collection (paper))\n",
      "meet samantha: an american girl (american girls collection (paper))\n",
      "a 3rd serving of chicken soup for the soul (chicken soup for the soul series (paper))\n",
      "chicken soup for the soul cookbook (chicken soup for the soul series (paper))\n",
      "the year's best fantasy and horror: ninth annual collection (paper)\n",
      "felicity learns a lesson: a school story (american girls collection (paper))\n"
     ]
    }
   ],
   "source": [
    "# Checking if each book_title has \"(paper)\"\n",
    "for title in df[df.book_title.str.contains(r\"\\(paper\\)\")].book_title:\n",
    "    print(title)"
   ]
  },
  {
   "cell_type": "code",
   "execution_count": 25,
   "id": "e9f67dda-0ab6-4380-9be6-7706f56452a9",
   "metadata": {
    "tags": []
   },
   "outputs": [],
   "source": [
    "# Removing \" (paper)\" from the titles as it is irrelevant\n",
    "df['book_title'] = df.book_title.apply(lambda x : x.replace(\" (paper)\", \"\"))"
   ]
  },
  {
   "cell_type": "code",
   "execution_count": 26,
   "id": "feb5a9ba-624a-448f-b3dc-42770f63c6b4",
   "metadata": {
    "tags": []
   },
   "outputs": [
    {
     "name": "stdout",
     "output_type": "stream",
     "text": [
      "life's little instruction book (life's little instruction books (paperback))\n",
      "el senor de los anillos: las dos torres (lord of the rings (paperback))\n",
      "night mare (xanth novels (paperback))\n",
      "body of evidence (kay scarpetta mysteries (paperback))\n",
      "all that remains (kay scarpetta mysteries (paperback))\n",
      "postmortem (kay scarpetta mysteries (paperback))\n",
      "the silent cry (william monk novels (paperback))\n",
      "moving pictures (discworld novels (paperback))\n",
      "the picture of dorian gray (modern library (paperback))\n",
      "emma (signet classics (paperback))\n",
      "vinegar hill (oprah's book club (paperback))\n",
      "liberty falling (anna pigeon mysteries (paperback))\n",
      "killer market (deborah knott mysteries (paperback))\n",
      "dragonflight (dragonriders of pern trilogy (paperback))\n",
      "forever amber brown (amber brown (paperback))\n",
      "the blue last: a richard jury mystery (richard jury mysteries (paperback))\n",
      "shock wave (dirk pitt adventures (paperback))\n",
      "hiding in the shadows (shadows trilogy (paperback))\n",
      "my first book about space (golden look-look books (paperback))\n",
      "one for the money (stephanie plum novels (paperback))\n",
      "where the heart is (oprah's book club (paperback))\n",
      "the scions of shannara (heritage of shannara (paperback))\n",
      "star wars the rebel dawn: the han solo trilogy (star wars: han solo trilogy (paperback))\n",
      "alanna: the first adventure (song of the lioness (paperback))\n",
      "half moon street (charlotte and thomas pitt novels (paperback))\n",
      "a minor indiscretion (red dress ink (paperback))\n",
      "ender's game (ender wiggins saga (paperback))\n",
      "a palette for murder: murder she wrote (murder she wrote (paperback))\n",
      "murder at the library of congress (capital crimes (paperback))\n",
      "so long and thanks for all the fish (hitchhiker's trilogy (paperback))\n",
      "a spell for chameleon (xanth novels (paperback))\n",
      "anne of green gables (anne of green gables novels (paperback))\n",
      "talking to dragons (enchanted forest chronicles (paperback))\n",
      "the call of the wild: and selected stories (signet classics (paperback))\n",
      "she's come undone (oprah's book club (paperback))\n",
      "on the verge (red dress ink (paperback))\n",
      "dealing with dragons (enchanted forest chronicles (paperback))\n",
      "strange memories the nancy drew files 122 (nancy drew files (paperback))\n",
      "a lesson before dying (vintage contemporaries (paperback))\n",
      "only the river runs free : a novel (galway chronicles (paperback))\n",
      "adventures of huckleberry finn (signet classics (paperback))\n",
      "songs in ordinary time (oprah's book club (paperback))\n",
      "ill wind (anna pigeon mysteries (paperback))\n",
      "valhalla rising (dirk pitt adventures (paperback))\n",
      "mansfield park (signet classics (paperback))\n",
      "name and address withheld (red dress ink (paperback))\n",
      "tunnel vision (v.i. warshawski novels (paperback))\n",
      "shadow of the hegemon (ender wiggins saga (paperback))\n",
      "irish eyes: a nuala anne mcgrail novel (nuala anne mcgrail novels (paperback))\n",
      "manifold: time (manifold (paperback))\n",
      "the cat who saw stars (cat who... (paperback))\n",
      "sir gawain and the green knight (signet classics (paperback))\n",
      "the vanished man : a lincoln rhyme novel (lincoln rhyme novels (paperback))\n",
      "irish mist: a nuala anne mcgrail novel (nuala anne mcgrail novels (paperback))\n",
      "sleeping murder (miss marple mysteries (paperback))\n",
      "the phantom of the opera (signet classics (paperback))\n",
      "ender's game (ender wiggins saga (paperback))\n",
      "private eyes (alex delaware novels (paperback))\n",
      "the dive from clausen's pier : a novel (vintage contemporaries (paperback))\n",
      "guenevere, queen of the summer country (guenevere novels (paperback))\n",
      "harry potter and the sorcerer's stone (harry potter (paperback))\n",
      "judging time (april woo suspense novels (paperback))\n",
      "politika (tom clancy's power plays (paperback))\n",
      "ender's game (ender wiggins saga (paperback))\n",
      "the quilt of life: a patchwork of devotional thoughts (inspirational library (paperback))\n",
      "rogue warrior: rogue warrior i  (paperback)\n",
      "devil in a blue dress (easy rawlins mysteries (paperback))\n",
      "murder on the orient express (hercule poirot mysteries (paperback))\n",
      "the body in the library (miss marple mysteries (paperback))\n",
      "killing critics (kathleen mallory novels (paperback))\n",
      "a is for alibi (kinsey millhone mysteries (paperback))\n",
      "the queen of the damned (vampire chronicles (paperback))\n",
      "the book of ruth (oprah's book club (paperback))\n",
      "dead mans folly (hercule poirot mysteries (paperback))\n",
      "reap the whirlwind: the battle of the rosebud june 1876 (plainsmen (paperback))\n",
      "burning angel (dave robicheaux mysteries (paperback))\n",
      "blue adept (apprentice adept (paperback))\n",
      "gone fishin : featuring an original easy rawlins short story \\smoke\\ (easy rawlins mysteries (paperback))\n",
      "the cat who sang for the birds (cat who... (paperback))\n",
      "the tale of the body thief (vampire chronicles (paperback))\n",
      "cruel and unusual (kay scarpetta mysteries (paperback))\n",
      "song of solomon (oprah's book club (paperback))\n",
      "ender's game (ender wiggins saga (paperback))\n",
      "carrie pilby (red dress ink (paperback))\n",
      "monster : a novel (alex delaware novels (paperback))\n",
      "moon music (peter decker and rina lazarus novels (paperback))\n",
      "anything for love (nancy drew files 107) : anything for love (nancy drew files (paperback))\n",
      "counterfeit christmas (nancy drew files 102) : counterfeit christmas (nancy drew files (paperback))\n",
      "heart of ice (nancy drew files 103) : heart of ice (nancy drew files (paperback))\n",
      "the autograph man: a novel (vintage international (paperback))\n",
      "area 51: the sphinx (area 51 (paperback))\n",
      "dangerous mourning (william monk novels (paperback))\n",
      "brunswick gardens (charlotte and thomas pitt novels (paperback))\n",
      "the hound of the baskervilles (signet classics (paperback))\n",
      "the further adventures of hank the cowdog (hank the cowdog (paperback))\n",
      "the view from saturday (jean karl books (paperback))\n",
      "elvis, jesus and coca-cola (kinky friedman novels (paperback))\n",
      "devil's waltz (alex delaware novels (paperback))\n",
      "the clinic (alex delaware novels (paperback))\n",
      "horse play (saddle club (paperback))\n",
      "booked to die (cliff janeway novels (paperback))\n",
      "road less traveled : a new psychology of love, traditional values, and spritual growth (touchstone books (paperback))\n",
      "the plains of passage (earth's children (paperback))\n",
      "anne of avonlea (anne of green gables novels (paperback))\n",
      "second foundation (foundation novels (paperback))\n",
      "foundation (foundation novels (paperback))\n",
      "foundation and empire (foundation novels (paperback))\n",
      "flowers in the attic (dollanger saga (paperback))\n",
      "amber brown is not a crayon (amber brown (paperback))\n",
      "k is for killer (kinsey millhone mysteries (paperback))\n",
      "voodoo river (elvis cole novels (paperback))\n",
      "wild magic (immortals (paperback))\n",
      "the restaurant at the end of the universe (hitchhiker's trilogy (paperback))\n",
      "burn marks (v.i. warshawski novels (paperback))\n",
      "endangered species (anna pigeon mysteries (paperback))\n",
      "the bookman's wake (cliff janeway novels (paperback))\n",
      "dying for chocolate (culinary mysteries (paperback))\n",
      "hunting season (anna pigeon novels (paperback))\n",
      "acts of war (tom clancy's op center (paperback))\n",
      "east of the mountains (vintage contemporaries (paperback))\n",
      "the fellowship of the ring (lord of the rings (paperback))\n",
      "last puzzle and testament (puzzle lady mysteries (paperback))\n",
      "the laughing corpse (anita blake vampire hunter (paperback))\n",
      "guilty pleasures (anita blake vampire hunter (paperback))\n",
      "murder at the mendel (joanne kilbourn mysteries (paperback))\n",
      "the hands of chaos : a death gate novel, volume 5 (death gate cycle (paperback))\n",
      "into the labyrinth (death gate cycle (paperback))\n",
      "bearing an hourglass (incarnations of immortality (paperback))\n",
      "murder on the qe2: a murder, she wrote mystery : a novel (murder she wrote (paperback))\n",
      "a little yuletide murder: a murder, she wrote mystery : a novel (murder she wrote (paperback))\n",
      "pacific vortex! (dirk pitt adventures (paperback))\n",
      "tom clancy's op-center: line of control (tom clancy's op center (paperback))\n",
      "the clan of the cave bear (earth's children (paperback))\n",
      "xenocide (ender wiggins saga (paperback))\n",
      "equal rites (discworld novels (paperback))\n",
      "red prophet volume ii: volume ii of the tales of alvin maker (tales of alvin maker (paperback))\n",
      "seventh son (tales of alvin maker (paperback))\n",
      "stealing shadows (shadows trilogy (paperback))\n",
      "immigrant voices: twenty-four narratives on becoming an american (signet classics (paperback))\n",
      "scattering the ashes (carnegie mellon poetry (paperback))\n",
      "the sherbrooke bride (bride trilogy (paperback))\n",
      "murder can cool off your affair: a desiree shapiro mystery (desiree shapiro mysteries (paperback))\n",
      "earthfall (homecoming (paperback))\n",
      "earthborn (homecoming (paperback))\n",
      "key of knowledge (key trilogy (paperback))\n",
      "key of light (key trilogy (paperback))\n",
      "karen's big joke (baby-sitters little sister (paperback))\n",
      "long shot (three investigators crimebusters (paperback))\n",
      "dark angel (casteel saga (paperback))\n",
      "the fellowship of the ring (lord of the rings (paperback))\n",
      "the dolphins of pern (dragonriders of pern (paperback))\n",
      "the mayor of castro street : the life and times of harvey milk (stonewall inn editions (paperback))\n",
      "justice (peter decker and rina lazarus novels (paperback))\n",
      "islands of intrigue (nancy drew hardy boy supermystery 27) (nancy drew and hardy boys super mysteries (paperback))\n",
      "shadow watch (tom clancy's power plays (paperback))\n",
      "serpent's tooth : a peter decker/rina lazarus novel (peter decker and rina lazarus novels (paperback))\n",
      "david copperfield (signet classics (paperback))\n",
      "the hearse you came in on (hitchcock sewell mysteries (paperback))\n",
      "oldest living confederate widow tells all (vintage contemporaries (paperback))\n",
      "fashionistas (red dress ink (paperback))\n",
      "engaging men (red dress ink (paperback))\n",
      "ramona and her father (avon camelot books (paperback))\n",
      "spanish disco (red dress ink (paperback))\n",
      "see jane date (red dress ink (paperback))\n",
      "strapless (red dress ink (paperback))\n",
      "anne of ingleside (anne of green gables novels (paperback))\n",
      "the magic school bus gets ants in its pants: a book about ants (magic school bus (paperback))\n",
      "amber brown goes fourth (amber brown (paperback))\n",
      "amber brown wants extra credit (amber brown (paperback))\n",
      "runaway pony (pony pals (paperback))\n",
      "the barn (avon camelot books (paperback))\n",
      "captain underpants and the perilous plot of professor poopypants: the fourth epic novel (captain underpants (paperback))\n",
      "cathedral (vintage contemporaries (paperback))\n",
      "the whore's child: and other stories (vintage contemporaries (paperback))\n",
      "the seventh gate (death gate cycle (paperback))\n",
      "elven star : the death gate cycle, volume 2 (death gate cycle (paperback))\n",
      "fire sea : the death gate cycle, volume 3 (death gate cycle (paperback))\n",
      "karma cola       p (touchstone books (paperback))\n",
      "the age of innocence (signet classics (paperback))\n",
      "sacred and profane (peter decker and rina lazarus novels (paperback))\n",
      "pawing through the past (mrs. murphy mysteries (paperback))\n",
      "legs benedict: : a bed-and-breakfast mystery (bed-and-breakfast mysteries (paperback))\n",
      "murder at monticello (mrs. murphy mysteries (paperback))\n",
      "the bible's greatest stories (signet classics (paperback))\n",
      "a cat in the manger: an alice nestleton mystery (alice nestleton mysteries (paperback))\n",
      "twilight over burma: my life as a shan princess (kolowalu books (paperback))\n",
      "evans above (constable evan evans mysteries (paperback))\n",
      "auntie mayhem (bed-and-breakfast mysteries (paperback))\n",
      "cracker: to say i love you (cracker (paperback))\n",
      "encyclopedia brown and the case of the mysterious handprints (encyclopedia brown (paperback))\n",
      "a free man of color (benjamin january (paperback))\n",
      "c is for corpse (kinsey millhone mysteries (paperback))\n",
      "jupiter's bones : a peter decker/rina lazarus novel (peter decker and rina lazarus novels (paperback))\n",
      "hocus (irene kelly mysteries (paperback))\n",
      "up jumps the devil (deborah knott mysteries (paperback))\n",
      "the labors of hercules (hercule poirot mysteries (paperback))\n",
      "poirot investigates (hercule poirot mysteries (paperback))\n",
      "justice hall: a mary russell novel (mary russell novels (paperback))\n",
      "o jerusalem (mary russell novels (paperback))\n",
      "when the sacred ginmill closes (matthew scudder mysteries (paperback))\n",
      "a letter of mary (mary russell novels (paperback))\n",
      "parsley, sage, rosemary, and crime: a pennsylvania dutch mystery with recipes (pennsylvania dutch mysteries with recipes (paperback))\n",
      "sold down the river (benjamin january (paperback))\n",
      "graveyard dust (benjamin january (paperback))\n",
      "the burglar who thought he was bogart (bernie rhodenbarr mysteries (paperback))\n",
      "over the edge: an alex delaware novel (alex delaware novels (paperback))\n",
      "fever season (benjamin january (paperback))\n",
      "garden of shadows (dollanger saga (paperback))\n",
      "flower in attic m (dollanger saga (paperback))\n",
      "the haunted wood: soviet espionage in america- -the stalin era (modern library (paperback))\n",
      "day of the bees (vintage contemporaries (paperback))\n",
      "booked to die (cliff janeway novels (paperback))\n",
      "spanking watson (kinky friedman novels (paperback))\n",
      "the hundred brothers: a novel (vintage contemporaries (paperback))\n",
      "harm done: an inspector wexford mystery (chief inspector wexford mysteries (paperback))\n",
      "the maggody militia: an arly hanks mystery (arly hanks mysteries (paperback))\n"
     ]
    }
   ],
   "source": [
    "# Checking if each book_title has \"(paperback)\"\n",
    "for title in df[df.book_title.str.contains(r\" \\(paperback\\)\")].book_title:\n",
    "    print(title)"
   ]
  },
  {
   "cell_type": "code",
   "execution_count": 27,
   "id": "dd55aee8-334c-45ac-8a7f-3c59596e4a6f",
   "metadata": {
    "tags": []
   },
   "outputs": [],
   "source": [
    "# Removing \" (paperback)\" from the titles as it is irrelevant\n",
    "df['book_title'] = df.book_title.apply(lambda x : x.replace(\" (paperback)\", \"\"))"
   ]
  },
  {
   "cell_type": "code",
   "execution_count": 28,
   "id": "2071f12f-ea9e-4b57-a3b3-2cedcf11b52a",
   "metadata": {
    "tags": []
   },
   "outputs": [
    {
     "name": "stdout",
     "output_type": "stream",
     "text": [
      "how not to say what you mean: a dictionary of euphemisms (oxford paperback reference s.)\n",
      "calling on dragons (read with me paperbacks)\n",
      "the capture (animorphs (paperback numbered))\n",
      "the new oxford book of light verse (oxford paperbacks)\n",
      "the stranger (animorphs (paperback numbered))\n",
      "santas little helper sabrina the teenage witch 5 (sabrina, the teenage witch (numbered paperback))\n",
      "war on the eastern front: the german soldier in russia, 1941-1945 (greenhill military paperbacks.)\n",
      "pride and prejudice (everyman paperback classics)\n",
      "it must have been an angel (redwood paperback; 119)\n",
      "star wars: the truce at bakura (star wars (random house paperback))\n",
      "dune (dune chronicles (berkley paperback))\n",
      "the island of doctor moreau (everyman paperback classics)\n",
      "the biggest house in the world (knopf children's paperbacks)\n",
      "the canterbury tales (oxford paperbacks)\n",
      "the wings of the dove (everyman paperback classics)\n",
      "battlestations 31 (star trek (numbered paperback))\n",
      "triangle (star trek (numbered paperback))\n",
      "the bluebird and the sparrow (women of the west (paperback bethany house))\n",
      "the mistress (bloomsbury paperbacks)\n",
      "garfield sits around the house (garfield (numbered paperback))\n",
      "garfield tips the scales (garfield (numbered paperback))\n",
      "chicken soup for the kid's soul : 101 stories of courage, hope and laughter (chicken soup for the soul (paperback health communications))\n",
      "music of the swamp (front porch paperbacks)\n",
      "from the bluest part of the harbour: poems from hong kong (oxford in asia paperbacks)\n",
      "high waving heather (phoenix 60p paperbacks)\n",
      "hw much just planet star trek 36 (star trek (numbered paperback))\n",
      "cats know best (pied piper paperbacks)\n",
      "garfield rolls on (garfield (numbered paperback))\n",
      "obake:  ghost stories in hawaii (mutual publishing paperback)\n",
      "the friday book: essays and other nonfiction (maryland paperback bookshelf)\n"
     ]
    }
   ],
   "source": [
    "# Checking if each book_title has \"paperback\"\n",
    "for title in df[df.book_title.str.contains(r\" \\([^(]*paperback[^)]*\\)\")].book_title:\n",
    "    print(title)"
   ]
  },
  {
   "cell_type": "code",
   "execution_count": 29,
   "id": "158607cb-01e9-4344-acfb-76ec536d429c",
   "metadata": {
    "tags": []
   },
   "outputs": [
    {
     "name": "stderr",
     "output_type": "stream",
     "text": [
      "C:\\Users\\harsh\\AppData\\Local\\Temp\\ipykernel_12340\\80455357.py:2: FutureWarning: The default value of regex will change from True to False in a future version.\n",
      "  df['book_title'] = df.book_title.str.replace(r\" \\([^(]*paperback[^)]*\\)\", \"\")\n"
     ]
    }
   ],
   "source": [
    "# Removing every substring covered by parenthesis containing paperback\n",
    "df['book_title'] = df.book_title.str.replace(r\" \\([^(]*paperback[^)]*\\)\", \"\")"
   ]
  },
  {
   "cell_type": "code",
   "execution_count": 30,
   "id": "9d0569ae-537c-48d3-9e23-4371ad3b7e66",
   "metadata": {
    "tags": []
   },
   "outputs": [
    {
     "name": "stdout",
     "output_type": "stream",
     "text": [
      "true notebooks (alex awards (awards))\n",
      "where no gods came (michigan literary fiction awards)\n",
      "the eyre affair (alex awards (awards))\n",
      "the dive from clausen's pier (alex awards)\n",
      "the kite runner (alex awards (awards))\n",
      "falling angel (rita award)\n",
      "when the emperor was divine (alex awards (awards))\n"
     ]
    }
   ],
   "source": [
    "# Checking if each book_title has \"paperback\"\n",
    "for title in df[df.book_title.str.contains(r\" \\([^(]*award[^)]*\\)\")].book_title:\n",
    "    print(title)"
   ]
  },
  {
   "cell_type": "code",
   "execution_count": 31,
   "id": "f4e3c71e-5877-40f1-9546-3b1db875d5cc",
   "metadata": {
    "tags": []
   },
   "outputs": [],
   "source": [
    "# Removing \" (awards)\"\n",
    "df['book_title'] = df.book_title.str.replace(r\" (awards)\", \"\", regex=False)"
   ]
  },
  {
   "cell_type": "code",
   "execution_count": 32,
   "id": "064f2ca4-8224-48bf-87bf-f42e8e825474",
   "metadata": {
    "tags": []
   },
   "outputs": [],
   "source": [
    "# Removing any set of parenthesis containing awards\n",
    "df['book_title'] = df.book_title.str.replace(r\" \\([^(]*award[^)]*\\)\", \"\", regex=True)"
   ]
  },
  {
   "cell_type": "code",
   "execution_count": 33,
   "id": "8c77591c-9dfa-4f5a-bf88-0fab4b959501",
   "metadata": {
    "tags": []
   },
   "outputs": [
    {
     "name": "stdout",
     "output_type": "stream",
     "text": [
      "prize stories, 1987: the o'henry awards\n",
      "rhoda : a life in stories tag: winner of the national book award for fiction\n",
      "the darwin awards ii: unnatural selection\n",
      "the essential 55: an award-winning educator's rules for discovering the successful student in every child\n"
     ]
    }
   ],
   "source": [
    "# Checking for titles containing 'award'\n",
    "for title in df[df.book_title.str.contains(\"award\")].book_title:\n",
    "    print(title)"
   ]
  },
  {
   "cell_type": "code",
   "execution_count": 34,
   "id": "79fa40e0-42fa-416e-b511-68e1e4404854",
   "metadata": {
    "tags": []
   },
   "outputs": [
    {
     "name": "stdout",
     "output_type": "stream",
     "text": [
      "prize stories, 1987: the o'henry awards\n"
     ]
    }
   ],
   "source": [
    "for title in df[df.book_title.str.contains(\"o'henry\")].book_title:\n",
    "    print(title)"
   ]
  },
  {
   "cell_type": "code",
   "execution_count": 35,
   "id": "78bf1fad-598b-4159-8a6a-8656c4351fab",
   "metadata": {
    "tags": []
   },
   "outputs": [],
   "source": [
    "# Removing \": the o'henry awards\"\n",
    "df['book_title'] = df.book_title.str.replace(\": the o'henry awards\", \"\", regex=False)"
   ]
  },
  {
   "cell_type": "code",
   "execution_count": 36,
   "id": "d3f46c9d-2df3-4807-af47-65c144ebbca2",
   "metadata": {
    "tags": []
   },
   "outputs": [],
   "source": [
    "# Removing \": the o'henry awards\"\n",
    "df['book_title'] = df.book_title.str.replace(\": winner of the national book award for fiction\", \"\", regex=False)"
   ]
  },
  {
   "cell_type": "code",
   "execution_count": 37,
   "id": "2bb17949-35cf-4daa-976a-50145af34582",
   "metadata": {
    "tags": []
   },
   "outputs": [
    {
     "name": "stdout",
     "output_type": "stream",
     "text": [
      "the new hugo winners, vol. 2\n",
      "talking the winner's way: 92 little tricks for big success in business and personal relationships\n",
      "a beautiful mind: a biography of john forbes nash, jr., winner of the nobel prize in economics, 1994\n",
      "the lottery winner : alvirah and willy stories\n",
      "winners and losers: the 1988 race for the presidency-one candidate's perspective\n"
     ]
    }
   ],
   "source": [
    "# Checking for titles containing 'winner'\n",
    "for title in df[df.book_title.str.contains(\"winner\")].book_title:\n",
    "    print(title)"
   ]
  },
  {
   "cell_type": "code",
   "execution_count": 38,
   "id": "37207428-aaaa-4037-bb09-3a30617616e7",
   "metadata": {
    "tags": []
   },
   "outputs": [
    {
     "name": "stdout",
     "output_type": "stream",
     "text": [
      "the cat who came to breakfast (cat who... (hardcover))\n",
      "the last hero : a discworld fable (discworld novels (hardcover))\n",
      "confessions of a sociopathic social climber : the katya livingston chronicles (katya livingston chronicles (hardcover))\n",
      "vinegar hill (oprah's book club (hardcover))\n",
      "the pilot's wife : a novel tag: author of the weight of water (oprah's book club (hardcover))\n",
      "sudden mischief (spenser mysteries (hardcover))\n",
      "daughter of fortune : a novel (oprah's book club (hardcover))\n",
      "the clue of the velvet mask (nancy drew (hardcover))\n",
      "sarah's child - hardcover\n",
      "jupiter's bones: a novel (peter decker and rina lazarus novels (hardcover))\n",
      "shadow of the hegemon (ender wiggins saga (hardcover))\n",
      "the secret warriors (men at war (hardcover))\n",
      "the body on the beach: a fethering mystery (fethering mysteries (hardcover))\n",
      "the puzzled heart (kate fansler novels (hardcover))\n",
      "orchid blues (holly barker novels (hardcover))\n",
      "foundation's edge (foundation novels (hardcover))\n",
      "the trouble with a hot summer: a simona griffo mystery (simona griffo mysteries (hardcover))\n",
      "hard time (v.i. warshawski novels (hardcover))\n",
      "deep south (anna pigeon mysteries (hardcover))\n",
      "death in holy orders (adam dalgliesh mysteries (hardcover))\n",
      "prayers for the dead: a peter decker/rina lazarus novel (peter decker and rina lazarus novels (hardcover))\n",
      "colour of magic (discworld novels (hardcover))\n",
      "two for the dough (stephanie plum novels (hardcover))\n",
      "postmortem (kay scarpetta mysteries (hardcover))\n",
      "the norton anthology of english literature (norton anthology of english literature (hardcover))\n",
      "joey pigza swallowed the key (joey pigza books (hardcover))\n",
      "damned in paradise: a nathan heller novel (nathan heller novels (hardcover))\n",
      "murder gets a life: a southern sisters mystery (southern sisters mysteries (hardcover))\n",
      "milk glass moon : a big stone gap novel (big stone gap novels (hardcover))\n",
      "the american country inn and bed and breakfast cookbook, volume i : more than 1,700 crowd-pleasing recipes from 500 american inns (american country inn and bed and breakfast cookbook (hardcover))\n",
      "serpent's tooth: a peter decker/rina lazarus novel (peter decker and rina lazarus novels (hardcover))\n",
      "burying ariel (joanne kilbourn mysteries (hardcover))\n",
      "the book of ruth (oprah's book club (hardcover))\n",
      "gone fishin': an easy rawlins novel (easy rawlins mysteries (hardcover))\n",
      "the odd job (sarah kelling and max bittersohn mysteries (hardcover))\n",
      "shock wave (dirk pitt adventures (hardcover))\n"
     ]
    }
   ],
   "source": [
    "# Checking for titles containing 'hard'\n",
    "for title in df[df.book_title.str.contains(\"hardcover\")].book_title:\n",
    "    print(title)"
   ]
  },
  {
   "cell_type": "code",
   "execution_count": 39,
   "id": "10d5cafd-c774-4eaf-9e22-8edce63eb31e",
   "metadata": {
    "tags": []
   },
   "outputs": [],
   "source": [
    "# Removing \" (hardcover)\"\n",
    "df['book_title'] = df.book_title.str.replace(\" (hardcover)\", \"\", regex=False)"
   ]
  },
  {
   "cell_type": "code",
   "execution_count": 40,
   "id": "d4990fa6-6eee-41fa-aec8-e720cbab35b4",
   "metadata": {
    "tags": []
   },
   "outputs": [],
   "source": [
    "# Removing \" - hardcover\"\n",
    "df['book_title'] = df.book_title.str.replace(\" - hardcover\", \"\", regex=False)"
   ]
  },
  {
   "cell_type": "markdown",
   "id": "d80d1c5e-6c7b-4761-8cae-75c0249970d7",
   "metadata": {},
   "source": [
    "We have eliminated obvious words that should not be used to identify a book. We could keep on trying to clean the text, however the benefit from these differences will be incrementally smaller. Instead we will use Term Frequency - Inverse Document Frequency Vectorizer to calculate similarity between book titles. TfIdf checks for the frequency of a word or a set of words in a title to match it with titles with similar frequencies. However, it becomes apparent that some common words like the ones we eliminated above (viz. hardcover, award, paperback) and others we have not eliminated like 'trilogy', 'series', etc will wrongly create similarity between many titles. Here, Inverse Document Frequency tracks the frequency of a word in all the titles, and if occurs in a large fraction of the titles, it's consideration into similarity is reduced."
   ]
  },
  {
   "cell_type": "code",
   "execution_count": 41,
   "id": "d1f78480-dbbf-47e2-baa4-21f57159222d",
   "metadata": {
    "tags": []
   },
   "outputs": [],
   "source": [
    "# importing necessary libraries\n",
    "from sklearn.feature_extraction.text import TfidfVectorizer\n",
    "from sklearn.metrics.pairwise import cosine_similarity\n",
    "from sklearn.feature_extraction import text"
   ]
  },
  {
   "cell_type": "code",
   "execution_count": 42,
   "id": "89115416-b4f1-42ab-bf94-3ff29ca4cd7c",
   "metadata": {
    "tags": []
   },
   "outputs": [],
   "source": [
    "# Convert book_title column to TF-IDF vectors by trying to match a single word upto a set of 5 words\n",
    "tfidf = TfidfVectorizer(ngram_range=(1,5), stop_words=\"english\")\n",
    "tfidf_matrix = tfidf.fit_transform(df[\"book_title\"])"
   ]
  },
  {
   "cell_type": "code",
   "execution_count": 43,
   "id": "db5ec7f0-c06a-4dc3-9fa0-30246bd8ad04",
   "metadata": {
    "tags": []
   },
   "outputs": [],
   "source": [
    "# Calculate cosine similarity between each entry\n",
    "cos_sim = cosine_similarity(tfidf_matrix)"
   ]
  },
  {
   "cell_type": "code",
   "execution_count": 44,
   "id": "119338e1-bbc8-498a-9d50-e26007eb736d",
   "metadata": {
    "tags": []
   },
   "outputs": [],
   "source": [
    "# Each entry will have maximum similarity score of 1 with itself. We will convert these to 0\n",
    "np.fill_diagonal(cos_sim, 0)"
   ]
  },
  {
   "cell_type": "code",
   "execution_count": 45,
   "id": "3c169fcf-9f5e-4531-a97f-9cdb75faded6",
   "metadata": {
    "tags": []
   },
   "outputs": [],
   "source": [
    "# Function which returns indices for entries containing the passed string in it's book_title column\n",
    "def get_index(title):\n",
    "    # Getting a dataframe of entries containing the passed string as a substring in book_title column\n",
    "    temp_df = df[df.book_title.str.contains(title, regex=False)]\n",
    "    # If no entry contains the passed substring\n",
    "    if temp_df.shape[0] == 0:\n",
    "        return -1\n",
    "    else:\n",
    "        # Getting a list of entries containing the substring\n",
    "        indexes = temp_df.index.tolist()\n",
    "        # choosing a random entry among them\n",
    "        rand_index = np.random.randint(len(indexes))\n",
    "        # returning the random entry\n",
    "        return indexes[rand_index]"
   ]
  },
  {
   "cell_type": "code",
   "execution_count": 46,
   "id": "d282b7de-64e5-4069-823d-967c63803dc4",
   "metadata": {
    "tags": []
   },
   "outputs": [],
   "source": [
    "# Getting a list of popular book incase no similarity found\n",
    "\n",
    "# Grouping by book title and getting the count and sum of its ratings\n",
    "ratings_df = df.groupby('book_title').agg(['count', 'sum']).book_rating\n",
    "# Some books have been rated highly by only 1 user, some have been rated by multiple users and have a slightly lower rating. \n",
    "# Sorting by rating, will give us books highly rated by single users. We want to avoid this.\n",
    "# So, we will consider each book has a new user rating it as 0 and then get the average rating\n",
    "ratings_df['weighted_rating'] = ratings_df.apply(lambda x : x['sum']/(x['count'] + 1), axis = 1)\n",
    "# Getting a list of top 10 books of the weighted average rating\n",
    "pop_books = ratings_df.sort_values('weighted_rating', ascending=False).index[:10].tolist()"
   ]
  },
  {
   "cell_type": "code",
   "execution_count": 47,
   "id": "c6cc0fd0-dd53-4cb3-9c72-ec982f5ebf0a",
   "metadata": {
    "tags": []
   },
   "outputs": [],
   "source": [
    "# Function to get recommendations based on cosine similarity between titles\n",
    "def content_recommender(title):\n",
    "    # Get one of the index of entry that contains the passed substring\n",
    "    idx = get_index(title)\n",
    "    # if no match is found\n",
    "    if idx == -1:\n",
    "        print(\"Book not found in library. Try again.\")\n",
    "        print(\"Meanwhile, you might want to consider these popular books : \")\n",
    "        for book in pop_books:\n",
    "            print(\"\\t\", book)\n",
    "    else:  \n",
    "        # Get cosine similarity for each entry with the obtained index; enumerate returns the index with the similarity value\n",
    "        sim_scores = list(enumerate(cos_sim[idx])) \n",
    "        # Sorting in descending order based on similarity value\n",
    "        sim_scores = sorted(sim_scores, key=lambda x: x[1], reverse=True)\n",
    "        # Keeping only the 10 most similar titles\n",
    "        sim_scores = sim_scores[:10]\n",
    "        # Get indices of those top 10 books\n",
    "        book_indices = [i[0] for i in sim_scores]\n",
    "        # Return titles for these indices\n",
    "        return df[\"book_title\"].iloc[book_indices]"
   ]
  },
  {
   "cell_type": "code",
   "execution_count": 48,
   "id": "17b663eb-b69d-41bd-a331-a4a5e92c2812",
   "metadata": {
    "tags": []
   },
   "outputs": [
    {
     "data": {
      "text/plain": [
       "8463    edge of victory ii: rebirth (star wars: the ne...\n",
       "1302                       return of the jedi (star wars)\n",
       "3881           star wars: the truce at bakura (star wars)\n",
       "2090                                           after dark\n",
       "5781                                           until dark\n",
       "6888                             the dark side of nowhere\n",
       "3882    jedi search (star wars: the jedi academy trilo...\n",
       "2057                    a guide to the star wars universe\n",
       "5280                                            high tide\n",
       "3646    the way of the apprentice (star wars: jedi que...\n",
       "Name: book_title, dtype: object"
      ]
     },
     "execution_count": 48,
     "metadata": {},
     "output_type": "execute_result"
    }
   ],
   "source": [
    "# Getting Content Based Recommendations\n",
    "content_recommender(\"star wars\")"
   ]
  },
  {
   "cell_type": "markdown",
   "id": "3684c48b-1b42-4543-8197-fc76f1e50dfd",
   "metadata": {},
   "source": [
    "## Item Based Collaborative Filtering"
   ]
  },
  {
   "cell_type": "markdown",
   "id": "4a9ef967-2221-4140-b9c5-bb6a19ebbe7f",
   "metadata": {},
   "source": [
    "With Item-based Collaborative Filtering, we will find similarity in patterns for ratings given to a particular book title. Then, for a given user, we will recommend titles similar to the ones highly rated by the user"
   ]
  },
  {
   "cell_type": "code",
   "execution_count": 49,
   "id": "affc8e7f-2d03-4967-b3b1-a154f85a743f",
   "metadata": {
    "tags": []
   },
   "outputs": [],
   "source": [
    "# Removing the title_length column as it is not relevent now\n",
    "df.drop(columns = ['title_length'], inplace = True)"
   ]
  },
  {
   "cell_type": "code",
   "execution_count": 50,
   "id": "5d7a4b83-e865-4625-9740-2209ca66f7bb",
   "metadata": {
    "tags": []
   },
   "outputs": [],
   "source": [
    "# Pivoting the datframe so that book_title are the indices, user_id are the columns, and book_ratings are the values\n",
    "book_user_df = df.pivot_table(index = 'book_title', columns='user_id', values='book_rating')"
   ]
  },
  {
   "cell_type": "code",
   "execution_count": 51,
   "id": "07f11602-d7ad-4c71-a8e9-ad27c4dcca34",
   "metadata": {
    "tags": []
   },
   "outputs": [],
   "source": [
    "# Replacing the na values with 0\n",
    "book_user_df.fillna(0, inplace=True)"
   ]
  },
  {
   "cell_type": "code",
   "execution_count": 52,
   "id": "d75b007b-16b5-4892-976e-2402513f33d3",
   "metadata": {
    "tags": []
   },
   "outputs": [],
   "source": [
    "# Calculating cosine similarity for each book_title\n",
    "cos_sim = cosine_similarity(book_user_df)"
   ]
  },
  {
   "cell_type": "code",
   "execution_count": 53,
   "id": "1157382d-016c-4e3e-bb55-544e6cdb18aa",
   "metadata": {
    "tags": []
   },
   "outputs": [],
   "source": [
    "# Replacing similarity of each book_title with itself with 0\n",
    "np.fill_diagonal(cos_sim, 0)"
   ]
  },
  {
   "cell_type": "code",
   "execution_count": 54,
   "id": "8085c085-2b8c-4231-92db-a21a1668f9ca",
   "metadata": {
    "tags": []
   },
   "outputs": [],
   "source": [
    "# Creating a dataframe of the similarity values\n",
    "book_sim_df = pd.DataFrame(cos_sim, index = book_user_df.index, columns=book_user_df.index)"
   ]
  },
  {
   "cell_type": "code",
   "execution_count": 55,
   "id": "d98f45c9-0ef0-4798-abce-9a394e55a3ae",
   "metadata": {
    "tags": []
   },
   "outputs": [],
   "source": [
    "# Function to return a list of titles with any similarity with the passed title\n",
    "def give_sim_books(book):\n",
    "    sim_books = pd.DataFrame(book_sim_df[book].sort_values(ascending = False))\n",
    "    return sim_books[sim_books[book] > 0].index.tolist()"
   ]
  },
  {
   "cell_type": "code",
   "execution_count": 56,
   "id": "5583ce59-28ac-481b-bd7e-4b7da0521017",
   "metadata": {
    "tags": []
   },
   "outputs": [],
   "source": [
    "# Function to get titles with ratings higher than 5 for the passed user id\n",
    "def get_top_books(user_id):\n",
    "    return df[(df.user_id == user_id) & (df.book_rating > 5)].sort_values('book_rating', ascending=False).book_title.tolist()"
   ]
  },
  {
   "cell_type": "code",
   "execution_count": 57,
   "id": "efc35d39-d218-41e7-838a-d1deec03046e",
   "metadata": {
    "tags": []
   },
   "outputs": [],
   "source": [
    "# Function to show recommendations using Item-based Collaborative Filtering\n",
    "def item_colab_recommender(user_id):\n",
    "    # Creating empty list of recommendations\n",
    "    recs = []\n",
    "    # Getting titles with ratings higher than 5 for this user\n",
    "    best_books = get_top_books(user_id)\n",
    "    for book in best_books:\n",
    "        # Getting similar books\n",
    "        temp_recs = give_sim_books(book)\n",
    "        # If similar titles exist\n",
    "        if temp_recs:\n",
    "            for t in temp_recs:\n",
    "                # Add to recommendations\n",
    "                recs.append(t)\n",
    "    # If no recommendations generated, suggest popular titles\n",
    "    if not recs:\n",
    "        print(\"There don't seem to be any recommendations for your books.\\nHowever, you might enjoy these popular books : \")\n",
    "        for book in pop_books:\n",
    "            print(\"\\t\", book)\n",
    "    else:\n",
    "        # Creating a list of titles already rated by user\n",
    "        read_list = df[df.user_id == user_id].book_title.tolist()\n",
    "        # Creating list of titles in recommendations not rated by user\n",
    "        recs = [i for i in recs if i not in read_list]\n",
    "        # Limiting recommendations to 10 titles\n",
    "        if len(recs) > 10:\n",
    "            recs = recs[:10]\n",
    "        print(\"You might like the following books : \")\n",
    "        for r in recs:\n",
    "            print(\"\\t\", r)"
   ]
  },
  {
   "cell_type": "code",
   "execution_count": 58,
   "id": "55539910-c332-41e0-aa23-72f4483721b5",
   "metadata": {
    "tags": []
   },
   "outputs": [
    {
     "data": {
      "text/plain": [
       "3757      522\n",
       "162052    214\n",
       "2276      212\n",
       "4017      156\n",
       "277427    150\n",
       "         ... \n",
       "969         1\n",
       "967         1\n",
       "965         1\n",
       "951         1\n",
       "162129      1\n",
       "Name: user_id, Length: 2182, dtype: int64"
      ]
     },
     "execution_count": 58,
     "metadata": {},
     "output_type": "execute_result"
    }
   ],
   "source": [
    "# Getting user ids for highest and lowest numbers of books rated\n",
    "df.user_id.value_counts()"
   ]
  },
  {
   "cell_type": "code",
   "execution_count": 59,
   "id": "d607be97-565c-44a9-b30d-5a9c500a1907",
   "metadata": {
    "tags": []
   },
   "outputs": [
    {
     "name": "stdout",
     "output_type": "stream",
     "text": [
      "You might like the following books : \n",
      "\t the silent service: los angeles class\n",
      "\t done driftin' (the dunleavy legacy) (harlequin superromance, no 654)\n",
      "\t supercarrier: an inside account of life aboard the world's most powerful ship, the uss john f. kennedy\n",
      "\t just over the mountain\n",
      "\t american pastoral\n",
      "\t kaleidoscope\n",
      "\t cw2    (co)\n",
      "\t treasure-cussler\n",
      "\t the guns of avalon (chronicles of amber)\n",
      "\t beneath the silent sea\n"
     ]
    }
   ],
   "source": [
    "# Getting recommendations for passed user id using Item-based Collaborative Filtering\n",
    "item_colab_recommender(4017)"
   ]
  },
  {
   "cell_type": "code",
   "execution_count": 60,
   "id": "4f58dc71-b3b3-4e11-a1df-3731811e66cb",
   "metadata": {
    "tags": []
   },
   "outputs": [
    {
     "name": "stdout",
     "output_type": "stream",
     "text": [
      "There don't seem to be any recommendations for your books.\n",
      "However, you might enjoy these popular books : \n",
      "\t flesh and blood\n",
      "\t the subtle knife (his dark materials, book 2)\n",
      "\t the face\n",
      "\t housekeeping\n",
      "\t the gift\n",
      "\t 2nd chance\n",
      "\t still life with woodpecker\n",
      "\t tiger prince\n",
      "\t breathing lessons\n",
      "\t the amber spyglass (his dark materials, book 3)\n"
     ]
    }
   ],
   "source": [
    "# Getting recommendations for passed user id using Item-based Collaborative Filtering\n",
    "item_colab_recommender(162129)"
   ]
  },
  {
   "cell_type": "markdown",
   "id": "62644a57-936c-4eda-b605-52904aa2cd1d",
   "metadata": {},
   "source": [
    "## User Based Collaborative Filtering"
   ]
  },
  {
   "cell_type": "markdown",
   "id": "1853b12e-51d9-434d-b405-4f258bf8c452",
   "metadata": {},
   "source": [
    "In User-based Collaborative Filtering, we find similarities in patterns of ratings given to different books by a user. Then, we will recommend highly-rated titles of other similar users"
   ]
  },
  {
   "cell_type": "code",
   "execution_count": 61,
   "id": "c9c679f7-e95d-4e3d-ac46-f41cdd2e24b7",
   "metadata": {
    "tags": []
   },
   "outputs": [],
   "source": [
    "# Pivoting the datframe so that user_id are the indices, book_title are the columns, and book_ratings are the values\n",
    "user_book_df = df.pivot_table(index='user_id', columns='book_title', values='book_rating')"
   ]
  },
  {
   "cell_type": "code",
   "execution_count": 62,
   "id": "b1838aa8-6bdc-4514-8b4a-c71a1b80fc42",
   "metadata": {
    "tags": []
   },
   "outputs": [],
   "source": [
    "# Replacing the na values with 0\n",
    "user_book_df.fillna(0, inplace = True)"
   ]
  },
  {
   "cell_type": "code",
   "execution_count": 63,
   "id": "026e05b9-7558-478f-97a4-0d1c9d1fa6ae",
   "metadata": {
    "tags": []
   },
   "outputs": [],
   "source": [
    "# Calculating cosine similarity for each user_id\n",
    "cos_sim = cosine_similarity(user_book_df)"
   ]
  },
  {
   "cell_type": "code",
   "execution_count": 64,
   "id": "1fd14c06-5bd6-457c-bddf-88d686fe76b8",
   "metadata": {
    "tags": []
   },
   "outputs": [],
   "source": [
    "# Replacing similarity of each user_id with itself with 0\n",
    "np.fill_diagonal(cos_sim, 0)"
   ]
  },
  {
   "cell_type": "code",
   "execution_count": 65,
   "id": "eefea766-5b07-4b9d-a7ae-9b75472e0044",
   "metadata": {
    "tags": []
   },
   "outputs": [],
   "source": [
    "# Creating a dataframe of the similarity values\n",
    "user_sim_df = pd.DataFrame(cos_sim, index = user_book_df.index, columns=user_book_df.index)"
   ]
  },
  {
   "cell_type": "code",
   "execution_count": 66,
   "id": "fe283af1-c93d-44d7-a2ba-8ce4b44cb4ba",
   "metadata": {
    "tags": []
   },
   "outputs": [],
   "source": [
    "# Function to return a list of user ids with any similarity with the passed user id\n",
    "def give_sim_users(user_id):\n",
    "    sim_users = pd.DataFrame(user_sim_df[user_id].sort_values(ascending = False))\n",
    "    return sim_users[sim_users[user_id] > 0].index.tolist()"
   ]
  },
  {
   "cell_type": "code",
   "execution_count": 67,
   "id": "a85b5a6a-f064-440f-a504-09756c07d21e",
   "metadata": {
    "tags": []
   },
   "outputs": [
    {
     "data": {
      "text/plain": [
       "[]"
      ]
     },
     "execution_count": 67,
     "metadata": {},
     "output_type": "execute_result"
    }
   ],
   "source": [
    "# Getting similar users to the passed user id\n",
    "give_sim_users(162129)"
   ]
  },
  {
   "cell_type": "code",
   "execution_count": 68,
   "id": "40b12c53-f591-4907-ae43-3fbfd6917229",
   "metadata": {
    "tags": []
   },
   "outputs": [
    {
     "data": {
      "text/plain": [
       "[161542, 161730, 277188, 277378, 2439, 276939, 277965, 278582, 161974]"
      ]
     },
     "execution_count": 68,
     "metadata": {},
     "output_type": "execute_result"
    }
   ],
   "source": [
    "# Getting similar users to the passed user id\n",
    "give_sim_users(4017)"
   ]
  },
  {
   "cell_type": "code",
   "execution_count": 69,
   "id": "ef49bf9a-87a5-4472-909f-1a37f64e8b4a",
   "metadata": {
    "tags": []
   },
   "outputs": [],
   "source": [
    "# Function to show recommendations using User-based Collaborative Filtering\n",
    "def user_colab_recommender(user_id):\n",
    "    # Creating empty list of recommendations\n",
    "    recs = []\n",
    "    # State of whether popular recommendations are given set to False\n",
    "    pop_given = 0\n",
    "    # Getting list of similar user ids\n",
    "    sim_users = give_sim_users(user_id)\n",
    "    # If no similar users found\n",
    "    if not sim_users:\n",
    "        print(\"There don't seem to be any recommendations for your books.\\nHowever, you might enjoy these popular books : \")\n",
    "        for book in pop_books:\n",
    "            print(\"\\t\", book)\n",
    "        # Popular recommendations given and its state set to True\n",
    "        pop_given = 1\n",
    "    else:\n",
    "        for user in sim_users:\n",
    "            ratings = pd.DataFrame(user_book_df.loc[user].sort_values(ascending = False))\n",
    "            ratings.columns = ['rating']\n",
    "            # Getting titles with rating higher than 5 for each similar user\n",
    "            recs += ratings[ratings.rating > 5].index.tolist()\n",
    "        # If no recommendations generated\n",
    "        if not recs:\n",
    "            # Give popular recommendations if previously not given\n",
    "            if not pop_given:\n",
    "                print(\"There don't seem to be any recommendations for your books.\\nHowever, you might enjoy these popular books : \")\n",
    "                for book in pop_books:\n",
    "                    print(\"\\t\", book)\n",
    "        else:\n",
    "            \n",
    "            # Creating a list of titles already rated by user\n",
    "            read_list = df[df.user_id == user_id].book_title.tolist()\n",
    "            # Creating list of titles in recommendations not rated by user\n",
    "            recs = [i for i in recs if i not in read_list]\n",
    "            # Limiting recommendations to 10 titles         \n",
    "            if len(recs) > 10:\n",
    "                recs = recs[:10]\n",
    "            print(\"You might like the following books : \")\n",
    "            for r in recs:\n",
    "                print(\"\\t\", r)  "
   ]
  },
  {
   "cell_type": "code",
   "execution_count": 70,
   "id": "8403e74b-7a0e-4d59-83ed-24ec9360c87b",
   "metadata": {
    "tags": []
   },
   "outputs": [
    {
     "name": "stdout",
     "output_type": "stream",
     "text": [
      "You might like the following books : \n",
      "\t karl marx: a life\n",
      "\t the pet shop mystery (boxcar children special, no 7)\n",
      "\t in the bleak midwinter (a rev. clare ferguson mystery)\n",
      "\t the golden compass (his dark materials, book 1)\n",
      "\t socks (cleary reissue)\n",
      "\t johnny under ground (inspector henry tibbett mystery)\n",
      "\t playboy sheikh (man of the month/sons of the desert) (silhouette desire, no. 1417)\n",
      "\t lady of avalon\n",
      "\t daughters of the moon: night shade - book #3 (daughters of the moon, 3)\n",
      "\t quoth the raven\n"
     ]
    }
   ],
   "source": [
    "# Getting recommendations for passed user id using User-based Collaborative Filtering\n",
    "user_colab_recommender(4017)"
   ]
  },
  {
   "cell_type": "code",
   "execution_count": 71,
   "id": "662ef8c4-a503-44d4-87f6-20ff18b38d84",
   "metadata": {
    "tags": []
   },
   "outputs": [
    {
     "name": "stdout",
     "output_type": "stream",
     "text": [
      "There don't seem to be any recommendations for your books.\n",
      "However, you might enjoy these popular books : \n",
      "\t flesh and blood\n",
      "\t the subtle knife (his dark materials, book 2)\n",
      "\t the face\n",
      "\t housekeeping\n",
      "\t the gift\n",
      "\t 2nd chance\n",
      "\t still life with woodpecker\n",
      "\t tiger prince\n",
      "\t breathing lessons\n",
      "\t the amber spyglass (his dark materials, book 3)\n"
     ]
    }
   ],
   "source": [
    "# Getting recommendations for passed user id using User-based Collaborative Filtering\n",
    "user_colab_recommender(162129)"
   ]
  },
  {
   "cell_type": "markdown",
   "id": "a8f35ca1-9295-4b13-99c0-9ab15df3560b",
   "metadata": {},
   "source": [
    "## Conclusion"
   ]
  },
  {
   "cell_type": "markdown",
   "id": "5e22eb0b-4839-4ffa-91f3-13224b7764fa",
   "metadata": {},
   "source": [
    "With sufficient metadata, we can include content based filtering when we don't have a history of user's preferences. Once a preference history is generated, we can use item-based collaborative filtering if the numbers of items are higher than users, and User-based collaborative filtering if we have a large userbase. We can also create a hybrid filteration system based on the aspects of these different systems that apply to our data."
   ]
  },
  {
   "cell_type": "code",
   "execution_count": null,
   "id": "609581db-4ba9-46d6-bea8-c0ce593e374f",
   "metadata": {},
   "outputs": [],
   "source": []
  }
 ],
 "metadata": {
  "kernelspec": {
   "display_name": "Python 3 (ipykernel)",
   "language": "python",
   "name": "python3"
  },
  "language_info": {
   "codemirror_mode": {
    "name": "ipython",
    "version": 3
   },
   "file_extension": ".py",
   "mimetype": "text/x-python",
   "name": "python",
   "nbconvert_exporter": "python",
   "pygments_lexer": "ipython3",
   "version": "3.8.16"
  }
 },
 "nbformat": 4,
 "nbformat_minor": 5
}
