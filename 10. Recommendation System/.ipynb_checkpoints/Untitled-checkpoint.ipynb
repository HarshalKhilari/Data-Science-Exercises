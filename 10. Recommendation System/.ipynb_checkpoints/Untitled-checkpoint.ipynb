{
 "cells": [
  {
   "cell_type": "markdown",
   "id": "bc396717-9374-4033-b9e9-6b45e1779363",
   "metadata": {},
   "source": [
    "# Build a recommender system by using cosine simillarties score\n",
    "---"
   ]
  },
  {
   "cell_type": "markdown",
   "id": "d76b14b0-4270-4506-979a-79f802c2541b",
   "metadata": {},
   "source": [
    "There are two types of filtering in a Recommender system:\n",
    "1. CONTENT-BASED FILTERING : Content-based recommender systems recommend items similar to the ones the user has liked before. The system analyzes the characteristics of the items that the user has already rated positively, such as genre, author, or director, and recommends items with similar attributes. This type of recommender system works well for recommending products that have well-defined and easily measurable attributes.\n",
    "2. COLLABORATIVE FILTERING : Collaborative filtering recommender systems recommend items based on the user's behavior and preferences, as well as the behavior and preferences of other users with similar tastes. This system works by analyzing the user's past behavior, such as the items they have rated or purchased, and recommending items that have been highly rated by other users with similar preferences. Collaborative filtering can be further divided into two categories: \n",
    "    - USER-BASED : User-based filtering recommends items based on the preferences of users with similar interests. \n",
    "    - ITEM-BASED : item-based filtering recommends items based on similarities between items."
   ]
  },
  {
   "cell_type": "markdown",
   "id": "18df595f-06a1-43f7-9eca-56973e485fd3",
   "metadata": {},
   "source": [
    "## Exploratory Data Analysis"
   ]
  },
  {
   "cell_type": "code",
   "execution_count": 1,
   "id": "8660753a-4f65-4d4e-8bad-fc5c1418f78a",
   "metadata": {
    "tags": []
   },
   "outputs": [],
   "source": [
    "# Importing necessary libraries\n",
    "import numpy as np\n",
    "import pandas as pd\n",
    "import matplotlib.pyplot as plt\n",
    "import seaborn as sns"
   ]
  },
  {
   "cell_type": "code",
   "execution_count": 2,
   "id": "13bcec3f-ad22-4eba-8a21-7235ae8bc168",
   "metadata": {
    "tags": []
   },
   "outputs": [],
   "source": [
    "# Setting style for plots\n",
    "plt.style.use('seaborn-v0_8')"
   ]
  },
  {
   "cell_type": "code",
   "execution_count": 3,
   "id": "b80b158e-4791-4f99-aa01-ce8c63a657ac",
   "metadata": {
    "tags": []
   },
   "outputs": [],
   "source": [
    "# Loading the dataset while ignoring encoding errors and using 'Unnamed: 0' as the index\n",
    "books = pd.read_csv('book.csv', encoding_errors='ignore', index_col = 'Unnamed: 0')"
   ]
  },
  {
   "cell_type": "code",
   "execution_count": 4,
   "id": "62fdf2e7-01b7-4a83-94b1-7f4fc734a1a2",
   "metadata": {
    "tags": []
   },
   "outputs": [
    {
     "data": {
      "text/plain": [
       "(10000, 3)"
      ]
     },
     "execution_count": 4,
     "metadata": {},
     "output_type": "execute_result"
    }
   ],
   "source": [
    "# Getting the shape of the dataset\n",
    "books.shape"
   ]
  },
  {
   "cell_type": "markdown",
   "id": "24449222-49c5-4caa-9904-bec60c005c24",
   "metadata": {},
   "source": [
    "There are 10 thousand entries"
   ]
  },
  {
   "cell_type": "code",
   "execution_count": 5,
   "id": "22aa849c-1642-4e3e-b441-8da793e38f90",
   "metadata": {
    "tags": []
   },
   "outputs": [
    {
     "name": "stdout",
     "output_type": "stream",
     "text": [
      "<class 'pandas.core.frame.DataFrame'>\n",
      "Int64Index: 10000 entries, 1 to 10000\n",
      "Data columns (total 3 columns):\n",
      " #   Column       Non-Null Count  Dtype \n",
      "---  ------       --------------  ----- \n",
      " 0   User.ID      10000 non-null  int64 \n",
      " 1   Book.Title   10000 non-null  object\n",
      " 2   Book.Rating  10000 non-null  int64 \n",
      "dtypes: int64(2), object(1)\n",
      "memory usage: 312.5+ KB\n"
     ]
    }
   ],
   "source": [
    "# Getting details of the columns\n",
    "books.info()"
   ]
  },
  {
   "cell_type": "markdown",
   "id": "4dd44612-2b79-4b5e-ba1e-f8f8fd408ff2",
   "metadata": {},
   "source": [
    "The 3 features are :\n",
    "1. User ID\n",
    "2. Title of the book\n",
    "3. Rating for the book  \n",
    "\n",
    "There are no na values in any of them"
   ]
  },
  {
   "cell_type": "code",
   "execution_count": 6,
   "id": "7d570b36-dd5c-4a7f-8c58-04319d90a82c",
   "metadata": {
    "tags": []
   },
   "outputs": [],
   "source": [
    "# Renaming the columns\n",
    "books.columns = ['user_id', 'book_title', 'book_rating']"
   ]
  },
  {
   "cell_type": "code",
   "execution_count": 7,
   "id": "a9f53559-77e4-4244-a7e5-45f668970463",
   "metadata": {
    "tags": []
   },
   "outputs": [
    {
     "data": {
      "text/plain": [
       "user_id        2182\n",
       "book_title     9659\n",
       "book_rating      10\n",
       "dtype: int64"
      ]
     },
     "execution_count": 7,
     "metadata": {},
     "output_type": "execute_result"
    }
   ],
   "source": [
    "# Getting unique values for each column\n",
    "books.nunique()"
   ]
  },
  {
   "cell_type": "markdown",
   "id": "23849431-b9ad-47bd-a5af-e37b8c01f86c",
   "metadata": {},
   "source": [
    "There are 2182 total users, 9659 books, and 10 rating levels"
   ]
  },
  {
   "cell_type": "code",
   "execution_count": 8,
   "id": "db68ff7d-af2f-4d8b-9b08-1da01a661eb1",
   "metadata": {
    "tags": []
   },
   "outputs": [
    {
     "data": {
      "text/html": [
       "<div>\n",
       "<style scoped>\n",
       "    .dataframe tbody tr th:only-of-type {\n",
       "        vertical-align: middle;\n",
       "    }\n",
       "\n",
       "    .dataframe tbody tr th {\n",
       "        vertical-align: top;\n",
       "    }\n",
       "\n",
       "    .dataframe thead th {\n",
       "        text-align: right;\n",
       "    }\n",
       "</style>\n",
       "<table border=\"1\" class=\"dataframe\">\n",
       "  <thead>\n",
       "    <tr style=\"text-align: right;\">\n",
       "      <th></th>\n",
       "      <th>user_id</th>\n",
       "      <th>book_title</th>\n",
       "      <th>book_rating</th>\n",
       "    </tr>\n",
       "  </thead>\n",
       "  <tbody>\n",
       "    <tr>\n",
       "      <th>5052</th>\n",
       "      <td>2152</td>\n",
       "      <td>Le nouveau soleil de Teur</td>\n",
       "      <td>7</td>\n",
       "    </tr>\n",
       "    <tr>\n",
       "      <th>7440</th>\n",
       "      <td>3757</td>\n",
       "      <td>The Magician's Tale</td>\n",
       "      <td>7</td>\n",
       "    </tr>\n",
       "  </tbody>\n",
       "</table>\n",
       "</div>"
      ],
      "text/plain": [
       "      user_id                 book_title  book_rating\n",
       "5052     2152  Le nouveau soleil de Teur            7\n",
       "7440     3757        The Magician's Tale            7"
      ]
     },
     "execution_count": 8,
     "metadata": {},
     "output_type": "execute_result"
    }
   ],
   "source": [
    "# Checking for duplicated rows\n",
    "books[books.duplicated()]"
   ]
  },
  {
   "cell_type": "code",
   "execution_count": 9,
   "id": "57d8ce79-8a7a-4ae1-a852-95b0f2c4c1a2",
   "metadata": {
    "tags": []
   },
   "outputs": [],
   "source": [
    "# Dropping duplicated rows\n",
    "books.drop(index = books[books.duplicated()].index, inplace = True)"
   ]
  },
  {
   "cell_type": "code",
   "execution_count": 10,
   "id": "5b0a95ef-73ab-4a76-a3be-be18e2f29b90",
   "metadata": {
    "tags": []
   },
   "outputs": [],
   "source": [
    "# Resetting index after we've removed some rows\n",
    "books.reset_index(drop = True, inplace = True)"
   ]
  },
  {
   "cell_type": "code",
   "execution_count": 11,
   "id": "9589d6e6-e501-43ae-8dca-89be8f143baa",
   "metadata": {
    "tags": []
   },
   "outputs": [
    {
     "data": {
      "text/plain": [
       "2182"
      ]
     },
     "execution_count": 11,
     "metadata": {},
     "output_type": "execute_result"
    }
   ],
   "source": [
    "books.user_id.nunique()"
   ]
  },
  {
   "cell_type": "markdown",
   "id": "3d5046a1-aa80-41c3-976c-dd55c3b8b3fc",
   "metadata": {},
   "source": [
    "There are 2182 users"
   ]
  },
  {
   "cell_type": "code",
   "execution_count": 12,
   "id": "a6db2132-fe6c-46a8-adeb-63442c83f31c",
   "metadata": {
    "tags": []
   },
   "outputs": [
    {
     "data": {
      "text/html": [
       "<div>\n",
       "<style scoped>\n",
       "    .dataframe tbody tr th:only-of-type {\n",
       "        vertical-align: middle;\n",
       "    }\n",
       "\n",
       "    .dataframe tbody tr th {\n",
       "        vertical-align: top;\n",
       "    }\n",
       "\n",
       "    .dataframe thead th {\n",
       "        text-align: right;\n",
       "    }\n",
       "</style>\n",
       "<table border=\"1\" class=\"dataframe\">\n",
       "  <thead>\n",
       "    <tr style=\"text-align: right;\">\n",
       "      <th></th>\n",
       "      <th>user_id</th>\n",
       "      <th>n_books_rated</th>\n",
       "    </tr>\n",
       "  </thead>\n",
       "  <tbody>\n",
       "    <tr>\n",
       "      <th>0</th>\n",
       "      <td>3757</td>\n",
       "      <td>522</td>\n",
       "    </tr>\n",
       "    <tr>\n",
       "      <th>1</th>\n",
       "      <td>162052</td>\n",
       "      <td>214</td>\n",
       "    </tr>\n",
       "    <tr>\n",
       "      <th>2</th>\n",
       "      <td>2276</td>\n",
       "      <td>212</td>\n",
       "    </tr>\n",
       "    <tr>\n",
       "      <th>3</th>\n",
       "      <td>4017</td>\n",
       "      <td>156</td>\n",
       "    </tr>\n",
       "    <tr>\n",
       "      <th>4</th>\n",
       "      <td>277427</td>\n",
       "      <td>150</td>\n",
       "    </tr>\n",
       "    <tr>\n",
       "      <th>...</th>\n",
       "      <td>...</td>\n",
       "      <td>...</td>\n",
       "    </tr>\n",
       "    <tr>\n",
       "      <th>2177</th>\n",
       "      <td>969</td>\n",
       "      <td>1</td>\n",
       "    </tr>\n",
       "    <tr>\n",
       "      <th>2178</th>\n",
       "      <td>967</td>\n",
       "      <td>1</td>\n",
       "    </tr>\n",
       "    <tr>\n",
       "      <th>2179</th>\n",
       "      <td>965</td>\n",
       "      <td>1</td>\n",
       "    </tr>\n",
       "    <tr>\n",
       "      <th>2180</th>\n",
       "      <td>951</td>\n",
       "      <td>1</td>\n",
       "    </tr>\n",
       "    <tr>\n",
       "      <th>2181</th>\n",
       "      <td>162129</td>\n",
       "      <td>1</td>\n",
       "    </tr>\n",
       "  </tbody>\n",
       "</table>\n",
       "<p>2182 rows × 2 columns</p>\n",
       "</div>"
      ],
      "text/plain": [
       "      user_id  n_books_rated\n",
       "0        3757            522\n",
       "1      162052            214\n",
       "2        2276            212\n",
       "3        4017            156\n",
       "4      277427            150\n",
       "...       ...            ...\n",
       "2177      969              1\n",
       "2178      967              1\n",
       "2179      965              1\n",
       "2180      951              1\n",
       "2181   162129              1\n",
       "\n",
       "[2182 rows x 2 columns]"
      ]
     },
     "execution_count": 12,
     "metadata": {},
     "output_type": "execute_result"
    }
   ],
   "source": [
    "# Getting the number of books a user has rated\n",
    "user_value_counts = books.user_id.value_counts().to_frame(name = 'n_books_rated').reset_index(names = 'user_id')\n",
    "user_value_counts"
   ]
  },
  {
   "cell_type": "code",
   "execution_count": 13,
   "id": "113359c0-e691-4206-a865-c9e5dcf33bd6",
   "metadata": {
    "tags": []
   },
   "outputs": [
    {
     "data": {
      "text/html": [
       "<div>\n",
       "<style scoped>\n",
       "    .dataframe tbody tr th:only-of-type {\n",
       "        vertical-align: middle;\n",
       "    }\n",
       "\n",
       "    .dataframe tbody tr th {\n",
       "        vertical-align: top;\n",
       "    }\n",
       "\n",
       "    .dataframe thead th {\n",
       "        text-align: right;\n",
       "    }\n",
       "</style>\n",
       "<table border=\"1\" class=\"dataframe\">\n",
       "  <thead>\n",
       "    <tr style=\"text-align: right;\">\n",
       "      <th></th>\n",
       "      <th>user_id</th>\n",
       "      <th>n_books_rated</th>\n",
       "    </tr>\n",
       "  </thead>\n",
       "  <tbody>\n",
       "    <tr>\n",
       "      <th>0</th>\n",
       "      <td>3757</td>\n",
       "      <td>522</td>\n",
       "    </tr>\n",
       "    <tr>\n",
       "      <th>1</th>\n",
       "      <td>162052</td>\n",
       "      <td>214</td>\n",
       "    </tr>\n",
       "    <tr>\n",
       "      <th>2</th>\n",
       "      <td>2276</td>\n",
       "      <td>212</td>\n",
       "    </tr>\n",
       "    <tr>\n",
       "      <th>3</th>\n",
       "      <td>4017</td>\n",
       "      <td>156</td>\n",
       "    </tr>\n",
       "    <tr>\n",
       "      <th>4</th>\n",
       "      <td>277427</td>\n",
       "      <td>150</td>\n",
       "    </tr>\n",
       "    <tr>\n",
       "      <th>...</th>\n",
       "      <td>...</td>\n",
       "      <td>...</td>\n",
       "    </tr>\n",
       "    <tr>\n",
       "      <th>854</th>\n",
       "      <td>4035</td>\n",
       "      <td>2</td>\n",
       "    </tr>\n",
       "    <tr>\n",
       "      <th>855</th>\n",
       "      <td>433</td>\n",
       "      <td>2</td>\n",
       "    </tr>\n",
       "    <tr>\n",
       "      <th>856</th>\n",
       "      <td>3197</td>\n",
       "      <td>2</td>\n",
       "    </tr>\n",
       "    <tr>\n",
       "      <th>857</th>\n",
       "      <td>1759</td>\n",
       "      <td>2</td>\n",
       "    </tr>\n",
       "    <tr>\n",
       "      <th>858</th>\n",
       "      <td>277962</td>\n",
       "      <td>2</td>\n",
       "    </tr>\n",
       "  </tbody>\n",
       "</table>\n",
       "<p>859 rows × 2 columns</p>\n",
       "</div>"
      ],
      "text/plain": [
       "     user_id  n_books_rated\n",
       "0       3757            522\n",
       "1     162052            214\n",
       "2       2276            212\n",
       "3       4017            156\n",
       "4     277427            150\n",
       "..       ...            ...\n",
       "854     4035              2\n",
       "855      433              2\n",
       "856     3197              2\n",
       "857     1759              2\n",
       "858   277962              2\n",
       "\n",
       "[859 rows x 2 columns]"
      ]
     },
     "execution_count": 13,
     "metadata": {},
     "output_type": "execute_result"
    }
   ],
   "source": [
    "# Getting a dataframe of entries where users have rated more than 1 book\n",
    "user_value_counts[user_value_counts.n_books_rated != 1]"
   ]
  },
  {
   "cell_type": "markdown",
   "id": "3bfdad0b-dcb4-41d6-b867-a3fc1f47bb8f",
   "metadata": {},
   "source": [
    "Out of 2182, only 859 users have rated multiple books. 1323 users have rated a single book. It will be difficult to recommend books for them, unless we use content based filtering, but we only have the book title here."
   ]
  },
  {
   "cell_type": "code",
   "execution_count": 14,
   "id": "71cc4f38-fed9-4535-887f-31c490ce571a",
   "metadata": {
    "tags": []
   },
   "outputs": [
    {
     "data": {
      "text/html": [
       "<div>\n",
       "<style scoped>\n",
       "    .dataframe tbody tr th:only-of-type {\n",
       "        vertical-align: middle;\n",
       "    }\n",
       "\n",
       "    .dataframe tbody tr th {\n",
       "        vertical-align: top;\n",
       "    }\n",
       "\n",
       "    .dataframe thead th {\n",
       "        text-align: right;\n",
       "    }\n",
       "</style>\n",
       "<table border=\"1\" class=\"dataframe\">\n",
       "  <thead>\n",
       "    <tr style=\"text-align: right;\">\n",
       "      <th></th>\n",
       "      <th>n_books_rated</th>\n",
       "      <th>n_users</th>\n",
       "    </tr>\n",
       "  </thead>\n",
       "  <tbody>\n",
       "    <tr>\n",
       "      <th>0</th>\n",
       "      <td>1</td>\n",
       "      <td>1323</td>\n",
       "    </tr>\n",
       "    <tr>\n",
       "      <th>1</th>\n",
       "      <td>2</td>\n",
       "      <td>247</td>\n",
       "    </tr>\n",
       "    <tr>\n",
       "      <th>2</th>\n",
       "      <td>3</td>\n",
       "      <td>143</td>\n",
       "    </tr>\n",
       "    <tr>\n",
       "      <th>3</th>\n",
       "      <td>4</td>\n",
       "      <td>89</td>\n",
       "    </tr>\n",
       "    <tr>\n",
       "      <th>4</th>\n",
       "      <td>5</td>\n",
       "      <td>66</td>\n",
       "    </tr>\n",
       "    <tr>\n",
       "      <th>...</th>\n",
       "      <td>...</td>\n",
       "      <td>...</td>\n",
       "    </tr>\n",
       "    <tr>\n",
       "      <th>63</th>\n",
       "      <td>43</td>\n",
       "      <td>1</td>\n",
       "    </tr>\n",
       "    <tr>\n",
       "      <th>64</th>\n",
       "      <td>38</td>\n",
       "      <td>1</td>\n",
       "    </tr>\n",
       "    <tr>\n",
       "      <th>65</th>\n",
       "      <td>37</td>\n",
       "      <td>1</td>\n",
       "    </tr>\n",
       "    <tr>\n",
       "      <th>66</th>\n",
       "      <td>214</td>\n",
       "      <td>1</td>\n",
       "    </tr>\n",
       "    <tr>\n",
       "      <th>67</th>\n",
       "      <td>34</td>\n",
       "      <td>1</td>\n",
       "    </tr>\n",
       "  </tbody>\n",
       "</table>\n",
       "<p>68 rows × 2 columns</p>\n",
       "</div>"
      ],
      "text/plain": [
       "    n_books_rated  n_users\n",
       "0               1     1323\n",
       "1               2      247\n",
       "2               3      143\n",
       "3               4       89\n",
       "4               5       66\n",
       "..            ...      ...\n",
       "63             43        1\n",
       "64             38        1\n",
       "65             37        1\n",
       "66            214        1\n",
       "67             34        1\n",
       "\n",
       "[68 rows x 2 columns]"
      ]
     },
     "execution_count": 14,
     "metadata": {},
     "output_type": "execute_result"
    }
   ],
   "source": [
    "# Getting the number of users who have rated a specific number of books\n",
    "rating_rate = user_value_counts.n_books_rated.value_counts().to_frame(name = 'n_users').reset_index(names = 'n_books_rated')\n",
    "rating_rate"
   ]
  },
  {
   "cell_type": "code",
   "execution_count": 15,
   "id": "5ae70ac4-3b04-4093-b08d-52f6e190955f",
   "metadata": {
    "tags": []
   },
   "outputs": [
    {
     "data": {
      "text/plain": [
       "Text(0.5, 1.0, 'Book Rating Rate')"
      ]
     },
     "execution_count": 15,
     "metadata": {},
     "output_type": "execute_result"
    },
    {
     "data": {
      "image/png": "[encoded data removed]",
      "text/plain": [
       "<Figure size 1600x1600 with 1 Axes>"
      ]
     },
     "metadata": {},
     "output_type": "display_data"
    }
   ],
   "source": [
    "# Barplot of the number of users who have rated a specific number of books\n",
    "plt.figure(figsize = (16,16))\n",
    "sns.barplot(rating_rate, x = 'n_users', y = 'n_books_rated', orient = 'h', errorbar = None)\n",
    "plt.xlabel(\"No. of Users\")\n",
    "plt.ylabel(\"No. of books rated\")\n",
    "plt.title(\"Book Rating Rate\")"
   ]
  },
  {
   "cell_type": "markdown",
   "id": "57616f6e-a91d-4b34-94f1-bc417cd0d720",
   "metadata": {},
   "source": [
    "We can see that most users have rated a very few books. This presents a problem for us as it will be difficult to apply Collabarative Filtering as the history of user preference for most users is very small"
   ]
  },
  {
   "cell_type": "code",
   "execution_count": 16,
   "id": "9be1311d-10af-4214-9e9c-1fd581d39bcd",
   "metadata": {
    "tags": []
   },
   "outputs": [
    {
     "data": {
      "text/plain": [
       "Text(0.5, 1.0, 'Frequency of Each Rating')"
      ]
     },
     "execution_count": 16,
     "metadata": {},
     "output_type": "execute_result"
    },
    {
     "data": {
      "image/png": "[encoded data removed]",
      "text/plain": [
       "<Figure size 800x550 with 1 Axes>"
      ]
     },
     "metadata": {},
     "output_type": "display_data"
    }
   ],
   "source": [
    "# Countplot for frequency of each rating\n",
    "sns.countplot(books, x = 'book_rating')\n",
    "plt.xlabel(\"Rating\")\n",
    "plt.title(\"Frequency of Each Rating\")"
   ]
  },
  {
   "cell_type": "markdown",
   "id": "736707f3-70fa-466b-aba7-d8e79f4a9ed2",
   "metadata": {},
   "source": [
    "The frequency for each rating seems to be rising exponentially, except for 5, 7, and 8 which seem to out do the pattern. This could be due to the user's tendency to give a rating of 5 of they don't feel strongly about the book, or 7 or 8 if they like the book but don't want to overstate its quality."
   ]
  },
  {
   "cell_type": "markdown",
   "id": "c6bbc5b6-cade-465d-8c01-be2472cb3bff",
   "metadata": {},
   "source": [
    "## Content Based Filtering"
   ]
  },
  {
   "cell_type": "code",
   "execution_count": 17,
   "id": "7644261a-a524-41ec-8aca-a8c5f3297f6d",
   "metadata": {
    "tags": []
   },
   "outputs": [],
   "source": [
    "# Making a copy of books dataframe\n",
    "df = books.copy()"
   ]
  },
  {
   "cell_type": "code",
   "execution_count": 18,
   "id": "da8700f1-ca43-4f90-a072-7552430bb9e7",
   "metadata": {
    "tags": []
   },
   "outputs": [
    {
     "data": {
      "text/plain": [
       "Fahrenheit 451                                              5\n",
       "Stardust                                                    4\n",
       "The Amber Spyglass (His Dark Materials, Book 3)             4\n",
       "Ender's Game (Ender Wiggins Saga (Paperback))               4\n",
       "The Subtle Knife (His Dark Materials, Book 2)               4\n",
       "                                                           ..\n",
       "Murder on St. Mark's Place (Gaslight Mysteries)             1\n",
       "State of Grace                                              1\n",
       "Valsalva's Maneuver: Mots Justes and Indispensable Terms    1\n",
       "I love you, I hate you                                      1\n",
       "Kids Say the Darndest Things                                1\n",
       "Name: book_title, Length: 9659, dtype: int64"
      ]
     },
     "execution_count": 18,
     "metadata": {},
     "output_type": "execute_result"
    }
   ],
   "source": [
    "# Checking value count for a book\n",
    "df.book_title.value_counts()"
   ]
  },
  {
   "cell_type": "code",
   "execution_count": 27,
   "id": "c85b6b7e-189e-41fc-ae59-23dc32059f1e",
   "metadata": {
    "tags": []
   },
   "outputs": [],
   "source": [
    "# Importing necessary libraries for text feature extraction\n",
    "from sklearn.feature_extraction.text import TfidfVectorizer\n",
    "\n",
    "# Creating a Tf-Idf Vectorizer\n",
    "tfidf = TfidfVectorizer(stop_words='english')"
   ]
  },
  {
   "cell_type": "code",
   "execution_count": 40,
   "id": "34834a5c-ff12-423a-9ced-30c3547b75e4",
   "metadata": {
    "tags": []
   },
   "outputs": [],
   "source": [
    "# Getting unique titles into a list\n",
    "titles = df.book_title.unique().tolist()"
   ]
  },
  {
   "cell_type": "code",
   "execution_count": 41,
   "id": "0c0683c3-9cf7-461d-8ed4-10b45bc9cea0",
   "metadata": {
    "tags": []
   },
   "outputs": [],
   "source": [
    "# Creatinga a Tf-Idf matrix for book_title column\n",
    "tfidf_matrix = tfidf.fit_transform(titles)"
   ]
  },
  {
   "cell_type": "code",
   "execution_count": 44,
   "id": "9c6e987c-98b4-4b51-8bde-f356c43caaa7",
   "metadata": {
    "tags": []
   },
   "outputs": [],
   "source": [
    "# Importing necessary libraries for computing cosine similarities\n",
    "from sklearn.metrics.pairwise import cosine_similarity\n",
    "\n",
    "# Computing cosine similarity for each user in the tfidf_matrix\n",
    "cos_sim = cosine_similarity(tfidf_matrix)"
   ]
  },
  {
   "cell_type": "markdown",
   "id": "00d28949-8384-4863-9431-4ffb83e0dd5a",
   "metadata": {},
   "source": [
    "9659 unique book titles and their similarity with every other title. Every entry has a similarity of 1 with itself. Let us convert that to 0, so that it will not show as the maximum similar entry for itself"
   ]
  },
  {
   "cell_type": "code",
   "execution_count": 49,
   "id": "37fb87c2-fc15-4996-ab97-a0626cd8eb6d",
   "metadata": {
    "tags": []
   },
   "outputs": [],
   "source": [
    "# Filling entries with same index with 0\n",
    "np.fill_diagonal(cos_sim, 0)"
   ]
  },
  {
   "cell_type": "code",
   "execution_count": 56,
   "id": "235b9264-0719-48fc-9d10-2b297b6dfc8d",
   "metadata": {
    "tags": []
   },
   "outputs": [
    {
     "data": {
      "text/plain": [
       "1541"
      ]
     },
     "execution_count": 56,
     "metadata": {},
     "output_type": "execute_result"
    }
   ],
   "source": [
    "# finding index of the most similar title for title with index 100\n",
    "cos_sim[100].argmax()"
   ]
  },
  {
   "cell_type": "markdown",
   "id": "cc2aae2b-0e90-49f5-a0c0-fe62b4f6024a",
   "metadata": {},
   "source": [
    "This works for getting 1 similar book. Let's try to get 10 similar recommendations : "
   ]
  },
  {
   "cell_type": "code",
   "execution_count": 73,
   "id": "9927019c-db84-42ae-ae06-7cd3ed83c0fd",
   "metadata": {
    "tags": []
   },
   "outputs": [
    {
     "name": "stdout",
     "output_type": "stream",
     "text": [
      "Similar to Prize Stories, 1987: The O'Henry Awards : \n",
      "La L?©gende d'Henry Smart\n",
      "Prize the Epic Quest for Oil Money and Pow\n",
      "The Wonderful Story of Henry Sugar and Six More\n",
      "Twice in a Blue Moon: An Inspector Henry Tibbett Mystery (A Henry Holt Mystery)\n",
      "Henry VIII\n",
      "Inventing the Abbotts and Other Stories (Harper &amp; Row, 1987)\n",
      "The Kite Runner (Alex Awards (Awards))\n",
      "When the Emperor Was Divine (Alex Awards (Awards))\n",
      "True Notebooks (Alex Awards (Awards))\n",
      "The Eyre Affair (Alex Awards (Awards))\n"
     ]
    }
   ],
   "source": [
    "# Getting index of top 10 similar titles to title at index 100\n",
    "ind = np.argpartition(cos_sim[100], -10)[-10:]\n",
    "# Sorting these indexes by similarity of their titles to title at index 100\n",
    "sim_ind = ind[np.argsort(cos_sim[100][ind])]\n",
    "\n",
    "print(f\"Similar to {titles[100]} : \")\n",
    "for i in sim_ind:\n",
    "    print(titles[i])"
   ]
  },
  {
   "cell_type": "markdown",
   "id": "11852770-c0e8-4fa5-9519-4c730c494141",
   "metadata": {},
   "source": [
    "Let's unify the above code into a function : "
   ]
  },
  {
   "cell_type": "code",
   "execution_count": 76,
   "id": "58626624-da42-40f4-af3e-948bfa37450b",
   "metadata": {
    "tags": []
   },
   "outputs": [],
   "source": [
    "def recommend_by_content(title):\n",
    "    if title in titles:\n",
    "        index = titles.index(title)\n",
    "    else:\n",
    "        print(\"Book not found in library. Check Spelling.\")\n",
    "        return\n",
    "    ind = np.argpartition(cos_sim[index], -10)[-10:]\n",
    "    sim_ind = ind[np.argsort(cos_sim[index][ind])]\n",
    "    print(f\"Similar to {titles[index]} : \")\n",
    "    for i in sim_ind:\n",
    "        print(titles[i])"
   ]
  },
  {
   "cell_type": "code",
   "execution_count": 77,
   "id": "d3e8b637-fa38-4ed9-bffc-33d8414eb381",
   "metadata": {
    "tags": []
   },
   "outputs": [
    {
     "name": "stdout",
     "output_type": "stream",
     "text": [
      "Similar to The Kite Runner (Alex Awards (Awards)) : \n",
      "Over the Edge: An Alex Delaware Novel (Alex Delaware Novels (Paperback))\n",
      "Where No Gods Came (Michigan Literary Fiction Awards)\n",
      "Blade Runner\n",
      "Midnight Runner\n",
      "The Darwin Awards II: Unnatural Selection\n",
      "Prize Stories, 1987: The O'Henry Awards\n",
      "The Dive From Clausen's Pier (Alex Awards)\n",
      "When the Emperor Was Divine (Alex Awards (Awards))\n",
      "True Notebooks (Alex Awards (Awards))\n",
      "The Eyre Affair (Alex Awards (Awards))\n"
     ]
    }
   ],
   "source": [
    "recommend_by_content(\"The Kite Runner (Alex Awards (Awards))\")"
   ]
  },
  {
   "cell_type": "code",
   "execution_count": null,
   "id": "2990d832-d741-4d6a-a57e-88629704ebdf",
   "metadata": {},
   "outputs": [],
   "source": []
  }
 ],
 "metadata": {
  "kernelspec": {
   "display_name": "Python 3 (ipykernel)",
   "language": "python",
   "name": "python3"
  },
  "language_info": {
   "codemirror_mode": {
    "name": "ipython",
    "version": 3
   },
   "file_extension": ".py",
   "mimetype": "text/x-python",
   "name": "python",
   "nbconvert_exporter": "python",
   "pygments_lexer": "ipython3",
   "version": "3.8.16"
  }
 },
 "nbformat": 4,
 "nbformat_minor": 5
}
