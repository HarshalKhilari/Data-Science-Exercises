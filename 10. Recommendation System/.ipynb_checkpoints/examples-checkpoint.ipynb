{
 "cells": [
  {
   "cell_type": "code",
   "execution_count": 2,
   "id": "9af72e87-821c-40ad-959c-ed9aeb5e6a8d",
   "metadata": {
    "tags": []
   },
   "outputs": [],
   "source": [
    "import pandas as pd\n",
    "from sklearn.feature_extraction.text import TfidfVectorizer\n",
    "from sklearn.metrics.pairwise import cosine_similarity"
   ]
  },
  {
   "cell_type": "code",
   "execution_count": 5,
   "id": "622d70d6-0c3b-4ea5-8f01-020eccd0c648",
   "metadata": {
    "tags": []
   },
   "outputs": [],
   "source": [
    "# Load dataset\n",
    "df = pd.read_csv(\"book.csv\", encoding_errors='ignore', index_col = 'Unnamed: 0')"
   ]
  },
  {
   "cell_type": "code",
   "execution_count": 9,
   "id": "6db30039-cec1-481c-be13-700307b898df",
   "metadata": {
    "tags": []
   },
   "outputs": [],
   "source": [
    "df.drop(index = df[df.duplicated()].index, inplace = True)"
   ]
  },
  {
   "cell_type": "code",
   "execution_count": 15,
   "id": "607a2a46-29fa-4c3d-9022-91f27b2135f8",
   "metadata": {
    "tags": []
   },
   "outputs": [],
   "source": [
    "df.reset_index(drop=True, inplace = True)"
   ]
  },
  {
   "cell_type": "code",
   "execution_count": 17,
   "id": "4f145f29-c972-43ac-8134-9e9841c60ab3",
   "metadata": {
    "tags": []
   },
   "outputs": [],
   "source": [
    "df.columns = ['user_id', 'title', 'rating']"
   ]
  },
  {
   "cell_type": "code",
   "execution_count": 18,
   "id": "32944dd8-5897-40af-a550-0260354cf4d5",
   "metadata": {
    "tags": []
   },
   "outputs": [
    {
     "data": {
      "text/html": [
       "<div>\n",
       "<style scoped>\n",
       "    .dataframe tbody tr th:only-of-type {\n",
       "        vertical-align: middle;\n",
       "    }\n",
       "\n",
       "    .dataframe tbody tr th {\n",
       "        vertical-align: top;\n",
       "    }\n",
       "\n",
       "    .dataframe thead th {\n",
       "        text-align: right;\n",
       "    }\n",
       "</style>\n",
       "<table border=\"1\" class=\"dataframe\">\n",
       "  <thead>\n",
       "    <tr style=\"text-align: right;\">\n",
       "      <th></th>\n",
       "      <th>user_id</th>\n",
       "      <th>title</th>\n",
       "      <th>rating</th>\n",
       "    </tr>\n",
       "  </thead>\n",
       "  <tbody>\n",
       "    <tr>\n",
       "      <th>0</th>\n",
       "      <td>276726</td>\n",
       "      <td>Classical Mythology</td>\n",
       "      <td>5</td>\n",
       "    </tr>\n",
       "    <tr>\n",
       "      <th>1</th>\n",
       "      <td>276729</td>\n",
       "      <td>Clara Callan</td>\n",
       "      <td>3</td>\n",
       "    </tr>\n",
       "    <tr>\n",
       "      <th>2</th>\n",
       "      <td>276729</td>\n",
       "      <td>Decision in Normandy</td>\n",
       "      <td>6</td>\n",
       "    </tr>\n",
       "    <tr>\n",
       "      <th>3</th>\n",
       "      <td>276736</td>\n",
       "      <td>Flu: The Story of the Great Influenza Pandemic...</td>\n",
       "      <td>8</td>\n",
       "    </tr>\n",
       "    <tr>\n",
       "      <th>4</th>\n",
       "      <td>276737</td>\n",
       "      <td>The Mummies of Urumchi</td>\n",
       "      <td>6</td>\n",
       "    </tr>\n",
       "    <tr>\n",
       "      <th>...</th>\n",
       "      <td>...</td>\n",
       "      <td>...</td>\n",
       "      <td>...</td>\n",
       "    </tr>\n",
       "    <tr>\n",
       "      <th>9993</th>\n",
       "      <td>162121</td>\n",
       "      <td>American Fried: Adventures of a Happy Eater.</td>\n",
       "      <td>7</td>\n",
       "    </tr>\n",
       "    <tr>\n",
       "      <th>9994</th>\n",
       "      <td>162121</td>\n",
       "      <td>Cannibal In Manhattan</td>\n",
       "      <td>9</td>\n",
       "    </tr>\n",
       "    <tr>\n",
       "      <th>9995</th>\n",
       "      <td>162121</td>\n",
       "      <td>How to Flirt: A Practical Guide</td>\n",
       "      <td>7</td>\n",
       "    </tr>\n",
       "    <tr>\n",
       "      <th>9996</th>\n",
       "      <td>162121</td>\n",
       "      <td>Twilight</td>\n",
       "      <td>8</td>\n",
       "    </tr>\n",
       "    <tr>\n",
       "      <th>9997</th>\n",
       "      <td>162129</td>\n",
       "      <td>Kids Say the Darndest Things</td>\n",
       "      <td>6</td>\n",
       "    </tr>\n",
       "  </tbody>\n",
       "</table>\n",
       "<p>9998 rows × 3 columns</p>\n",
       "</div>"
      ],
      "text/plain": [
       "      user_id                                              title  rating\n",
       "0      276726                                Classical Mythology       5\n",
       "1      276729                                       Clara Callan       3\n",
       "2      276729                               Decision in Normandy       6\n",
       "3      276736  Flu: The Story of the Great Influenza Pandemic...       8\n",
       "4      276737                             The Mummies of Urumchi       6\n",
       "...       ...                                                ...     ...\n",
       "9993   162121       American Fried: Adventures of a Happy Eater.       7\n",
       "9994   162121                              Cannibal In Manhattan       9\n",
       "9995   162121                    How to Flirt: A Practical Guide       7\n",
       "9996   162121                                           Twilight       8\n",
       "9997   162129                       Kids Say the Darndest Things       6\n",
       "\n",
       "[9998 rows x 3 columns]"
      ]
     },
     "execution_count": 18,
     "metadata": {},
     "output_type": "execute_result"
    }
   ],
   "source": [
    "df"
   ]
  },
  {
   "cell_type": "code",
   "execution_count": 19,
   "id": "3d8bbb4d-9ed4-4228-b44f-a4ec544fa5ff",
   "metadata": {
    "tags": []
   },
   "outputs": [],
   "source": [
    "# Convert overview to TF-IDF vectors\n",
    "tfidf = TfidfVectorizer(stop_words=\"english\")\n",
    "tfidf_matrix = tfidf.fit_transform(df[\"title\"])"
   ]
  },
  {
   "cell_type": "code",
   "execution_count": 42,
   "id": "6a817e00-8957-4ddc-8f20-ee21858b1734",
   "metadata": {
    "tags": []
   },
   "outputs": [],
   "source": [
    "tfidf_dense = tfidf_matrix.todense()"
   ]
  },
  {
   "cell_type": "code",
   "execution_count": 44,
   "id": "3e3da406-0775-451d-aedb-e1d92d55283b",
   "metadata": {
    "tags": []
   },
   "outputs": [
    {
     "data": {
      "text/plain": [
       "0        2259\n",
       "1        1814\n",
       "2        2929\n",
       "3        1994\n",
       "4        6914\n",
       "        ...  \n",
       "9993     3436\n",
       "9994     1864\n",
       "9995     4123\n",
       "9996    10537\n",
       "9997     2858\n",
       "Length: 9998, dtype: int64"
      ]
     },
     "execution_count": 44,
     "metadata": {},
     "output_type": "execute_result"
    }
   ],
   "source": [
    "pd.DataFrame(tfidf_dense).idxmax(axis = 1)"
   ]
  },
  {
   "cell_type": "code",
   "execution_count": 30,
   "id": "d2ff4192-e4ed-4335-85b7-49308fd67f54",
   "metadata": {
    "tags": []
   },
   "outputs": [],
   "source": [
    "# Calculate cosine similarity between movies\n",
    "cosine_sim = cosine_similarity(tfidf_matrix, tfidf_matrix)"
   ]
  },
  {
   "cell_type": "code",
   "execution_count": 53,
   "id": "64ca59ca-d29b-4fd8-86cb-ccd0404f564f",
   "metadata": {
    "tags": []
   },
   "outputs": [],
   "source": [
    "# Define function to get recommendations based on cosine similarity\n",
    "def get_recommendations(title, cosine_sim=cosine_sim, df=df):\n",
    "    # Get index of movie that matches title\n",
    "    idx = df.index[df[\"title\"] == title][0]\n",
    "    \n",
    "    # Get list of cosine similarities for that movie\n",
    "    sim_scores = list(enumerate(cosine_sim[idx]))\n",
    "    \n",
    "    # Sort movies by cosine similarity score\n",
    "    sim_scores = sorted(sim_scores, key=lambda x: x[1], reverse=True)\n",
    "    \n",
    "    # Get top 10 most similar movies (excluding itself)\n",
    "    sim_scores = sim_scores[1:11]\n",
    "    \n",
    "    # Get indices of those top 10 books\n",
    "    book_indices = [i[0] for i in sim_scores]\n",
    "    \n",
    "    # Return titles of top 10 most similar movies\n",
    "    return df[\"title\"].iloc[book_indices]"
   ]
  },
  {
   "cell_type": "code",
   "execution_count": 54,
   "id": "0c5902f8-b2fe-4987-ab0d-b0bb89e4445c",
   "metadata": {
    "tags": []
   },
   "outputs": [
    {
     "data": {
      "text/plain": [
       "2724                                    The Ways of Grace\n",
       "872                                          Saving Grace\n",
       "5451                         Why Grace Changes Everything\n",
       "8655                                         Mortal Grace\n",
       "2016                                          Alias Grace\n",
       "1514                                Alias Grace : A Novel\n",
       "873                              Lena (50 State Quarters)\n",
       "5230         Interesting Facts About the State of Arizona\n",
       "5440              Style: Ten Lessons in Clarity and Grace\n",
       "7699    California: From the Golden State Come Four Mo...\n",
       "Name: title, dtype: object"
      ]
     },
     "execution_count": 54,
     "metadata": {},
     "output_type": "execute_result"
    }
   ],
   "source": [
    "# Example usage\n",
    "get_recommendations(\"State of Grace\")"
   ]
  },
  {
   "cell_type": "code",
   "execution_count": null,
   "id": "775315de-7bd7-4f44-a747-6d8678391c39",
   "metadata": {},
   "outputs": [],
   "source": []
  },
  {
   "cell_type": "code",
   "execution_count": null,
   "id": "53c02598-2d01-4368-8609-1f81a6b923fe",
   "metadata": {},
   "outputs": [],
   "source": []
  },
  {
   "cell_type": "code",
   "execution_count": null,
   "id": "7b31b5e9-f0bb-4169-a390-0d55663ff9c2",
   "metadata": {},
   "outputs": [],
   "source": []
  },
  {
   "cell_type": "code",
   "execution_count": null,
   "id": "31313513-ca79-448c-a80c-03a77a9995be",
   "metadata": {},
   "outputs": [],
   "source": []
  },
  {
   "cell_type": "markdown",
   "id": "b411a255-0d72-4b14-813f-d2464e7568b9",
   "metadata": {},
   "source": [
    "# Content Based"
   ]
  },
  {
   "cell_type": "markdown",
   "id": "b6a3dbee-643d-4a08-a938-b9c07bb133f7",
   "metadata": {},
   "source": [
    "This code assumes that you have a CSV file named \"movies.csv\" with columns \"title\" and \"overview\" (a brief description of the movie). You can adjust the code to fit your specific dataset and needs."
   ]
  },
  {
   "cell_type": "code",
   "execution_count": null,
   "id": "1d14ea82-e7b9-4b43-bcfd-de9464892be0",
   "metadata": {},
   "outputs": [],
   "source": [
    "import pandas as pd\n",
    "from sklearn.feature_extraction.text import TfidfVectorizer\n",
    "from sklearn.metrics.pairwise import cosine_similarity\n",
    "\n",
    "# Load dataset\n",
    "df = pd.read_csv(\"movies.csv\")\n",
    "\n",
    "# Convert overview to TF-IDF vectors\n",
    "tfidf = TfidfVectorizer(stop_words=\"english\")\n",
    "tfidf_matrix = tfidf.fit_transform(df[\"overview\"])\n",
    "\n",
    "# Calculate cosine similarity between movies\n",
    "cosine_sim = cosine_similarity(tfidf_matrix, tfidf_matrix)\n",
    "\n",
    "# Define function to get recommendations based on cosine similarity\n",
    "def get_recommendations(title, cosine_sim=cosine_sim, df=df):\n",
    "    # Get index of movie that matches title\n",
    "    idx = df.index[df[\"title\"] == title][0]\n",
    "    \n",
    "    # Get list of cosine similarities for that movie\n",
    "    sim_scores = list(enumerate(cosine_sim[idx]))\n",
    "    \n",
    "    # Sort movies by cosine similarity score\n",
    "    sim_scores = sorted(sim_scores, key=lambda x: x[1], reverse=True)\n",
    "    \n",
    "    # Get top 10 most similar movies (excluding itself)\n",
    "    sim_scores = sim_scores[1:11]\n",
    "    \n",
    "    # Get indices of those top 10 movies\n",
    "    movie_indices = [i[0] for i in sim_scores]\n",
    "    \n",
    "    # Return titles of top 10 most similar movies\n",
    "    return df[\"title\"].iloc[movie_indices]\n",
    "\n",
    "# Example usage\n",
    "get_recommendations(\"The Dark Knight\")\n"
   ]
  },
  {
   "cell_type": "markdown",
   "id": "33a8efdb-f3b1-4221-a61e-7b81eaea89ff",
   "metadata": {},
   "source": [
    "# Item Based Collaborative"
   ]
  },
  {
   "cell_type": "markdown",
   "id": "00ac4bb5-2c6c-49e2-bcbe-d1b72b0fcd09",
   "metadata": {},
   "source": [
    "This code assumes that you have a CSV file named \"ratings.csv\" with columns \"userId\", \"movieId\", \"rating\", and \"title\" (the title of the movie corresponding to the movieId). You can adjust the code to fit your specific dataset and needs.\n",
    "\n",
    "In this example, we first create a pivot table of ratings with users as rows and movies as columns, so that we have a matrix where each row represents a user and each column represents a movie, with the cell value being the rating given by that user to that movie (if any). We then calculate the cosine similarity between the movies using the cosine_similarity function from scikit-learn. Finally, we define a function to get recommendations based on the cosine similarity between movies, where the input is a movieId and the output is the titles of the top 10 most similar movies based on the cosine similarity scores."
   ]
  },
  {
   "cell_type": "code",
   "execution_count": null,
   "id": "cb8bbeae-373e-4a58-bb8e-cf61d981ca69",
   "metadata": {},
   "outputs": [],
   "source": [
    "import pandas as pd\n",
    "from sklearn.metrics.pairwise import cosine_similarity\n",
    "\n",
    "# Load dataset\n",
    "df = pd.read_csv(\"ratings.csv\")\n",
    "\n",
    "# Create pivot table of ratings with users as rows and movies as columns\n",
    "ratings_matrix = df.pivot_table(index=\"userId\", columns=\"movieId\", values=\"rating\")\n",
    "\n",
    "# Calculate cosine similarity between movies\n",
    "cosine_sim = cosine_similarity(ratings_matrix.T)\n",
    "\n",
    "# Define function to get recommendations based on cosine similarity\n",
    "def get_recommendations(movie_id, cosine_sim=cosine_sim, df=df):\n",
    "    # Get index of movie that matches movie_id\n",
    "    idx = df.index[df[\"movieId\"] == movie_id][0]\n",
    "    \n",
    "    # Get list of cosine similarities for that movie\n",
    "    sim_scores = list(enumerate(cosine_sim[idx]))\n",
    "    \n",
    "    # Sort movies by cosine similarity score\n",
    "    sim_scores = sorted(sim_scores, key=lambda x: x[1], reverse=True)\n",
    "    \n",
    "    # Get top 10 most similar movies (excluding itself)\n",
    "    sim_scores = sim_scores[1:11]\n",
    "    \n",
    "    # Get indices of those top 10 movies\n",
    "    movie_indices = [i[0] for i in sim_scores]\n",
    "    \n",
    "    # Return titles of top 10 most similar movies\n",
    "    return df[\"title\"].iloc[movie_indices]\n",
    "\n",
    "# Example usage\n",
    "get_recommendations(1)"
   ]
  },
  {
   "cell_type": "markdown",
   "id": "90af4e30-d8b3-4b6d-85f4-53da26b6dd08",
   "metadata": {},
   "source": [
    "# User Based Collaborative"
   ]
  },
  {
   "cell_type": "markdown",
   "id": "c9a975b1-4577-45c8-a4e2-541fff365c4e",
   "metadata": {},
   "source": [
    "This code assumes that you have a CSV file named \"ratings.csv\" with columns \"userId\", \"movieId\", \"rating\", and \"title\" (the title of the movie corresponding to the movieId). You can adjust the code to fit your specific dataset and needs.\n",
    "\n",
    "In this example, we first create a pivot table of ratings with movies as rows and users as columns, so that we have a matrix where each row represents a movie and each column represents a user, with the cell value being the rating given by that user to that movie (if any). We then calculate the cosine similarity between the users using the cosine_similarity function from scikit-learn. Finally, we define a function to get recommendations based on the cosine similarity between users, where the input is a userId and the output is the titles of the top 10 most similar movies that the user has not yet rated based on the cosine similarity scores of the other users who have rated those movies."
   ]
  },
  {
   "cell_type": "code",
   "execution_count": null,
   "id": "794e59ed-2964-4dab-ab2a-41ef50d89260",
   "metadata": {},
   "outputs": [],
   "source": [
    "import pandas as pd\n",
    "from sklearn.metrics.pairwise import cosine_similarity\n",
    "\n",
    "# Load dataset\n",
    "df = pd.read_csv(\"ratings.csv\")\n",
    "\n",
    "# Create pivot table of ratings with movies as rows and users as columns\n",
    "ratings_matrix = df.pivot_table(index=\"movieId\", columns=\"userId\", values=\"rating\")\n",
    "\n",
    "# Calculate cosine similarity between users\n",
    "cosine_sim = cosine_similarity(ratings_matrix)\n",
    "\n",
    "# Define function to get recommendations based on cosine similarity\n",
    "def get_recommendations(user_id, cosine_sim=cosine_sim, df=df):\n",
    "    # Get index of user that matches user_id\n",
    "    idx = df.index[df[\"userId\"] == user_id][0]\n",
    "    \n",
    "    # Get list of cosine similarities for that user\n",
    "    sim_scores = list(enumerate(cosine_sim[idx]))\n",
    "    \n",
    "    # Sort users by cosine similarity score\n",
    "    sim_scores = sorted(sim_scores, key=lambda x: x[1], reverse=True)\n",
    "    \n",
    "    # Get top 10 most similar users (excluding itself)\n",
    "    sim_scores = sim_scores[1:11]\n",
    "    \n",
    "    # Get indices of movies rated by those top 10 users\n",
    "    movie_indices = set()\n",
    "    for sim_user_id, _ in sim_scores:\n",
    "        movie_indices |= set(df[df[\"userId\"] == sim_user_id][\"movieId\"].values)\n",
    "    \n",
    "    # Get titles of movies that have not been rated by the user\n",
    "    rated_movies = set(df[df[\"userId\"] == user_id][\"movieId\"].values)\n",
    "    unrated_movies = list(movie_indices - rated_movies)\n",
    "    return df[df[\"movieId\"].isin(unrated_movies)][\"title\"].unique()[:10]\n",
    "\n",
    "# Example usage\n",
    "get_recommendations(1)\n"
   ]
  }
 ],
 "metadata": {
  "kernelspec": {
   "display_name": "Python 3 (ipykernel)",
   "language": "python",
   "name": "python3"
  },
  "language_info": {
   "codemirror_mode": {
    "name": "ipython",
    "version": 3
   },
   "file_extension": ".py",
   "mimetype": "text/x-python",
   "name": "python",
   "nbconvert_exporter": "python",
   "pygments_lexer": "ipython3",
   "version": "3.8.16"
  }
 },
 "nbformat": 4,
 "nbformat_minor": 5
}
