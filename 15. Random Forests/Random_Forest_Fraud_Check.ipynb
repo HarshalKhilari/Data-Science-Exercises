{
 "cells": [
  {
   "cell_type": "markdown",
   "id": "3d72bdc6-e235-45b0-a0b5-e2c551f23a8c",
   "metadata": {},
   "source": [
    "# Use Random Forest to prepare a model on fraud data, treating those who have taxable_income <= 30000 as \"Risky\" and others are \"Good\"\n",
    "---"
   ]
  },
  {
   "cell_type": "markdown",
   "id": "82ea37a9-aecc-4280-9e2a-8db49c4d26c9",
   "metadata": {
    "jp-MarkdownHeadingCollapsed": true,
    "tags": []
   },
   "source": [
    "## Data Gathering"
   ]
  },
  {
   "cell_type": "code",
   "execution_count": 1,
   "id": "6406f53f-3ed4-447a-bf3b-144d2e625662",
   "metadata": {
    "tags": []
   },
   "outputs": [],
   "source": [
    "# Importing necessary libraries\n",
    "import pandas as pd\n",
    "import numpy as np\n",
    "import matplotlib.pyplot as plt\n",
    "import seaborn as sns"
   ]
  },
  {
   "cell_type": "code",
   "execution_count": 2,
   "id": "c260711a-0700-4673-8845-97bef63e85c1",
   "metadata": {
    "tags": []
   },
   "outputs": [
    {
     "data": {
      "text/html": [
       "<div>\n",
       "<style scoped>\n",
       "    .dataframe tbody tr th:only-of-type {\n",
       "        vertical-align: middle;\n",
       "    }\n",
       "\n",
       "    .dataframe tbody tr th {\n",
       "        vertical-align: top;\n",
       "    }\n",
       "\n",
       "    .dataframe thead th {\n",
       "        text-align: right;\n",
       "    }\n",
       "</style>\n",
       "<table border=\"1\" class=\"dataframe\">\n",
       "  <thead>\n",
       "    <tr style=\"text-align: right;\">\n",
       "      <th></th>\n",
       "      <th>Undergrad</th>\n",
       "      <th>Marital.Status</th>\n",
       "      <th>Taxable.Income</th>\n",
       "      <th>City.Population</th>\n",
       "      <th>Work.Experience</th>\n",
       "      <th>Urban</th>\n",
       "    </tr>\n",
       "  </thead>\n",
       "  <tbody>\n",
       "    <tr>\n",
       "      <th>0</th>\n",
       "      <td>NO</td>\n",
       "      <td>Single</td>\n",
       "      <td>68833</td>\n",
       "      <td>50047</td>\n",
       "      <td>10</td>\n",
       "      <td>YES</td>\n",
       "    </tr>\n",
       "    <tr>\n",
       "      <th>1</th>\n",
       "      <td>YES</td>\n",
       "      <td>Divorced</td>\n",
       "      <td>33700</td>\n",
       "      <td>134075</td>\n",
       "      <td>18</td>\n",
       "      <td>YES</td>\n",
       "    </tr>\n",
       "    <tr>\n",
       "      <th>2</th>\n",
       "      <td>NO</td>\n",
       "      <td>Married</td>\n",
       "      <td>36925</td>\n",
       "      <td>160205</td>\n",
       "      <td>30</td>\n",
       "      <td>YES</td>\n",
       "    </tr>\n",
       "    <tr>\n",
       "      <th>3</th>\n",
       "      <td>YES</td>\n",
       "      <td>Single</td>\n",
       "      <td>50190</td>\n",
       "      <td>193264</td>\n",
       "      <td>15</td>\n",
       "      <td>YES</td>\n",
       "    </tr>\n",
       "    <tr>\n",
       "      <th>4</th>\n",
       "      <td>NO</td>\n",
       "      <td>Married</td>\n",
       "      <td>81002</td>\n",
       "      <td>27533</td>\n",
       "      <td>28</td>\n",
       "      <td>NO</td>\n",
       "    </tr>\n",
       "    <tr>\n",
       "      <th>...</th>\n",
       "      <td>...</td>\n",
       "      <td>...</td>\n",
       "      <td>...</td>\n",
       "      <td>...</td>\n",
       "      <td>...</td>\n",
       "      <td>...</td>\n",
       "    </tr>\n",
       "    <tr>\n",
       "      <th>595</th>\n",
       "      <td>YES</td>\n",
       "      <td>Divorced</td>\n",
       "      <td>76340</td>\n",
       "      <td>39492</td>\n",
       "      <td>7</td>\n",
       "      <td>YES</td>\n",
       "    </tr>\n",
       "    <tr>\n",
       "      <th>596</th>\n",
       "      <td>YES</td>\n",
       "      <td>Divorced</td>\n",
       "      <td>69967</td>\n",
       "      <td>55369</td>\n",
       "      <td>2</td>\n",
       "      <td>YES</td>\n",
       "    </tr>\n",
       "    <tr>\n",
       "      <th>597</th>\n",
       "      <td>NO</td>\n",
       "      <td>Divorced</td>\n",
       "      <td>47334</td>\n",
       "      <td>154058</td>\n",
       "      <td>0</td>\n",
       "      <td>YES</td>\n",
       "    </tr>\n",
       "    <tr>\n",
       "      <th>598</th>\n",
       "      <td>YES</td>\n",
       "      <td>Married</td>\n",
       "      <td>98592</td>\n",
       "      <td>180083</td>\n",
       "      <td>17</td>\n",
       "      <td>NO</td>\n",
       "    </tr>\n",
       "    <tr>\n",
       "      <th>599</th>\n",
       "      <td>NO</td>\n",
       "      <td>Divorced</td>\n",
       "      <td>96519</td>\n",
       "      <td>158137</td>\n",
       "      <td>16</td>\n",
       "      <td>NO</td>\n",
       "    </tr>\n",
       "  </tbody>\n",
       "</table>\n",
       "<p>600 rows × 6 columns</p>\n",
       "</div>"
      ],
      "text/plain": [
       "    Undergrad Marital.Status  Taxable.Income  City.Population  \\\n",
       "0          NO         Single           68833            50047   \n",
       "1         YES       Divorced           33700           134075   \n",
       "2          NO        Married           36925           160205   \n",
       "3         YES         Single           50190           193264   \n",
       "4          NO        Married           81002            27533   \n",
       "..        ...            ...             ...              ...   \n",
       "595       YES       Divorced           76340            39492   \n",
       "596       YES       Divorced           69967            55369   \n",
       "597        NO       Divorced           47334           154058   \n",
       "598       YES        Married           98592           180083   \n",
       "599        NO       Divorced           96519           158137   \n",
       "\n",
       "     Work.Experience Urban  \n",
       "0                 10   YES  \n",
       "1                 18   YES  \n",
       "2                 30   YES  \n",
       "3                 15   YES  \n",
       "4                 28    NO  \n",
       "..               ...   ...  \n",
       "595                7   YES  \n",
       "596                2   YES  \n",
       "597                0   YES  \n",
       "598               17    NO  \n",
       "599               16    NO  \n",
       "\n",
       "[600 rows x 6 columns]"
      ]
     },
     "execution_count": 2,
     "metadata": {},
     "output_type": "execute_result"
    }
   ],
   "source": [
    "# Loading the dataset\n",
    "df = pd.read_csv('Fraud_check.csv')\n",
    "df"
   ]
  },
  {
   "cell_type": "markdown",
   "id": "2bebce7c-97af-48f9-8f88-84014197d9b1",
   "metadata": {},
   "source": [
    "We have to convert Taxable.Income into a categorical feature as per the problem statement : "
   ]
  },
  {
   "cell_type": "code",
   "execution_count": 3,
   "id": "bea033b8-27e2-414d-ae1a-3fd621954b15",
   "metadata": {
    "tags": []
   },
   "outputs": [],
   "source": [
    "df['Taxable.Income'] = df['Taxable.Income'].apply(lambda x : 'Risky' if x <= 30000 else 'Good')"
   ]
  },
  {
   "cell_type": "markdown",
   "id": "2fe38683-4693-4f46-ba77-2c9c3bf9e26f",
   "metadata": {
    "jp-MarkdownHeadingCollapsed": true,
    "tags": []
   },
   "source": [
    "## Data Exploration"
   ]
  },
  {
   "cell_type": "code",
   "execution_count": 4,
   "id": "7cd118aa-f76f-4d26-a92c-c3cb994a42ce",
   "metadata": {
    "tags": []
   },
   "outputs": [
    {
     "data": {
      "text/html": [
       "<div>\n",
       "<style scoped>\n",
       "    .dataframe tbody tr th:only-of-type {\n",
       "        vertical-align: middle;\n",
       "    }\n",
       "\n",
       "    .dataframe tbody tr th {\n",
       "        vertical-align: top;\n",
       "    }\n",
       "\n",
       "    .dataframe thead th {\n",
       "        text-align: right;\n",
       "    }\n",
       "</style>\n",
       "<table border=\"1\" class=\"dataframe\">\n",
       "  <thead>\n",
       "    <tr style=\"text-align: right;\">\n",
       "      <th></th>\n",
       "      <th>Undergrad</th>\n",
       "      <th>Marital.Status</th>\n",
       "      <th>Taxable.Income</th>\n",
       "      <th>City.Population</th>\n",
       "      <th>Work.Experience</th>\n",
       "      <th>Urban</th>\n",
       "    </tr>\n",
       "  </thead>\n",
       "  <tbody>\n",
       "  </tbody>\n",
       "</table>\n",
       "</div>"
      ],
      "text/plain": [
       "Empty DataFrame\n",
       "Columns: [Undergrad, Marital.Status, Taxable.Income, City.Population, Work.Experience, Urban]\n",
       "Index: []"
      ]
     },
     "execution_count": 4,
     "metadata": {},
     "output_type": "execute_result"
    }
   ],
   "source": [
    "# Checking for duplicated entries\n",
    "df[df.duplicated()]"
   ]
  },
  {
   "cell_type": "markdown",
   "id": "e199c65d-730b-4bd8-bcf9-d8a0fe41d7a6",
   "metadata": {},
   "source": [
    "No duplicates"
   ]
  },
  {
   "cell_type": "code",
   "execution_count": 5,
   "id": "61f281af-c051-4cbc-9677-91875d0dffd2",
   "metadata": {
    "tags": []
   },
   "outputs": [],
   "source": [
    "# Renaming column names\n",
    "df.columns = ['undergrad', 'marital_status', 'taxable_income', 'city_population', 'work_experience', 'urban']"
   ]
  },
  {
   "cell_type": "code",
   "execution_count": 6,
   "id": "e29d009d-c6c8-4a9b-a6e6-e0b586f4be65",
   "metadata": {
    "tags": []
   },
   "outputs": [
    {
     "data": {
      "text/plain": [
       "<Axes: xlabel='undergrad', ylabel='count'>"
      ]
     },
     "execution_count": 6,
     "metadata": {},
     "output_type": "execute_result"
    },
    {
     "data": {
      "image/png": "[encoded data removed]",
      "text/plain": [
       "<Figure size 640x480 with 1 Axes>"
      ]
     },
     "metadata": {},
     "output_type": "display_data"
    }
   ],
   "source": [
    "# Countplot for undergrad\n",
    "sns.countplot(df, x = 'undergrad', hue = 'taxable_income')"
   ]
  },
  {
   "cell_type": "code",
   "execution_count": 7,
   "id": "14ff3342-92b2-4471-92aa-d0e63008b4df",
   "metadata": {
    "tags": []
   },
   "outputs": [
    {
     "data": {
      "text/plain": [
       "<Axes: xlabel='marital_status', ylabel='count'>"
      ]
     },
     "execution_count": 7,
     "metadata": {},
     "output_type": "execute_result"
    },
    {
     "data": {
      "image/png": "[encoded data removed]",
      "text/plain": [
       "<Figure size 640x480 with 1 Axes>"
      ]
     },
     "metadata": {},
     "output_type": "display_data"
    }
   ],
   "source": [
    "# Countplot for marital_status\n",
    "sns.countplot(df, x = 'marital_status', hue = 'taxable_income')"
   ]
  },
  {
   "cell_type": "code",
   "execution_count": 8,
   "id": "51d93bfb-5a10-4a30-b35e-74acd9f80857",
   "metadata": {
    "tags": []
   },
   "outputs": [
    {
     "data": {
      "text/plain": [
       "<Axes: xlabel='urban', ylabel='count'>"
      ]
     },
     "execution_count": 8,
     "metadata": {},
     "output_type": "execute_result"
    },
    {
     "data": {
      "image/png": "[encoded data removed]",
      "text/plain": [
       "<Figure size 640x480 with 1 Axes>"
      ]
     },
     "metadata": {},
     "output_type": "display_data"
    }
   ],
   "source": [
    "# Countplot for urban\n",
    "sns.countplot(df, x = 'urban', hue = 'taxable_income')"
   ]
  },
  {
   "cell_type": "code",
   "execution_count": 9,
   "id": "53f5510c-7392-4471-b082-b4417e517b30",
   "metadata": {
    "tags": []
   },
   "outputs": [
    {
     "data": {
      "text/plain": [
       "<Axes: xlabel='city_population', ylabel='Count'>"
      ]
     },
     "execution_count": 9,
     "metadata": {},
     "output_type": "execute_result"
    },
    {
     "data": {
      "image/png": "[encoded data removed]",
      "text/plain": [
       "<Figure size 1000x500 with 1 Axes>"
      ]
     },
     "metadata": {},
     "output_type": "display_data"
    }
   ],
   "source": [
    "# Histogram for city_population\n",
    "plt.figure(figsize = (10, 5))\n",
    "sns.histplot(df, x = 'city_population', hue = 'taxable_income')"
   ]
  },
  {
   "cell_type": "code",
   "execution_count": 10,
   "id": "6c86f7e5-e371-4b2d-be01-b4d614932ae4",
   "metadata": {
    "tags": []
   },
   "outputs": [
    {
     "data": {
      "text/plain": [
       "<Axes: xlabel='work_experience', ylabel='count'>"
      ]
     },
     "execution_count": 10,
     "metadata": {},
     "output_type": "execute_result"
    },
    {
     "data": {
      "image/png": "[encoded data removed]",
      "text/plain": [
       "<Figure size 1000x500 with 1 Axes>"
      ]
     },
     "metadata": {},
     "output_type": "display_data"
    }
   ],
   "source": [
    "# Histogram for work_experience\n",
    "plt.figure(figsize = (10, 5))\n",
    "sns.countplot(df, x = 'work_experience', hue = 'taxable_income')"
   ]
  },
  {
   "cell_type": "code",
   "execution_count": 11,
   "id": "73d361ba-8c57-4b0e-877b-ee40ef35198c",
   "metadata": {
    "tags": []
   },
   "outputs": [
    {
     "data": {
      "text/plain": [
       "<Axes: xlabel='taxable_income', ylabel='count'>"
      ]
     },
     "execution_count": 11,
     "metadata": {},
     "output_type": "execute_result"
    },
    {
     "data": {
      "image/png": "[encoded data removed]",
      "text/plain": [
       "<Figure size 640x480 with 1 Axes>"
      ]
     },
     "metadata": {},
     "output_type": "display_data"
    }
   ],
   "source": [
    "# Countplot for target variable taxable_income\n",
    "sns.countplot(df, x = 'taxable_income')"
   ]
  },
  {
   "cell_type": "code",
   "execution_count": 12,
   "id": "b64f804c-db3b-4d40-afce-c0c6fe974705",
   "metadata": {
    "tags": []
   },
   "outputs": [
    {
     "data": {
      "text/plain": [
       "Good     0.793333\n",
       "Risky    0.206667\n",
       "Name: taxable_income, dtype: float64"
      ]
     },
     "execution_count": 12,
     "metadata": {},
     "output_type": "execute_result"
    }
   ],
   "source": [
    "# percent count for target variable\n",
    "df.taxable_income.value_counts(normalize=True)"
   ]
  },
  {
   "cell_type": "markdown",
   "id": "64c272bd-f742-43d9-bb91-fa8a2392acdf",
   "metadata": {},
   "source": [
    "Target label count is highly imbalanced. 80% entries have non-risky tax bracket. Independent features have somewhat same ratios across categories. "
   ]
  },
  {
   "cell_type": "markdown",
   "id": "73038fad-a81b-4bc0-b3ad-0d17550ba8f1",
   "metadata": {
    "jp-MarkdownHeadingCollapsed": true,
    "tags": []
   },
   "source": [
    "## Feature Engineering"
   ]
  },
  {
   "cell_type": "code",
   "execution_count": 13,
   "id": "e642b29e-119c-4e7a-84b9-dd831e8cf959",
   "metadata": {
    "tags": []
   },
   "outputs": [],
   "source": [
    "# binarizing binary features\n",
    "df.undergrad.replace({'NO':0, 'YES':1}, inplace= True)\n",
    "df.taxable_income.replace({'Risky':1, 'Good':0}, inplace= True)\n",
    "df.urban.replace({'NO':0, 'YES':1}, inplace= True)"
   ]
  },
  {
   "cell_type": "code",
   "execution_count": 14,
   "id": "4537ac4f-d030-48f4-8d6c-dc5ef1bb4440",
   "metadata": {
    "tags": []
   },
   "outputs": [],
   "source": [
    "# Getting dummies for categorical feature marital_status\n",
    "df = pd.get_dummies(df, columns=['marital_status'], drop_first=True)"
   ]
  },
  {
   "cell_type": "code",
   "execution_count": 15,
   "id": "80913482-bf58-4d01-b4ee-0feb24795385",
   "metadata": {
    "tags": []
   },
   "outputs": [],
   "source": [
    "# Normalizing work_experience\n",
    "from sklearn.preprocessing import MinMaxScaler\n",
    "df['work_experience'] = MinMaxScaler().fit_transform(df['work_experience'].to_numpy().reshape(-1,1))\n",
    "df['city_population'] = MinMaxScaler().fit_transform(df['city_population'].to_numpy().reshape(-1,1))"
   ]
  },
  {
   "cell_type": "markdown",
   "id": "5a62ee9a-2977-4d7a-83f5-338d57470d5f",
   "metadata": {},
   "source": [
    "## Hyperparameter Tuning"
   ]
  },
  {
   "cell_type": "code",
   "execution_count": 16,
   "id": "f63bbbe2-9152-47b9-9cb4-f5aba8aca205",
   "metadata": {
    "tags": []
   },
   "outputs": [],
   "source": [
    "# Importing required libraries\n",
    "from sklearn.ensemble import RandomForestClassifier\n",
    "from sklearn.model_selection import train_test_split, StratifiedKFold, GridSearchCV\n",
    "from sklearn.metrics import classification_report, confusion_matrix, ConfusionMatrixDisplay"
   ]
  },
  {
   "cell_type": "code",
   "execution_count": 17,
   "id": "6a886ead-c359-40da-99d1-854e1befb5fa",
   "metadata": {
    "tags": []
   },
   "outputs": [],
   "source": [
    "# Splitting data into dependent and independent variables\n",
    "X = df.drop(columns='taxable_income')\n",
    "y = df.taxable_income"
   ]
  },
  {
   "cell_type": "code",
   "execution_count": 18,
   "id": "21b936bd-3797-445e-94f7-35aa6839d745",
   "metadata": {
    "tags": []
   },
   "outputs": [],
   "source": [
    "# Splitting data into stratified train test sets\n",
    "X_train, X_test, y_train, y_test = train_test_split(X,y,stratify=y,random_state=42)"
   ]
  },
  {
   "cell_type": "code",
   "execution_count": 19,
   "id": "07b9ef57-034d-4e04-8ec0-7adcd03cf446",
   "metadata": {
    "tags": []
   },
   "outputs": [],
   "source": [
    "# Creating a Random Forest Classifier\n",
    "rfc = RandomForestClassifier(max_features = 'sqrt', oob_score = True, n_jobs = -1, random_state= 42, class_weight='balanced_subsample')"
   ]
  },
  {
   "cell_type": "code",
   "execution_count": 20,
   "id": "4b35a2aa-45d4-4390-99dc-e6dff5eba24e",
   "metadata": {
    "tags": []
   },
   "outputs": [
    {
     "data": {
      "text/html": [
       "<style>#sk-container-id-1 {color: black;background-color: white;}#sk-container-id-1 pre{padding: 0;}#sk-container-id-1 div.sk-toggleable {background-color: white;}#sk-container-id-1 label.sk-toggleable__label {cursor: pointer;display: block;width: 100%;margin-bottom: 0;padding: 0.3em;box-sizing: border-box;text-align: center;}#sk-container-id-1 label.sk-toggleable__label-arrow:before {content: \"▸\";float: left;margin-right: 0.25em;color: #696969;}#sk-container-id-1 label.sk-toggleable__label-arrow:hover:before {color: black;}#sk-container-id-1 div.sk-estimator:hover label.sk-toggleable__label-arrow:before {color: black;}#sk-container-id-1 div.sk-toggleable__content {max-height: 0;max-width: 0;overflow: hidden;text-align: left;background-color: #f0f8ff;}#sk-container-id-1 div.sk-toggleable__content pre {margin: 0.2em;color: black;border-radius: 0.25em;background-color: #f0f8ff;}#sk-container-id-1 input.sk-toggleable__control:checked~div.sk-toggleable__content {max-height: 200px;max-width: 100%;overflow: auto;}#sk-container-id-1 input.sk-toggleable__control:checked~label.sk-toggleable__label-arrow:before {content: \"▾\";}#sk-container-id-1 div.sk-estimator input.sk-toggleable__control:checked~label.sk-toggleable__label {background-color: #d4ebff;}#sk-container-id-1 div.sk-label input.sk-toggleable__control:checked~label.sk-toggleable__label {background-color: #d4ebff;}#sk-container-id-1 input.sk-hidden--visually {border: 0;clip: rect(1px 1px 1px 1px);clip: rect(1px, 1px, 1px, 1px);height: 1px;margin: -1px;overflow: hidden;padding: 0;position: absolute;width: 1px;}#sk-container-id-1 div.sk-estimator {font-family: monospace;background-color: #f0f8ff;border: 1px dotted black;border-radius: 0.25em;box-sizing: border-box;margin-bottom: 0.5em;}#sk-container-id-1 div.sk-estimator:hover {background-color: #d4ebff;}#sk-container-id-1 div.sk-parallel-item::after {content: \"\";width: 100%;border-bottom: 1px solid gray;flex-grow: 1;}#sk-container-id-1 div.sk-label:hover label.sk-toggleable__label {background-color: #d4ebff;}#sk-container-id-1 div.sk-serial::before {content: \"\";position: absolute;border-left: 1px solid gray;box-sizing: border-box;top: 0;bottom: 0;left: 50%;z-index: 0;}#sk-container-id-1 div.sk-serial {display: flex;flex-direction: column;align-items: center;background-color: white;padding-right: 0.2em;padding-left: 0.2em;position: relative;}#sk-container-id-1 div.sk-item {position: relative;z-index: 1;}#sk-container-id-1 div.sk-parallel {display: flex;align-items: stretch;justify-content: center;background-color: white;position: relative;}#sk-container-id-1 div.sk-item::before, #sk-container-id-1 div.sk-parallel-item::before {content: \"\";position: absolute;border-left: 1px solid gray;box-sizing: border-box;top: 0;bottom: 0;left: 50%;z-index: -1;}#sk-container-id-1 div.sk-parallel-item {display: flex;flex-direction: column;z-index: 1;position: relative;background-color: white;}#sk-container-id-1 div.sk-parallel-item:first-child::after {align-self: flex-end;width: 50%;}#sk-container-id-1 div.sk-parallel-item:last-child::after {align-self: flex-start;width: 50%;}#sk-container-id-1 div.sk-parallel-item:only-child::after {width: 0;}#sk-container-id-1 div.sk-dashed-wrapped {border: 1px dashed gray;margin: 0 0.4em 0.5em 0.4em;box-sizing: border-box;padding-bottom: 0.4em;background-color: white;}#sk-container-id-1 div.sk-label label {font-family: monospace;font-weight: bold;display: inline-block;line-height: 1.2em;}#sk-container-id-1 div.sk-label-container {text-align: center;}#sk-container-id-1 div.sk-container {/* jupyter's `normalize.less` sets `[hidden] { display: none; }` but bootstrap.min.css set `[hidden] { display: none !important; }` so we also need the `!important` here to be able to override the default hidden behavior on the sphinx rendered scikit-learn.org. See: https://github.com/scikit-learn/scikit-learn/issues/21755 */display: inline-block !important;position: relative;}#sk-container-id-1 div.sk-text-repr-fallback {display: none;}</style><div id=\"sk-container-id-1\" class=\"sk-top-container\"><div class=\"sk-text-repr-fallback\"><pre>RandomForestClassifier(class_weight=&#x27;balanced_subsample&#x27;, n_jobs=-1,\n",
       "                       oob_score=True, random_state=42)</pre><b>In a Jupyter environment, please rerun this cell to show the HTML representation or trust the notebook. <br />On GitHub, the HTML representation is unable to render, please try loading this page with nbviewer.org.</b></div><div class=\"sk-container\" hidden><div class=\"sk-item\"><div class=\"sk-estimator sk-toggleable\"><input class=\"sk-toggleable__control sk-hidden--visually\" id=\"sk-estimator-id-1\" type=\"checkbox\" checked><label for=\"sk-estimator-id-1\" class=\"sk-toggleable__label sk-toggleable__label-arrow\">RandomForestClassifier</label><div class=\"sk-toggleable__content\"><pre>RandomForestClassifier(class_weight=&#x27;balanced_subsample&#x27;, n_jobs=-1,\n",
       "                       oob_score=True, random_state=42)</pre></div></div></div></div></div>"
      ],
      "text/plain": [
       "RandomForestClassifier(class_weight='balanced_subsample', n_jobs=-1,\n",
       "                       oob_score=True, random_state=42)"
      ]
     },
     "execution_count": 20,
     "metadata": {},
     "output_type": "execute_result"
    }
   ],
   "source": [
    "# Fitting to Random Forest Classifier\n",
    "rfc.fit(X_train, y_train)"
   ]
  },
  {
   "cell_type": "code",
   "execution_count": 21,
   "id": "690a84c5-7a71-4be7-8743-76a2a7675309",
   "metadata": {
    "tags": []
   },
   "outputs": [
    {
     "data": {
      "text/plain": [
       "0.7488888888888889"
      ]
     },
     "execution_count": 21,
     "metadata": {},
     "output_type": "execute_result"
    }
   ],
   "source": [
    "# Getting out-of-bag score\n",
    "rfc.oob_score_"
   ]
  },
  {
   "cell_type": "code",
   "execution_count": 22,
   "id": "4e54a791-1700-40af-9b1a-b36c69b43976",
   "metadata": {
    "tags": []
   },
   "outputs": [
    {
     "data": {
      "text/plain": [
       "1.0"
      ]
     },
     "execution_count": 22,
     "metadata": {},
     "output_type": "execute_result"
    }
   ],
   "source": [
    "# Getting training accuracy\n",
    "rfc.score(X_train, y_train)"
   ]
  },
  {
   "cell_type": "code",
   "execution_count": 23,
   "id": "d0b8371c-380e-4abe-85af-af9de4a2f045",
   "metadata": {
    "tags": []
   },
   "outputs": [
    {
     "data": {
      "text/plain": [
       "0.7666666666666667"
      ]
     },
     "execution_count": 23,
     "metadata": {},
     "output_type": "execute_result"
    }
   ],
   "source": [
    "# Getting test accuracy\n",
    "rfc.score(X_test, y_test)"
   ]
  },
  {
   "cell_type": "markdown",
   "id": "6850a8e2-f175-40a8-a7c6-bd20be3f3a7e",
   "metadata": {
    "tags": []
   },
   "source": [
    "Note that the best score was 73% in the previous assignment using Decision Trees Classifier. 76.6% is an improvement on it. Let us try a few different hyperparameters in a grid search to get the best combination"
   ]
  },
  {
   "cell_type": "code",
   "execution_count": 24,
   "id": "693a7d6b-2044-4c14-9a7a-51d07009cb0d",
   "metadata": {
    "tags": []
   },
   "outputs": [],
   "source": [
    "# Defining parameter values for grid search\n",
    "param_grid = {\n",
    "    'n_estimators' : [10, 50, 100, 150, 200],\n",
    "    'criterion' : [\"gini\", \"entropy\"],\n",
    "    'max_features' : [i for i in range(1, X.shape[1] + 1)],\n",
    "    'class_weight' :[\"balanced\", \"balanced_subsample\", None] \n",
    "}"
   ]
  },
  {
   "cell_type": "code",
   "execution_count": 25,
   "id": "4960cc9e-83f9-4f88-8828-67ef7ba4f88c",
   "metadata": {
    "tags": []
   },
   "outputs": [],
   "source": [
    "# Creating Stratified K Fold Cross Validator\n",
    "skf = StratifiedKFold()"
   ]
  },
  {
   "cell_type": "code",
   "execution_count": 26,
   "id": "7cb286d9-3f63-4483-a529-bb2bbf052061",
   "metadata": {
    "tags": []
   },
   "outputs": [],
   "source": [
    "# Redifining Random Forest Classifier for grid search\n",
    "rfc = RandomForestClassifier(oob_score = True, n_jobs = -1, random_state= 42)"
   ]
  },
  {
   "cell_type": "code",
   "execution_count": 27,
   "id": "d819aef0-f207-4e6a-b455-f306f50b2a72",
   "metadata": {
    "tags": []
   },
   "outputs": [],
   "source": [
    "# Creating a Grid Search object\n",
    "grid = GridSearchCV(estimator=rfc, param_grid=param_grid, n_jobs = -1, cv = skf, verbose = 3)"
   ]
  },
  {
   "cell_type": "code",
   "execution_count": 28,
   "id": "2895831e-d592-44b4-8501-f815f840fdd3",
   "metadata": {
    "tags": []
   },
   "outputs": [
    {
     "name": "stdout",
     "output_type": "stream",
     "text": [
      "Fitting 5 folds for each of 180 candidates, totalling 900 fits\n"
     ]
    },
    {
     "data": {
      "text/html": [
       "<style>#sk-container-id-2 {color: black;background-color: white;}#sk-container-id-2 pre{padding: 0;}#sk-container-id-2 div.sk-toggleable {background-color: white;}#sk-container-id-2 label.sk-toggleable__label {cursor: pointer;display: block;width: 100%;margin-bottom: 0;padding: 0.3em;box-sizing: border-box;text-align: center;}#sk-container-id-2 label.sk-toggleable__label-arrow:before {content: \"▸\";float: left;margin-right: 0.25em;color: #696969;}#sk-container-id-2 label.sk-toggleable__label-arrow:hover:before {color: black;}#sk-container-id-2 div.sk-estimator:hover label.sk-toggleable__label-arrow:before {color: black;}#sk-container-id-2 div.sk-toggleable__content {max-height: 0;max-width: 0;overflow: hidden;text-align: left;background-color: #f0f8ff;}#sk-container-id-2 div.sk-toggleable__content pre {margin: 0.2em;color: black;border-radius: 0.25em;background-color: #f0f8ff;}#sk-container-id-2 input.sk-toggleable__control:checked~div.sk-toggleable__content {max-height: 200px;max-width: 100%;overflow: auto;}#sk-container-id-2 input.sk-toggleable__control:checked~label.sk-toggleable__label-arrow:before {content: \"▾\";}#sk-container-id-2 div.sk-estimator input.sk-toggleable__control:checked~label.sk-toggleable__label {background-color: #d4ebff;}#sk-container-id-2 div.sk-label input.sk-toggleable__control:checked~label.sk-toggleable__label {background-color: #d4ebff;}#sk-container-id-2 input.sk-hidden--visually {border: 0;clip: rect(1px 1px 1px 1px);clip: rect(1px, 1px, 1px, 1px);height: 1px;margin: -1px;overflow: hidden;padding: 0;position: absolute;width: 1px;}#sk-container-id-2 div.sk-estimator {font-family: monospace;background-color: #f0f8ff;border: 1px dotted black;border-radius: 0.25em;box-sizing: border-box;margin-bottom: 0.5em;}#sk-container-id-2 div.sk-estimator:hover {background-color: #d4ebff;}#sk-container-id-2 div.sk-parallel-item::after {content: \"\";width: 100%;border-bottom: 1px solid gray;flex-grow: 1;}#sk-container-id-2 div.sk-label:hover label.sk-toggleable__label {background-color: #d4ebff;}#sk-container-id-2 div.sk-serial::before {content: \"\";position: absolute;border-left: 1px solid gray;box-sizing: border-box;top: 0;bottom: 0;left: 50%;z-index: 0;}#sk-container-id-2 div.sk-serial {display: flex;flex-direction: column;align-items: center;background-color: white;padding-right: 0.2em;padding-left: 0.2em;position: relative;}#sk-container-id-2 div.sk-item {position: relative;z-index: 1;}#sk-container-id-2 div.sk-parallel {display: flex;align-items: stretch;justify-content: center;background-color: white;position: relative;}#sk-container-id-2 div.sk-item::before, #sk-container-id-2 div.sk-parallel-item::before {content: \"\";position: absolute;border-left: 1px solid gray;box-sizing: border-box;top: 0;bottom: 0;left: 50%;z-index: -1;}#sk-container-id-2 div.sk-parallel-item {display: flex;flex-direction: column;z-index: 1;position: relative;background-color: white;}#sk-container-id-2 div.sk-parallel-item:first-child::after {align-self: flex-end;width: 50%;}#sk-container-id-2 div.sk-parallel-item:last-child::after {align-self: flex-start;width: 50%;}#sk-container-id-2 div.sk-parallel-item:only-child::after {width: 0;}#sk-container-id-2 div.sk-dashed-wrapped {border: 1px dashed gray;margin: 0 0.4em 0.5em 0.4em;box-sizing: border-box;padding-bottom: 0.4em;background-color: white;}#sk-container-id-2 div.sk-label label {font-family: monospace;font-weight: bold;display: inline-block;line-height: 1.2em;}#sk-container-id-2 div.sk-label-container {text-align: center;}#sk-container-id-2 div.sk-container {/* jupyter's `normalize.less` sets `[hidden] { display: none; }` but bootstrap.min.css set `[hidden] { display: none !important; }` so we also need the `!important` here to be able to override the default hidden behavior on the sphinx rendered scikit-learn.org. See: https://github.com/scikit-learn/scikit-learn/issues/21755 */display: inline-block !important;position: relative;}#sk-container-id-2 div.sk-text-repr-fallback {display: none;}</style><div id=\"sk-container-id-2\" class=\"sk-top-container\"><div class=\"sk-text-repr-fallback\"><pre>GridSearchCV(cv=StratifiedKFold(n_splits=5, random_state=None, shuffle=False),\n",
       "             estimator=RandomForestClassifier(n_jobs=-1, oob_score=True,\n",
       "                                              random_state=42),\n",
       "             n_jobs=-1,\n",
       "             param_grid={&#x27;class_weight&#x27;: [&#x27;balanced&#x27;, &#x27;balanced_subsample&#x27;,\n",
       "                                          None],\n",
       "                         &#x27;criterion&#x27;: [&#x27;gini&#x27;, &#x27;entropy&#x27;],\n",
       "                         &#x27;max_features&#x27;: [1, 2, 3, 4, 5, 6],\n",
       "                         &#x27;n_estimators&#x27;: [10, 50, 100, 150, 200]},\n",
       "             verbose=3)</pre><b>In a Jupyter environment, please rerun this cell to show the HTML representation or trust the notebook. <br />On GitHub, the HTML representation is unable to render, please try loading this page with nbviewer.org.</b></div><div class=\"sk-container\" hidden><div class=\"sk-item sk-dashed-wrapped\"><div class=\"sk-label-container\"><div class=\"sk-label sk-toggleable\"><input class=\"sk-toggleable__control sk-hidden--visually\" id=\"sk-estimator-id-2\" type=\"checkbox\" ><label for=\"sk-estimator-id-2\" class=\"sk-toggleable__label sk-toggleable__label-arrow\">GridSearchCV</label><div class=\"sk-toggleable__content\"><pre>GridSearchCV(cv=StratifiedKFold(n_splits=5, random_state=None, shuffle=False),\n",
       "             estimator=RandomForestClassifier(n_jobs=-1, oob_score=True,\n",
       "                                              random_state=42),\n",
       "             n_jobs=-1,\n",
       "             param_grid={&#x27;class_weight&#x27;: [&#x27;balanced&#x27;, &#x27;balanced_subsample&#x27;,\n",
       "                                          None],\n",
       "                         &#x27;criterion&#x27;: [&#x27;gini&#x27;, &#x27;entropy&#x27;],\n",
       "                         &#x27;max_features&#x27;: [1, 2, 3, 4, 5, 6],\n",
       "                         &#x27;n_estimators&#x27;: [10, 50, 100, 150, 200]},\n",
       "             verbose=3)</pre></div></div></div><div class=\"sk-parallel\"><div class=\"sk-parallel-item\"><div class=\"sk-item\"><div class=\"sk-label-container\"><div class=\"sk-label sk-toggleable\"><input class=\"sk-toggleable__control sk-hidden--visually\" id=\"sk-estimator-id-3\" type=\"checkbox\" ><label for=\"sk-estimator-id-3\" class=\"sk-toggleable__label sk-toggleable__label-arrow\">estimator: RandomForestClassifier</label><div class=\"sk-toggleable__content\"><pre>RandomForestClassifier(n_jobs=-1, oob_score=True, random_state=42)</pre></div></div></div><div class=\"sk-serial\"><div class=\"sk-item\"><div class=\"sk-estimator sk-toggleable\"><input class=\"sk-toggleable__control sk-hidden--visually\" id=\"sk-estimator-id-4\" type=\"checkbox\" ><label for=\"sk-estimator-id-4\" class=\"sk-toggleable__label sk-toggleable__label-arrow\">RandomForestClassifier</label><div class=\"sk-toggleable__content\"><pre>RandomForestClassifier(n_jobs=-1, oob_score=True, random_state=42)</pre></div></div></div></div></div></div></div></div></div></div>"
      ],
      "text/plain": [
       "GridSearchCV(cv=StratifiedKFold(n_splits=5, random_state=None, shuffle=False),\n",
       "             estimator=RandomForestClassifier(n_jobs=-1, oob_score=True,\n",
       "                                              random_state=42),\n",
       "             n_jobs=-1,\n",
       "             param_grid={'class_weight': ['balanced', 'balanced_subsample',\n",
       "                                          None],\n",
       "                         'criterion': ['gini', 'entropy'],\n",
       "                         'max_features': [1, 2, 3, 4, 5, 6],\n",
       "                         'n_estimators': [10, 50, 100, 150, 200]},\n",
       "             verbose=3)"
      ]
     },
     "execution_count": 28,
     "metadata": {},
     "output_type": "execute_result"
    }
   ],
   "source": [
    "# Running grid search\n",
    "grid.fit(X_train, y_train)"
   ]
  },
  {
   "cell_type": "code",
   "execution_count": 29,
   "id": "a54e7a7e-d437-46f9-8288-385d55868476",
   "metadata": {
    "tags": []
   },
   "outputs": [
    {
     "data": {
      "text/plain": [
       "0.7688888888888888"
      ]
     },
     "execution_count": 29,
     "metadata": {},
     "output_type": "execute_result"
    }
   ],
   "source": [
    "# Getting best score from grid search\n",
    "grid.best_score_"
   ]
  },
  {
   "cell_type": "code",
   "execution_count": 30,
   "id": "d85194a0-6f17-48f5-bbcb-66a072ed1517",
   "metadata": {
    "tags": []
   },
   "outputs": [
    {
     "data": {
      "text/plain": [
       "{'class_weight': 'balanced',\n",
       " 'criterion': 'gini',\n",
       " 'max_features': 4,\n",
       " 'n_estimators': 10}"
      ]
     },
     "execution_count": 30,
     "metadata": {},
     "output_type": "execute_result"
    }
   ],
   "source": [
    "# Getting parameter that gave the best score\n",
    "grid.best_params_"
   ]
  },
  {
   "cell_type": "markdown",
   "id": "d7435c72-e323-4de4-915b-c990c6dbc62b",
   "metadata": {},
   "source": [
    "It is surprising to see that the best n_estimators value is such a small number. Let us try again with smaller values for n_estimators in the grid search"
   ]
  },
  {
   "cell_type": "code",
   "execution_count": 31,
   "id": "8e69b826-bdd0-4044-9b49-62012edd72d1",
   "metadata": {
    "tags": []
   },
   "outputs": [],
   "source": [
    "# Defining parameter values for grid search\n",
    "param_grid = {\n",
    "    'n_estimators' : [5, 10, 15, 20, 25, 30, 35, 40, 45],\n",
    "    'criterion' : [\"gini\", \"entropy\"],\n",
    "    'max_features' : [i for i in range(1, X.shape[1] + 1)],\n",
    "    'class_weight' :[\"balanced\", \"balanced_subsample\", None] \n",
    "}"
   ]
  },
  {
   "cell_type": "code",
   "execution_count": 32,
   "id": "2b60e8a8-508e-4b97-8ab5-aff133e18312",
   "metadata": {
    "tags": []
   },
   "outputs": [],
   "source": [
    "# Creating a Grid Search object\n",
    "grid = GridSearchCV(estimator=rfc, param_grid=param_grid, n_jobs = -1, cv = skf)"
   ]
  },
  {
   "cell_type": "code",
   "execution_count": 33,
   "id": "0d254ca3-4db4-4ae6-a5e7-4f3c7447d031",
   "metadata": {
    "tags": []
   },
   "outputs": [
    {
     "data": {
      "text/html": [
       "<style>#sk-container-id-3 {color: black;background-color: white;}#sk-container-id-3 pre{padding: 0;}#sk-container-id-3 div.sk-toggleable {background-color: white;}#sk-container-id-3 label.sk-toggleable__label {cursor: pointer;display: block;width: 100%;margin-bottom: 0;padding: 0.3em;box-sizing: border-box;text-align: center;}#sk-container-id-3 label.sk-toggleable__label-arrow:before {content: \"▸\";float: left;margin-right: 0.25em;color: #696969;}#sk-container-id-3 label.sk-toggleable__label-arrow:hover:before {color: black;}#sk-container-id-3 div.sk-estimator:hover label.sk-toggleable__label-arrow:before {color: black;}#sk-container-id-3 div.sk-toggleable__content {max-height: 0;max-width: 0;overflow: hidden;text-align: left;background-color: #f0f8ff;}#sk-container-id-3 div.sk-toggleable__content pre {margin: 0.2em;color: black;border-radius: 0.25em;background-color: #f0f8ff;}#sk-container-id-3 input.sk-toggleable__control:checked~div.sk-toggleable__content {max-height: 200px;max-width: 100%;overflow: auto;}#sk-container-id-3 input.sk-toggleable__control:checked~label.sk-toggleable__label-arrow:before {content: \"▾\";}#sk-container-id-3 div.sk-estimator input.sk-toggleable__control:checked~label.sk-toggleable__label {background-color: #d4ebff;}#sk-container-id-3 div.sk-label input.sk-toggleable__control:checked~label.sk-toggleable__label {background-color: #d4ebff;}#sk-container-id-3 input.sk-hidden--visually {border: 0;clip: rect(1px 1px 1px 1px);clip: rect(1px, 1px, 1px, 1px);height: 1px;margin: -1px;overflow: hidden;padding: 0;position: absolute;width: 1px;}#sk-container-id-3 div.sk-estimator {font-family: monospace;background-color: #f0f8ff;border: 1px dotted black;border-radius: 0.25em;box-sizing: border-box;margin-bottom: 0.5em;}#sk-container-id-3 div.sk-estimator:hover {background-color: #d4ebff;}#sk-container-id-3 div.sk-parallel-item::after {content: \"\";width: 100%;border-bottom: 1px solid gray;flex-grow: 1;}#sk-container-id-3 div.sk-label:hover label.sk-toggleable__label {background-color: #d4ebff;}#sk-container-id-3 div.sk-serial::before {content: \"\";position: absolute;border-left: 1px solid gray;box-sizing: border-box;top: 0;bottom: 0;left: 50%;z-index: 0;}#sk-container-id-3 div.sk-serial {display: flex;flex-direction: column;align-items: center;background-color: white;padding-right: 0.2em;padding-left: 0.2em;position: relative;}#sk-container-id-3 div.sk-item {position: relative;z-index: 1;}#sk-container-id-3 div.sk-parallel {display: flex;align-items: stretch;justify-content: center;background-color: white;position: relative;}#sk-container-id-3 div.sk-item::before, #sk-container-id-3 div.sk-parallel-item::before {content: \"\";position: absolute;border-left: 1px solid gray;box-sizing: border-box;top: 0;bottom: 0;left: 50%;z-index: -1;}#sk-container-id-3 div.sk-parallel-item {display: flex;flex-direction: column;z-index: 1;position: relative;background-color: white;}#sk-container-id-3 div.sk-parallel-item:first-child::after {align-self: flex-end;width: 50%;}#sk-container-id-3 div.sk-parallel-item:last-child::after {align-self: flex-start;width: 50%;}#sk-container-id-3 div.sk-parallel-item:only-child::after {width: 0;}#sk-container-id-3 div.sk-dashed-wrapped {border: 1px dashed gray;margin: 0 0.4em 0.5em 0.4em;box-sizing: border-box;padding-bottom: 0.4em;background-color: white;}#sk-container-id-3 div.sk-label label {font-family: monospace;font-weight: bold;display: inline-block;line-height: 1.2em;}#sk-container-id-3 div.sk-label-container {text-align: center;}#sk-container-id-3 div.sk-container {/* jupyter's `normalize.less` sets `[hidden] { display: none; }` but bootstrap.min.css set `[hidden] { display: none !important; }` so we also need the `!important` here to be able to override the default hidden behavior on the sphinx rendered scikit-learn.org. See: https://github.com/scikit-learn/scikit-learn/issues/21755 */display: inline-block !important;position: relative;}#sk-container-id-3 div.sk-text-repr-fallback {display: none;}</style><div id=\"sk-container-id-3\" class=\"sk-top-container\"><div class=\"sk-text-repr-fallback\"><pre>GridSearchCV(cv=StratifiedKFold(n_splits=5, random_state=None, shuffle=False),\n",
       "             estimator=RandomForestClassifier(n_jobs=-1, oob_score=True,\n",
       "                                              random_state=42),\n",
       "             n_jobs=-1,\n",
       "             param_grid={&#x27;class_weight&#x27;: [&#x27;balanced&#x27;, &#x27;balanced_subsample&#x27;,\n",
       "                                          None],\n",
       "                         &#x27;criterion&#x27;: [&#x27;gini&#x27;, &#x27;entropy&#x27;],\n",
       "                         &#x27;max_features&#x27;: [1, 2, 3, 4, 5, 6],\n",
       "                         &#x27;n_estimators&#x27;: [5, 10, 15, 20, 25, 30, 35, 40, 45]})</pre><b>In a Jupyter environment, please rerun this cell to show the HTML representation or trust the notebook. <br />On GitHub, the HTML representation is unable to render, please try loading this page with nbviewer.org.</b></div><div class=\"sk-container\" hidden><div class=\"sk-item sk-dashed-wrapped\"><div class=\"sk-label-container\"><div class=\"sk-label sk-toggleable\"><input class=\"sk-toggleable__control sk-hidden--visually\" id=\"sk-estimator-id-5\" type=\"checkbox\" ><label for=\"sk-estimator-id-5\" class=\"sk-toggleable__label sk-toggleable__label-arrow\">GridSearchCV</label><div class=\"sk-toggleable__content\"><pre>GridSearchCV(cv=StratifiedKFold(n_splits=5, random_state=None, shuffle=False),\n",
       "             estimator=RandomForestClassifier(n_jobs=-1, oob_score=True,\n",
       "                                              random_state=42),\n",
       "             n_jobs=-1,\n",
       "             param_grid={&#x27;class_weight&#x27;: [&#x27;balanced&#x27;, &#x27;balanced_subsample&#x27;,\n",
       "                                          None],\n",
       "                         &#x27;criterion&#x27;: [&#x27;gini&#x27;, &#x27;entropy&#x27;],\n",
       "                         &#x27;max_features&#x27;: [1, 2, 3, 4, 5, 6],\n",
       "                         &#x27;n_estimators&#x27;: [5, 10, 15, 20, 25, 30, 35, 40, 45]})</pre></div></div></div><div class=\"sk-parallel\"><div class=\"sk-parallel-item\"><div class=\"sk-item\"><div class=\"sk-label-container\"><div class=\"sk-label sk-toggleable\"><input class=\"sk-toggleable__control sk-hidden--visually\" id=\"sk-estimator-id-6\" type=\"checkbox\" ><label for=\"sk-estimator-id-6\" class=\"sk-toggleable__label sk-toggleable__label-arrow\">estimator: RandomForestClassifier</label><div class=\"sk-toggleable__content\"><pre>RandomForestClassifier(n_jobs=-1, oob_score=True, random_state=42)</pre></div></div></div><div class=\"sk-serial\"><div class=\"sk-item\"><div class=\"sk-estimator sk-toggleable\"><input class=\"sk-toggleable__control sk-hidden--visually\" id=\"sk-estimator-id-7\" type=\"checkbox\" ><label for=\"sk-estimator-id-7\" class=\"sk-toggleable__label sk-toggleable__label-arrow\">RandomForestClassifier</label><div class=\"sk-toggleable__content\"><pre>RandomForestClassifier(n_jobs=-1, oob_score=True, random_state=42)</pre></div></div></div></div></div></div></div></div></div></div>"
      ],
      "text/plain": [
       "GridSearchCV(cv=StratifiedKFold(n_splits=5, random_state=None, shuffle=False),\n",
       "             estimator=RandomForestClassifier(n_jobs=-1, oob_score=True,\n",
       "                                              random_state=42),\n",
       "             n_jobs=-1,\n",
       "             param_grid={'class_weight': ['balanced', 'balanced_subsample',\n",
       "                                          None],\n",
       "                         'criterion': ['gini', 'entropy'],\n",
       "                         'max_features': [1, 2, 3, 4, 5, 6],\n",
       "                         'n_estimators': [5, 10, 15, 20, 25, 30, 35, 40, 45]})"
      ]
     },
     "execution_count": 33,
     "metadata": {},
     "output_type": "execute_result"
    }
   ],
   "source": [
    "# Running grid search\n",
    "grid.fit(X_train, y_train)"
   ]
  },
  {
   "cell_type": "code",
   "execution_count": 34,
   "id": "f0fcb616-f4f8-4c24-b5d1-a4cd2c9fe8f4",
   "metadata": {
    "tags": []
   },
   "outputs": [
    {
     "data": {
      "text/plain": [
       "0.7688888888888888"
      ]
     },
     "execution_count": 34,
     "metadata": {},
     "output_type": "execute_result"
    }
   ],
   "source": [
    "# Getting best score from grid search\n",
    "grid.best_score_"
   ]
  },
  {
   "cell_type": "code",
   "execution_count": 35,
   "id": "d9743e4c-db4e-49a1-afaa-7abc3a6c98a9",
   "metadata": {
    "tags": []
   },
   "outputs": [
    {
     "data": {
      "text/plain": [
       "{'class_weight': 'balanced',\n",
       " 'criterion': 'gini',\n",
       " 'max_features': 4,\n",
       " 'n_estimators': 10}"
      ]
     },
     "execution_count": 35,
     "metadata": {},
     "output_type": "execute_result"
    }
   ],
   "source": [
    "# Getting parameter that gave the best score\n",
    "grid.best_params_"
   ]
  },
  {
   "cell_type": "markdown",
   "id": "58543409-6696-44a4-ac30-39735d7ba7b8",
   "metadata": {},
   "source": [
    "Let us use these hyperparameter values and check test score again"
   ]
  },
  {
   "cell_type": "code",
   "execution_count": 36,
   "id": "2b1726e1-8826-4799-9839-1b918998f667",
   "metadata": {
    "tags": []
   },
   "outputs": [],
   "source": [
    "# Redifining Random Forest Classifier for grid search\n",
    "rfc = RandomForestClassifier(n_estimators= 10, max_features= 4, class_weight='balanced', oob_score = True, n_jobs = -1, random_state= 42)"
   ]
  },
  {
   "cell_type": "code",
   "execution_count": 37,
   "id": "c920330d-be50-4860-8b7d-b4ce416a08f0",
   "metadata": {
    "tags": []
   },
   "outputs": [
    {
     "data": {
      "text/html": [
       "<style>#sk-container-id-4 {color: black;background-color: white;}#sk-container-id-4 pre{padding: 0;}#sk-container-id-4 div.sk-toggleable {background-color: white;}#sk-container-id-4 label.sk-toggleable__label {cursor: pointer;display: block;width: 100%;margin-bottom: 0;padding: 0.3em;box-sizing: border-box;text-align: center;}#sk-container-id-4 label.sk-toggleable__label-arrow:before {content: \"▸\";float: left;margin-right: 0.25em;color: #696969;}#sk-container-id-4 label.sk-toggleable__label-arrow:hover:before {color: black;}#sk-container-id-4 div.sk-estimator:hover label.sk-toggleable__label-arrow:before {color: black;}#sk-container-id-4 div.sk-toggleable__content {max-height: 0;max-width: 0;overflow: hidden;text-align: left;background-color: #f0f8ff;}#sk-container-id-4 div.sk-toggleable__content pre {margin: 0.2em;color: black;border-radius: 0.25em;background-color: #f0f8ff;}#sk-container-id-4 input.sk-toggleable__control:checked~div.sk-toggleable__content {max-height: 200px;max-width: 100%;overflow: auto;}#sk-container-id-4 input.sk-toggleable__control:checked~label.sk-toggleable__label-arrow:before {content: \"▾\";}#sk-container-id-4 div.sk-estimator input.sk-toggleable__control:checked~label.sk-toggleable__label {background-color: #d4ebff;}#sk-container-id-4 div.sk-label input.sk-toggleable__control:checked~label.sk-toggleable__label {background-color: #d4ebff;}#sk-container-id-4 input.sk-hidden--visually {border: 0;clip: rect(1px 1px 1px 1px);clip: rect(1px, 1px, 1px, 1px);height: 1px;margin: -1px;overflow: hidden;padding: 0;position: absolute;width: 1px;}#sk-container-id-4 div.sk-estimator {font-family: monospace;background-color: #f0f8ff;border: 1px dotted black;border-radius: 0.25em;box-sizing: border-box;margin-bottom: 0.5em;}#sk-container-id-4 div.sk-estimator:hover {background-color: #d4ebff;}#sk-container-id-4 div.sk-parallel-item::after {content: \"\";width: 100%;border-bottom: 1px solid gray;flex-grow: 1;}#sk-container-id-4 div.sk-label:hover label.sk-toggleable__label {background-color: #d4ebff;}#sk-container-id-4 div.sk-serial::before {content: \"\";position: absolute;border-left: 1px solid gray;box-sizing: border-box;top: 0;bottom: 0;left: 50%;z-index: 0;}#sk-container-id-4 div.sk-serial {display: flex;flex-direction: column;align-items: center;background-color: white;padding-right: 0.2em;padding-left: 0.2em;position: relative;}#sk-container-id-4 div.sk-item {position: relative;z-index: 1;}#sk-container-id-4 div.sk-parallel {display: flex;align-items: stretch;justify-content: center;background-color: white;position: relative;}#sk-container-id-4 div.sk-item::before, #sk-container-id-4 div.sk-parallel-item::before {content: \"\";position: absolute;border-left: 1px solid gray;box-sizing: border-box;top: 0;bottom: 0;left: 50%;z-index: -1;}#sk-container-id-4 div.sk-parallel-item {display: flex;flex-direction: column;z-index: 1;position: relative;background-color: white;}#sk-container-id-4 div.sk-parallel-item:first-child::after {align-self: flex-end;width: 50%;}#sk-container-id-4 div.sk-parallel-item:last-child::after {align-self: flex-start;width: 50%;}#sk-container-id-4 div.sk-parallel-item:only-child::after {width: 0;}#sk-container-id-4 div.sk-dashed-wrapped {border: 1px dashed gray;margin: 0 0.4em 0.5em 0.4em;box-sizing: border-box;padding-bottom: 0.4em;background-color: white;}#sk-container-id-4 div.sk-label label {font-family: monospace;font-weight: bold;display: inline-block;line-height: 1.2em;}#sk-container-id-4 div.sk-label-container {text-align: center;}#sk-container-id-4 div.sk-container {/* jupyter's `normalize.less` sets `[hidden] { display: none; }` but bootstrap.min.css set `[hidden] { display: none !important; }` so we also need the `!important` here to be able to override the default hidden behavior on the sphinx rendered scikit-learn.org. See: https://github.com/scikit-learn/scikit-learn/issues/21755 */display: inline-block !important;position: relative;}#sk-container-id-4 div.sk-text-repr-fallback {display: none;}</style><div id=\"sk-container-id-4\" class=\"sk-top-container\"><div class=\"sk-text-repr-fallback\"><pre>RandomForestClassifier(class_weight=&#x27;balanced&#x27;, max_features=4, n_estimators=10,\n",
       "                       n_jobs=-1, oob_score=True, random_state=42)</pre><b>In a Jupyter environment, please rerun this cell to show the HTML representation or trust the notebook. <br />On GitHub, the HTML representation is unable to render, please try loading this page with nbviewer.org.</b></div><div class=\"sk-container\" hidden><div class=\"sk-item\"><div class=\"sk-estimator sk-toggleable\"><input class=\"sk-toggleable__control sk-hidden--visually\" id=\"sk-estimator-id-8\" type=\"checkbox\" checked><label for=\"sk-estimator-id-8\" class=\"sk-toggleable__label sk-toggleable__label-arrow\">RandomForestClassifier</label><div class=\"sk-toggleable__content\"><pre>RandomForestClassifier(class_weight=&#x27;balanced&#x27;, max_features=4, n_estimators=10,\n",
       "                       n_jobs=-1, oob_score=True, random_state=42)</pre></div></div></div></div></div>"
      ],
      "text/plain": [
       "RandomForestClassifier(class_weight='balanced', max_features=4, n_estimators=10,\n",
       "                       n_jobs=-1, oob_score=True, random_state=42)"
      ]
     },
     "execution_count": 37,
     "metadata": {},
     "output_type": "execute_result"
    }
   ],
   "source": [
    "# Fitting training data to the model\n",
    "rfc.fit(X_train, y_train)"
   ]
  },
  {
   "cell_type": "code",
   "execution_count": 38,
   "id": "54c26299-7883-433a-a916-50bd5f1b2874",
   "metadata": {
    "tags": []
   },
   "outputs": [
    {
     "data": {
      "text/plain": [
       "0.72"
      ]
     },
     "execution_count": 38,
     "metadata": {},
     "output_type": "execute_result"
    }
   ],
   "source": [
    "# Getting out-of-bag score\n",
    "rfc.oob_score_"
   ]
  },
  {
   "cell_type": "code",
   "execution_count": 39,
   "id": "8897bf03-7300-4702-a92e-a547e62b528e",
   "metadata": {
    "tags": []
   },
   "outputs": [
    {
     "data": {
      "text/plain": [
       "0.9466666666666667"
      ]
     },
     "execution_count": 39,
     "metadata": {},
     "output_type": "execute_result"
    }
   ],
   "source": [
    "# Score for training data\n",
    "rfc.score(X_train, y_train)"
   ]
  },
  {
   "cell_type": "code",
   "execution_count": 40,
   "id": "0c3bb209-9f7c-4275-b128-5fb386a4f0ad",
   "metadata": {
    "tags": []
   },
   "outputs": [
    {
     "data": {
      "text/plain": [
       "0.76"
      ]
     },
     "execution_count": 40,
     "metadata": {},
     "output_type": "execute_result"
    }
   ],
   "source": [
    "# Score for testing data\n",
    "rfc.score(X_test, y_test)"
   ]
  },
  {
   "cell_type": "code",
   "execution_count": 41,
   "id": "496729a3-6eb1-4565-9af1-c57930548060",
   "metadata": {},
   "outputs": [
    {
     "name": "stdout",
     "output_type": "stream",
     "text": [
      "              precision    recall  f1-score   support\n",
      "\n",
      "           0       0.79      0.96      0.86       119\n",
      "           1       0.00      0.00      0.00        31\n",
      "\n",
      "    accuracy                           0.76       150\n",
      "   macro avg       0.39      0.48      0.43       150\n",
      "weighted avg       0.62      0.76      0.69       150\n",
      "\n"
     ]
    }
   ],
   "source": [
    "# Classification report for testing data predictions\n",
    "print(classification_report(y_test, rfc.predict(X_test)))"
   ]
  },
  {
   "cell_type": "markdown",
   "id": "da3b5486-7834-4139-9d62-79ff5d065cdf",
   "metadata": {},
   "source": [
    "Target class 1 has 0 precision and recall"
   ]
  },
  {
   "cell_type": "code",
   "execution_count": 42,
   "id": "552a6b43-3f1c-4b28-8dd1-f5c86e88765d",
   "metadata": {
    "tags": []
   },
   "outputs": [
    {
     "data": {
      "text/plain": [
       "0    119\n",
       "1     31\n",
       "Name: taxable_income, dtype: int64"
      ]
     },
     "execution_count": 42,
     "metadata": {},
     "output_type": "execute_result"
    }
   ],
   "source": [
    "# Value count of each target class\n",
    "y_test.value_counts()"
   ]
  },
  {
   "cell_type": "code",
   "execution_count": 43,
   "id": "d6950f0e-9f49-4934-99e5-660d6e4b421f",
   "metadata": {
    "tags": []
   },
   "outputs": [
    {
     "data": {
      "text/plain": [
       "<sklearn.metrics._plot.confusion_matrix.ConfusionMatrixDisplay at 0x217a38bd5e0>"
      ]
     },
     "execution_count": 43,
     "metadata": {},
     "output_type": "execute_result"
    },
    {
     "data": {
      "image/png": "[encoded data removed]",
      "text/plain": [
       "<Figure size 640x480 with 2 Axes>"
      ]
     },
     "metadata": {},
     "output_type": "display_data"
    }
   ],
   "source": [
    "# Confusion Matrix for test data predictions\n",
    "ConfusionMatrixDisplay(confusion_matrix(y_test, rfc.predict(X_test))).plot()"
   ]
  },
  {
   "cell_type": "markdown",
   "id": "46b300a0-6a88-452c-9b61-d402835100dd",
   "metadata": {},
   "source": [
    "All of the 31 samples with 1 target class have been misclassified. Our model is misclassifying all samples of class 1 as class 0, and few of class 0 as class 1"
   ]
  },
  {
   "cell_type": "code",
   "execution_count": 44,
   "id": "3dabe3fe-8d9a-4d76-b847-90fdce9c1293",
   "metadata": {
    "tags": []
   },
   "outputs": [],
   "source": [
    "# Creating a function that takes n_estimators and max_features, and returns oob_score, training and testing scores, classification report, and confusion matrix\n",
    "\n",
    "def display_model_quality(n_estimators, max_features = 4, class_weight='balanced'): \n",
    "    print(\"*********************************************************\")\n",
    "    print(f\"\\tn_estimators = {n_estimators}\\t\\tmax_features = {max_features}\")\n",
    "    print(\"*********************************************************\")\n",
    "    rfc = RandomForestClassifier(n_estimators= n_estimators, max_features= max_features, class_weight=class_weight, oob_score = True, n_jobs = -1, random_state= 42)\n",
    "    rfc.fit(X_train, y_train)\n",
    "    print(f\"\\nTRAINING SCORE : {rfc.score(X_train, y_train)}\")\n",
    "    print(f\"OOB SCORE : {rfc.oob_score_}\")\n",
    "    print(f\"TESTING SCORE : {rfc.score(X_test, y_test)}\")\n",
    "    print(f\"\\n---CLASSIFICATION REPORT---\\n{classification_report(y_test, rfc.predict(X_test))}\")\n",
    "    print(\"\\n---CONFUSION MATRIX---\")\n",
    "    ConfusionMatrixDisplay(confusion_matrix(y_test, rfc.predict(X_test))).plot()"
   ]
  },
  {
   "cell_type": "code",
   "execution_count": 45,
   "id": "55474a47-c91d-42cc-b4a5-48af2182b029",
   "metadata": {
    "tags": []
   },
   "outputs": [
    {
     "name": "stdout",
     "output_type": "stream",
     "text": [
      "*********************************************************\n",
      "\tn_estimators = 100\t\tmax_features = 4\n",
      "*********************************************************\n",
      "\n",
      "TRAINING SCORE : 1.0\n",
      "OOB SCORE : 0.7466666666666667\n",
      "TESTING SCORE : 0.7733333333333333\n",
      "\n",
      "---CLASSIFICATION REPORT---\n",
      "              precision    recall  f1-score   support\n",
      "\n",
      "           0       0.79      0.97      0.87       119\n",
      "           1       0.20      0.03      0.06        31\n",
      "\n",
      "    accuracy                           0.77       150\n",
      "   macro avg       0.50      0.50      0.46       150\n",
      "weighted avg       0.67      0.77      0.70       150\n",
      "\n",
      "\n",
      "---CONFUSION MATRIX---\n"
     ]
    },
    {
     "data": {
      "image/png": "[encoded data removed]",
      "text/plain": [
       "<Figure size 640x480 with 2 Axes>"
      ]
     },
     "metadata": {},
     "output_type": "display_data"
    }
   ],
   "source": [
    "# Stats for n_estimators = 100 and max_features = 4\n",
    "display_model_quality(100, 4)"
   ]
  },
  {
   "cell_type": "code",
   "execution_count": 46,
   "id": "e3ffaf24-23db-449c-8225-f9a71626c2d2",
   "metadata": {
    "tags": []
   },
   "outputs": [
    {
     "name": "stdout",
     "output_type": "stream",
     "text": [
      "*********************************************************\n",
      "\tn_estimators = 100\t\tmax_features = 4\n",
      "*********************************************************\n",
      "\n",
      "TRAINING SCORE : 1.0\n",
      "OOB SCORE : 0.7422222222222222\n",
      "TESTING SCORE : 0.7666666666666667\n",
      "\n",
      "---CLASSIFICATION REPORT---\n",
      "              precision    recall  f1-score   support\n",
      "\n",
      "           0       0.79      0.96      0.87       119\n",
      "           1       0.17      0.03      0.05        31\n",
      "\n",
      "    accuracy                           0.77       150\n",
      "   macro avg       0.48      0.50      0.46       150\n",
      "weighted avg       0.66      0.77      0.70       150\n",
      "\n",
      "\n",
      "---CONFUSION MATRIX---\n"
     ]
    },
    {
     "data": {
      "image/png": "[encoded data removed]",
      "text/plain": [
       "<Figure size 640x480 with 2 Axes>"
      ]
     },
     "metadata": {},
     "output_type": "display_data"
    }
   ],
   "source": [
    "# Stats for n_estimators = 100 and max_features = 4, and class_weight = None\n",
    "display_model_quality(100, 4, None)"
   ]
  },
  {
   "cell_type": "code",
   "execution_count": 47,
   "id": "66954ad3-48a0-48f3-b8ac-4b65877d1cdd",
   "metadata": {
    "tags": []
   },
   "outputs": [
    {
     "name": "stdout",
     "output_type": "stream",
     "text": [
      "*********************************************************\n",
      "\tn_estimators = 100\t\tmax_features = 4\n",
      "*********************************************************\n",
      "\n",
      "TRAINING SCORE : 1.0\n",
      "OOB SCORE : 0.7377777777777778\n",
      "TESTING SCORE : 0.78\n",
      "\n",
      "---CLASSIFICATION REPORT---\n",
      "              precision    recall  f1-score   support\n",
      "\n",
      "           0       0.80      0.97      0.87       119\n",
      "           1       0.33      0.06      0.11        31\n",
      "\n",
      "    accuracy                           0.78       150\n",
      "   macro avg       0.57      0.52      0.49       150\n",
      "weighted avg       0.70      0.78      0.72       150\n",
      "\n",
      "\n",
      "---CONFUSION MATRIX---\n"
     ]
    },
    {
     "data": {
      "image/png": "[encoded data removed]",
      "text/plain": [
       "<Figure size 640x480 with 2 Axes>"
      ]
     },
     "metadata": {},
     "output_type": "display_data"
    }
   ],
   "source": [
    "# Stats for n_estimators = 100 and max_features = 4, and class_weight = balanced_subsample\n",
    "display_model_quality(100, 4, 'balanced_subsample')"
   ]
  },
  {
   "cell_type": "markdown",
   "id": "0d982b92-b27a-4090-ae09-3f2a4193bbb1",
   "metadata": {},
   "source": [
    "Even with 100 n_estimators, the model barely classifies 2 True Positives"
   ]
  },
  {
   "cell_type": "markdown",
   "id": "b270aca6-13e0-468a-bd25-b0f1784afad4",
   "metadata": {},
   "source": [
    "Let us try grid search again, with 'f1' as the scoring metric"
   ]
  },
  {
   "cell_type": "code",
   "execution_count": 48,
   "id": "7e9379fe-5d04-4d79-88de-5da629426ffa",
   "metadata": {
    "tags": []
   },
   "outputs": [],
   "source": [
    "# Defining parameter values for grid search\n",
    "param_grid = {\n",
    "    'n_estimators' : [5, 10, 50, 100, 200, 500, 750, 900, 1000],\n",
    "    'criterion' : [\"gini\", \"entropy\"],\n",
    "    'max_features' : [i for i in range(1, X.shape[1] + 1)],\n",
    "    'class_weight' :[\"balanced\", \"balanced_subsample\", None] \n",
    "}"
   ]
  },
  {
   "cell_type": "code",
   "execution_count": 49,
   "id": "127e294e-b88f-418a-9538-2a82bebafa38",
   "metadata": {
    "tags": []
   },
   "outputs": [],
   "source": [
    "# Redifining Random Forest Classifier for grid search\n",
    "rfc = RandomForestClassifier(oob_score = True, n_jobs = -1, random_state= 42)"
   ]
  },
  {
   "cell_type": "code",
   "execution_count": 52,
   "id": "f3ffd7d3-3a22-4f58-a23f-b8c904c91741",
   "metadata": {
    "tags": []
   },
   "outputs": [],
   "source": [
    "# Creating a Grid Search object\n",
    "grid = GridSearchCV(estimator=rfc, param_grid=param_grid, n_jobs = -1, cv = skf, scoring = 'f1')"
   ]
  },
  {
   "cell_type": "code",
   "execution_count": 53,
   "id": "3cc94bf5-d9f8-44d4-a006-4e8fd497c092",
   "metadata": {
    "tags": []
   },
   "outputs": [
    {
     "name": "stderr",
     "output_type": "stream",
     "text": [
      "C:\\Users\\harsh\\AppData\\Roaming\\jupyterlab-desktop\\jlab_server\\lib\\site-packages\\sklearn\\ensemble\\_forest.py:583: UserWarning: Some inputs do not have OOB scores. This probably means too few trees were used to compute any reliable OOB estimates.\n",
      "  warn(\n"
     ]
    },
    {
     "data": {
      "text/html": [
       "<style>#sk-container-id-5 {color: black;background-color: white;}#sk-container-id-5 pre{padding: 0;}#sk-container-id-5 div.sk-toggleable {background-color: white;}#sk-container-id-5 label.sk-toggleable__label {cursor: pointer;display: block;width: 100%;margin-bottom: 0;padding: 0.3em;box-sizing: border-box;text-align: center;}#sk-container-id-5 label.sk-toggleable__label-arrow:before {content: \"▸\";float: left;margin-right: 0.25em;color: #696969;}#sk-container-id-5 label.sk-toggleable__label-arrow:hover:before {color: black;}#sk-container-id-5 div.sk-estimator:hover label.sk-toggleable__label-arrow:before {color: black;}#sk-container-id-5 div.sk-toggleable__content {max-height: 0;max-width: 0;overflow: hidden;text-align: left;background-color: #f0f8ff;}#sk-container-id-5 div.sk-toggleable__content pre {margin: 0.2em;color: black;border-radius: 0.25em;background-color: #f0f8ff;}#sk-container-id-5 input.sk-toggleable__control:checked~div.sk-toggleable__content {max-height: 200px;max-width: 100%;overflow: auto;}#sk-container-id-5 input.sk-toggleable__control:checked~label.sk-toggleable__label-arrow:before {content: \"▾\";}#sk-container-id-5 div.sk-estimator input.sk-toggleable__control:checked~label.sk-toggleable__label {background-color: #d4ebff;}#sk-container-id-5 div.sk-label input.sk-toggleable__control:checked~label.sk-toggleable__label {background-color: #d4ebff;}#sk-container-id-5 input.sk-hidden--visually {border: 0;clip: rect(1px 1px 1px 1px);clip: rect(1px, 1px, 1px, 1px);height: 1px;margin: -1px;overflow: hidden;padding: 0;position: absolute;width: 1px;}#sk-container-id-5 div.sk-estimator {font-family: monospace;background-color: #f0f8ff;border: 1px dotted black;border-radius: 0.25em;box-sizing: border-box;margin-bottom: 0.5em;}#sk-container-id-5 div.sk-estimator:hover {background-color: #d4ebff;}#sk-container-id-5 div.sk-parallel-item::after {content: \"\";width: 100%;border-bottom: 1px solid gray;flex-grow: 1;}#sk-container-id-5 div.sk-label:hover label.sk-toggleable__label {background-color: #d4ebff;}#sk-container-id-5 div.sk-serial::before {content: \"\";position: absolute;border-left: 1px solid gray;box-sizing: border-box;top: 0;bottom: 0;left: 50%;z-index: 0;}#sk-container-id-5 div.sk-serial {display: flex;flex-direction: column;align-items: center;background-color: white;padding-right: 0.2em;padding-left: 0.2em;position: relative;}#sk-container-id-5 div.sk-item {position: relative;z-index: 1;}#sk-container-id-5 div.sk-parallel {display: flex;align-items: stretch;justify-content: center;background-color: white;position: relative;}#sk-container-id-5 div.sk-item::before, #sk-container-id-5 div.sk-parallel-item::before {content: \"\";position: absolute;border-left: 1px solid gray;box-sizing: border-box;top: 0;bottom: 0;left: 50%;z-index: -1;}#sk-container-id-5 div.sk-parallel-item {display: flex;flex-direction: column;z-index: 1;position: relative;background-color: white;}#sk-container-id-5 div.sk-parallel-item:first-child::after {align-self: flex-end;width: 50%;}#sk-container-id-5 div.sk-parallel-item:last-child::after {align-self: flex-start;width: 50%;}#sk-container-id-5 div.sk-parallel-item:only-child::after {width: 0;}#sk-container-id-5 div.sk-dashed-wrapped {border: 1px dashed gray;margin: 0 0.4em 0.5em 0.4em;box-sizing: border-box;padding-bottom: 0.4em;background-color: white;}#sk-container-id-5 div.sk-label label {font-family: monospace;font-weight: bold;display: inline-block;line-height: 1.2em;}#sk-container-id-5 div.sk-label-container {text-align: center;}#sk-container-id-5 div.sk-container {/* jupyter's `normalize.less` sets `[hidden] { display: none; }` but bootstrap.min.css set `[hidden] { display: none !important; }` so we also need the `!important` here to be able to override the default hidden behavior on the sphinx rendered scikit-learn.org. See: https://github.com/scikit-learn/scikit-learn/issues/21755 */display: inline-block !important;position: relative;}#sk-container-id-5 div.sk-text-repr-fallback {display: none;}</style><div id=\"sk-container-id-5\" class=\"sk-top-container\"><div class=\"sk-text-repr-fallback\"><pre>GridSearchCV(cv=StratifiedKFold(n_splits=5, random_state=None, shuffle=False),\n",
       "             estimator=RandomForestClassifier(n_jobs=-1, oob_score=True,\n",
       "                                              random_state=42),\n",
       "             n_jobs=-1,\n",
       "             param_grid={&#x27;class_weight&#x27;: [&#x27;balanced&#x27;, &#x27;balanced_subsample&#x27;,\n",
       "                                          None],\n",
       "                         &#x27;criterion&#x27;: [&#x27;gini&#x27;, &#x27;entropy&#x27;],\n",
       "                         &#x27;max_features&#x27;: [1, 2, 3, 4, 5, 6],\n",
       "                         &#x27;n_estimators&#x27;: [5, 10, 50, 100, 200, 500, 750, 900,\n",
       "                                          1000]},\n",
       "             scoring=&#x27;f1&#x27;)</pre><b>In a Jupyter environment, please rerun this cell to show the HTML representation or trust the notebook. <br />On GitHub, the HTML representation is unable to render, please try loading this page with nbviewer.org.</b></div><div class=\"sk-container\" hidden><div class=\"sk-item sk-dashed-wrapped\"><div class=\"sk-label-container\"><div class=\"sk-label sk-toggleable\"><input class=\"sk-toggleable__control sk-hidden--visually\" id=\"sk-estimator-id-9\" type=\"checkbox\" ><label for=\"sk-estimator-id-9\" class=\"sk-toggleable__label sk-toggleable__label-arrow\">GridSearchCV</label><div class=\"sk-toggleable__content\"><pre>GridSearchCV(cv=StratifiedKFold(n_splits=5, random_state=None, shuffle=False),\n",
       "             estimator=RandomForestClassifier(n_jobs=-1, oob_score=True,\n",
       "                                              random_state=42),\n",
       "             n_jobs=-1,\n",
       "             param_grid={&#x27;class_weight&#x27;: [&#x27;balanced&#x27;, &#x27;balanced_subsample&#x27;,\n",
       "                                          None],\n",
       "                         &#x27;criterion&#x27;: [&#x27;gini&#x27;, &#x27;entropy&#x27;],\n",
       "                         &#x27;max_features&#x27;: [1, 2, 3, 4, 5, 6],\n",
       "                         &#x27;n_estimators&#x27;: [5, 10, 50, 100, 200, 500, 750, 900,\n",
       "                                          1000]},\n",
       "             scoring=&#x27;f1&#x27;)</pre></div></div></div><div class=\"sk-parallel\"><div class=\"sk-parallel-item\"><div class=\"sk-item\"><div class=\"sk-label-container\"><div class=\"sk-label sk-toggleable\"><input class=\"sk-toggleable__control sk-hidden--visually\" id=\"sk-estimator-id-10\" type=\"checkbox\" ><label for=\"sk-estimator-id-10\" class=\"sk-toggleable__label sk-toggleable__label-arrow\">estimator: RandomForestClassifier</label><div class=\"sk-toggleable__content\"><pre>RandomForestClassifier(n_jobs=-1, oob_score=True, random_state=42)</pre></div></div></div><div class=\"sk-serial\"><div class=\"sk-item\"><div class=\"sk-estimator sk-toggleable\"><input class=\"sk-toggleable__control sk-hidden--visually\" id=\"sk-estimator-id-11\" type=\"checkbox\" ><label for=\"sk-estimator-id-11\" class=\"sk-toggleable__label sk-toggleable__label-arrow\">RandomForestClassifier</label><div class=\"sk-toggleable__content\"><pre>RandomForestClassifier(n_jobs=-1, oob_score=True, random_state=42)</pre></div></div></div></div></div></div></div></div></div></div>"
      ],
      "text/plain": [
       "GridSearchCV(cv=StratifiedKFold(n_splits=5, random_state=None, shuffle=False),\n",
       "             estimator=RandomForestClassifier(n_jobs=-1, oob_score=True,\n",
       "                                              random_state=42),\n",
       "             n_jobs=-1,\n",
       "             param_grid={'class_weight': ['balanced', 'balanced_subsample',\n",
       "                                          None],\n",
       "                         'criterion': ['gini', 'entropy'],\n",
       "                         'max_features': [1, 2, 3, 4, 5, 6],\n",
       "                         'n_estimators': [5, 10, 50, 100, 200, 500, 750, 900,\n",
       "                                          1000]},\n",
       "             scoring='f1')"
      ]
     },
     "execution_count": 53,
     "metadata": {},
     "output_type": "execute_result"
    }
   ],
   "source": [
    "# Running grid search\n",
    "grid.fit(X_train, y_train)"
   ]
  },
  {
   "cell_type": "code",
   "execution_count": 54,
   "id": "b6b5b801-5b30-4773-9ba3-533438033dab",
   "metadata": {
    "tags": []
   },
   "outputs": [
    {
     "data": {
      "text/plain": [
       "0.14638487208008902"
      ]
     },
     "execution_count": 54,
     "metadata": {},
     "output_type": "execute_result"
    }
   ],
   "source": [
    "# Getting best score from grid search\n",
    "grid.best_score_"
   ]
  },
  {
   "cell_type": "code",
   "execution_count": 55,
   "id": "d8ee11fa-3672-4e21-bc41-e947d9ac4a2d",
   "metadata": {
    "tags": []
   },
   "outputs": [
    {
     "data": {
      "text/plain": [
       "{'class_weight': 'balanced',\n",
       " 'criterion': 'entropy',\n",
       " 'max_features': 6,\n",
       " 'n_estimators': 5}"
      ]
     },
     "execution_count": 55,
     "metadata": {},
     "output_type": "execute_result"
    }
   ],
   "source": [
    "# Getting parameter that gave the best score\n",
    "grid.best_params_"
   ]
  },
  {
   "cell_type": "code",
   "execution_count": 56,
   "id": "d2158398-c4a1-41bb-8d24-730733c14c94",
   "metadata": {
    "tags": []
   },
   "outputs": [
    {
     "data": {
      "text/html": [
       "<div>\n",
       "<style scoped>\n",
       "    .dataframe tbody tr th:only-of-type {\n",
       "        vertical-align: middle;\n",
       "    }\n",
       "\n",
       "    .dataframe tbody tr th {\n",
       "        vertical-align: top;\n",
       "    }\n",
       "\n",
       "    .dataframe thead th {\n",
       "        text-align: right;\n",
       "    }\n",
       "</style>\n",
       "<table border=\"1\" class=\"dataframe\">\n",
       "  <thead>\n",
       "    <tr style=\"text-align: right;\">\n",
       "      <th></th>\n",
       "      <th>param_class_weight</th>\n",
       "      <th>param_criterion</th>\n",
       "      <th>param_max_features</th>\n",
       "      <th>param_n_estimators</th>\n",
       "      <th>mean_test_score</th>\n",
       "      <th>std_test_score</th>\n",
       "      <th>rank_test_score</th>\n",
       "    </tr>\n",
       "  </thead>\n",
       "  <tbody>\n",
       "    <tr>\n",
       "      <th>99</th>\n",
       "      <td>balanced</td>\n",
       "      <td>entropy</td>\n",
       "      <td>6</td>\n",
       "      <td>5</td>\n",
       "      <td>0.146385</td>\n",
       "      <td>0.076955</td>\n",
       "      <td>1</td>\n",
       "    </tr>\n",
       "    <tr>\n",
       "      <th>207</th>\n",
       "      <td>balanced_subsample</td>\n",
       "      <td>entropy</td>\n",
       "      <td>6</td>\n",
       "      <td>5</td>\n",
       "      <td>0.118772</td>\n",
       "      <td>0.059715</td>\n",
       "      <td>2</td>\n",
       "    </tr>\n",
       "    <tr>\n",
       "      <th>216</th>\n",
       "      <td>None</td>\n",
       "      <td>gini</td>\n",
       "      <td>1</td>\n",
       "      <td>5</td>\n",
       "      <td>0.117369</td>\n",
       "      <td>0.086446</td>\n",
       "      <td>3</td>\n",
       "    </tr>\n",
       "    <tr>\n",
       "      <th>100</th>\n",
       "      <td>balanced</td>\n",
       "      <td>entropy</td>\n",
       "      <td>6</td>\n",
       "      <td>10</td>\n",
       "      <td>0.116577</td>\n",
       "      <td>0.070237</td>\n",
       "      <td>4</td>\n",
       "    </tr>\n",
       "    <tr>\n",
       "      <th>162</th>\n",
       "      <td>balanced_subsample</td>\n",
       "      <td>entropy</td>\n",
       "      <td>1</td>\n",
       "      <td>5</td>\n",
       "      <td>0.115776</td>\n",
       "      <td>0.098757</td>\n",
       "      <td>5</td>\n",
       "    </tr>\n",
       "    <tr>\n",
       "      <th>126</th>\n",
       "      <td>balanced_subsample</td>\n",
       "      <td>gini</td>\n",
       "      <td>3</td>\n",
       "      <td>5</td>\n",
       "      <td>0.115442</td>\n",
       "      <td>0.067030</td>\n",
       "      <td>6</td>\n",
       "    </tr>\n",
       "    <tr>\n",
       "      <th>217</th>\n",
       "      <td>None</td>\n",
       "      <td>gini</td>\n",
       "      <td>1</td>\n",
       "      <td>10</td>\n",
       "      <td>0.100470</td>\n",
       "      <td>0.066688</td>\n",
       "      <td>7</td>\n",
       "    </tr>\n",
       "    <tr>\n",
       "      <th>243</th>\n",
       "      <td>None</td>\n",
       "      <td>gini</td>\n",
       "      <td>4</td>\n",
       "      <td>5</td>\n",
       "      <td>0.096516</td>\n",
       "      <td>0.067990</td>\n",
       "      <td>8</td>\n",
       "    </tr>\n",
       "    <tr>\n",
       "      <th>252</th>\n",
       "      <td>None</td>\n",
       "      <td>gini</td>\n",
       "      <td>5</td>\n",
       "      <td>5</td>\n",
       "      <td>0.093988</td>\n",
       "      <td>0.036088</td>\n",
       "      <td>9</td>\n",
       "    </tr>\n",
       "    <tr>\n",
       "      <th>315</th>\n",
       "      <td>None</td>\n",
       "      <td>entropy</td>\n",
       "      <td>6</td>\n",
       "      <td>5</td>\n",
       "      <td>0.091300</td>\n",
       "      <td>0.058118</td>\n",
       "      <td>10</td>\n",
       "    </tr>\n",
       "    <tr>\n",
       "      <th>253</th>\n",
       "      <td>None</td>\n",
       "      <td>gini</td>\n",
       "      <td>5</td>\n",
       "      <td>10</td>\n",
       "      <td>0.090822</td>\n",
       "      <td>0.066312</td>\n",
       "      <td>11</td>\n",
       "    </tr>\n",
       "    <tr>\n",
       "      <th>234</th>\n",
       "      <td>None</td>\n",
       "      <td>gini</td>\n",
       "      <td>3</td>\n",
       "      <td>5</td>\n",
       "      <td>0.085463</td>\n",
       "      <td>0.053022</td>\n",
       "      <td>12</td>\n",
       "    </tr>\n",
       "    <tr>\n",
       "      <th>261</th>\n",
       "      <td>None</td>\n",
       "      <td>gini</td>\n",
       "      <td>6</td>\n",
       "      <td>5</td>\n",
       "      <td>0.084497</td>\n",
       "      <td>0.023912</td>\n",
       "      <td>13</td>\n",
       "    </tr>\n",
       "    <tr>\n",
       "      <th>36</th>\n",
       "      <td>balanced</td>\n",
       "      <td>gini</td>\n",
       "      <td>5</td>\n",
       "      <td>5</td>\n",
       "      <td>0.084269</td>\n",
       "      <td>0.077095</td>\n",
       "      <td>14</td>\n",
       "    </tr>\n",
       "    <tr>\n",
       "      <th>28</th>\n",
       "      <td>balanced</td>\n",
       "      <td>gini</td>\n",
       "      <td>4</td>\n",
       "      <td>10</td>\n",
       "      <td>0.082092</td>\n",
       "      <td>0.079458</td>\n",
       "      <td>15</td>\n",
       "    </tr>\n",
       "    <tr>\n",
       "      <th>316</th>\n",
       "      <td>None</td>\n",
       "      <td>entropy</td>\n",
       "      <td>6</td>\n",
       "      <td>10</td>\n",
       "      <td>0.080776</td>\n",
       "      <td>0.087698</td>\n",
       "      <td>16</td>\n",
       "    </tr>\n",
       "    <tr>\n",
       "      <th>208</th>\n",
       "      <td>balanced_subsample</td>\n",
       "      <td>entropy</td>\n",
       "      <td>6</td>\n",
       "      <td>10</td>\n",
       "      <td>0.080551</td>\n",
       "      <td>0.070842</td>\n",
       "      <td>17</td>\n",
       "    </tr>\n",
       "    <tr>\n",
       "      <th>225</th>\n",
       "      <td>None</td>\n",
       "      <td>gini</td>\n",
       "      <td>2</td>\n",
       "      <td>5</td>\n",
       "      <td>0.080205</td>\n",
       "      <td>0.049055</td>\n",
       "      <td>18</td>\n",
       "    </tr>\n",
       "    <tr>\n",
       "      <th>262</th>\n",
       "      <td>None</td>\n",
       "      <td>gini</td>\n",
       "      <td>6</td>\n",
       "      <td>10</td>\n",
       "      <td>0.079811</td>\n",
       "      <td>0.069229</td>\n",
       "      <td>19</td>\n",
       "    </tr>\n",
       "    <tr>\n",
       "      <th>82</th>\n",
       "      <td>balanced</td>\n",
       "      <td>entropy</td>\n",
       "      <td>4</td>\n",
       "      <td>10</td>\n",
       "      <td>0.078739</td>\n",
       "      <td>0.071515</td>\n",
       "      <td>20</td>\n",
       "    </tr>\n",
       "  </tbody>\n",
       "</table>\n",
       "</div>"
      ],
      "text/plain": [
       "     param_class_weight param_criterion param_max_features param_n_estimators  \\\n",
       "99             balanced         entropy                  6                  5   \n",
       "207  balanced_subsample         entropy                  6                  5   \n",
       "216                None            gini                  1                  5   \n",
       "100            balanced         entropy                  6                 10   \n",
       "162  balanced_subsample         entropy                  1                  5   \n",
       "126  balanced_subsample            gini                  3                  5   \n",
       "217                None            gini                  1                 10   \n",
       "243                None            gini                  4                  5   \n",
       "252                None            gini                  5                  5   \n",
       "315                None         entropy                  6                  5   \n",
       "253                None            gini                  5                 10   \n",
       "234                None            gini                  3                  5   \n",
       "261                None            gini                  6                  5   \n",
       "36             balanced            gini                  5                  5   \n",
       "28             balanced            gini                  4                 10   \n",
       "316                None         entropy                  6                 10   \n",
       "208  balanced_subsample         entropy                  6                 10   \n",
       "225                None            gini                  2                  5   \n",
       "262                None            gini                  6                 10   \n",
       "82             balanced         entropy                  4                 10   \n",
       "\n",
       "     mean_test_score  std_test_score  rank_test_score  \n",
       "99          0.146385        0.076955                1  \n",
       "207         0.118772        0.059715                2  \n",
       "216         0.117369        0.086446                3  \n",
       "100         0.116577        0.070237                4  \n",
       "162         0.115776        0.098757                5  \n",
       "126         0.115442        0.067030                6  \n",
       "217         0.100470        0.066688                7  \n",
       "243         0.096516        0.067990                8  \n",
       "252         0.093988        0.036088                9  \n",
       "315         0.091300        0.058118               10  \n",
       "253         0.090822        0.066312               11  \n",
       "234         0.085463        0.053022               12  \n",
       "261         0.084497        0.023912               13  \n",
       "36          0.084269        0.077095               14  \n",
       "28          0.082092        0.079458               15  \n",
       "316         0.080776        0.087698               16  \n",
       "208         0.080551        0.070842               17  \n",
       "225         0.080205        0.049055               18  \n",
       "262         0.079811        0.069229               19  \n",
       "82          0.078739        0.071515               20  "
      ]
     },
     "execution_count": 56,
     "metadata": {},
     "output_type": "execute_result"
    }
   ],
   "source": [
    "# Checking cross validation results\n",
    "pd.DataFrame(grid.cv_results_).drop(columns = ['mean_fit_time', 'std_fit_time', 'mean_score_time', 'std_score_time', 'params', 'split0_test_score', 'split1_test_score', 'split2_test_score', 'split3_test_score', 'split4_test_score']).sort_values('rank_test_score').head(20)"
   ]
  },
  {
   "cell_type": "markdown",
   "id": "582f016e-e827-4aa3-895e-8a3c8de70fb7",
   "metadata": {},
   "source": [
    "We can see that the f1 score is only 14% for the best hyperparameter combination. Also, while class weights, criterion, and max_features change, the top score are obtained for 5 and 10 as n_estimators. Let us run grid search again for lower values for n_estimators"
   ]
  },
  {
   "cell_type": "code",
   "execution_count": 57,
   "id": "40f2813b-cdf4-4e14-89e3-77c75a17189f",
   "metadata": {
    "tags": []
   },
   "outputs": [],
   "source": [
    "# Defining parameter values for grid search\n",
    "param_grid = {\n",
    "    'n_estimators' : [x for x in range(3,16)],\n",
    "    'criterion' : [\"gini\", \"entropy\"],\n",
    "    'max_features' : [i for i in range(1, X.shape[1] + 1)],\n",
    "    'class_weight' :[\"balanced\", \"balanced_subsample\", None] \n",
    "}"
   ]
  },
  {
   "cell_type": "code",
   "execution_count": 58,
   "id": "43dfcb83-3e16-49a7-9ec7-01dd1251f878",
   "metadata": {
    "tags": []
   },
   "outputs": [],
   "source": [
    "# Redifining Random Forest Classifier for grid search\n",
    "rfc = RandomForestClassifier(n_jobs = -1, random_state= 42)"
   ]
  },
  {
   "cell_type": "code",
   "execution_count": 59,
   "id": "1525c560-678f-485b-a892-8cccf56e0af8",
   "metadata": {
    "tags": []
   },
   "outputs": [],
   "source": [
    "# Creating a Grid Search object\n",
    "grid = GridSearchCV(estimator=rfc, param_grid=param_grid, n_jobs = -1, cv = skf, scoring = 'f1')"
   ]
  },
  {
   "cell_type": "code",
   "execution_count": 60,
   "id": "413a4560-758b-4aed-9245-93da85f0d17e",
   "metadata": {
    "tags": []
   },
   "outputs": [
    {
     "data": {
      "text/html": [
       "<style>#sk-container-id-6 {color: black;background-color: white;}#sk-container-id-6 pre{padding: 0;}#sk-container-id-6 div.sk-toggleable {background-color: white;}#sk-container-id-6 label.sk-toggleable__label {cursor: pointer;display: block;width: 100%;margin-bottom: 0;padding: 0.3em;box-sizing: border-box;text-align: center;}#sk-container-id-6 label.sk-toggleable__label-arrow:before {content: \"▸\";float: left;margin-right: 0.25em;color: #696969;}#sk-container-id-6 label.sk-toggleable__label-arrow:hover:before {color: black;}#sk-container-id-6 div.sk-estimator:hover label.sk-toggleable__label-arrow:before {color: black;}#sk-container-id-6 div.sk-toggleable__content {max-height: 0;max-width: 0;overflow: hidden;text-align: left;background-color: #f0f8ff;}#sk-container-id-6 div.sk-toggleable__content pre {margin: 0.2em;color: black;border-radius: 0.25em;background-color: #f0f8ff;}#sk-container-id-6 input.sk-toggleable__control:checked~div.sk-toggleable__content {max-height: 200px;max-width: 100%;overflow: auto;}#sk-container-id-6 input.sk-toggleable__control:checked~label.sk-toggleable__label-arrow:before {content: \"▾\";}#sk-container-id-6 div.sk-estimator input.sk-toggleable__control:checked~label.sk-toggleable__label {background-color: #d4ebff;}#sk-container-id-6 div.sk-label input.sk-toggleable__control:checked~label.sk-toggleable__label {background-color: #d4ebff;}#sk-container-id-6 input.sk-hidden--visually {border: 0;clip: rect(1px 1px 1px 1px);clip: rect(1px, 1px, 1px, 1px);height: 1px;margin: -1px;overflow: hidden;padding: 0;position: absolute;width: 1px;}#sk-container-id-6 div.sk-estimator {font-family: monospace;background-color: #f0f8ff;border: 1px dotted black;border-radius: 0.25em;box-sizing: border-box;margin-bottom: 0.5em;}#sk-container-id-6 div.sk-estimator:hover {background-color: #d4ebff;}#sk-container-id-6 div.sk-parallel-item::after {content: \"\";width: 100%;border-bottom: 1px solid gray;flex-grow: 1;}#sk-container-id-6 div.sk-label:hover label.sk-toggleable__label {background-color: #d4ebff;}#sk-container-id-6 div.sk-serial::before {content: \"\";position: absolute;border-left: 1px solid gray;box-sizing: border-box;top: 0;bottom: 0;left: 50%;z-index: 0;}#sk-container-id-6 div.sk-serial {display: flex;flex-direction: column;align-items: center;background-color: white;padding-right: 0.2em;padding-left: 0.2em;position: relative;}#sk-container-id-6 div.sk-item {position: relative;z-index: 1;}#sk-container-id-6 div.sk-parallel {display: flex;align-items: stretch;justify-content: center;background-color: white;position: relative;}#sk-container-id-6 div.sk-item::before, #sk-container-id-6 div.sk-parallel-item::before {content: \"\";position: absolute;border-left: 1px solid gray;box-sizing: border-box;top: 0;bottom: 0;left: 50%;z-index: -1;}#sk-container-id-6 div.sk-parallel-item {display: flex;flex-direction: column;z-index: 1;position: relative;background-color: white;}#sk-container-id-6 div.sk-parallel-item:first-child::after {align-self: flex-end;width: 50%;}#sk-container-id-6 div.sk-parallel-item:last-child::after {align-self: flex-start;width: 50%;}#sk-container-id-6 div.sk-parallel-item:only-child::after {width: 0;}#sk-container-id-6 div.sk-dashed-wrapped {border: 1px dashed gray;margin: 0 0.4em 0.5em 0.4em;box-sizing: border-box;padding-bottom: 0.4em;background-color: white;}#sk-container-id-6 div.sk-label label {font-family: monospace;font-weight: bold;display: inline-block;line-height: 1.2em;}#sk-container-id-6 div.sk-label-container {text-align: center;}#sk-container-id-6 div.sk-container {/* jupyter's `normalize.less` sets `[hidden] { display: none; }` but bootstrap.min.css set `[hidden] { display: none !important; }` so we also need the `!important` here to be able to override the default hidden behavior on the sphinx rendered scikit-learn.org. See: https://github.com/scikit-learn/scikit-learn/issues/21755 */display: inline-block !important;position: relative;}#sk-container-id-6 div.sk-text-repr-fallback {display: none;}</style><div id=\"sk-container-id-6\" class=\"sk-top-container\"><div class=\"sk-text-repr-fallback\"><pre>GridSearchCV(cv=StratifiedKFold(n_splits=5, random_state=None, shuffle=False),\n",
       "             estimator=RandomForestClassifier(n_jobs=-1, random_state=42),\n",
       "             n_jobs=-1,\n",
       "             param_grid={&#x27;class_weight&#x27;: [&#x27;balanced&#x27;, &#x27;balanced_subsample&#x27;,\n",
       "                                          None],\n",
       "                         &#x27;criterion&#x27;: [&#x27;gini&#x27;, &#x27;entropy&#x27;],\n",
       "                         &#x27;max_features&#x27;: [1, 2, 3, 4, 5, 6],\n",
       "                         &#x27;n_estimators&#x27;: [3, 4, 5, 6, 7, 8, 9, 10, 11, 12, 13,\n",
       "                                          14, 15]},\n",
       "             scoring=&#x27;f1&#x27;)</pre><b>In a Jupyter environment, please rerun this cell to show the HTML representation or trust the notebook. <br />On GitHub, the HTML representation is unable to render, please try loading this page with nbviewer.org.</b></div><div class=\"sk-container\" hidden><div class=\"sk-item sk-dashed-wrapped\"><div class=\"sk-label-container\"><div class=\"sk-label sk-toggleable\"><input class=\"sk-toggleable__control sk-hidden--visually\" id=\"sk-estimator-id-12\" type=\"checkbox\" ><label for=\"sk-estimator-id-12\" class=\"sk-toggleable__label sk-toggleable__label-arrow\">GridSearchCV</label><div class=\"sk-toggleable__content\"><pre>GridSearchCV(cv=StratifiedKFold(n_splits=5, random_state=None, shuffle=False),\n",
       "             estimator=RandomForestClassifier(n_jobs=-1, random_state=42),\n",
       "             n_jobs=-1,\n",
       "             param_grid={&#x27;class_weight&#x27;: [&#x27;balanced&#x27;, &#x27;balanced_subsample&#x27;,\n",
       "                                          None],\n",
       "                         &#x27;criterion&#x27;: [&#x27;gini&#x27;, &#x27;entropy&#x27;],\n",
       "                         &#x27;max_features&#x27;: [1, 2, 3, 4, 5, 6],\n",
       "                         &#x27;n_estimators&#x27;: [3, 4, 5, 6, 7, 8, 9, 10, 11, 12, 13,\n",
       "                                          14, 15]},\n",
       "             scoring=&#x27;f1&#x27;)</pre></div></div></div><div class=\"sk-parallel\"><div class=\"sk-parallel-item\"><div class=\"sk-item\"><div class=\"sk-label-container\"><div class=\"sk-label sk-toggleable\"><input class=\"sk-toggleable__control sk-hidden--visually\" id=\"sk-estimator-id-13\" type=\"checkbox\" ><label for=\"sk-estimator-id-13\" class=\"sk-toggleable__label sk-toggleable__label-arrow\">estimator: RandomForestClassifier</label><div class=\"sk-toggleable__content\"><pre>RandomForestClassifier(n_jobs=-1, random_state=42)</pre></div></div></div><div class=\"sk-serial\"><div class=\"sk-item\"><div class=\"sk-estimator sk-toggleable\"><input class=\"sk-toggleable__control sk-hidden--visually\" id=\"sk-estimator-id-14\" type=\"checkbox\" ><label for=\"sk-estimator-id-14\" class=\"sk-toggleable__label sk-toggleable__label-arrow\">RandomForestClassifier</label><div class=\"sk-toggleable__content\"><pre>RandomForestClassifier(n_jobs=-1, random_state=42)</pre></div></div></div></div></div></div></div></div></div></div>"
      ],
      "text/plain": [
       "GridSearchCV(cv=StratifiedKFold(n_splits=5, random_state=None, shuffle=False),\n",
       "             estimator=RandomForestClassifier(n_jobs=-1, random_state=42),\n",
       "             n_jobs=-1,\n",
       "             param_grid={'class_weight': ['balanced', 'balanced_subsample',\n",
       "                                          None],\n",
       "                         'criterion': ['gini', 'entropy'],\n",
       "                         'max_features': [1, 2, 3, 4, 5, 6],\n",
       "                         'n_estimators': [3, 4, 5, 6, 7, 8, 9, 10, 11, 12, 13,\n",
       "                                          14, 15]},\n",
       "             scoring='f1')"
      ]
     },
     "execution_count": 60,
     "metadata": {},
     "output_type": "execute_result"
    }
   ],
   "source": [
    "# Running grid search\n",
    "grid.fit(X_train, y_train)"
   ]
  },
  {
   "cell_type": "code",
   "execution_count": 61,
   "id": "89bd1f46-48a7-4d41-98a0-780e16b206eb",
   "metadata": {
    "tags": []
   },
   "outputs": [
    {
     "data": {
      "text/plain": [
       "0.16268620268620268"
      ]
     },
     "execution_count": 61,
     "metadata": {},
     "output_type": "execute_result"
    }
   ],
   "source": [
    "# Getting best score from grid search\n",
    "grid.best_score_"
   ]
  },
  {
   "cell_type": "code",
   "execution_count": 62,
   "id": "068bd5eb-0013-415d-ab8f-1fd738731431",
   "metadata": {
    "tags": []
   },
   "outputs": [
    {
     "data": {
      "text/plain": [
       "{'class_weight': None,\n",
       " 'criterion': 'gini',\n",
       " 'max_features': 5,\n",
       " 'n_estimators': 3}"
      ]
     },
     "execution_count": 62,
     "metadata": {},
     "output_type": "execute_result"
    }
   ],
   "source": [
    "# Getting parameter that gave the best score\n",
    "grid.best_params_"
   ]
  },
  {
   "cell_type": "code",
   "execution_count": 63,
   "id": "3f862c6e-1f2f-4727-aae5-2b83d7734e9e",
   "metadata": {
    "tags": []
   },
   "outputs": [
    {
     "data": {
      "text/html": [
       "<div>\n",
       "<style scoped>\n",
       "    .dataframe tbody tr th:only-of-type {\n",
       "        vertical-align: middle;\n",
       "    }\n",
       "\n",
       "    .dataframe tbody tr th {\n",
       "        vertical-align: top;\n",
       "    }\n",
       "\n",
       "    .dataframe thead th {\n",
       "        text-align: right;\n",
       "    }\n",
       "</style>\n",
       "<table border=\"1\" class=\"dataframe\">\n",
       "  <thead>\n",
       "    <tr style=\"text-align: right;\">\n",
       "      <th></th>\n",
       "      <th>param_class_weight</th>\n",
       "      <th>param_criterion</th>\n",
       "      <th>param_max_features</th>\n",
       "      <th>param_n_estimators</th>\n",
       "      <th>mean_test_score</th>\n",
       "      <th>std_test_score</th>\n",
       "      <th>rank_test_score</th>\n",
       "    </tr>\n",
       "  </thead>\n",
       "  <tbody>\n",
       "    <tr>\n",
       "      <th>364</th>\n",
       "      <td>None</td>\n",
       "      <td>gini</td>\n",
       "      <td>5</td>\n",
       "      <td>3</td>\n",
       "      <td>0.162686</td>\n",
       "      <td>0.061456</td>\n",
       "      <td>1</td>\n",
       "    </tr>\n",
       "    <tr>\n",
       "      <th>312</th>\n",
       "      <td>None</td>\n",
       "      <td>gini</td>\n",
       "      <td>1</td>\n",
       "      <td>3</td>\n",
       "      <td>0.149442</td>\n",
       "      <td>0.081498</td>\n",
       "      <td>2</td>\n",
       "    </tr>\n",
       "    <tr>\n",
       "      <th>145</th>\n",
       "      <td>balanced</td>\n",
       "      <td>entropy</td>\n",
       "      <td>6</td>\n",
       "      <td>5</td>\n",
       "      <td>0.146385</td>\n",
       "      <td>0.076955</td>\n",
       "      <td>3</td>\n",
       "    </tr>\n",
       "    <tr>\n",
       "      <th>123</th>\n",
       "      <td>balanced</td>\n",
       "      <td>entropy</td>\n",
       "      <td>4</td>\n",
       "      <td>9</td>\n",
       "      <td>0.132353</td>\n",
       "      <td>0.108604</td>\n",
       "      <td>4</td>\n",
       "    </tr>\n",
       "    <tr>\n",
       "      <th>338</th>\n",
       "      <td>None</td>\n",
       "      <td>gini</td>\n",
       "      <td>3</td>\n",
       "      <td>3</td>\n",
       "      <td>0.124498</td>\n",
       "      <td>0.039835</td>\n",
       "      <td>5</td>\n",
       "    </tr>\n",
       "    <tr>\n",
       "      <th>149</th>\n",
       "      <td>balanced</td>\n",
       "      <td>entropy</td>\n",
       "      <td>6</td>\n",
       "      <td>9</td>\n",
       "      <td>0.123869</td>\n",
       "      <td>0.066532</td>\n",
       "      <td>6</td>\n",
       "    </tr>\n",
       "    <tr>\n",
       "      <th>121</th>\n",
       "      <td>balanced</td>\n",
       "      <td>entropy</td>\n",
       "      <td>4</td>\n",
       "      <td>7</td>\n",
       "      <td>0.123633</td>\n",
       "      <td>0.090079</td>\n",
       "      <td>7</td>\n",
       "    </tr>\n",
       "    <tr>\n",
       "      <th>403</th>\n",
       "      <td>None</td>\n",
       "      <td>entropy</td>\n",
       "      <td>2</td>\n",
       "      <td>3</td>\n",
       "      <td>0.123047</td>\n",
       "      <td>0.052170</td>\n",
       "      <td>8</td>\n",
       "    </tr>\n",
       "    <tr>\n",
       "      <th>313</th>\n",
       "      <td>None</td>\n",
       "      <td>gini</td>\n",
       "      <td>1</td>\n",
       "      <td>4</td>\n",
       "      <td>0.119817</td>\n",
       "      <td>0.088334</td>\n",
       "      <td>9</td>\n",
       "    </tr>\n",
       "    <tr>\n",
       "      <th>301</th>\n",
       "      <td>balanced_subsample</td>\n",
       "      <td>entropy</td>\n",
       "      <td>6</td>\n",
       "      <td>5</td>\n",
       "      <td>0.118772</td>\n",
       "      <td>0.059715</td>\n",
       "      <td>10</td>\n",
       "    </tr>\n",
       "    <tr>\n",
       "      <th>305</th>\n",
       "      <td>balanced_subsample</td>\n",
       "      <td>entropy</td>\n",
       "      <td>6</td>\n",
       "      <td>9</td>\n",
       "      <td>0.117961</td>\n",
       "      <td>0.070451</td>\n",
       "      <td>11</td>\n",
       "    </tr>\n",
       "    <tr>\n",
       "      <th>314</th>\n",
       "      <td>None</td>\n",
       "      <td>gini</td>\n",
       "      <td>1</td>\n",
       "      <td>5</td>\n",
       "      <td>0.117369</td>\n",
       "      <td>0.086446</td>\n",
       "      <td>12</td>\n",
       "    </tr>\n",
       "    <tr>\n",
       "      <th>153</th>\n",
       "      <td>balanced</td>\n",
       "      <td>entropy</td>\n",
       "      <td>6</td>\n",
       "      <td>13</td>\n",
       "      <td>0.116946</td>\n",
       "      <td>0.072964</td>\n",
       "      <td>13</td>\n",
       "    </tr>\n",
       "    <tr>\n",
       "      <th>150</th>\n",
       "      <td>balanced</td>\n",
       "      <td>entropy</td>\n",
       "      <td>6</td>\n",
       "      <td>10</td>\n",
       "      <td>0.116577</td>\n",
       "      <td>0.070237</td>\n",
       "      <td>14</td>\n",
       "    </tr>\n",
       "    <tr>\n",
       "      <th>236</th>\n",
       "      <td>balanced_subsample</td>\n",
       "      <td>entropy</td>\n",
       "      <td>1</td>\n",
       "      <td>5</td>\n",
       "      <td>0.115776</td>\n",
       "      <td>0.098757</td>\n",
       "      <td>15</td>\n",
       "    </tr>\n",
       "    <tr>\n",
       "      <th>184</th>\n",
       "      <td>balanced_subsample</td>\n",
       "      <td>gini</td>\n",
       "      <td>3</td>\n",
       "      <td>5</td>\n",
       "      <td>0.115442</td>\n",
       "      <td>0.067030</td>\n",
       "      <td>16</td>\n",
       "    </tr>\n",
       "    <tr>\n",
       "      <th>377</th>\n",
       "      <td>None</td>\n",
       "      <td>gini</td>\n",
       "      <td>6</td>\n",
       "      <td>3</td>\n",
       "      <td>0.115220</td>\n",
       "      <td>0.059612</td>\n",
       "      <td>17</td>\n",
       "    </tr>\n",
       "    <tr>\n",
       "      <th>182</th>\n",
       "      <td>balanced_subsample</td>\n",
       "      <td>gini</td>\n",
       "      <td>3</td>\n",
       "      <td>3</td>\n",
       "      <td>0.113835</td>\n",
       "      <td>0.064579</td>\n",
       "      <td>18</td>\n",
       "    </tr>\n",
       "    <tr>\n",
       "      <th>325</th>\n",
       "      <td>None</td>\n",
       "      <td>gini</td>\n",
       "      <td>2</td>\n",
       "      <td>3</td>\n",
       "      <td>0.112737</td>\n",
       "      <td>0.057343</td>\n",
       "      <td>19</td>\n",
       "    </tr>\n",
       "    <tr>\n",
       "      <th>151</th>\n",
       "      <td>balanced</td>\n",
       "      <td>entropy</td>\n",
       "      <td>6</td>\n",
       "      <td>11</td>\n",
       "      <td>0.112343</td>\n",
       "      <td>0.066648</td>\n",
       "      <td>20</td>\n",
       "    </tr>\n",
       "  </tbody>\n",
       "</table>\n",
       "</div>"
      ],
      "text/plain": [
       "     param_class_weight param_criterion param_max_features param_n_estimators  \\\n",
       "364                None            gini                  5                  3   \n",
       "312                None            gini                  1                  3   \n",
       "145            balanced         entropy                  6                  5   \n",
       "123            balanced         entropy                  4                  9   \n",
       "338                None            gini                  3                  3   \n",
       "149            balanced         entropy                  6                  9   \n",
       "121            balanced         entropy                  4                  7   \n",
       "403                None         entropy                  2                  3   \n",
       "313                None            gini                  1                  4   \n",
       "301  balanced_subsample         entropy                  6                  5   \n",
       "305  balanced_subsample         entropy                  6                  9   \n",
       "314                None            gini                  1                  5   \n",
       "153            balanced         entropy                  6                 13   \n",
       "150            balanced         entropy                  6                 10   \n",
       "236  balanced_subsample         entropy                  1                  5   \n",
       "184  balanced_subsample            gini                  3                  5   \n",
       "377                None            gini                  6                  3   \n",
       "182  balanced_subsample            gini                  3                  3   \n",
       "325                None            gini                  2                  3   \n",
       "151            balanced         entropy                  6                 11   \n",
       "\n",
       "     mean_test_score  std_test_score  rank_test_score  \n",
       "364         0.162686        0.061456                1  \n",
       "312         0.149442        0.081498                2  \n",
       "145         0.146385        0.076955                3  \n",
       "123         0.132353        0.108604                4  \n",
       "338         0.124498        0.039835                5  \n",
       "149         0.123869        0.066532                6  \n",
       "121         0.123633        0.090079                7  \n",
       "403         0.123047        0.052170                8  \n",
       "313         0.119817        0.088334                9  \n",
       "301         0.118772        0.059715               10  \n",
       "305         0.117961        0.070451               11  \n",
       "314         0.117369        0.086446               12  \n",
       "153         0.116946        0.072964               13  \n",
       "150         0.116577        0.070237               14  \n",
       "236         0.115776        0.098757               15  \n",
       "184         0.115442        0.067030               16  \n",
       "377         0.115220        0.059612               17  \n",
       "182         0.113835        0.064579               18  \n",
       "325         0.112737        0.057343               19  \n",
       "151         0.112343        0.066648               20  "
      ]
     },
     "execution_count": 63,
     "metadata": {},
     "output_type": "execute_result"
    }
   ],
   "source": [
    "# Checking cross validation results\n",
    "pd.DataFrame(grid.cv_results_).drop(columns = ['mean_fit_time', 'std_fit_time', 'mean_score_time', 'std_score_time', 'params', 'split0_test_score', 'split1_test_score', 'split2_test_score', 'split3_test_score', 'split4_test_score']).sort_values('rank_test_score').head(20)"
   ]
  },
  {
   "cell_type": "code",
   "execution_count": 64,
   "id": "ec964a86-081a-4967-9293-3eb02a26bd51",
   "metadata": {
    "tags": []
   },
   "outputs": [],
   "source": [
    "# Redifining Random Forest Classifier for grid search\n",
    "rfc = RandomForestClassifier(max_features = 5, oob_score = True, n_jobs = -1, random_state= 42)"
   ]
  },
  {
   "cell_type": "code",
   "execution_count": 65,
   "id": "eb769310-4d5f-4e90-9e66-82606621dd6b",
   "metadata": {
    "tags": []
   },
   "outputs": [
    {
     "name": "stdout",
     "output_type": "stream",
     "text": [
      "*********************************************************\n",
      "\tn_estimators = 3\t\tmax_features = 5\n",
      "*********************************************************\n",
      "\n",
      "TRAINING SCORE : 0.9266666666666666\n",
      "OOB SCORE : 0.6955555555555556\n",
      "TESTING SCORE : 0.6266666666666667\n",
      "\n",
      "---CLASSIFICATION REPORT---\n",
      "              precision    recall  f1-score   support\n",
      "\n",
      "           0       0.76      0.77      0.77       119\n",
      "           1       0.07      0.06      0.07        31\n",
      "\n",
      "    accuracy                           0.63       150\n",
      "   macro avg       0.41      0.42      0.42       150\n",
      "weighted avg       0.62      0.63      0.62       150\n",
      "\n",
      "\n",
      "---CONFUSION MATRIX---\n"
     ]
    },
    {
     "name": "stderr",
     "output_type": "stream",
     "text": [
      "C:\\Users\\harsh\\AppData\\Roaming\\jupyterlab-desktop\\jlab_server\\lib\\site-packages\\sklearn\\ensemble\\_forest.py:583: UserWarning: Some inputs do not have OOB scores. This probably means too few trees were used to compute any reliable OOB estimates.\n",
      "  warn(\n"
     ]
    },
    {
     "data": {
      "image/png": "[encoded data removed]",
      "text/plain": [
       "<Figure size 640x480 with 2 Axes>"
      ]
     },
     "metadata": {},
     "output_type": "display_data"
    }
   ],
   "source": [
    "# Stats for n_estimators = 3 and max_features = 5, and class_weight = None\n",
    "display_model_quality(3, 5, None)"
   ]
  },
  {
   "cell_type": "markdown",
   "id": "e0bb3429-c9ee-4169-8eee-cc717695ead4",
   "metadata": {},
   "source": [
    "We still have barely 2 correctly classifier True values"
   ]
  },
  {
   "cell_type": "markdown",
   "id": "93942bf2-c280-49f2-9607-cc05093ca057",
   "metadata": {},
   "source": [
    "Let us try again without normalizing the continuous features"
   ]
  },
  {
   "cell_type": "code",
   "execution_count": 66,
   "id": "483c561b-91d4-4b76-bce8-fb863966d012",
   "metadata": {
    "tags": []
   },
   "outputs": [],
   "source": [
    "# Loading data into a separate dataframe\n",
    "df2 = pd.read_csv('Fraud_check.csv')"
   ]
  },
  {
   "cell_type": "code",
   "execution_count": 67,
   "id": "152c6a87-c053-42dd-91b5-72052fc684aa",
   "metadata": {
    "tags": []
   },
   "outputs": [],
   "source": [
    "# Categorizing target variable for new dataframe\n",
    "df2['Taxable.Income'] = df2['Taxable.Income'].apply(lambda x : 'Risky' if x <= 30000 else 'Good')"
   ]
  },
  {
   "cell_type": "code",
   "execution_count": 68,
   "id": "0e9333f3-0e8f-439e-87cd-7c0799aed6d0",
   "metadata": {
    "tags": []
   },
   "outputs": [],
   "source": [
    "# Applying same transformation to new dataframe, except Normalizing continuous features, and splitting into independent and dependent variables\n",
    "df2.columns = ['undergrad', 'marital_status', 'taxable_income', 'city_population', 'work_experience', 'urban']\n",
    "df2.undergrad.replace({'NO':0, 'YES':1}, inplace= True)\n",
    "df2.taxable_income.replace({'Risky':1, 'Good':0}, inplace= True)\n",
    "df2.urban.replace({'NO':0, 'YES':1}, inplace= True)\n",
    "df2 = pd.get_dummies(df2, columns=['marital_status'], drop_first=True)\n",
    "X = df2.drop(columns='taxable_income')\n",
    "y = df2.taxable_income"
   ]
  },
  {
   "cell_type": "code",
   "execution_count": 69,
   "id": "45fa4c48-edbd-4b82-acd9-c626fba8a213",
   "metadata": {
    "tags": []
   },
   "outputs": [],
   "source": [
    "# Splitting data into stratified train test sets\n",
    "X_train, X_test, y_train, y_test = train_test_split(X,y,stratify=y,random_state=42)"
   ]
  },
  {
   "cell_type": "code",
   "execution_count": 70,
   "id": "df401a57-a357-491b-bdbf-197594e90b7c",
   "metadata": {
    "tags": []
   },
   "outputs": [],
   "source": [
    "# Creating a Random Forest Classifier\n",
    "rfc = RandomForestClassifier(max_features = 'sqrt', oob_score = True, n_jobs = -1, random_state= 42, class_weight='balanced_subsample')"
   ]
  },
  {
   "cell_type": "code",
   "execution_count": 71,
   "id": "13305be6-c54c-43e2-badb-b785a3e07b4e",
   "metadata": {
    "tags": []
   },
   "outputs": [
    {
     "data": {
      "text/html": [
       "<style>#sk-container-id-7 {color: black;background-color: white;}#sk-container-id-7 pre{padding: 0;}#sk-container-id-7 div.sk-toggleable {background-color: white;}#sk-container-id-7 label.sk-toggleable__label {cursor: pointer;display: block;width: 100%;margin-bottom: 0;padding: 0.3em;box-sizing: border-box;text-align: center;}#sk-container-id-7 label.sk-toggleable__label-arrow:before {content: \"▸\";float: left;margin-right: 0.25em;color: #696969;}#sk-container-id-7 label.sk-toggleable__label-arrow:hover:before {color: black;}#sk-container-id-7 div.sk-estimator:hover label.sk-toggleable__label-arrow:before {color: black;}#sk-container-id-7 div.sk-toggleable__content {max-height: 0;max-width: 0;overflow: hidden;text-align: left;background-color: #f0f8ff;}#sk-container-id-7 div.sk-toggleable__content pre {margin: 0.2em;color: black;border-radius: 0.25em;background-color: #f0f8ff;}#sk-container-id-7 input.sk-toggleable__control:checked~div.sk-toggleable__content {max-height: 200px;max-width: 100%;overflow: auto;}#sk-container-id-7 input.sk-toggleable__control:checked~label.sk-toggleable__label-arrow:before {content: \"▾\";}#sk-container-id-7 div.sk-estimator input.sk-toggleable__control:checked~label.sk-toggleable__label {background-color: #d4ebff;}#sk-container-id-7 div.sk-label input.sk-toggleable__control:checked~label.sk-toggleable__label {background-color: #d4ebff;}#sk-container-id-7 input.sk-hidden--visually {border: 0;clip: rect(1px 1px 1px 1px);clip: rect(1px, 1px, 1px, 1px);height: 1px;margin: -1px;overflow: hidden;padding: 0;position: absolute;width: 1px;}#sk-container-id-7 div.sk-estimator {font-family: monospace;background-color: #f0f8ff;border: 1px dotted black;border-radius: 0.25em;box-sizing: border-box;margin-bottom: 0.5em;}#sk-container-id-7 div.sk-estimator:hover {background-color: #d4ebff;}#sk-container-id-7 div.sk-parallel-item::after {content: \"\";width: 100%;border-bottom: 1px solid gray;flex-grow: 1;}#sk-container-id-7 div.sk-label:hover label.sk-toggleable__label {background-color: #d4ebff;}#sk-container-id-7 div.sk-serial::before {content: \"\";position: absolute;border-left: 1px solid gray;box-sizing: border-box;top: 0;bottom: 0;left: 50%;z-index: 0;}#sk-container-id-7 div.sk-serial {display: flex;flex-direction: column;align-items: center;background-color: white;padding-right: 0.2em;padding-left: 0.2em;position: relative;}#sk-container-id-7 div.sk-item {position: relative;z-index: 1;}#sk-container-id-7 div.sk-parallel {display: flex;align-items: stretch;justify-content: center;background-color: white;position: relative;}#sk-container-id-7 div.sk-item::before, #sk-container-id-7 div.sk-parallel-item::before {content: \"\";position: absolute;border-left: 1px solid gray;box-sizing: border-box;top: 0;bottom: 0;left: 50%;z-index: -1;}#sk-container-id-7 div.sk-parallel-item {display: flex;flex-direction: column;z-index: 1;position: relative;background-color: white;}#sk-container-id-7 div.sk-parallel-item:first-child::after {align-self: flex-end;width: 50%;}#sk-container-id-7 div.sk-parallel-item:last-child::after {align-self: flex-start;width: 50%;}#sk-container-id-7 div.sk-parallel-item:only-child::after {width: 0;}#sk-container-id-7 div.sk-dashed-wrapped {border: 1px dashed gray;margin: 0 0.4em 0.5em 0.4em;box-sizing: border-box;padding-bottom: 0.4em;background-color: white;}#sk-container-id-7 div.sk-label label {font-family: monospace;font-weight: bold;display: inline-block;line-height: 1.2em;}#sk-container-id-7 div.sk-label-container {text-align: center;}#sk-container-id-7 div.sk-container {/* jupyter's `normalize.less` sets `[hidden] { display: none; }` but bootstrap.min.css set `[hidden] { display: none !important; }` so we also need the `!important` here to be able to override the default hidden behavior on the sphinx rendered scikit-learn.org. See: https://github.com/scikit-learn/scikit-learn/issues/21755 */display: inline-block !important;position: relative;}#sk-container-id-7 div.sk-text-repr-fallback {display: none;}</style><div id=\"sk-container-id-7\" class=\"sk-top-container\"><div class=\"sk-text-repr-fallback\"><pre>RandomForestClassifier(class_weight=&#x27;balanced_subsample&#x27;, n_jobs=-1,\n",
       "                       oob_score=True, random_state=42)</pre><b>In a Jupyter environment, please rerun this cell to show the HTML representation or trust the notebook. <br />On GitHub, the HTML representation is unable to render, please try loading this page with nbviewer.org.</b></div><div class=\"sk-container\" hidden><div class=\"sk-item\"><div class=\"sk-estimator sk-toggleable\"><input class=\"sk-toggleable__control sk-hidden--visually\" id=\"sk-estimator-id-15\" type=\"checkbox\" checked><label for=\"sk-estimator-id-15\" class=\"sk-toggleable__label sk-toggleable__label-arrow\">RandomForestClassifier</label><div class=\"sk-toggleable__content\"><pre>RandomForestClassifier(class_weight=&#x27;balanced_subsample&#x27;, n_jobs=-1,\n",
       "                       oob_score=True, random_state=42)</pre></div></div></div></div></div>"
      ],
      "text/plain": [
       "RandomForestClassifier(class_weight='balanced_subsample', n_jobs=-1,\n",
       "                       oob_score=True, random_state=42)"
      ]
     },
     "execution_count": 71,
     "metadata": {},
     "output_type": "execute_result"
    }
   ],
   "source": [
    "# Fitting to Random Forest Classifier\n",
    "rfc.fit(X_train, y_train)"
   ]
  },
  {
   "cell_type": "code",
   "execution_count": 72,
   "id": "ea57e846-67d4-461f-b9f1-aaa65ceaa404",
   "metadata": {
    "tags": []
   },
   "outputs": [
    {
     "data": {
      "text/plain": [
       "0.7511111111111111"
      ]
     },
     "execution_count": 72,
     "metadata": {},
     "output_type": "execute_result"
    }
   ],
   "source": [
    "# Getting out-of-bag score\n",
    "rfc.oob_score_"
   ]
  },
  {
   "cell_type": "code",
   "execution_count": 73,
   "id": "b3d9641a-74cb-4dcb-9963-6d867701363c",
   "metadata": {
    "tags": []
   },
   "outputs": [
    {
     "data": {
      "text/plain": [
       "1.0"
      ]
     },
     "execution_count": 73,
     "metadata": {},
     "output_type": "execute_result"
    }
   ],
   "source": [
    "# Getting training accuracy\n",
    "rfc.score(X_train, y_train)"
   ]
  },
  {
   "cell_type": "code",
   "execution_count": 74,
   "id": "cb4baa55-2024-4c85-97ed-ede52844b742",
   "metadata": {
    "tags": []
   },
   "outputs": [
    {
     "data": {
      "text/plain": [
       "0.7666666666666667"
      ]
     },
     "execution_count": 74,
     "metadata": {},
     "output_type": "execute_result"
    }
   ],
   "source": [
    "# Getting test accuracy\n",
    "rfc.score(X_test, y_test)"
   ]
  },
  {
   "cell_type": "code",
   "execution_count": 75,
   "id": "d00cf862-1f2a-4cf1-94b2-6cea9af41f7a",
   "metadata": {
    "tags": []
   },
   "outputs": [
    {
     "name": "stdout",
     "output_type": "stream",
     "text": [
      "              precision    recall  f1-score   support\n",
      "\n",
      "           0       0.79      0.96      0.87       119\n",
      "           1       0.17      0.03      0.05        31\n",
      "\n",
      "    accuracy                           0.77       150\n",
      "   macro avg       0.48      0.50      0.46       150\n",
      "weighted avg       0.66      0.77      0.70       150\n",
      "\n"
     ]
    }
   ],
   "source": [
    "# Printing classification report\n",
    "print(classification_report(y_test, rfc.predict(X_test)))"
   ]
  },
  {
   "cell_type": "code",
   "execution_count": 76,
   "id": "eb3a0059-4e5d-4272-a941-722c24525173",
   "metadata": {
    "tags": []
   },
   "outputs": [
    {
     "data": {
      "text/plain": [
       "<sklearn.metrics._plot.confusion_matrix.ConfusionMatrixDisplay at 0x217a9a01b80>"
      ]
     },
     "execution_count": 76,
     "metadata": {},
     "output_type": "execute_result"
    },
    {
     "data": {
      "image/png": "[encoded data removed]",
      "text/plain": [
       "<Figure size 640x480 with 2 Axes>"
      ]
     },
     "metadata": {},
     "output_type": "display_data"
    }
   ],
   "source": [
    "# Plotting confusion matrix\n",
    "ConfusionMatrixDisplay(confusion_matrix(y_test, rfc.predict(X_test))).plot()"
   ]
  },
  {
   "cell_type": "markdown",
   "id": "7d2bdc06-d63e-460e-8de6-211d4190d3da",
   "metadata": {},
   "source": [
    "Not normalizing the continuous features didn't help"
   ]
  },
  {
   "cell_type": "code",
   "execution_count": 77,
   "id": "07e48d10-dbf3-4683-85ad-a16aa46ec708",
   "metadata": {
    "tags": []
   },
   "outputs": [
    {
     "data": {
      "text/html": [
       "<div>\n",
       "<style scoped>\n",
       "    .dataframe tbody tr th:only-of-type {\n",
       "        vertical-align: middle;\n",
       "    }\n",
       "\n",
       "    .dataframe tbody tr th {\n",
       "        vertical-align: top;\n",
       "    }\n",
       "\n",
       "    .dataframe thead th {\n",
       "        text-align: right;\n",
       "    }\n",
       "</style>\n",
       "<table border=\"1\" class=\"dataframe\">\n",
       "  <thead>\n",
       "    <tr style=\"text-align: right;\">\n",
       "      <th></th>\n",
       "      <th>0</th>\n",
       "    </tr>\n",
       "  </thead>\n",
       "  <tbody>\n",
       "    <tr>\n",
       "      <th>0.038848</th>\n",
       "      <td>undergrad</td>\n",
       "    </tr>\n",
       "    <tr>\n",
       "      <th>0.502405</th>\n",
       "      <td>city_population</td>\n",
       "    </tr>\n",
       "    <tr>\n",
       "      <th>0.357481</th>\n",
       "      <td>work_experience</td>\n",
       "    </tr>\n",
       "    <tr>\n",
       "      <th>0.038577</th>\n",
       "      <td>urban</td>\n",
       "    </tr>\n",
       "    <tr>\n",
       "      <th>0.030864</th>\n",
       "      <td>marital_status_Married</td>\n",
       "    </tr>\n",
       "    <tr>\n",
       "      <th>0.031825</th>\n",
       "      <td>marital_status_Single</td>\n",
       "    </tr>\n",
       "  </tbody>\n",
       "</table>\n",
       "</div>"
      ],
      "text/plain": [
       "                               0\n",
       "0.038848               undergrad\n",
       "0.502405         city_population\n",
       "0.357481         work_experience\n",
       "0.038577                   urban\n",
       "0.030864  marital_status_Married\n",
       "0.031825   marital_status_Single"
      ]
     },
     "execution_count": 77,
     "metadata": {},
     "output_type": "execute_result"
    }
   ],
   "source": [
    "# Feature importances\n",
    "pd.DataFrame(rfc.feature_names_in_, rfc.feature_importances_)"
   ]
  },
  {
   "cell_type": "markdown",
   "id": "605ad73b-52c5-4ff6-90ef-38686f9b410d",
   "metadata": {},
   "source": [
    "## Balancing Dataset"
   ]
  },
  {
   "cell_type": "markdown",
   "id": "291f9a5f-c4a3-4c84-9393-2b3bd6cfcf75",
   "metadata": {},
   "source": [
    "Let us balance the data and check f1 score"
   ]
  },
  {
   "cell_type": "code",
   "execution_count": 78,
   "id": "b7ccfcd6-e484-4b3b-a262-ef288db638c1",
   "metadata": {
    "tags": []
   },
   "outputs": [],
   "source": [
    "# Importing dataset balancing techniques from imblearn\n",
    "from imblearn.over_sampling import ADASYN, SMOTE\n",
    "from imblearn.combine import SMOTEENN, SMOTETomek"
   ]
  },
  {
   "cell_type": "code",
   "execution_count": 79,
   "id": "2f58df95-79a2-4236-b140-f5bd55d3b9b8",
   "metadata": {
    "tags": []
   },
   "outputs": [],
   "source": [
    "# Splitting data into stratified train test sets\n",
    "X_train, X_test, y_train, y_test = train_test_split(X,y,stratify=y,random_state=42)"
   ]
  },
  {
   "cell_type": "markdown",
   "id": "16fdfeb1-6caa-4e4c-acf1-5b1dfcc1b4fb",
   "metadata": {},
   "source": [
    "### ADASYN"
   ]
  },
  {
   "cell_type": "code",
   "execution_count": 80,
   "id": "14e17d1d-f510-411e-a310-0c602af9b658",
   "metadata": {
    "tags": []
   },
   "outputs": [
    {
     "name": "stderr",
     "output_type": "stream",
     "text": [
      "C:\\Users\\harsh\\AppData\\Roaming\\jupyterlab-desktop\\jlab_server\\lib\\site-packages\\imblearn\\over_sampling\\_adasyn.py:156: FutureWarning: The parameter `n_jobs` has been deprecated in 0.10 and will be removed in 0.12. You can pass an nearest neighbors estimator where `n_jobs` is already set instead.\n",
      "  warnings.warn(\n"
     ]
    }
   ],
   "source": [
    "X_adasyn, y_adasyn = ADASYN(random_state=42, n_jobs = -1).fit_resample(X_train, y_train)"
   ]
  },
  {
   "cell_type": "code",
   "execution_count": 81,
   "id": "90d52e94-eb5e-44a1-a457-36acd76b045c",
   "metadata": {
    "tags": []
   },
   "outputs": [
    {
     "data": {
      "text/plain": [
       "1    379\n",
       "0    357\n",
       "Name: taxable_income, dtype: int64"
      ]
     },
     "execution_count": 81,
     "metadata": {},
     "output_type": "execute_result"
    }
   ],
   "source": [
    "y_adasyn.value_counts()"
   ]
  },
  {
   "cell_type": "code",
   "execution_count": 82,
   "id": "abca6e9f-8bca-4dd1-9ff0-f828c6e579f7",
   "metadata": {
    "tags": []
   },
   "outputs": [],
   "source": [
    "# Creating a Random Forest Classifier\n",
    "rfc = RandomForestClassifier(max_features = 'sqrt', oob_score = True, n_jobs = -1, random_state= 42, class_weight='balanced_subsample')"
   ]
  },
  {
   "cell_type": "code",
   "execution_count": 83,
   "id": "1017d2b7-dba3-4629-b0e7-ae92948683a6",
   "metadata": {
    "tags": []
   },
   "outputs": [
    {
     "data": {
      "text/html": [
       "<style>#sk-container-id-8 {color: black;background-color: white;}#sk-container-id-8 pre{padding: 0;}#sk-container-id-8 div.sk-toggleable {background-color: white;}#sk-container-id-8 label.sk-toggleable__label {cursor: pointer;display: block;width: 100%;margin-bottom: 0;padding: 0.3em;box-sizing: border-box;text-align: center;}#sk-container-id-8 label.sk-toggleable__label-arrow:before {content: \"▸\";float: left;margin-right: 0.25em;color: #696969;}#sk-container-id-8 label.sk-toggleable__label-arrow:hover:before {color: black;}#sk-container-id-8 div.sk-estimator:hover label.sk-toggleable__label-arrow:before {color: black;}#sk-container-id-8 div.sk-toggleable__content {max-height: 0;max-width: 0;overflow: hidden;text-align: left;background-color: #f0f8ff;}#sk-container-id-8 div.sk-toggleable__content pre {margin: 0.2em;color: black;border-radius: 0.25em;background-color: #f0f8ff;}#sk-container-id-8 input.sk-toggleable__control:checked~div.sk-toggleable__content {max-height: 200px;max-width: 100%;overflow: auto;}#sk-container-id-8 input.sk-toggleable__control:checked~label.sk-toggleable__label-arrow:before {content: \"▾\";}#sk-container-id-8 div.sk-estimator input.sk-toggleable__control:checked~label.sk-toggleable__label {background-color: #d4ebff;}#sk-container-id-8 div.sk-label input.sk-toggleable__control:checked~label.sk-toggleable__label {background-color: #d4ebff;}#sk-container-id-8 input.sk-hidden--visually {border: 0;clip: rect(1px 1px 1px 1px);clip: rect(1px, 1px, 1px, 1px);height: 1px;margin: -1px;overflow: hidden;padding: 0;position: absolute;width: 1px;}#sk-container-id-8 div.sk-estimator {font-family: monospace;background-color: #f0f8ff;border: 1px dotted black;border-radius: 0.25em;box-sizing: border-box;margin-bottom: 0.5em;}#sk-container-id-8 div.sk-estimator:hover {background-color: #d4ebff;}#sk-container-id-8 div.sk-parallel-item::after {content: \"\";width: 100%;border-bottom: 1px solid gray;flex-grow: 1;}#sk-container-id-8 div.sk-label:hover label.sk-toggleable__label {background-color: #d4ebff;}#sk-container-id-8 div.sk-serial::before {content: \"\";position: absolute;border-left: 1px solid gray;box-sizing: border-box;top: 0;bottom: 0;left: 50%;z-index: 0;}#sk-container-id-8 div.sk-serial {display: flex;flex-direction: column;align-items: center;background-color: white;padding-right: 0.2em;padding-left: 0.2em;position: relative;}#sk-container-id-8 div.sk-item {position: relative;z-index: 1;}#sk-container-id-8 div.sk-parallel {display: flex;align-items: stretch;justify-content: center;background-color: white;position: relative;}#sk-container-id-8 div.sk-item::before, #sk-container-id-8 div.sk-parallel-item::before {content: \"\";position: absolute;border-left: 1px solid gray;box-sizing: border-box;top: 0;bottom: 0;left: 50%;z-index: -1;}#sk-container-id-8 div.sk-parallel-item {display: flex;flex-direction: column;z-index: 1;position: relative;background-color: white;}#sk-container-id-8 div.sk-parallel-item:first-child::after {align-self: flex-end;width: 50%;}#sk-container-id-8 div.sk-parallel-item:last-child::after {align-self: flex-start;width: 50%;}#sk-container-id-8 div.sk-parallel-item:only-child::after {width: 0;}#sk-container-id-8 div.sk-dashed-wrapped {border: 1px dashed gray;margin: 0 0.4em 0.5em 0.4em;box-sizing: border-box;padding-bottom: 0.4em;background-color: white;}#sk-container-id-8 div.sk-label label {font-family: monospace;font-weight: bold;display: inline-block;line-height: 1.2em;}#sk-container-id-8 div.sk-label-container {text-align: center;}#sk-container-id-8 div.sk-container {/* jupyter's `normalize.less` sets `[hidden] { display: none; }` but bootstrap.min.css set `[hidden] { display: none !important; }` so we also need the `!important` here to be able to override the default hidden behavior on the sphinx rendered scikit-learn.org. See: https://github.com/scikit-learn/scikit-learn/issues/21755 */display: inline-block !important;position: relative;}#sk-container-id-8 div.sk-text-repr-fallback {display: none;}</style><div id=\"sk-container-id-8\" class=\"sk-top-container\"><div class=\"sk-text-repr-fallback\"><pre>RandomForestClassifier(class_weight=&#x27;balanced_subsample&#x27;, n_jobs=-1,\n",
       "                       oob_score=True, random_state=42)</pre><b>In a Jupyter environment, please rerun this cell to show the HTML representation or trust the notebook. <br />On GitHub, the HTML representation is unable to render, please try loading this page with nbviewer.org.</b></div><div class=\"sk-container\" hidden><div class=\"sk-item\"><div class=\"sk-estimator sk-toggleable\"><input class=\"sk-toggleable__control sk-hidden--visually\" id=\"sk-estimator-id-16\" type=\"checkbox\" checked><label for=\"sk-estimator-id-16\" class=\"sk-toggleable__label sk-toggleable__label-arrow\">RandomForestClassifier</label><div class=\"sk-toggleable__content\"><pre>RandomForestClassifier(class_weight=&#x27;balanced_subsample&#x27;, n_jobs=-1,\n",
       "                       oob_score=True, random_state=42)</pre></div></div></div></div></div>"
      ],
      "text/plain": [
       "RandomForestClassifier(class_weight='balanced_subsample', n_jobs=-1,\n",
       "                       oob_score=True, random_state=42)"
      ]
     },
     "execution_count": 83,
     "metadata": {},
     "output_type": "execute_result"
    }
   ],
   "source": [
    "# Fitting to Random Forest Classifier\n",
    "rfc.fit(X_adasyn, y_adasyn)"
   ]
  },
  {
   "cell_type": "code",
   "execution_count": 84,
   "id": "2315f3ed-0859-46ee-86f0-77630facac3e",
   "metadata": {
    "tags": []
   },
   "outputs": [
    {
     "data": {
      "text/plain": [
       "0.7269021739130435"
      ]
     },
     "execution_count": 84,
     "metadata": {},
     "output_type": "execute_result"
    }
   ],
   "source": [
    "# Getting out-of-bag score\n",
    "rfc.oob_score_"
   ]
  },
  {
   "cell_type": "code",
   "execution_count": 85,
   "id": "3bce0fd6-8b60-468d-b719-aa72d6607fae",
   "metadata": {
    "tags": []
   },
   "outputs": [
    {
     "data": {
      "text/plain": [
       "1.0"
      ]
     },
     "execution_count": 85,
     "metadata": {},
     "output_type": "execute_result"
    }
   ],
   "source": [
    "# Getting training accuracy\n",
    "rfc.score(X_adasyn, y_adasyn)"
   ]
  },
  {
   "cell_type": "code",
   "execution_count": 86,
   "id": "48fda43b-906f-4382-99f9-15059d32b9fa",
   "metadata": {
    "tags": []
   },
   "outputs": [
    {
     "data": {
      "text/plain": [
       "0.5333333333333333"
      ]
     },
     "execution_count": 86,
     "metadata": {},
     "output_type": "execute_result"
    }
   ],
   "source": [
    "# Getting test accuracy\n",
    "rfc.score(X_test, y_test)"
   ]
  },
  {
   "cell_type": "code",
   "execution_count": 87,
   "id": "0e870d26-20c7-4c61-b486-a5b1c44e6118",
   "metadata": {},
   "outputs": [
    {
     "name": "stdout",
     "output_type": "stream",
     "text": [
      "              precision    recall  f1-score   support\n",
      "\n",
      "           0       0.76      0.61      0.67       119\n",
      "           1       0.15      0.26      0.19        31\n",
      "\n",
      "    accuracy                           0.53       150\n",
      "   macro avg       0.45      0.43      0.43       150\n",
      "weighted avg       0.63      0.53      0.57       150\n",
      "\n"
     ]
    }
   ],
   "source": [
    "# Classification report for testing data predictions\n",
    "print(classification_report(y_test, rfc.predict(X_test)))"
   ]
  },
  {
   "cell_type": "code",
   "execution_count": 88,
   "id": "2a0729f1-d60a-4fa6-bf6a-cc27a75f58cf",
   "metadata": {
    "tags": []
   },
   "outputs": [
    {
     "data": {
      "text/plain": [
       "<sklearn.metrics._plot.confusion_matrix.ConfusionMatrixDisplay at 0x217a9731e50>"
      ]
     },
     "execution_count": 88,
     "metadata": {},
     "output_type": "execute_result"
    },
    {
     "data": {
      "image/png": "[encoded data removed]",
      "text/plain": [
       "<Figure size 640x480 with 2 Axes>"
      ]
     },
     "metadata": {},
     "output_type": "display_data"
    }
   ],
   "source": [
    "# Confusion Matrix for test data predictions\n",
    "ConfusionMatrixDisplay(confusion_matrix(y_test, rfc.predict(X_test))).plot()"
   ]
  },
  {
   "cell_type": "markdown",
   "id": "89f2f5c2-f25c-4213-afc7-85d87abc032c",
   "metadata": {},
   "source": [
    "### SMOTE"
   ]
  },
  {
   "cell_type": "code",
   "execution_count": 89,
   "id": "c71b4696-7ab7-4c99-8f46-b607da62fb8f",
   "metadata": {
    "tags": []
   },
   "outputs": [
    {
     "name": "stderr",
     "output_type": "stream",
     "text": [
      "C:\\Users\\harsh\\AppData\\Roaming\\jupyterlab-desktop\\jlab_server\\lib\\site-packages\\imblearn\\over_sampling\\_smote\\base.py:336: FutureWarning: The parameter `n_jobs` has been deprecated in 0.10 and will be removed in 0.12. You can pass an nearest neighbors estimator where `n_jobs` is already set instead.\n",
      "  warnings.warn(\n"
     ]
    }
   ],
   "source": [
    "X_smote, y_smote = SMOTE(random_state=42, n_jobs = -1).fit_resample(X_train, y_train)"
   ]
  },
  {
   "cell_type": "code",
   "execution_count": 90,
   "id": "a1f03544-fce5-47c2-a6ac-694137680c9a",
   "metadata": {
    "tags": []
   },
   "outputs": [
    {
     "data": {
      "text/plain": [
       "1    357\n",
       "0    357\n",
       "Name: taxable_income, dtype: int64"
      ]
     },
     "execution_count": 90,
     "metadata": {},
     "output_type": "execute_result"
    }
   ],
   "source": [
    "y_smote.value_counts()"
   ]
  },
  {
   "cell_type": "code",
   "execution_count": 91,
   "id": "2ba143ff-42f3-47bb-9dfa-6adfbc33936b",
   "metadata": {
    "tags": []
   },
   "outputs": [],
   "source": [
    "# Creating a Random Forest Classifier\n",
    "rfc = RandomForestClassifier(max_features = 'sqrt', oob_score = True, n_jobs = -1, random_state= 42, class_weight='balanced_subsample')"
   ]
  },
  {
   "cell_type": "code",
   "execution_count": 92,
   "id": "f2ab55ed-9bf9-4779-a829-a543804bcbaf",
   "metadata": {
    "tags": []
   },
   "outputs": [
    {
     "data": {
      "text/html": [
       "<style>#sk-container-id-9 {color: black;background-color: white;}#sk-container-id-9 pre{padding: 0;}#sk-container-id-9 div.sk-toggleable {background-color: white;}#sk-container-id-9 label.sk-toggleable__label {cursor: pointer;display: block;width: 100%;margin-bottom: 0;padding: 0.3em;box-sizing: border-box;text-align: center;}#sk-container-id-9 label.sk-toggleable__label-arrow:before {content: \"▸\";float: left;margin-right: 0.25em;color: #696969;}#sk-container-id-9 label.sk-toggleable__label-arrow:hover:before {color: black;}#sk-container-id-9 div.sk-estimator:hover label.sk-toggleable__label-arrow:before {color: black;}#sk-container-id-9 div.sk-toggleable__content {max-height: 0;max-width: 0;overflow: hidden;text-align: left;background-color: #f0f8ff;}#sk-container-id-9 div.sk-toggleable__content pre {margin: 0.2em;color: black;border-radius: 0.25em;background-color: #f0f8ff;}#sk-container-id-9 input.sk-toggleable__control:checked~div.sk-toggleable__content {max-height: 200px;max-width: 100%;overflow: auto;}#sk-container-id-9 input.sk-toggleable__control:checked~label.sk-toggleable__label-arrow:before {content: \"▾\";}#sk-container-id-9 div.sk-estimator input.sk-toggleable__control:checked~label.sk-toggleable__label {background-color: #d4ebff;}#sk-container-id-9 div.sk-label input.sk-toggleable__control:checked~label.sk-toggleable__label {background-color: #d4ebff;}#sk-container-id-9 input.sk-hidden--visually {border: 0;clip: rect(1px 1px 1px 1px);clip: rect(1px, 1px, 1px, 1px);height: 1px;margin: -1px;overflow: hidden;padding: 0;position: absolute;width: 1px;}#sk-container-id-9 div.sk-estimator {font-family: monospace;background-color: #f0f8ff;border: 1px dotted black;border-radius: 0.25em;box-sizing: border-box;margin-bottom: 0.5em;}#sk-container-id-9 div.sk-estimator:hover {background-color: #d4ebff;}#sk-container-id-9 div.sk-parallel-item::after {content: \"\";width: 100%;border-bottom: 1px solid gray;flex-grow: 1;}#sk-container-id-9 div.sk-label:hover label.sk-toggleable__label {background-color: #d4ebff;}#sk-container-id-9 div.sk-serial::before {content: \"\";position: absolute;border-left: 1px solid gray;box-sizing: border-box;top: 0;bottom: 0;left: 50%;z-index: 0;}#sk-container-id-9 div.sk-serial {display: flex;flex-direction: column;align-items: center;background-color: white;padding-right: 0.2em;padding-left: 0.2em;position: relative;}#sk-container-id-9 div.sk-item {position: relative;z-index: 1;}#sk-container-id-9 div.sk-parallel {display: flex;align-items: stretch;justify-content: center;background-color: white;position: relative;}#sk-container-id-9 div.sk-item::before, #sk-container-id-9 div.sk-parallel-item::before {content: \"\";position: absolute;border-left: 1px solid gray;box-sizing: border-box;top: 0;bottom: 0;left: 50%;z-index: -1;}#sk-container-id-9 div.sk-parallel-item {display: flex;flex-direction: column;z-index: 1;position: relative;background-color: white;}#sk-container-id-9 div.sk-parallel-item:first-child::after {align-self: flex-end;width: 50%;}#sk-container-id-9 div.sk-parallel-item:last-child::after {align-self: flex-start;width: 50%;}#sk-container-id-9 div.sk-parallel-item:only-child::after {width: 0;}#sk-container-id-9 div.sk-dashed-wrapped {border: 1px dashed gray;margin: 0 0.4em 0.5em 0.4em;box-sizing: border-box;padding-bottom: 0.4em;background-color: white;}#sk-container-id-9 div.sk-label label {font-family: monospace;font-weight: bold;display: inline-block;line-height: 1.2em;}#sk-container-id-9 div.sk-label-container {text-align: center;}#sk-container-id-9 div.sk-container {/* jupyter's `normalize.less` sets `[hidden] { display: none; }` but bootstrap.min.css set `[hidden] { display: none !important; }` so we also need the `!important` here to be able to override the default hidden behavior on the sphinx rendered scikit-learn.org. See: https://github.com/scikit-learn/scikit-learn/issues/21755 */display: inline-block !important;position: relative;}#sk-container-id-9 div.sk-text-repr-fallback {display: none;}</style><div id=\"sk-container-id-9\" class=\"sk-top-container\"><div class=\"sk-text-repr-fallback\"><pre>RandomForestClassifier(class_weight=&#x27;balanced_subsample&#x27;, n_jobs=-1,\n",
       "                       oob_score=True, random_state=42)</pre><b>In a Jupyter environment, please rerun this cell to show the HTML representation or trust the notebook. <br />On GitHub, the HTML representation is unable to render, please try loading this page with nbviewer.org.</b></div><div class=\"sk-container\" hidden><div class=\"sk-item\"><div class=\"sk-estimator sk-toggleable\"><input class=\"sk-toggleable__control sk-hidden--visually\" id=\"sk-estimator-id-17\" type=\"checkbox\" checked><label for=\"sk-estimator-id-17\" class=\"sk-toggleable__label sk-toggleable__label-arrow\">RandomForestClassifier</label><div class=\"sk-toggleable__content\"><pre>RandomForestClassifier(class_weight=&#x27;balanced_subsample&#x27;, n_jobs=-1,\n",
       "                       oob_score=True, random_state=42)</pre></div></div></div></div></div>"
      ],
      "text/plain": [
       "RandomForestClassifier(class_weight='balanced_subsample', n_jobs=-1,\n",
       "                       oob_score=True, random_state=42)"
      ]
     },
     "execution_count": 92,
     "metadata": {},
     "output_type": "execute_result"
    }
   ],
   "source": [
    "# Fitting to Random Forest Classifier\n",
    "rfc.fit(X_smote, y_smote)"
   ]
  },
  {
   "cell_type": "code",
   "execution_count": 93,
   "id": "ef216cc7-de77-4dd6-a05c-172af5ea8d9e",
   "metadata": {
    "tags": []
   },
   "outputs": [
    {
     "data": {
      "text/plain": [
       "0.7002801120448179"
      ]
     },
     "execution_count": 93,
     "metadata": {},
     "output_type": "execute_result"
    }
   ],
   "source": [
    "# Getting out-of-bag score\n",
    "rfc.oob_score_"
   ]
  },
  {
   "cell_type": "code",
   "execution_count": 94,
   "id": "a886df22-c7fe-40ef-a3bd-3bb0b2eebc03",
   "metadata": {
    "tags": []
   },
   "outputs": [
    {
     "data": {
      "text/plain": [
       "1.0"
      ]
     },
     "execution_count": 94,
     "metadata": {},
     "output_type": "execute_result"
    }
   ],
   "source": [
    "# Getting training accuracy\n",
    "rfc.score(X_smote, y_smote)"
   ]
  },
  {
   "cell_type": "code",
   "execution_count": 95,
   "id": "78b23b5e-1810-46c3-a4c5-5503eef112da",
   "metadata": {
    "tags": []
   },
   "outputs": [
    {
     "data": {
      "text/plain": [
       "0.5066666666666667"
      ]
     },
     "execution_count": 95,
     "metadata": {},
     "output_type": "execute_result"
    }
   ],
   "source": [
    "# Getting test accuracy\n",
    "rfc.score(X_test, y_test)"
   ]
  },
  {
   "cell_type": "code",
   "execution_count": 96,
   "id": "5aa4e9fa-4542-4f42-9b25-92b6b4690cd0",
   "metadata": {},
   "outputs": [
    {
     "name": "stdout",
     "output_type": "stream",
     "text": [
      "              precision    recall  f1-score   support\n",
      "\n",
      "           0       0.75      0.57      0.65       119\n",
      "           1       0.14      0.26      0.18        31\n",
      "\n",
      "    accuracy                           0.51       150\n",
      "   macro avg       0.44      0.41      0.41       150\n",
      "weighted avg       0.62      0.51      0.55       150\n",
      "\n"
     ]
    }
   ],
   "source": [
    "# Classification report for testing data predictions\n",
    "print(classification_report(y_test, rfc.predict(X_test)))"
   ]
  },
  {
   "cell_type": "code",
   "execution_count": 97,
   "id": "0c2902a1-90f7-4aee-b99c-338c6fa2d77d",
   "metadata": {
    "tags": []
   },
   "outputs": [
    {
     "data": {
      "text/plain": [
       "<sklearn.metrics._plot.confusion_matrix.ConfusionMatrixDisplay at 0x217abd54d60>"
      ]
     },
     "execution_count": 97,
     "metadata": {},
     "output_type": "execute_result"
    },
    {
     "data": {
      "image/png": "[encoded data removed]",
      "text/plain": [
       "<Figure size 640x480 with 2 Axes>"
      ]
     },
     "metadata": {},
     "output_type": "display_data"
    }
   ],
   "source": [
    "# Confusion Matrix for test data predictions\n",
    "ConfusionMatrixDisplay(confusion_matrix(y_test, rfc.predict(X_test))).plot()"
   ]
  },
  {
   "cell_type": "markdown",
   "id": "29b66146-6079-42a5-a8ae-a6e4cff80cb9",
   "metadata": {},
   "source": [
    "### SMOTEENN"
   ]
  },
  {
   "cell_type": "code",
   "execution_count": 98,
   "id": "7912686a-6a11-464e-b5da-1350259c6f7d",
   "metadata": {
    "tags": []
   },
   "outputs": [
    {
     "name": "stderr",
     "output_type": "stream",
     "text": [
      "C:\\Users\\harsh\\AppData\\Roaming\\jupyterlab-desktop\\jlab_server\\lib\\site-packages\\imblearn\\over_sampling\\_smote\\base.py:336: FutureWarning: The parameter `n_jobs` has been deprecated in 0.10 and will be removed in 0.12. You can pass an nearest neighbors estimator where `n_jobs` is already set instead.\n",
      "  warnings.warn(\n"
     ]
    }
   ],
   "source": [
    "X_smoteenn, y_smoteenn = SMOTEENN(random_state=42, n_jobs = -1).fit_resample(X_train, y_train)"
   ]
  },
  {
   "cell_type": "code",
   "execution_count": 99,
   "id": "c5e7a03f-84a1-4765-a0dd-65cf632e3b3a",
   "metadata": {
    "tags": []
   },
   "outputs": [
    {
     "data": {
      "text/plain": [
       "1    99\n",
       "0    95\n",
       "Name: taxable_income, dtype: int64"
      ]
     },
     "execution_count": 99,
     "metadata": {},
     "output_type": "execute_result"
    }
   ],
   "source": [
    "y_smoteenn.value_counts()"
   ]
  },
  {
   "cell_type": "code",
   "execution_count": 100,
   "id": "1619a44d-20f6-4d1a-9b4d-bbfc01b82a98",
   "metadata": {
    "tags": []
   },
   "outputs": [],
   "source": [
    "# Creating a Random Forest Classifier\n",
    "rfc = RandomForestClassifier(max_features = 'sqrt', oob_score = True, n_jobs = -1, random_state= 42, class_weight='balanced_subsample')"
   ]
  },
  {
   "cell_type": "code",
   "execution_count": 101,
   "id": "6a134d7e-a65d-4b30-b027-bc0cf0229605",
   "metadata": {
    "tags": []
   },
   "outputs": [
    {
     "data": {
      "text/html": [
       "<style>#sk-container-id-10 {color: black;background-color: white;}#sk-container-id-10 pre{padding: 0;}#sk-container-id-10 div.sk-toggleable {background-color: white;}#sk-container-id-10 label.sk-toggleable__label {cursor: pointer;display: block;width: 100%;margin-bottom: 0;padding: 0.3em;box-sizing: border-box;text-align: center;}#sk-container-id-10 label.sk-toggleable__label-arrow:before {content: \"▸\";float: left;margin-right: 0.25em;color: #696969;}#sk-container-id-10 label.sk-toggleable__label-arrow:hover:before {color: black;}#sk-container-id-10 div.sk-estimator:hover label.sk-toggleable__label-arrow:before {color: black;}#sk-container-id-10 div.sk-toggleable__content {max-height: 0;max-width: 0;overflow: hidden;text-align: left;background-color: #f0f8ff;}#sk-container-id-10 div.sk-toggleable__content pre {margin: 0.2em;color: black;border-radius: 0.25em;background-color: #f0f8ff;}#sk-container-id-10 input.sk-toggleable__control:checked~div.sk-toggleable__content {max-height: 200px;max-width: 100%;overflow: auto;}#sk-container-id-10 input.sk-toggleable__control:checked~label.sk-toggleable__label-arrow:before {content: \"▾\";}#sk-container-id-10 div.sk-estimator input.sk-toggleable__control:checked~label.sk-toggleable__label {background-color: #d4ebff;}#sk-container-id-10 div.sk-label input.sk-toggleable__control:checked~label.sk-toggleable__label {background-color: #d4ebff;}#sk-container-id-10 input.sk-hidden--visually {border: 0;clip: rect(1px 1px 1px 1px);clip: rect(1px, 1px, 1px, 1px);height: 1px;margin: -1px;overflow: hidden;padding: 0;position: absolute;width: 1px;}#sk-container-id-10 div.sk-estimator {font-family: monospace;background-color: #f0f8ff;border: 1px dotted black;border-radius: 0.25em;box-sizing: border-box;margin-bottom: 0.5em;}#sk-container-id-10 div.sk-estimator:hover {background-color: #d4ebff;}#sk-container-id-10 div.sk-parallel-item::after {content: \"\";width: 100%;border-bottom: 1px solid gray;flex-grow: 1;}#sk-container-id-10 div.sk-label:hover label.sk-toggleable__label {background-color: #d4ebff;}#sk-container-id-10 div.sk-serial::before {content: \"\";position: absolute;border-left: 1px solid gray;box-sizing: border-box;top: 0;bottom: 0;left: 50%;z-index: 0;}#sk-container-id-10 div.sk-serial {display: flex;flex-direction: column;align-items: center;background-color: white;padding-right: 0.2em;padding-left: 0.2em;position: relative;}#sk-container-id-10 div.sk-item {position: relative;z-index: 1;}#sk-container-id-10 div.sk-parallel {display: flex;align-items: stretch;justify-content: center;background-color: white;position: relative;}#sk-container-id-10 div.sk-item::before, #sk-container-id-10 div.sk-parallel-item::before {content: \"\";position: absolute;border-left: 1px solid gray;box-sizing: border-box;top: 0;bottom: 0;left: 50%;z-index: -1;}#sk-container-id-10 div.sk-parallel-item {display: flex;flex-direction: column;z-index: 1;position: relative;background-color: white;}#sk-container-id-10 div.sk-parallel-item:first-child::after {align-self: flex-end;width: 50%;}#sk-container-id-10 div.sk-parallel-item:last-child::after {align-self: flex-start;width: 50%;}#sk-container-id-10 div.sk-parallel-item:only-child::after {width: 0;}#sk-container-id-10 div.sk-dashed-wrapped {border: 1px dashed gray;margin: 0 0.4em 0.5em 0.4em;box-sizing: border-box;padding-bottom: 0.4em;background-color: white;}#sk-container-id-10 div.sk-label label {font-family: monospace;font-weight: bold;display: inline-block;line-height: 1.2em;}#sk-container-id-10 div.sk-label-container {text-align: center;}#sk-container-id-10 div.sk-container {/* jupyter's `normalize.less` sets `[hidden] { display: none; }` but bootstrap.min.css set `[hidden] { display: none !important; }` so we also need the `!important` here to be able to override the default hidden behavior on the sphinx rendered scikit-learn.org. See: https://github.com/scikit-learn/scikit-learn/issues/21755 */display: inline-block !important;position: relative;}#sk-container-id-10 div.sk-text-repr-fallback {display: none;}</style><div id=\"sk-container-id-10\" class=\"sk-top-container\"><div class=\"sk-text-repr-fallback\"><pre>RandomForestClassifier(class_weight=&#x27;balanced_subsample&#x27;, n_jobs=-1,\n",
       "                       oob_score=True, random_state=42)</pre><b>In a Jupyter environment, please rerun this cell to show the HTML representation or trust the notebook. <br />On GitHub, the HTML representation is unable to render, please try loading this page with nbviewer.org.</b></div><div class=\"sk-container\" hidden><div class=\"sk-item\"><div class=\"sk-estimator sk-toggleable\"><input class=\"sk-toggleable__control sk-hidden--visually\" id=\"sk-estimator-id-18\" type=\"checkbox\" checked><label for=\"sk-estimator-id-18\" class=\"sk-toggleable__label sk-toggleable__label-arrow\">RandomForestClassifier</label><div class=\"sk-toggleable__content\"><pre>RandomForestClassifier(class_weight=&#x27;balanced_subsample&#x27;, n_jobs=-1,\n",
       "                       oob_score=True, random_state=42)</pre></div></div></div></div></div>"
      ],
      "text/plain": [
       "RandomForestClassifier(class_weight='balanced_subsample', n_jobs=-1,\n",
       "                       oob_score=True, random_state=42)"
      ]
     },
     "execution_count": 101,
     "metadata": {},
     "output_type": "execute_result"
    }
   ],
   "source": [
    "# Fitting to Random Forest Classifier\n",
    "rfc.fit(X_smoteenn, y_smoteenn)"
   ]
  },
  {
   "cell_type": "code",
   "execution_count": 102,
   "id": "b19de0ee-468c-4ebd-9a7d-edb0bd388597",
   "metadata": {
    "tags": []
   },
   "outputs": [
    {
     "data": {
      "text/plain": [
       "0.7371134020618557"
      ]
     },
     "execution_count": 102,
     "metadata": {},
     "output_type": "execute_result"
    }
   ],
   "source": [
    "# Getting out-of-bag score\n",
    "rfc.oob_score_"
   ]
  },
  {
   "cell_type": "code",
   "execution_count": 103,
   "id": "78eeaff7-2206-4253-a07b-6bdd7efe30a4",
   "metadata": {
    "tags": []
   },
   "outputs": [
    {
     "data": {
      "text/plain": [
       "1.0"
      ]
     },
     "execution_count": 103,
     "metadata": {},
     "output_type": "execute_result"
    }
   ],
   "source": [
    "# Getting training accuracy\n",
    "rfc.score(X_smoteenn, y_smoteenn)"
   ]
  },
  {
   "cell_type": "code",
   "execution_count": 104,
   "id": "ec5b7d4c-dd0c-45ae-913c-2142d3827793",
   "metadata": {
    "tags": []
   },
   "outputs": [
    {
     "data": {
      "text/plain": [
       "0.56"
      ]
     },
     "execution_count": 104,
     "metadata": {},
     "output_type": "execute_result"
    }
   ],
   "source": [
    "# Getting test accuracy\n",
    "rfc.score(X_test, y_test)"
   ]
  },
  {
   "cell_type": "code",
   "execution_count": 105,
   "id": "e68c040d-e349-4a63-baf2-a88fff5ae670",
   "metadata": {
    "tags": []
   },
   "outputs": [
    {
     "name": "stdout",
     "output_type": "stream",
     "text": [
      "              precision    recall  f1-score   support\n",
      "\n",
      "           0       0.78      0.62      0.69       119\n",
      "           1       0.18      0.32      0.23        31\n",
      "\n",
      "    accuracy                           0.56       150\n",
      "   macro avg       0.48      0.47      0.46       150\n",
      "weighted avg       0.66      0.56      0.60       150\n",
      "\n"
     ]
    }
   ],
   "source": [
    "# Classification report for testing data predictions\n",
    "print(classification_report(y_test, rfc.predict(X_test)))"
   ]
  },
  {
   "cell_type": "code",
   "execution_count": 106,
   "id": "d46e72fb-c4e1-4395-af27-06dc1a33d5c4",
   "metadata": {
    "tags": []
   },
   "outputs": [
    {
     "data": {
      "text/plain": [
       "<sklearn.metrics._plot.confusion_matrix.ConfusionMatrixDisplay at 0x217ad7a5fa0>"
      ]
     },
     "execution_count": 106,
     "metadata": {},
     "output_type": "execute_result"
    },
    {
     "data": {
      "image/png": "[encoded data removed]",
      "text/plain": [
       "<Figure size 640x480 with 2 Axes>"
      ]
     },
     "metadata": {},
     "output_type": "display_data"
    }
   ],
   "source": [
    "# Confusion Matrix for test data predictions\n",
    "ConfusionMatrixDisplay(confusion_matrix(y_test, rfc.predict(X_test))).plot()"
   ]
  },
  {
   "cell_type": "markdown",
   "id": "6e48b3e4-07d3-4715-baae-eed1595ce092",
   "metadata": {},
   "source": [
    "### SMOTETomek"
   ]
  },
  {
   "cell_type": "code",
   "execution_count": 107,
   "id": "5ea88d7e-c614-4eea-a51b-b4297cbf8057",
   "metadata": {
    "tags": []
   },
   "outputs": [
    {
     "name": "stderr",
     "output_type": "stream",
     "text": [
      "C:\\Users\\harsh\\AppData\\Roaming\\jupyterlab-desktop\\jlab_server\\lib\\site-packages\\imblearn\\over_sampling\\_smote\\base.py:336: FutureWarning: The parameter `n_jobs` has been deprecated in 0.10 and will be removed in 0.12. You can pass an nearest neighbors estimator where `n_jobs` is already set instead.\n",
      "  warnings.warn(\n"
     ]
    }
   ],
   "source": [
    "X_st, y_st = SMOTETomek(random_state=42, n_jobs = -1).fit_resample(X_train,y_train)"
   ]
  },
  {
   "cell_type": "code",
   "execution_count": 108,
   "id": "be3a8764-4844-4b1c-8d1a-ef6f2cd632b7",
   "metadata": {
    "tags": []
   },
   "outputs": [
    {
     "data": {
      "text/plain": [
       "1    262\n",
       "0    262\n",
       "Name: taxable_income, dtype: int64"
      ]
     },
     "execution_count": 108,
     "metadata": {},
     "output_type": "execute_result"
    }
   ],
   "source": [
    "y_st.value_counts()"
   ]
  },
  {
   "cell_type": "code",
   "execution_count": 109,
   "id": "1f75b3c6-e1a6-4354-af2e-b0017334a5ea",
   "metadata": {
    "tags": []
   },
   "outputs": [],
   "source": [
    "# Creating a Random Forest Classifier\n",
    "rfc = RandomForestClassifier(max_features = 'sqrt', oob_score = True, n_jobs = -1, random_state= 42, class_weight='balanced_subsample')"
   ]
  },
  {
   "cell_type": "code",
   "execution_count": 110,
   "id": "49b4de1d-5616-43f0-a6ca-21af0c42d0f4",
   "metadata": {
    "tags": []
   },
   "outputs": [
    {
     "data": {
      "text/html": [
       "<style>#sk-container-id-11 {color: black;background-color: white;}#sk-container-id-11 pre{padding: 0;}#sk-container-id-11 div.sk-toggleable {background-color: white;}#sk-container-id-11 label.sk-toggleable__label {cursor: pointer;display: block;width: 100%;margin-bottom: 0;padding: 0.3em;box-sizing: border-box;text-align: center;}#sk-container-id-11 label.sk-toggleable__label-arrow:before {content: \"▸\";float: left;margin-right: 0.25em;color: #696969;}#sk-container-id-11 label.sk-toggleable__label-arrow:hover:before {color: black;}#sk-container-id-11 div.sk-estimator:hover label.sk-toggleable__label-arrow:before {color: black;}#sk-container-id-11 div.sk-toggleable__content {max-height: 0;max-width: 0;overflow: hidden;text-align: left;background-color: #f0f8ff;}#sk-container-id-11 div.sk-toggleable__content pre {margin: 0.2em;color: black;border-radius: 0.25em;background-color: #f0f8ff;}#sk-container-id-11 input.sk-toggleable__control:checked~div.sk-toggleable__content {max-height: 200px;max-width: 100%;overflow: auto;}#sk-container-id-11 input.sk-toggleable__control:checked~label.sk-toggleable__label-arrow:before {content: \"▾\";}#sk-container-id-11 div.sk-estimator input.sk-toggleable__control:checked~label.sk-toggleable__label {background-color: #d4ebff;}#sk-container-id-11 div.sk-label input.sk-toggleable__control:checked~label.sk-toggleable__label {background-color: #d4ebff;}#sk-container-id-11 input.sk-hidden--visually {border: 0;clip: rect(1px 1px 1px 1px);clip: rect(1px, 1px, 1px, 1px);height: 1px;margin: -1px;overflow: hidden;padding: 0;position: absolute;width: 1px;}#sk-container-id-11 div.sk-estimator {font-family: monospace;background-color: #f0f8ff;border: 1px dotted black;border-radius: 0.25em;box-sizing: border-box;margin-bottom: 0.5em;}#sk-container-id-11 div.sk-estimator:hover {background-color: #d4ebff;}#sk-container-id-11 div.sk-parallel-item::after {content: \"\";width: 100%;border-bottom: 1px solid gray;flex-grow: 1;}#sk-container-id-11 div.sk-label:hover label.sk-toggleable__label {background-color: #d4ebff;}#sk-container-id-11 div.sk-serial::before {content: \"\";position: absolute;border-left: 1px solid gray;box-sizing: border-box;top: 0;bottom: 0;left: 50%;z-index: 0;}#sk-container-id-11 div.sk-serial {display: flex;flex-direction: column;align-items: center;background-color: white;padding-right: 0.2em;padding-left: 0.2em;position: relative;}#sk-container-id-11 div.sk-item {position: relative;z-index: 1;}#sk-container-id-11 div.sk-parallel {display: flex;align-items: stretch;justify-content: center;background-color: white;position: relative;}#sk-container-id-11 div.sk-item::before, #sk-container-id-11 div.sk-parallel-item::before {content: \"\";position: absolute;border-left: 1px solid gray;box-sizing: border-box;top: 0;bottom: 0;left: 50%;z-index: -1;}#sk-container-id-11 div.sk-parallel-item {display: flex;flex-direction: column;z-index: 1;position: relative;background-color: white;}#sk-container-id-11 div.sk-parallel-item:first-child::after {align-self: flex-end;width: 50%;}#sk-container-id-11 div.sk-parallel-item:last-child::after {align-self: flex-start;width: 50%;}#sk-container-id-11 div.sk-parallel-item:only-child::after {width: 0;}#sk-container-id-11 div.sk-dashed-wrapped {border: 1px dashed gray;margin: 0 0.4em 0.5em 0.4em;box-sizing: border-box;padding-bottom: 0.4em;background-color: white;}#sk-container-id-11 div.sk-label label {font-family: monospace;font-weight: bold;display: inline-block;line-height: 1.2em;}#sk-container-id-11 div.sk-label-container {text-align: center;}#sk-container-id-11 div.sk-container {/* jupyter's `normalize.less` sets `[hidden] { display: none; }` but bootstrap.min.css set `[hidden] { display: none !important; }` so we also need the `!important` here to be able to override the default hidden behavior on the sphinx rendered scikit-learn.org. See: https://github.com/scikit-learn/scikit-learn/issues/21755 */display: inline-block !important;position: relative;}#sk-container-id-11 div.sk-text-repr-fallback {display: none;}</style><div id=\"sk-container-id-11\" class=\"sk-top-container\"><div class=\"sk-text-repr-fallback\"><pre>RandomForestClassifier(class_weight=&#x27;balanced_subsample&#x27;, n_jobs=-1,\n",
       "                       oob_score=True, random_state=42)</pre><b>In a Jupyter environment, please rerun this cell to show the HTML representation or trust the notebook. <br />On GitHub, the HTML representation is unable to render, please try loading this page with nbviewer.org.</b></div><div class=\"sk-container\" hidden><div class=\"sk-item\"><div class=\"sk-estimator sk-toggleable\"><input class=\"sk-toggleable__control sk-hidden--visually\" id=\"sk-estimator-id-19\" type=\"checkbox\" checked><label for=\"sk-estimator-id-19\" class=\"sk-toggleable__label sk-toggleable__label-arrow\">RandomForestClassifier</label><div class=\"sk-toggleable__content\"><pre>RandomForestClassifier(class_weight=&#x27;balanced_subsample&#x27;, n_jobs=-1,\n",
       "                       oob_score=True, random_state=42)</pre></div></div></div></div></div>"
      ],
      "text/plain": [
       "RandomForestClassifier(class_weight='balanced_subsample', n_jobs=-1,\n",
       "                       oob_score=True, random_state=42)"
      ]
     },
     "execution_count": 110,
     "metadata": {},
     "output_type": "execute_result"
    }
   ],
   "source": [
    "# Fitting to Random Forest Classifier\n",
    "rfc.fit(X_st, y_st)"
   ]
  },
  {
   "cell_type": "code",
   "execution_count": 111,
   "id": "d8de9fdb-f2db-4ae5-be0d-a38c1d8638b9",
   "metadata": {
    "tags": []
   },
   "outputs": [
    {
     "data": {
      "text/plain": [
       "0.6946564885496184"
      ]
     },
     "execution_count": 111,
     "metadata": {},
     "output_type": "execute_result"
    }
   ],
   "source": [
    "# Getting out-of-bag score\n",
    "rfc.oob_score_"
   ]
  },
  {
   "cell_type": "code",
   "execution_count": 112,
   "id": "42d27923-df7e-4456-a06c-8b237d2ed8a3",
   "metadata": {
    "tags": []
   },
   "outputs": [
    {
     "data": {
      "text/plain": [
       "1.0"
      ]
     },
     "execution_count": 112,
     "metadata": {},
     "output_type": "execute_result"
    }
   ],
   "source": [
    "# Getting training accuracy\n",
    "rfc.score(X_st, y_st)"
   ]
  },
  {
   "cell_type": "code",
   "execution_count": 113,
   "id": "d32328d7-ea1a-44ee-9c79-9214a6228084",
   "metadata": {
    "tags": []
   },
   "outputs": [
    {
     "data": {
      "text/plain": [
       "0.5333333333333333"
      ]
     },
     "execution_count": 113,
     "metadata": {},
     "output_type": "execute_result"
    }
   ],
   "source": [
    "# Getting test accuracy\n",
    "rfc.score(X_test, y_test)"
   ]
  },
  {
   "cell_type": "code",
   "execution_count": 114,
   "id": "0dbfd6cf-c66f-4a49-accd-07516fdcd87f",
   "metadata": {
    "tags": []
   },
   "outputs": [
    {
     "name": "stdout",
     "output_type": "stream",
     "text": [
      "              precision    recall  f1-score   support\n",
      "\n",
      "           0       0.76      0.60      0.67       119\n",
      "           1       0.16      0.29      0.20        31\n",
      "\n",
      "    accuracy                           0.53       150\n",
      "   macro avg       0.46      0.44      0.44       150\n",
      "weighted avg       0.64      0.53      0.57       150\n",
      "\n"
     ]
    }
   ],
   "source": [
    "# Classification report for testing data predictions\n",
    "print(classification_report(y_test, rfc.predict(X_test)))"
   ]
  },
  {
   "cell_type": "code",
   "execution_count": 115,
   "id": "ccac6f23-4335-4cfa-84ca-b227b49f8374",
   "metadata": {
    "tags": []
   },
   "outputs": [
    {
     "data": {
      "text/plain": [
       "<sklearn.metrics._plot.confusion_matrix.ConfusionMatrixDisplay at 0x217adc57700>"
      ]
     },
     "execution_count": 115,
     "metadata": {},
     "output_type": "execute_result"
    },
    {
     "data": {
      "image/png": "[encoded data removed]",
      "text/plain": [
       "<Figure size 640x480 with 2 Axes>"
      ]
     },
     "metadata": {},
     "output_type": "display_data"
    }
   ],
   "source": [
    "# Confusion Matrix for test data predictions\n",
    "ConfusionMatrixDisplay(confusion_matrix(y_test, rfc.predict(X_test))).plot()"
   ]
  },
  {
   "cell_type": "markdown",
   "id": "b4c4f723-3a9f-496b-86bc-3a3b5b98059d",
   "metadata": {},
   "source": [
    "SMOTEENN gave us the best accuracy. Let us apply grid search for data balanced with SMOTEENN to find the optimal hyperparameters"
   ]
  },
  {
   "cell_type": "code",
   "execution_count": 116,
   "id": "68193cb2-eb06-42f0-a729-1ba94114ad45",
   "metadata": {
    "tags": []
   },
   "outputs": [],
   "source": [
    "# Defining parameter values for grid search\n",
    "param_grid = {\n",
    "    'n_estimators' : [10, 50, 100, 150, 200],\n",
    "    'criterion' : [\"gini\", \"entropy\"],\n",
    "    'max_features' : [i for i in range(1, X.shape[1] + 1)],\n",
    "    'class_weight' :[\"balanced\", \"balanced_subsample\", None] \n",
    "}"
   ]
  },
  {
   "cell_type": "code",
   "execution_count": 117,
   "id": "6a4e9064-e41c-4dcb-813b-ae292ef050e2",
   "metadata": {
    "tags": []
   },
   "outputs": [],
   "source": [
    "# Creating Stratified K Fold Cross Validator\n",
    "skf = StratifiedKFold()"
   ]
  },
  {
   "cell_type": "code",
   "execution_count": 118,
   "id": "97fc3bdc-6e50-4de2-b3bd-767c63aadda9",
   "metadata": {
    "tags": []
   },
   "outputs": [],
   "source": [
    "# Redifining Random Forest Classifier for grid search\n",
    "rfc = RandomForestClassifier(n_jobs = -1, random_state= 42)"
   ]
  },
  {
   "cell_type": "code",
   "execution_count": 119,
   "id": "c12fef5f-35ba-4539-9974-6e0e2443efed",
   "metadata": {
    "tags": []
   },
   "outputs": [],
   "source": [
    "# Creating a Grid Search object\n",
    "grid = GridSearchCV(estimator=rfc, param_grid=param_grid, scoring = 'f1', n_jobs = -1, cv = skf)"
   ]
  },
  {
   "cell_type": "code",
   "execution_count": 120,
   "id": "dd9a6bcf-1292-48f3-b597-b826418a1b3d",
   "metadata": {
    "tags": []
   },
   "outputs": [
    {
     "data": {
      "text/html": [
       "<style>#sk-container-id-12 {color: black;background-color: white;}#sk-container-id-12 pre{padding: 0;}#sk-container-id-12 div.sk-toggleable {background-color: white;}#sk-container-id-12 label.sk-toggleable__label {cursor: pointer;display: block;width: 100%;margin-bottom: 0;padding: 0.3em;box-sizing: border-box;text-align: center;}#sk-container-id-12 label.sk-toggleable__label-arrow:before {content: \"▸\";float: left;margin-right: 0.25em;color: #696969;}#sk-container-id-12 label.sk-toggleable__label-arrow:hover:before {color: black;}#sk-container-id-12 div.sk-estimator:hover label.sk-toggleable__label-arrow:before {color: black;}#sk-container-id-12 div.sk-toggleable__content {max-height: 0;max-width: 0;overflow: hidden;text-align: left;background-color: #f0f8ff;}#sk-container-id-12 div.sk-toggleable__content pre {margin: 0.2em;color: black;border-radius: 0.25em;background-color: #f0f8ff;}#sk-container-id-12 input.sk-toggleable__control:checked~div.sk-toggleable__content {max-height: 200px;max-width: 100%;overflow: auto;}#sk-container-id-12 input.sk-toggleable__control:checked~label.sk-toggleable__label-arrow:before {content: \"▾\";}#sk-container-id-12 div.sk-estimator input.sk-toggleable__control:checked~label.sk-toggleable__label {background-color: #d4ebff;}#sk-container-id-12 div.sk-label input.sk-toggleable__control:checked~label.sk-toggleable__label {background-color: #d4ebff;}#sk-container-id-12 input.sk-hidden--visually {border: 0;clip: rect(1px 1px 1px 1px);clip: rect(1px, 1px, 1px, 1px);height: 1px;margin: -1px;overflow: hidden;padding: 0;position: absolute;width: 1px;}#sk-container-id-12 div.sk-estimator {font-family: monospace;background-color: #f0f8ff;border: 1px dotted black;border-radius: 0.25em;box-sizing: border-box;margin-bottom: 0.5em;}#sk-container-id-12 div.sk-estimator:hover {background-color: #d4ebff;}#sk-container-id-12 div.sk-parallel-item::after {content: \"\";width: 100%;border-bottom: 1px solid gray;flex-grow: 1;}#sk-container-id-12 div.sk-label:hover label.sk-toggleable__label {background-color: #d4ebff;}#sk-container-id-12 div.sk-serial::before {content: \"\";position: absolute;border-left: 1px solid gray;box-sizing: border-box;top: 0;bottom: 0;left: 50%;z-index: 0;}#sk-container-id-12 div.sk-serial {display: flex;flex-direction: column;align-items: center;background-color: white;padding-right: 0.2em;padding-left: 0.2em;position: relative;}#sk-container-id-12 div.sk-item {position: relative;z-index: 1;}#sk-container-id-12 div.sk-parallel {display: flex;align-items: stretch;justify-content: center;background-color: white;position: relative;}#sk-container-id-12 div.sk-item::before, #sk-container-id-12 div.sk-parallel-item::before {content: \"\";position: absolute;border-left: 1px solid gray;box-sizing: border-box;top: 0;bottom: 0;left: 50%;z-index: -1;}#sk-container-id-12 div.sk-parallel-item {display: flex;flex-direction: column;z-index: 1;position: relative;background-color: white;}#sk-container-id-12 div.sk-parallel-item:first-child::after {align-self: flex-end;width: 50%;}#sk-container-id-12 div.sk-parallel-item:last-child::after {align-self: flex-start;width: 50%;}#sk-container-id-12 div.sk-parallel-item:only-child::after {width: 0;}#sk-container-id-12 div.sk-dashed-wrapped {border: 1px dashed gray;margin: 0 0.4em 0.5em 0.4em;box-sizing: border-box;padding-bottom: 0.4em;background-color: white;}#sk-container-id-12 div.sk-label label {font-family: monospace;font-weight: bold;display: inline-block;line-height: 1.2em;}#sk-container-id-12 div.sk-label-container {text-align: center;}#sk-container-id-12 div.sk-container {/* jupyter's `normalize.less` sets `[hidden] { display: none; }` but bootstrap.min.css set `[hidden] { display: none !important; }` so we also need the `!important` here to be able to override the default hidden behavior on the sphinx rendered scikit-learn.org. See: https://github.com/scikit-learn/scikit-learn/issues/21755 */display: inline-block !important;position: relative;}#sk-container-id-12 div.sk-text-repr-fallback {display: none;}</style><div id=\"sk-container-id-12\" class=\"sk-top-container\"><div class=\"sk-text-repr-fallback\"><pre>GridSearchCV(cv=StratifiedKFold(n_splits=5, random_state=None, shuffle=False),\n",
       "             estimator=RandomForestClassifier(n_jobs=-1, random_state=42),\n",
       "             n_jobs=-1,\n",
       "             param_grid={&#x27;class_weight&#x27;: [&#x27;balanced&#x27;, &#x27;balanced_subsample&#x27;,\n",
       "                                          None],\n",
       "                         &#x27;criterion&#x27;: [&#x27;gini&#x27;, &#x27;entropy&#x27;],\n",
       "                         &#x27;max_features&#x27;: [1, 2, 3, 4, 5, 6],\n",
       "                         &#x27;n_estimators&#x27;: [10, 50, 100, 150, 200]},\n",
       "             scoring=&#x27;f1&#x27;)</pre><b>In a Jupyter environment, please rerun this cell to show the HTML representation or trust the notebook. <br />On GitHub, the HTML representation is unable to render, please try loading this page with nbviewer.org.</b></div><div class=\"sk-container\" hidden><div class=\"sk-item sk-dashed-wrapped\"><div class=\"sk-label-container\"><div class=\"sk-label sk-toggleable\"><input class=\"sk-toggleable__control sk-hidden--visually\" id=\"sk-estimator-id-20\" type=\"checkbox\" ><label for=\"sk-estimator-id-20\" class=\"sk-toggleable__label sk-toggleable__label-arrow\">GridSearchCV</label><div class=\"sk-toggleable__content\"><pre>GridSearchCV(cv=StratifiedKFold(n_splits=5, random_state=None, shuffle=False),\n",
       "             estimator=RandomForestClassifier(n_jobs=-1, random_state=42),\n",
       "             n_jobs=-1,\n",
       "             param_grid={&#x27;class_weight&#x27;: [&#x27;balanced&#x27;, &#x27;balanced_subsample&#x27;,\n",
       "                                          None],\n",
       "                         &#x27;criterion&#x27;: [&#x27;gini&#x27;, &#x27;entropy&#x27;],\n",
       "                         &#x27;max_features&#x27;: [1, 2, 3, 4, 5, 6],\n",
       "                         &#x27;n_estimators&#x27;: [10, 50, 100, 150, 200]},\n",
       "             scoring=&#x27;f1&#x27;)</pre></div></div></div><div class=\"sk-parallel\"><div class=\"sk-parallel-item\"><div class=\"sk-item\"><div class=\"sk-label-container\"><div class=\"sk-label sk-toggleable\"><input class=\"sk-toggleable__control sk-hidden--visually\" id=\"sk-estimator-id-21\" type=\"checkbox\" ><label for=\"sk-estimator-id-21\" class=\"sk-toggleable__label sk-toggleable__label-arrow\">estimator: RandomForestClassifier</label><div class=\"sk-toggleable__content\"><pre>RandomForestClassifier(n_jobs=-1, random_state=42)</pre></div></div></div><div class=\"sk-serial\"><div class=\"sk-item\"><div class=\"sk-estimator sk-toggleable\"><input class=\"sk-toggleable__control sk-hidden--visually\" id=\"sk-estimator-id-22\" type=\"checkbox\" ><label for=\"sk-estimator-id-22\" class=\"sk-toggleable__label sk-toggleable__label-arrow\">RandomForestClassifier</label><div class=\"sk-toggleable__content\"><pre>RandomForestClassifier(n_jobs=-1, random_state=42)</pre></div></div></div></div></div></div></div></div></div></div>"
      ],
      "text/plain": [
       "GridSearchCV(cv=StratifiedKFold(n_splits=5, random_state=None, shuffle=False),\n",
       "             estimator=RandomForestClassifier(n_jobs=-1, random_state=42),\n",
       "             n_jobs=-1,\n",
       "             param_grid={'class_weight': ['balanced', 'balanced_subsample',\n",
       "                                          None],\n",
       "                         'criterion': ['gini', 'entropy'],\n",
       "                         'max_features': [1, 2, 3, 4, 5, 6],\n",
       "                         'n_estimators': [10, 50, 100, 150, 200]},\n",
       "             scoring='f1')"
      ]
     },
     "execution_count": 120,
     "metadata": {},
     "output_type": "execute_result"
    }
   ],
   "source": [
    "# Running grid search\n",
    "grid.fit(X_smoteenn, y_smoteenn)"
   ]
  },
  {
   "cell_type": "code",
   "execution_count": 121,
   "id": "03bf6c08-42e1-47dd-b119-5c1b58a43ee1",
   "metadata": {
    "tags": []
   },
   "outputs": [
    {
     "data": {
      "text/plain": [
       "0.8094144776176002"
      ]
     },
     "execution_count": 121,
     "metadata": {},
     "output_type": "execute_result"
    }
   ],
   "source": [
    "# Getting best score from grid search\n",
    "grid.best_score_"
   ]
  },
  {
   "cell_type": "code",
   "execution_count": 122,
   "id": "f27e2509-7b63-4d9b-8315-d91c530e8d8b",
   "metadata": {
    "tags": []
   },
   "outputs": [
    {
     "data": {
      "text/plain": [
       "{'class_weight': 'balanced_subsample',\n",
       " 'criterion': 'gini',\n",
       " 'max_features': 6,\n",
       " 'n_estimators': 100}"
      ]
     },
     "execution_count": 122,
     "metadata": {},
     "output_type": "execute_result"
    }
   ],
   "source": [
    "# Getting parameter that gave the best score\n",
    "grid.best_params_"
   ]
  },
  {
   "cell_type": "code",
   "execution_count": 123,
   "id": "ae5940f9-12e8-47b7-a240-5fee1a283744",
   "metadata": {
    "tags": []
   },
   "outputs": [
    {
     "data": {
      "text/html": [
       "<div>\n",
       "<style scoped>\n",
       "    .dataframe tbody tr th:only-of-type {\n",
       "        vertical-align: middle;\n",
       "    }\n",
       "\n",
       "    .dataframe tbody tr th {\n",
       "        vertical-align: top;\n",
       "    }\n",
       "\n",
       "    .dataframe thead th {\n",
       "        text-align: right;\n",
       "    }\n",
       "</style>\n",
       "<table border=\"1\" class=\"dataframe\">\n",
       "  <thead>\n",
       "    <tr style=\"text-align: right;\">\n",
       "      <th></th>\n",
       "      <th>param_class_weight</th>\n",
       "      <th>param_criterion</th>\n",
       "      <th>param_max_features</th>\n",
       "      <th>param_n_estimators</th>\n",
       "      <th>mean_test_score</th>\n",
       "      <th>std_test_score</th>\n",
       "      <th>rank_test_score</th>\n",
       "    </tr>\n",
       "  </thead>\n",
       "  <tbody>\n",
       "    <tr>\n",
       "      <th>87</th>\n",
       "      <td>balanced_subsample</td>\n",
       "      <td>gini</td>\n",
       "      <td>6</td>\n",
       "      <td>100</td>\n",
       "      <td>0.809414</td>\n",
       "      <td>0.088760</td>\n",
       "      <td>1</td>\n",
       "    </tr>\n",
       "    <tr>\n",
       "      <th>119</th>\n",
       "      <td>balanced_subsample</td>\n",
       "      <td>entropy</td>\n",
       "      <td>6</td>\n",
       "      <td>200</td>\n",
       "      <td>0.806987</td>\n",
       "      <td>0.096539</td>\n",
       "      <td>2</td>\n",
       "    </tr>\n",
       "    <tr>\n",
       "      <th>118</th>\n",
       "      <td>balanced_subsample</td>\n",
       "      <td>entropy</td>\n",
       "      <td>6</td>\n",
       "      <td>150</td>\n",
       "      <td>0.806307</td>\n",
       "      <td>0.092239</td>\n",
       "      <td>3</td>\n",
       "    </tr>\n",
       "    <tr>\n",
       "      <th>89</th>\n",
       "      <td>balanced_subsample</td>\n",
       "      <td>gini</td>\n",
       "      <td>6</td>\n",
       "      <td>200</td>\n",
       "      <td>0.805466</td>\n",
       "      <td>0.088226</td>\n",
       "      <td>4</td>\n",
       "    </tr>\n",
       "    <tr>\n",
       "      <th>149</th>\n",
       "      <td>None</td>\n",
       "      <td>gini</td>\n",
       "      <td>6</td>\n",
       "      <td>200</td>\n",
       "      <td>0.801907</td>\n",
       "      <td>0.102556</td>\n",
       "      <td>5</td>\n",
       "    </tr>\n",
       "    <tr>\n",
       "      <th>29</th>\n",
       "      <td>balanced</td>\n",
       "      <td>gini</td>\n",
       "      <td>6</td>\n",
       "      <td>200</td>\n",
       "      <td>0.801907</td>\n",
       "      <td>0.102556</td>\n",
       "      <td>5</td>\n",
       "    </tr>\n",
       "    <tr>\n",
       "      <th>25</th>\n",
       "      <td>balanced</td>\n",
       "      <td>gini</td>\n",
       "      <td>6</td>\n",
       "      <td>10</td>\n",
       "      <td>0.801409</td>\n",
       "      <td>0.117735</td>\n",
       "      <td>7</td>\n",
       "    </tr>\n",
       "    <tr>\n",
       "      <th>55</th>\n",
       "      <td>balanced</td>\n",
       "      <td>entropy</td>\n",
       "      <td>6</td>\n",
       "      <td>10</td>\n",
       "      <td>0.800325</td>\n",
       "      <td>0.092239</td>\n",
       "      <td>8</td>\n",
       "    </tr>\n",
       "    <tr>\n",
       "      <th>115</th>\n",
       "      <td>balanced_subsample</td>\n",
       "      <td>entropy</td>\n",
       "      <td>6</td>\n",
       "      <td>10</td>\n",
       "      <td>0.798379</td>\n",
       "      <td>0.097406</td>\n",
       "      <td>9</td>\n",
       "    </tr>\n",
       "    <tr>\n",
       "      <th>88</th>\n",
       "      <td>balanced_subsample</td>\n",
       "      <td>gini</td>\n",
       "      <td>6</td>\n",
       "      <td>150</td>\n",
       "      <td>0.797855</td>\n",
       "      <td>0.085724</td>\n",
       "      <td>10</td>\n",
       "    </tr>\n",
       "    <tr>\n",
       "      <th>114</th>\n",
       "      <td>balanced_subsample</td>\n",
       "      <td>entropy</td>\n",
       "      <td>5</td>\n",
       "      <td>200</td>\n",
       "      <td>0.794957</td>\n",
       "      <td>0.091116</td>\n",
       "      <td>11</td>\n",
       "    </tr>\n",
       "    <tr>\n",
       "      <th>86</th>\n",
       "      <td>balanced_subsample</td>\n",
       "      <td>gini</td>\n",
       "      <td>6</td>\n",
       "      <td>50</td>\n",
       "      <td>0.794763</td>\n",
       "      <td>0.095500</td>\n",
       "      <td>12</td>\n",
       "    </tr>\n",
       "    <tr>\n",
       "      <th>175</th>\n",
       "      <td>None</td>\n",
       "      <td>entropy</td>\n",
       "      <td>6</td>\n",
       "      <td>10</td>\n",
       "      <td>0.793342</td>\n",
       "      <td>0.108101</td>\n",
       "      <td>13</td>\n",
       "    </tr>\n",
       "    <tr>\n",
       "      <th>148</th>\n",
       "      <td>None</td>\n",
       "      <td>gini</td>\n",
       "      <td>6</td>\n",
       "      <td>150</td>\n",
       "      <td>0.792605</td>\n",
       "      <td>0.096652</td>\n",
       "      <td>14</td>\n",
       "    </tr>\n",
       "    <tr>\n",
       "      <th>28</th>\n",
       "      <td>balanced</td>\n",
       "      <td>gini</td>\n",
       "      <td>6</td>\n",
       "      <td>150</td>\n",
       "      <td>0.792036</td>\n",
       "      <td>0.098461</td>\n",
       "      <td>15</td>\n",
       "    </tr>\n",
       "    <tr>\n",
       "      <th>84</th>\n",
       "      <td>balanced_subsample</td>\n",
       "      <td>gini</td>\n",
       "      <td>5</td>\n",
       "      <td>200</td>\n",
       "      <td>0.789994</td>\n",
       "      <td>0.098574</td>\n",
       "      <td>16</td>\n",
       "    </tr>\n",
       "    <tr>\n",
       "      <th>179</th>\n",
       "      <td>None</td>\n",
       "      <td>entropy</td>\n",
       "      <td>6</td>\n",
       "      <td>200</td>\n",
       "      <td>0.789545</td>\n",
       "      <td>0.097378</td>\n",
       "      <td>17</td>\n",
       "    </tr>\n",
       "    <tr>\n",
       "      <th>22</th>\n",
       "      <td>balanced</td>\n",
       "      <td>gini</td>\n",
       "      <td>5</td>\n",
       "      <td>100</td>\n",
       "      <td>0.789311</td>\n",
       "      <td>0.085243</td>\n",
       "      <td>18</td>\n",
       "    </tr>\n",
       "    <tr>\n",
       "      <th>144</th>\n",
       "      <td>None</td>\n",
       "      <td>gini</td>\n",
       "      <td>5</td>\n",
       "      <td>200</td>\n",
       "      <td>0.788442</td>\n",
       "      <td>0.098772</td>\n",
       "      <td>19</td>\n",
       "    </tr>\n",
       "    <tr>\n",
       "      <th>24</th>\n",
       "      <td>balanced</td>\n",
       "      <td>gini</td>\n",
       "      <td>5</td>\n",
       "      <td>200</td>\n",
       "      <td>0.787562</td>\n",
       "      <td>0.097505</td>\n",
       "      <td>20</td>\n",
       "    </tr>\n",
       "  </tbody>\n",
       "</table>\n",
       "</div>"
      ],
      "text/plain": [
       "     param_class_weight param_criterion param_max_features param_n_estimators  \\\n",
       "87   balanced_subsample            gini                  6                100   \n",
       "119  balanced_subsample         entropy                  6                200   \n",
       "118  balanced_subsample         entropy                  6                150   \n",
       "89   balanced_subsample            gini                  6                200   \n",
       "149                None            gini                  6                200   \n",
       "29             balanced            gini                  6                200   \n",
       "25             balanced            gini                  6                 10   \n",
       "55             balanced         entropy                  6                 10   \n",
       "115  balanced_subsample         entropy                  6                 10   \n",
       "88   balanced_subsample            gini                  6                150   \n",
       "114  balanced_subsample         entropy                  5                200   \n",
       "86   balanced_subsample            gini                  6                 50   \n",
       "175                None         entropy                  6                 10   \n",
       "148                None            gini                  6                150   \n",
       "28             balanced            gini                  6                150   \n",
       "84   balanced_subsample            gini                  5                200   \n",
       "179                None         entropy                  6                200   \n",
       "22             balanced            gini                  5                100   \n",
       "144                None            gini                  5                200   \n",
       "24             balanced            gini                  5                200   \n",
       "\n",
       "     mean_test_score  std_test_score  rank_test_score  \n",
       "87          0.809414        0.088760                1  \n",
       "119         0.806987        0.096539                2  \n",
       "118         0.806307        0.092239                3  \n",
       "89          0.805466        0.088226                4  \n",
       "149         0.801907        0.102556                5  \n",
       "29          0.801907        0.102556                5  \n",
       "25          0.801409        0.117735                7  \n",
       "55          0.800325        0.092239                8  \n",
       "115         0.798379        0.097406                9  \n",
       "88          0.797855        0.085724               10  \n",
       "114         0.794957        0.091116               11  \n",
       "86          0.794763        0.095500               12  \n",
       "175         0.793342        0.108101               13  \n",
       "148         0.792605        0.096652               14  \n",
       "28          0.792036        0.098461               15  \n",
       "84          0.789994        0.098574               16  \n",
       "179         0.789545        0.097378               17  \n",
       "22          0.789311        0.085243               18  \n",
       "144         0.788442        0.098772               19  \n",
       "24          0.787562        0.097505               20  "
      ]
     },
     "execution_count": 123,
     "metadata": {},
     "output_type": "execute_result"
    }
   ],
   "source": [
    "# Checking cross validation results\n",
    "pd.DataFrame(grid.cv_results_).drop(columns = ['mean_fit_time', 'std_fit_time', 'mean_score_time', 'std_score_time', 'params', 'split0_test_score', 'split1_test_score', 'split2_test_score', 'split3_test_score', 'split4_test_score']).sort_values('rank_test_score').head(20)"
   ]
  },
  {
   "cell_type": "markdown",
   "id": "f47b37b2-3ae0-432f-b28e-8591e9038f3e",
   "metadata": {},
   "source": [
    "max_features = 6, and class_weights = 'balanced_subsample' are the hyperparameters for the top scoring models from the grid. entropy keeps changing and n_estimators keep fluctuating between 100 and 200"
   ]
  },
  {
   "cell_type": "code",
   "execution_count": 124,
   "id": "722050f9-c4dc-45ed-9738-0c35c0972813",
   "metadata": {
    "tags": []
   },
   "outputs": [],
   "source": [
    "# Defining parameter values for grid search\n",
    "param_grid = {\n",
    "    'n_estimators' : [i for i in range(75, 300, 5)],\n",
    "    'criterion' : [\"gini\", \"entropy\"],\n",
    "    'max_features' : [6],\n",
    "    'class_weight' :[\"balanced_subsample\"] \n",
    "}"
   ]
  },
  {
   "cell_type": "code",
   "execution_count": 125,
   "id": "2741ed1f-fe96-4950-9f91-91a906c277f9",
   "metadata": {
    "tags": []
   },
   "outputs": [],
   "source": [
    "# Creating a Grid Search object\n",
    "grid = GridSearchCV(estimator=rfc, param_grid=param_grid, n_jobs = -1, scoring = 'f1', cv = skf)"
   ]
  },
  {
   "cell_type": "code",
   "execution_count": 126,
   "id": "cca9a5cb-eede-49d5-82bc-a248f9c0c034",
   "metadata": {
    "tags": []
   },
   "outputs": [
    {
     "data": {
      "text/html": [
       "<style>#sk-container-id-13 {color: black;background-color: white;}#sk-container-id-13 pre{padding: 0;}#sk-container-id-13 div.sk-toggleable {background-color: white;}#sk-container-id-13 label.sk-toggleable__label {cursor: pointer;display: block;width: 100%;margin-bottom: 0;padding: 0.3em;box-sizing: border-box;text-align: center;}#sk-container-id-13 label.sk-toggleable__label-arrow:before {content: \"▸\";float: left;margin-right: 0.25em;color: #696969;}#sk-container-id-13 label.sk-toggleable__label-arrow:hover:before {color: black;}#sk-container-id-13 div.sk-estimator:hover label.sk-toggleable__label-arrow:before {color: black;}#sk-container-id-13 div.sk-toggleable__content {max-height: 0;max-width: 0;overflow: hidden;text-align: left;background-color: #f0f8ff;}#sk-container-id-13 div.sk-toggleable__content pre {margin: 0.2em;color: black;border-radius: 0.25em;background-color: #f0f8ff;}#sk-container-id-13 input.sk-toggleable__control:checked~div.sk-toggleable__content {max-height: 200px;max-width: 100%;overflow: auto;}#sk-container-id-13 input.sk-toggleable__control:checked~label.sk-toggleable__label-arrow:before {content: \"▾\";}#sk-container-id-13 div.sk-estimator input.sk-toggleable__control:checked~label.sk-toggleable__label {background-color: #d4ebff;}#sk-container-id-13 div.sk-label input.sk-toggleable__control:checked~label.sk-toggleable__label {background-color: #d4ebff;}#sk-container-id-13 input.sk-hidden--visually {border: 0;clip: rect(1px 1px 1px 1px);clip: rect(1px, 1px, 1px, 1px);height: 1px;margin: -1px;overflow: hidden;padding: 0;position: absolute;width: 1px;}#sk-container-id-13 div.sk-estimator {font-family: monospace;background-color: #f0f8ff;border: 1px dotted black;border-radius: 0.25em;box-sizing: border-box;margin-bottom: 0.5em;}#sk-container-id-13 div.sk-estimator:hover {background-color: #d4ebff;}#sk-container-id-13 div.sk-parallel-item::after {content: \"\";width: 100%;border-bottom: 1px solid gray;flex-grow: 1;}#sk-container-id-13 div.sk-label:hover label.sk-toggleable__label {background-color: #d4ebff;}#sk-container-id-13 div.sk-serial::before {content: \"\";position: absolute;border-left: 1px solid gray;box-sizing: border-box;top: 0;bottom: 0;left: 50%;z-index: 0;}#sk-container-id-13 div.sk-serial {display: flex;flex-direction: column;align-items: center;background-color: white;padding-right: 0.2em;padding-left: 0.2em;position: relative;}#sk-container-id-13 div.sk-item {position: relative;z-index: 1;}#sk-container-id-13 div.sk-parallel {display: flex;align-items: stretch;justify-content: center;background-color: white;position: relative;}#sk-container-id-13 div.sk-item::before, #sk-container-id-13 div.sk-parallel-item::before {content: \"\";position: absolute;border-left: 1px solid gray;box-sizing: border-box;top: 0;bottom: 0;left: 50%;z-index: -1;}#sk-container-id-13 div.sk-parallel-item {display: flex;flex-direction: column;z-index: 1;position: relative;background-color: white;}#sk-container-id-13 div.sk-parallel-item:first-child::after {align-self: flex-end;width: 50%;}#sk-container-id-13 div.sk-parallel-item:last-child::after {align-self: flex-start;width: 50%;}#sk-container-id-13 div.sk-parallel-item:only-child::after {width: 0;}#sk-container-id-13 div.sk-dashed-wrapped {border: 1px dashed gray;margin: 0 0.4em 0.5em 0.4em;box-sizing: border-box;padding-bottom: 0.4em;background-color: white;}#sk-container-id-13 div.sk-label label {font-family: monospace;font-weight: bold;display: inline-block;line-height: 1.2em;}#sk-container-id-13 div.sk-label-container {text-align: center;}#sk-container-id-13 div.sk-container {/* jupyter's `normalize.less` sets `[hidden] { display: none; }` but bootstrap.min.css set `[hidden] { display: none !important; }` so we also need the `!important` here to be able to override the default hidden behavior on the sphinx rendered scikit-learn.org. See: https://github.com/scikit-learn/scikit-learn/issues/21755 */display: inline-block !important;position: relative;}#sk-container-id-13 div.sk-text-repr-fallback {display: none;}</style><div id=\"sk-container-id-13\" class=\"sk-top-container\"><div class=\"sk-text-repr-fallback\"><pre>GridSearchCV(cv=StratifiedKFold(n_splits=5, random_state=None, shuffle=False),\n",
       "             estimator=RandomForestClassifier(n_jobs=-1, random_state=42),\n",
       "             n_jobs=-1,\n",
       "             param_grid={&#x27;class_weight&#x27;: [&#x27;balanced_subsample&#x27;],\n",
       "                         &#x27;criterion&#x27;: [&#x27;gini&#x27;, &#x27;entropy&#x27;], &#x27;max_features&#x27;: [6],\n",
       "                         &#x27;n_estimators&#x27;: [75, 80, 85, 90, 95, 100, 105, 110,\n",
       "                                          115, 120, 125, 130, 135, 140, 145,\n",
       "                                          150, 155, 160, 165, 170, 175, 180,\n",
       "                                          185, 190, 195, 200, 205, 210, 215,\n",
       "                                          220, ...]},\n",
       "             scoring=&#x27;f1&#x27;)</pre><b>In a Jupyter environment, please rerun this cell to show the HTML representation or trust the notebook. <br />On GitHub, the HTML representation is unable to render, please try loading this page with nbviewer.org.</b></div><div class=\"sk-container\" hidden><div class=\"sk-item sk-dashed-wrapped\"><div class=\"sk-label-container\"><div class=\"sk-label sk-toggleable\"><input class=\"sk-toggleable__control sk-hidden--visually\" id=\"sk-estimator-id-23\" type=\"checkbox\" ><label for=\"sk-estimator-id-23\" class=\"sk-toggleable__label sk-toggleable__label-arrow\">GridSearchCV</label><div class=\"sk-toggleable__content\"><pre>GridSearchCV(cv=StratifiedKFold(n_splits=5, random_state=None, shuffle=False),\n",
       "             estimator=RandomForestClassifier(n_jobs=-1, random_state=42),\n",
       "             n_jobs=-1,\n",
       "             param_grid={&#x27;class_weight&#x27;: [&#x27;balanced_subsample&#x27;],\n",
       "                         &#x27;criterion&#x27;: [&#x27;gini&#x27;, &#x27;entropy&#x27;], &#x27;max_features&#x27;: [6],\n",
       "                         &#x27;n_estimators&#x27;: [75, 80, 85, 90, 95, 100, 105, 110,\n",
       "                                          115, 120, 125, 130, 135, 140, 145,\n",
       "                                          150, 155, 160, 165, 170, 175, 180,\n",
       "                                          185, 190, 195, 200, 205, 210, 215,\n",
       "                                          220, ...]},\n",
       "             scoring=&#x27;f1&#x27;)</pre></div></div></div><div class=\"sk-parallel\"><div class=\"sk-parallel-item\"><div class=\"sk-item\"><div class=\"sk-label-container\"><div class=\"sk-label sk-toggleable\"><input class=\"sk-toggleable__control sk-hidden--visually\" id=\"sk-estimator-id-24\" type=\"checkbox\" ><label for=\"sk-estimator-id-24\" class=\"sk-toggleable__label sk-toggleable__label-arrow\">estimator: RandomForestClassifier</label><div class=\"sk-toggleable__content\"><pre>RandomForestClassifier(n_jobs=-1, random_state=42)</pre></div></div></div><div class=\"sk-serial\"><div class=\"sk-item\"><div class=\"sk-estimator sk-toggleable\"><input class=\"sk-toggleable__control sk-hidden--visually\" id=\"sk-estimator-id-25\" type=\"checkbox\" ><label for=\"sk-estimator-id-25\" class=\"sk-toggleable__label sk-toggleable__label-arrow\">RandomForestClassifier</label><div class=\"sk-toggleable__content\"><pre>RandomForestClassifier(n_jobs=-1, random_state=42)</pre></div></div></div></div></div></div></div></div></div></div>"
      ],
      "text/plain": [
       "GridSearchCV(cv=StratifiedKFold(n_splits=5, random_state=None, shuffle=False),\n",
       "             estimator=RandomForestClassifier(n_jobs=-1, random_state=42),\n",
       "             n_jobs=-1,\n",
       "             param_grid={'class_weight': ['balanced_subsample'],\n",
       "                         'criterion': ['gini', 'entropy'], 'max_features': [6],\n",
       "                         'n_estimators': [75, 80, 85, 90, 95, 100, 105, 110,\n",
       "                                          115, 120, 125, 130, 135, 140, 145,\n",
       "                                          150, 155, 160, 165, 170, 175, 180,\n",
       "                                          185, 190, 195, 200, 205, 210, 215,\n",
       "                                          220, ...]},\n",
       "             scoring='f1')"
      ]
     },
     "execution_count": 126,
     "metadata": {},
     "output_type": "execute_result"
    }
   ],
   "source": [
    "# Running grid search\n",
    "grid.fit(X_smoteenn, y_smoteenn)"
   ]
  },
  {
   "cell_type": "code",
   "execution_count": 127,
   "id": "95b3698c-c60c-4fc5-b03d-4032742ba614",
   "metadata": {
    "tags": []
   },
   "outputs": [
    {
     "data": {
      "text/plain": [
       "0.8131797046386412"
      ]
     },
     "execution_count": 127,
     "metadata": {},
     "output_type": "execute_result"
    }
   ],
   "source": [
    "# Getting best score from grid search\n",
    "grid.best_score_"
   ]
  },
  {
   "cell_type": "code",
   "execution_count": 128,
   "id": "ed6ff9a6-a028-4a59-a612-32f035409d88",
   "metadata": {
    "tags": []
   },
   "outputs": [
    {
     "data": {
      "text/plain": [
       "{'class_weight': 'balanced_subsample',\n",
       " 'criterion': 'gini',\n",
       " 'max_features': 6,\n",
       " 'n_estimators': 130}"
      ]
     },
     "execution_count": 128,
     "metadata": {},
     "output_type": "execute_result"
    }
   ],
   "source": [
    "# Getting parameter that gave the best score\n",
    "grid.best_params_"
   ]
  },
  {
   "cell_type": "markdown",
   "id": "2f82fec1-d8ac-4057-a6ef-469cdde39d7d",
   "metadata": {},
   "source": [
    "Let us use these hyperparameter values and check test score again"
   ]
  },
  {
   "cell_type": "markdown",
   "id": "3a3a3cee-b12e-42f7-aa5e-5d207bd93bb5",
   "metadata": {},
   "source": [
    "## Model Training and Testing"
   ]
  },
  {
   "cell_type": "code",
   "execution_count": 129,
   "id": "893fcb5a-7557-4c80-b613-dad39eff5990",
   "metadata": {
    "tags": []
   },
   "outputs": [],
   "source": [
    "# Redifining Random Forest Classifier for grid search\n",
    "rfc = RandomForestClassifier(n_estimators= 130, max_features= 6, class_weight='balanced_subsample', oob_score = True, n_jobs = -1, random_state= 42)"
   ]
  },
  {
   "cell_type": "code",
   "execution_count": 130,
   "id": "af32e3ad-3041-4556-aee4-d8f53a2e4b13",
   "metadata": {
    "tags": []
   },
   "outputs": [
    {
     "data": {
      "text/html": [
       "<style>#sk-container-id-14 {color: black;background-color: white;}#sk-container-id-14 pre{padding: 0;}#sk-container-id-14 div.sk-toggleable {background-color: white;}#sk-container-id-14 label.sk-toggleable__label {cursor: pointer;display: block;width: 100%;margin-bottom: 0;padding: 0.3em;box-sizing: border-box;text-align: center;}#sk-container-id-14 label.sk-toggleable__label-arrow:before {content: \"▸\";float: left;margin-right: 0.25em;color: #696969;}#sk-container-id-14 label.sk-toggleable__label-arrow:hover:before {color: black;}#sk-container-id-14 div.sk-estimator:hover label.sk-toggleable__label-arrow:before {color: black;}#sk-container-id-14 div.sk-toggleable__content {max-height: 0;max-width: 0;overflow: hidden;text-align: left;background-color: #f0f8ff;}#sk-container-id-14 div.sk-toggleable__content pre {margin: 0.2em;color: black;border-radius: 0.25em;background-color: #f0f8ff;}#sk-container-id-14 input.sk-toggleable__control:checked~div.sk-toggleable__content {max-height: 200px;max-width: 100%;overflow: auto;}#sk-container-id-14 input.sk-toggleable__control:checked~label.sk-toggleable__label-arrow:before {content: \"▾\";}#sk-container-id-14 div.sk-estimator input.sk-toggleable__control:checked~label.sk-toggleable__label {background-color: #d4ebff;}#sk-container-id-14 div.sk-label input.sk-toggleable__control:checked~label.sk-toggleable__label {background-color: #d4ebff;}#sk-container-id-14 input.sk-hidden--visually {border: 0;clip: rect(1px 1px 1px 1px);clip: rect(1px, 1px, 1px, 1px);height: 1px;margin: -1px;overflow: hidden;padding: 0;position: absolute;width: 1px;}#sk-container-id-14 div.sk-estimator {font-family: monospace;background-color: #f0f8ff;border: 1px dotted black;border-radius: 0.25em;box-sizing: border-box;margin-bottom: 0.5em;}#sk-container-id-14 div.sk-estimator:hover {background-color: #d4ebff;}#sk-container-id-14 div.sk-parallel-item::after {content: \"\";width: 100%;border-bottom: 1px solid gray;flex-grow: 1;}#sk-container-id-14 div.sk-label:hover label.sk-toggleable__label {background-color: #d4ebff;}#sk-container-id-14 div.sk-serial::before {content: \"\";position: absolute;border-left: 1px solid gray;box-sizing: border-box;top: 0;bottom: 0;left: 50%;z-index: 0;}#sk-container-id-14 div.sk-serial {display: flex;flex-direction: column;align-items: center;background-color: white;padding-right: 0.2em;padding-left: 0.2em;position: relative;}#sk-container-id-14 div.sk-item {position: relative;z-index: 1;}#sk-container-id-14 div.sk-parallel {display: flex;align-items: stretch;justify-content: center;background-color: white;position: relative;}#sk-container-id-14 div.sk-item::before, #sk-container-id-14 div.sk-parallel-item::before {content: \"\";position: absolute;border-left: 1px solid gray;box-sizing: border-box;top: 0;bottom: 0;left: 50%;z-index: -1;}#sk-container-id-14 div.sk-parallel-item {display: flex;flex-direction: column;z-index: 1;position: relative;background-color: white;}#sk-container-id-14 div.sk-parallel-item:first-child::after {align-self: flex-end;width: 50%;}#sk-container-id-14 div.sk-parallel-item:last-child::after {align-self: flex-start;width: 50%;}#sk-container-id-14 div.sk-parallel-item:only-child::after {width: 0;}#sk-container-id-14 div.sk-dashed-wrapped {border: 1px dashed gray;margin: 0 0.4em 0.5em 0.4em;box-sizing: border-box;padding-bottom: 0.4em;background-color: white;}#sk-container-id-14 div.sk-label label {font-family: monospace;font-weight: bold;display: inline-block;line-height: 1.2em;}#sk-container-id-14 div.sk-label-container {text-align: center;}#sk-container-id-14 div.sk-container {/* jupyter's `normalize.less` sets `[hidden] { display: none; }` but bootstrap.min.css set `[hidden] { display: none !important; }` so we also need the `!important` here to be able to override the default hidden behavior on the sphinx rendered scikit-learn.org. See: https://github.com/scikit-learn/scikit-learn/issues/21755 */display: inline-block !important;position: relative;}#sk-container-id-14 div.sk-text-repr-fallback {display: none;}</style><div id=\"sk-container-id-14\" class=\"sk-top-container\"><div class=\"sk-text-repr-fallback\"><pre>RandomForestClassifier(class_weight=&#x27;balanced_subsample&#x27;, max_features=6,\n",
       "                       n_estimators=130, n_jobs=-1, oob_score=True,\n",
       "                       random_state=42)</pre><b>In a Jupyter environment, please rerun this cell to show the HTML representation or trust the notebook. <br />On GitHub, the HTML representation is unable to render, please try loading this page with nbviewer.org.</b></div><div class=\"sk-container\" hidden><div class=\"sk-item\"><div class=\"sk-estimator sk-toggleable\"><input class=\"sk-toggleable__control sk-hidden--visually\" id=\"sk-estimator-id-26\" type=\"checkbox\" checked><label for=\"sk-estimator-id-26\" class=\"sk-toggleable__label sk-toggleable__label-arrow\">RandomForestClassifier</label><div class=\"sk-toggleable__content\"><pre>RandomForestClassifier(class_weight=&#x27;balanced_subsample&#x27;, max_features=6,\n",
       "                       n_estimators=130, n_jobs=-1, oob_score=True,\n",
       "                       random_state=42)</pre></div></div></div></div></div>"
      ],
      "text/plain": [
       "RandomForestClassifier(class_weight='balanced_subsample', max_features=6,\n",
       "                       n_estimators=130, n_jobs=-1, oob_score=True,\n",
       "                       random_state=42)"
      ]
     },
     "execution_count": 130,
     "metadata": {},
     "output_type": "execute_result"
    }
   ],
   "source": [
    "# Fitting training data to the model\n",
    "rfc.fit(X_smoteenn, y_smoteenn)"
   ]
  },
  {
   "cell_type": "code",
   "execution_count": 131,
   "id": "d0e3a8a3-4c6d-451b-9ac4-a091d2146c27",
   "metadata": {
    "tags": []
   },
   "outputs": [
    {
     "data": {
      "text/plain": [
       "0.8350515463917526"
      ]
     },
     "execution_count": 131,
     "metadata": {},
     "output_type": "execute_result"
    }
   ],
   "source": [
    "# Getting out-of-bag score\n",
    "rfc.oob_score_"
   ]
  },
  {
   "cell_type": "code",
   "execution_count": 132,
   "id": "c3b91153-d0f3-4aae-8fca-f6f10472eea1",
   "metadata": {
    "tags": []
   },
   "outputs": [
    {
     "data": {
      "text/plain": [
       "1.0"
      ]
     },
     "execution_count": 132,
     "metadata": {},
     "output_type": "execute_result"
    }
   ],
   "source": [
    "# Score for training data\n",
    "rfc.score(X_smoteenn, y_smoteenn)"
   ]
  },
  {
   "cell_type": "code",
   "execution_count": 133,
   "id": "58d21c1a-79b6-4e05-b544-8ae0d889c81d",
   "metadata": {
    "tags": []
   },
   "outputs": [
    {
     "data": {
      "text/plain": [
       "0.5533333333333333"
      ]
     },
     "execution_count": 133,
     "metadata": {},
     "output_type": "execute_result"
    }
   ],
   "source": [
    "# Score for testing data\n",
    "rfc.score(X_test, y_test)"
   ]
  },
  {
   "cell_type": "code",
   "execution_count": 134,
   "id": "ae6cd2a0-e0c8-467b-91e1-102083009cbe",
   "metadata": {},
   "outputs": [
    {
     "name": "stdout",
     "output_type": "stream",
     "text": [
      "              precision    recall  f1-score   support\n",
      "\n",
      "           0       0.78      0.61      0.69       119\n",
      "           1       0.18      0.32      0.23        31\n",
      "\n",
      "    accuracy                           0.55       150\n",
      "   macro avg       0.48      0.47      0.46       150\n",
      "weighted avg       0.65      0.55      0.59       150\n",
      "\n"
     ]
    }
   ],
   "source": [
    "# Classification report for testing data predictions\n",
    "print(classification_report(y_test, rfc.predict(X_test)))"
   ]
  },
  {
   "cell_type": "code",
   "execution_count": 135,
   "id": "20ded125-b7c5-4b40-a8c3-fe796d4919e9",
   "metadata": {
    "tags": []
   },
   "outputs": [
    {
     "data": {
      "text/plain": [
       "0    119\n",
       "1     31\n",
       "Name: taxable_income, dtype: int64"
      ]
     },
     "execution_count": 135,
     "metadata": {},
     "output_type": "execute_result"
    }
   ],
   "source": [
    "# Value count of each target class\n",
    "y_test.value_counts()"
   ]
  },
  {
   "cell_type": "code",
   "execution_count": 136,
   "id": "80b2261a-c59d-43fe-8100-1911a775b850",
   "metadata": {
    "tags": []
   },
   "outputs": [
    {
     "data": {
      "text/plain": [
       "<sklearn.metrics._plot.confusion_matrix.ConfusionMatrixDisplay at 0x217adbaabe0>"
      ]
     },
     "execution_count": 136,
     "metadata": {},
     "output_type": "execute_result"
    },
    {
     "data": {
      "image/png": "[encoded data removed]",
      "text/plain": [
       "<Figure size 640x480 with 2 Axes>"
      ]
     },
     "metadata": {},
     "output_type": "display_data"
    }
   ],
   "source": [
    "# Confusion Matrix for test data predictions\n",
    "ConfusionMatrixDisplay(confusion_matrix(y_test, rfc.predict(X_test))).plot()"
   ]
  },
  {
   "cell_type": "markdown",
   "id": "e23f25e7-eb11-405d-a4a4-46968fb5e6b6",
   "metadata": {},
   "source": [
    "## Conclusion"
   ]
  },
  {
   "cell_type": "markdown",
   "id": "106d5894-033a-40b8-ba63-25cc0cea4caa",
   "metadata": {},
   "source": [
    "- With normalized continuous features, we got an abysmal accuracy score of upto 15%\n",
    "- Hyperparameter Tuning did not help\n",
    "- Then, we checked without normalizing the continuous feature, which resulted in barely any improvement\n",
    "- The models were classifying atmost 2 samples as target class 1\n",
    "- This was due to imbalanced target labels\n",
    "- We tried 4 over and under sampling techniques from imblearn, and found SMOTEENN gave the best accuracy\n",
    "- We used Hyperparameter Tuning to get the optimal hyperparameter values but precision and recall for target class 1 are still very low\n",
    "- This could be due to our small dataset"
   ]
  }
 ],
 "metadata": {
  "kernelspec": {
   "display_name": "Python 3 (ipykernel)",
   "language": "python",
   "name": "python3"
  },
  "language_info": {
   "codemirror_mode": {
    "name": "ipython",
    "version": 3
   },
   "file_extension": ".py",
   "mimetype": "text/x-python",
   "name": "python",
   "nbconvert_exporter": "python",
   "pygments_lexer": "ipython3",
   "version": "3.8.16"
  }
 },
 "nbformat": 4,
 "nbformat_minor": 5
}
